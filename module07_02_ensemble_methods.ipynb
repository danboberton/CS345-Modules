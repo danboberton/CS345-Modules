{
 "cells": [
  {
   "cell_type": "markdown",
   "metadata": {},
   "source": [
    "# Ensemble Methods\n",
    "\n",
    "This notebook is part of  course materials for CS 345: Machine Learning Foundations and Practice at Colorado State University.\n",
    "Original versions were created by Asa Ben-Hur and updated by Ross Beveridge\n",
    "\n",
    "Last Update 04/22/2022\n",
    "\n",
    "*The text is released under the [CC BY-SA license](https://creativecommons.org/licenses/by-sa/4.0/), and code is released under the [MIT license](https://opensource.org/licenses/MIT).*"
   ]
  },
  {
   "cell_type": "code",
   "execution_count": 1,
   "metadata": {},
   "outputs": [],
   "source": [
    "import numpy as np\n",
    "import matplotlib.pyplot as plt\n",
    "%matplotlib inline"
   ]
  },
  {
   "cell_type": "markdown",
   "metadata": {},
   "source": [
    "## Random Trials - The Coin Toss Game\n",
    "\n",
    "There is a simple powerful way to conceptualize the power of repeated random trails.  It is expressed as a betting game and understanding this setup will help below when thinking about how a weak algorithm run repeatedly can yield a strong algorithm. \n",
    "\n",
    "Here is the game.  I tell you I have an unfair (to me) coin.  It comes up heads only one out of six times. So, formally\n",
    "\n",
    "$$\n",
    "P(toss=heads) = \\frac{1}{6}\n",
    "$$\n",
    "\n",
    "You pay me \\\\$1 if my unfair coin comes heads at least once in four tosses, otherwise I pay you \\\\$1.\n",
    "\n",
    "Presuming I get you to play - a lot - then who ends up winning money?\n",
    "\n",
    "To work this out first realize that the only way I loose is if the coin fails to come up heads in all four tosses. \n",
    "\n",
    "To begin working out the probability I loose, consider the simpler case that I fail on a given toss. This is just the probability of tails on that toss. \n",
    "\n",
    "\n",
    "\n",
    "$$\n",
    "P(toss=tails) = 1 - P(toss=heads) = \\frac{5}{6}\n",
    "$$\n",
    "\n",
    "To fail on each and every of the four tosses the event $P(toss=tails)$ must happen on each toss. Since that consitutes Failure (for me) and we will write it $P_{F}$: \n",
    "\n",
    "$$\n",
    "P_{F} = P(toss=tails)^4  = \\left( \\frac{5}{6} \\right)^4 = \\frac{625}{1296} = 0.483\n",
    "$$\n",
    "\n",
    "So in expectation I fail (loose) $483$ out of every $1,000$ games. But wait, I am starting to feel better about this game. Even though my coin comes up heads relatively rarely, by using four repeated tosses, my probabiliy of winning is better than $50$/$50$. It is $0.517$ to be precise. Over time I win!"
   ]
  },
  {
   "cell_type": "markdown",
   "metadata": {},
   "source": [
    "## Power of Repeated Trials\n",
    "\n",
    "Now let us generalize this coin toss game and consider what happens if we can spend compute time to increase our odds of succeeding.  The question is this. If we have an algorithm that successfully solves a problem with probability $p_s$ and $p_s$ is a relatively small number, then how many indepdent trials (flips) are required to ensure seeing success at least once.\n",
    "\n",
    "The math looks like the following, for $k$ trials the probability of failing on all $k$ trials is:\n",
    "\n",
    "$$\n",
    "P_{F} = \\left( 1 - p_{s} \\right)^k\n",
    "$$\n",
    "\n",
    "And since success is the opposite of failure, the probability of success over $k$ trials is\n",
    "\n",
    "$$\n",
    "P_{S} = 1 - P_{F} = 1 - \\left( 1 - p_{s} \\right)^k\n",
    "$$\n",
    "\n",
    "The following code shows what this looks like using an algorithm which succeeds one out of ten times and is run for different numbers of trials. Note the extremely high probability of success for even modest - by computer standards - numbers of trails. "
   ]
  },
  {
   "cell_type": "code",
   "execution_count": 23,
   "metadata": {},
   "outputs": [
    {
     "name": "stdout",
     "output_type": "stream",
     "text": [
      "k = 1 the PS equal  0.010\n",
      "k = 2 the PS equal  0.020\n",
      "k = 4 the PS equal  0.039\n",
      "k = 8 the PS equal  0.077\n",
      "k = 16 the PS equal  0.149\n",
      "k = 32 the PS equal  0.275\n",
      "k = 64 the PS equal  0.474\n",
      "k = 128 the PS equal  0.724\n",
      "k = 256 the PS equal  0.924\n",
      "k = 512 the PS equal  0.994\n"
     ]
    }
   ],
   "source": [
    "stps = 1 / 100   # Single Trial Probability of Success\n",
    "trials = [1, 2, 4, 8, 16, 32, 64, 128, 256, 512]\n",
    "for k in trials :\n",
    "    PS = 1 - (1 - stps)**k\n",
    "    print(f'k = {k} the PS equal {PS:6.3f}')"
   ]
  },
  {
   "cell_type": "markdown",
   "metadata": {},
   "source": [
    "In this example note how the critical factor is the probabiliyt of success/failure on a given trial is independent of the other trials, and consquently  something which is a rare event on any given trial, success, can become almost inevitable at least once in a set of trials.\n",
    "\n",
    "Now as we move onto the ensemble methods, and in particular voting, the details change. However, the underlying fact that combining many weak answer can result in a single very reliable answer still holds true."
   ]
  },
  {
   "cell_type": "markdown",
   "metadata": {},
   "source": [
    "## IID Mistakes and Voting\n",
    "\n",
    "\n",
    "Ensemble methods are machine learning methods that base their predictions on a collection of classifiers.  Each individual classifier might not have high accuracy, but by taking a \"vote\" among a diverse set, it is possible to obtain much higher accuracy than that of any member of the ensemble.\n",
    "This idea can be traced all the way back to the work of British scientist Sir Francis Galton.\n",
    "He discovered in the early 1900s that a collection of educated guesses can add up to very accurate predictions.\n",
    "This has been termed as **the wisdom of crowds**, and was described in the following publication:\n",
    "\n",
    "> Francis Galton. [Vox Populi](http://galton.org/essays/1900-1911/galton-1907-vox-populi.pdf).  Nature 75, pages 450-451, 1907.\n",
    "\n",
    "Our intuition of why this works is that averaging of many independent and diverse measurements can lead to more reliable estimates.  The central limit theorem in statistics is a mathematical statement of that fact.\n",
    "\n",
    "Let us illustrate the potential benefit of this diea by a simulation study.  Let's consider a set of five classifiers, each of which is right 70% of the time and see how voting increases accuracy.\n"
   ]
  },
  {
   "cell_type": "code",
   "execution_count": 3,
   "metadata": {},
   "outputs": [],
   "source": [
    "# the following example inspired by code from\n",
    "# http://ethen8181.github.io/machine-learning/trees/random_forest.html\n",
    "\n",
    "from numpy.random import default_rng\n",
    "rng = default_rng()\n",
    "y = rng.choice([0,1], size=(1000,))\n",
    "\n",
    "psont = 0.7\n",
    "num_classifiers = 13\n",
    "predictions_lst = []\n",
    "for i in range(num_classifiers):\n",
    "    outcome = [y[i] if rng.random()>(1-psont) else 1-y[i] for i in range(len(y))]\n",
    "    predictions_lst.append(outcome)\n",
    "predictions = np.array(predictions_lst)    "
   ]
  },
  {
   "cell_type": "code",
   "execution_count": 4,
   "metadata": {},
   "outputs": [
    {
     "name": "stdout",
     "output_type": "stream",
     "text": [
      "[1 0 0 0 0 1 1 1 1 0 0 0 1 1 1 0 0 0 1 0 0 0 1 1 0]\n",
      "[1 0 1 0 0 1 1 1 1 0 0 0 1 1 1 0 0 1 1 0 1 0 1 0 0]\n"
     ]
    }
   ],
   "source": [
    "print(predictions[0,0:25])\n",
    "print(y[0:25])"
   ]
  },
  {
   "cell_type": "markdown",
   "metadata": {},
   "source": [
    "At this point `y` represents ground truth for some problem, i.e. the correct answer for each of $1000$ samples is either zero or one as shown in `y`.  Next, there are five instances of errorful predictions stored in the array `predictions`. Just to be clear, the next code counts how often the first (index zero) classifier got the correct answer."
   ]
  },
  {
   "cell_type": "code",
   "execution_count": 5,
   "metadata": {},
   "outputs": [
    {
     "name": "stdout",
     "output_type": "stream",
     "text": [
      "First classifier got 674 out of 1,000 correct\n"
     ]
    }
   ],
   "source": [
    "foo = np.sum(predictions[0] == y)\n",
    "print(f'First classifier got {foo} out of 1,000 correct')"
   ]
  },
  {
   "cell_type": "markdown",
   "metadata": {},
   "source": [
    "Accross the five classifiers one sees a pattern where accuracy is hovering around $\\frac{7}{10}$. Go back and review how the noisy label `y` estimates are created and this outcome should be completely predicatble."
   ]
  },
  {
   "cell_type": "code",
   "execution_count": 6,
   "metadata": {},
   "outputs": [
    {
     "name": "stdout",
     "output_type": "stream",
     "text": [
      "Classifier 0 \taccuracy 0.674\n",
      "Classifier 1 \taccuracy 0.696\n",
      "Classifier 2 \taccuracy 0.677\n",
      "Classifier 3 \taccuracy 0.666\n",
      "Classifier 4 \taccuracy 0.690\n",
      "Classifier 5 \taccuracy 0.725\n",
      "Classifier 6 \taccuracy 0.692\n",
      "Classifier 7 \taccuracy 0.698\n",
      "Classifier 8 \taccuracy 0.691\n",
      "Classifier 9 \taccuracy 0.696\n",
      "Classifier 10 \taccuracy 0.680\n",
      "Classifier 11 \taccuracy 0.723\n",
      "Classifier 12 \taccuracy 0.724\n"
     ]
    }
   ],
   "source": [
    "# accuracy of individual classifiers:\n",
    "for i in range(num_classifiers):\n",
    "    print(f'Classifier {i} \\taccuracy {np.mean(predictions[i] == y):5.3f}')"
   ]
  },
  {
   "cell_type": "markdown",
   "metadata": {},
   "source": [
    "### A Closer look at Voting\n",
    "\n",
    "Now consider letting each of the five classifiers cast one vote in favor of either $1$ or $0$."
   ]
  },
  {
   "cell_type": "code",
   "execution_count": 7,
   "metadata": {},
   "outputs": [
    {
     "name": "stdout",
     "output_type": "stream",
     "text": [
      "Sample 0 true value \t 1: \tpredictions [1 0 1 0 1 0 0 1 1 1 1 0 1] \t 8\t1.0\n",
      "Sample 1 true value \t 0: \tpredictions [0 0 0 0 1 1 0 1 0 0 0 0 0] \t 3\t0.0\n",
      "Sample 2 true value \t 1: \tpredictions [0 1 0 0 1 1 1 1 0 0 1 1 0] \t 7\t1.0\n",
      "Sample 3 true value \t 0: \tpredictions [0 0 0 0 0 0 0 0 0 0 0 0 0] \t 0\t0.0\n",
      "Sample 4 true value \t 0: \tpredictions [0 0 1 0 1 0 0 0 0 1 1 0 0] \t 4\t0.0\n",
      "Sample 5 true value \t 1: \tpredictions [1 1 1 0 0 1 1 0 1 1 0 1 1] \t 9\t1.0\n",
      "Sample 6 true value \t 1: \tpredictions [1 1 0 1 1 1 1 1 1 1 0 0 1] \t 10\t1.0\n",
      "Sample 7 true value \t 1: \tpredictions [1 0 1 1 1 1 1 1 1 0 1 1 1] \t 11\t1.0\n",
      "Sample 8 true value \t 1: \tpredictions [1 0 1 1 1 0 1 1 0 1 0 1 1] \t 9\t1.0\n",
      "Sample 9 true value \t 0: \tpredictions [0 0 1 1 0 0 0 0 1 1 1 0 0] \t 5\t0.0\n",
      "Sample 10 true value \t 0: \tpredictions [0 0 0 0 1 0 1 0 0 0 1 1 0] \t 4\t0.0\n",
      "Sample 11 true value \t 0: \tpredictions [0 0 1 0 1 0 1 0 0 0 0 0 0] \t 3\t0.0\n",
      "Sample 12 true value \t 1: \tpredictions [1 1 0 1 0 0 1 1 1 0 1 1 1] \t 9\t1.0\n",
      "Sample 13 true value \t 1: \tpredictions [1 1 1 0 1 1 1 0 1 0 1 0 1] \t 9\t1.0\n",
      "Sample 14 true value \t 1: \tpredictions [1 1 0 1 1 1 1 1 1 0 0 1 0] \t 9\t1.0\n",
      "Sample 15 true value \t 0: \tpredictions [0 1 1 1 1 0 0 0 1 0 0 1 0] \t 6\t0.0\n"
     ]
    }
   ],
   "source": [
    "votes = np.sum(predictions, axis=0)\n",
    "for i in range(16) :\n",
    "    wins = np.round( np.sum(predictions[:,i]) / num_classifiers)\n",
    "    print(f'Sample {i} true value \\t {y[i]}: \\tpredictions {predictions[:,i]} \\t {votes[i]}\\t{wins}')"
   ]
  },
  {
   "cell_type": "markdown",
   "metadata": {},
   "source": [
    "Put it all together and note how much better this ensemble of classifiers does at predicting the true labels."
   ]
  },
  {
   "cell_type": "code",
   "execution_count": 8,
   "metadata": {},
   "outputs": [
    {
     "data": {
      "text/plain": [
       "0.947"
      ]
     },
     "execution_count": 8,
     "metadata": {},
     "output_type": "execute_result"
    }
   ],
   "source": [
    "# accuracy of the voted classifier:\n",
    "ensemble_predictions = np.round(np.sum(predictions, axis=0) / num_classifiers)\n",
    "np.mean(ensemble_predictions == y)"
   ]
  },
  {
   "cell_type": "markdown",
   "metadata": {},
   "source": [
    "Note that the accuracy increases as the number of models increases.\n",
    "This result is an example of the [Condorcet's Jury Theorem](http://en.wikipedia.org/wiki/Condorcet%27s_jury_theorem).\n",
    "This idea can be applied for real machine learning problems.  All we need is an **ensemble of diverse models from the same training data**.  We will discuss several ways of achieving this goal.  The general strategy for constructing ensemble classifiers is as follows:\n",
    "\n",
    "* Construct a collection of diverse predictive models by tweaking the training data\n",
    "* Combine the predictions of the models, e.g. by voting\n",
    "\n",
    "The simplest implementation of this idea is through the strategy known as \"bagging\", which is described next."
   ]
  },
  {
   "cell_type": "markdown",
   "metadata": {},
   "source": [
    "### Bagging\n",
    "\n",
    "Bagging (**b**ootstrap **agg**regat**ing**) is a simple ensemble method based on the concept of a **bootstrap sample**.\n",
    "\n",
    "**Bootstrap sample:**  a sample with replacement from a dataset.\n",
    "\n",
    "For example:"
   ]
  },
  {
   "cell_type": "code",
   "execution_count": 9,
   "metadata": {},
   "outputs": [
    {
     "data": {
      "text/plain": [
       "array([1, 4, 6, 4, 3, 5, 4, 1, 2, 2])"
      ]
     },
     "execution_count": 9,
     "metadata": {},
     "output_type": "execute_result"
    }
   ],
   "source": [
    "sample = rng.choice(range(10), size=(10), replace=True)\n",
    "sample"
   ]
  },
  {
   "cell_type": "markdown",
   "metadata": {},
   "source": [
    "In a bootstrap sample, the probability that a given example is not selected when taking a bootstrap sample of size $N$ is $(1 - \\frac{1}{N})^N$.  This has a limit as $N$ goes to infinity which is equal to \n",
    "$1/e = 0.368$.  From this observation we can conclude that each bootstrap sample is likely to leave out about a third of the examples.\n",
    "\n",
    "\n",
    "**Bagging** ($\\mathcal{D}$, $\\mathcal{A}$, $T$)\n",
    "\n",
    "Input:  labeled dataset $\\mathcal{D}$, learning algorithm $\\mathcal{A}$, ensemble size $T$.\n",
    "\n",
    "Output:  ensemble of models whose predictions are combined by voting/averaging\n",
    "\n",
    "* for $t = 1,...,T$\n",
    "\n",
    "* build bootstrap sample $\\mathcal{D}_t$ by sampling $N$ data points with replacement from $\\mathcal{D}$\n",
    "* train $\\mathcal{A}$ on $\\mathcal{D}_t$ to produce a model $\\mathcal{M}_t$.\n",
    "\n",
    "return $\\mathcal{M}_1,\\ldots,\\mathcal{M}_T$.\n",
    "\n",
    "The algorithm was described in the following publication:\n",
    "\n",
    "> Breiman, Leo (1996). \"Bagging predictors”. Machine Learning 24 (2): 123–140.\n"
   ]
  },
  {
   "cell_type": "markdown",
   "metadata": {},
   "source": [
    "### Quick Empirical Look at Claim\n",
    "\n",
    "Here, and often, it is useful to use empirical simulation to develop intuition in support of an analytical result. The analysis just presented is to me, at least, surprising. Namely, that roughly four out of every ten possible instances (values) will be omitted when sampling with replacement. So, just to kind of **see** what is happening, here is a simulation of the overall process "
   ]
  },
  {
   "cell_type": "code",
   "execution_count": 10,
   "metadata": {},
   "outputs": [
    {
     "name": "stdout",
     "output_type": "stream",
     "text": [
      "Draw 0 is [ 8 10  6  7  4 15 11 10  6  4  6  9  1  1 11 14]\tPercent Missing: 0.38\n",
      "Draw 1 is [13  4 15 13  7  6 11  8 13 14 13  7 10 12  7 12]\tPercent Missing: 0.38\n",
      "Draw 2 is [ 6 14 10 15 14  3 15 14  3 11  4 15  1 15  7  1]\tPercent Missing: 0.44\n",
      "Draw 3 is [ 2 15  6  1  4  2  5 10  8  1  6  9 15 12  2  1]\tPercent Missing: 0.38\n",
      "Draw 4 is [12  6 15 10  3 13  3  3  9 13  2 14  4  6 14  6]\tPercent Missing: 0.38\n",
      "Draw 5 is [11  1  3  6  1 13 10  0  4  5  1  1  5  7 15  7]\tPercent Missing: 0.31\n",
      "Draw 6 is [ 1 15  0 13  8  2  9  4 12  0  5 10  7 14  1  2]\tPercent Missing: 0.19\n",
      "Draw 7 is [13 14 15 13 14  7 10  6  1  3  5  6  9  4  4  5]\tPercent Missing: 0.31\n",
      "Average percent missed is 0.34625\n"
     ]
    }
   ],
   "source": [
    "num_values = 16\n",
    "bag_size = num_values\n",
    "num_draws = 8\n",
    "draws_lst = []\n",
    "for i in range(num_draws) :\n",
    "    bag = rng.choice(range(num_values), size=(bag_size), replace=True)\n",
    "    draws_lst.append(bag)\n",
    "draws = np.array(draws_lst)\n",
    "miss_lst = []\n",
    "for i in range(num_draws) :\n",
    "    cisin = np.isin(range(num_values), draws[i])\n",
    "    pmiss = np.round(1.0 - np.sum(cisin)/num_values,2)\n",
    "    miss_lst.append(pmiss)\n",
    "    print(f'Draw {i} is {draws[i]}\\tPercent Missing: {pmiss}')\n",
    "mean_miss = np.mean(np.array(miss_lst))\n",
    "print(f'Average percent missed is {mean_miss}')"
   ]
  },
  {
   "cell_type": "markdown",
   "metadata": {},
   "source": [
    "Here is almost the same code but this time we sort the selected integers making it much easier to count quickly the missing integers."
   ]
  },
  {
   "cell_type": "code",
   "execution_count": 11,
   "metadata": {},
   "outputs": [
    {
     "name": "stdout",
     "output_type": "stream",
     "text": [
      "Draw 0 is [ 0  0  2  2  2  2  4  5  5  6  6  8  8  9  9 14]\tPercent Missing: 0.5\n",
      "Draw 1 is [ 0  0  0  1  2  2  2  4  7  8  8  9 12 13 14 14]\tPercent Missing: 0.38\n",
      "Draw 2 is [ 1  2  5  5  6  7  7  7  8  8  8  8 10 10 12 13]\tPercent Missing: 0.44\n",
      "Draw 3 is [ 0  0  1  1  1  5  6  7  8  9  9 12 12 13 13 14]\tPercent Missing: 0.38\n",
      "Draw 4 is [ 0  1  1  1  2  2  3  6  6  7  9  9 10 12 12 13]\tPercent Missing: 0.38\n",
      "Draw 5 is [ 0  1  2  4  4  4  4  4  6  8  8  9  9 12 13 15]\tPercent Missing: 0.38\n",
      "Draw 6 is [ 1  5  6  7  7  9 10 11 12 12 12 13 13 15 15 15]\tPercent Missing: 0.38\n",
      "Draw 7 is [ 1  2  3  6  7  9 10 11 12 13 13 14 14 14 15 15]\tPercent Missing: 0.25\n",
      "Average percent missed is 0.38625000000000004\n"
     ]
    }
   ],
   "source": [
    "num_values = 16\n",
    "bag_size = num_values\n",
    "num_draws = 8\n",
    "draws_lst = []\n",
    "for i in range(num_draws) :\n",
    "    bag = rng.choice(range(num_values), size=(bag_size), replace=True)\n",
    "    bag.sort()\n",
    "    draws_lst.append(bag)\n",
    "draws = np.array(draws_lst)\n",
    "miss_lst = []\n",
    "for i in range(num_draws) :\n",
    "    cisin = np.isin(range(num_values), draws[i])\n",
    "    pmiss = np.round(1.0 - np.sum(cisin)/num_values,2)\n",
    "    miss_lst.append(pmiss)\n",
    "    print(f'Draw {i} is {draws[i]}\\tPercent Missing: {pmiss}')\n",
    "mean_miss = np.mean(np.array(miss_lst))\n",
    "print(f'Average percent missed is {mean_miss}')"
   ]
  },
  {
   "cell_type": "markdown",
   "metadata": {},
   "source": [
    "### Random forests\n",
    "\n",
    "Random forests are a special case of bagging with the following additional features:\n",
    "* Use decision trees as the base classifier\n",
    "* At each split in the decision tree, choose a subset of features from which to choose the split on.\n",
    "\n",
    "As we discussed, decision trees can be unstable with respect to perturbations of the training data.  This is not a desirable property from a learning algorithm, but is actually useful as a component in an ensemble classifier.\n",
    "Sampling the features serves to further increase the diversity of the resulting classifiers.  \n",
    "\n",
    "<img style=\"padding: 10px; float:center;\" alt=\"CC BY-SA 4.0\n",
    " by Venkata Jagannath - https://community.tibco.com/wiki/random-forest-template-tibco-spotfirer-wiki-page\" src=\"https://upload.wikimedia.org/wikipedia/commons/7/76/Random_forest_diagram_complete.png\" width=\"300\">\n",
    "\n",
    "\n",
    "\n",
    "**Random Forests** ($\\mathcal{D}$, $T$, num_features)\n",
    "\n",
    "Input:  labeled dataset $\\mathcal{D}$, ensemble size $T$, and num_features, the number of features to sample for each tree.\n",
    "\n",
    "Output:  ensemble of models whose predictions are combined by voting/averaging\n",
    "\n",
    "* for $t = 1,...,T$\n",
    "\n",
    "* build bootstrap sample $\\mathcal{D}_t$ by sampling $N$ data points with replacement from $\\mathcal{D}$\n",
    "* train a decision tree on $\\mathcal{D}_t$ where each split is chosen on the basis of `num_features` random features; produce a model $\\mathcal{M}_t$.\n",
    "\n",
    "return $\\mathcal{M}_1,\\ldots,\\mathcal{M}_T$.\n",
    "\n",
    "Random forests is one of the most important methods in machine learning.  The method was described in the following publication:\n",
    "\n",
    "\n",
    "> Random forests.  L Breiman.  Machine Learning, 2001.\n",
    "\n",
    "As a first step, we will explore the shape of the decision boundary of random forests and compare it to that of decision trees."
   ]
  },
  {
   "cell_type": "code",
   "execution_count": 12,
   "metadata": {},
   "outputs": [],
   "source": [
    "from sklearn.model_selection import cross_val_score\n",
    "from sklearn.model_selection import StratifiedKFold\n",
    "\n",
    "from sklearn.tree import DecisionTreeClassifier\n",
    "from sklearn.ensemble import RandomForestClassifier"
   ]
  },
  {
   "cell_type": "code",
   "execution_count": 13,
   "metadata": {},
   "outputs": [],
   "source": [
    "def visualize_classifier(model, X, y, ax=None, cmap='viridis'):\n",
    "    ax = ax or plt.gca()\n",
    "    \n",
    "    # Plot the training points\n",
    "    ax.scatter(X[:, 0], X[:, 1], c=y, s=30, cmap=cmap, alpha=0.6, zorder=3)\n",
    "    ax.axis('tight')\n",
    "    ax.axis('off')\n",
    "    xlim = ax.get_xlim()\n",
    "    ylim = ax.get_ylim()\n",
    "    \n",
    "    # fit the estimator\n",
    "    model.fit(X, y)\n",
    "    xx, yy = np.meshgrid(np.linspace(*xlim, num=200),\n",
    "                         np.linspace(*ylim, num=200))\n",
    "    Z = model.predict(np.c_[xx.ravel(), yy.ravel()]).reshape(xx.shape)\n",
    "\n",
    "    # Create a color plot with the results\n",
    "    n_classes = len(np.unique(y))\n",
    "    contours = ax.contourf(xx, yy, Z, alpha=0.3,\n",
    "                           levels=np.arange(n_classes + 1) - 0.5,\n",
    "                           cmap=cmap,\n",
    "                           zorder=1)\n"
   ]
  },
  {
   "cell_type": "code",
   "execution_count": 14,
   "metadata": {},
   "outputs": [],
   "source": [
    "from sklearn.datasets import load_iris\n",
    "iris = load_iris()\n",
    "features = [0,1]\n",
    "X = iris.data[:, features]\n",
    "y = iris.target"
   ]
  },
  {
   "cell_type": "code",
   "execution_count": 15,
   "metadata": {},
   "outputs": [
    {
     "data": {
      "image/png": "[encoded data removed]",
      "text/plain": [
       "<Figure size 432x288 with 1 Axes>"
      ]
     },
     "metadata": {
      "needs_background": "light"
     },
     "output_type": "display_data"
    }
   ],
   "source": [
    "tree = DecisionTreeClassifier()\n",
    "visualize_classifier(tree, X, y)"
   ]
  },
  {
   "cell_type": "code",
   "execution_count": 16,
   "metadata": {},
   "outputs": [
    {
     "data": {
      "image/png": "[encoded data removed]",
      "text/plain": [
       "<Figure size 432x288 with 1 Axes>"
      ]
     },
     "metadata": {
      "needs_background": "light"
     },
     "output_type": "display_data"
    }
   ],
   "source": [
    "rf = RandomForestClassifier()\n",
    "visualize_classifier(rf, X, y)"
   ]
  },
  {
   "cell_type": "markdown",
   "metadata": {},
   "source": [
    "### Accuracy comparison of random forests and decision trees\n",
    "\n",
    "We will demonstrate the accuracy advantage of random forests using a dataset whose number of features is larger than the number of training examples.  This is very common in biological datasets. The dataset describes the activity of a large number of genes, from which disease state can be inferred.  The particular dataset we will analyze looks at biological samples taken from leukemia patients with two types of leukemia: acute myeloid leukemia (AML) and acute lymphoblastic leukemia (ALL).  The data was taken from the following publication:\n",
    "\n",
    "> Golub, Todd R., et al. \"Molecular classification of cancer: class discovery and class prediction by gene expression monitoring.\" Science  (1999): 531-537."
   ]
  },
  {
   "cell_type": "code",
   "execution_count": 17,
   "metadata": {},
   "outputs": [],
   "source": [
    "import requests\n",
    "# if you don't have requests installed you can use urlopen which is part\n",
    "# of the python standard library\n",
    "# from urllib.request import urlopen\n",
    "\n",
    "link = \"https://web.stanford.edu/~hastie/CASI_files/DATA/leukemia_big.csv\"\n",
    "# retrieve the contents of the file\n",
    "contents = requests.get(link)"
   ]
  },
  {
   "cell_type": "code",
   "execution_count": 18,
   "metadata": {},
   "outputs": [
    {
     "name": "stdout",
     "output_type": "stream",
     "text": [
      "ALL,ALL,ALL,ALL,ALL,ALL,ALL,ALL,ALL,ALL,ALL,ALL,ALL,ALL,ALL,ALL,ALL,ALL,ALL,ALL,AML,AML,AML,AML,AML,AML,AML,AML,AML,AML,AML,AML,AML,AML,ALL,ALL,ALL,ALL,ALL,ALL,ALL,ALL,ALL,ALL,ALL,ALL,ALL,ALL,ALL,ALL,ALL,ALL,ALL,ALL,ALL,ALL,ALL,ALL,ALL,ALL,ALL,AML,AML,AML,AML,AML,AML,AML,AML,AML,AML,AML\n"
     ]
    },
    {
     "data": {
      "text/plain": [
       "((72, 7128), (72,))"
      ]
     },
     "execution_count": 18,
     "metadata": {},
     "output_type": "execute_result"
    }
   ],
   "source": [
    "lines = contents.text.split()\n",
    "# the data is in csv format and the labels appear in the first \n",
    "# row of the dataset:\n",
    "print (lines[0])\n",
    "class_convert = {'ALL':1, 'AML':0}\n",
    "y = np.array([class_convert[token] for token in lines[0].split(',')])\n",
    "X = np.array([ [float(token) for token in line.split(',')] \n",
    "              for line in lines[1:] ])\n",
    "X = X.transpose()\n",
    "X.shape,y.shape"
   ]
  },
  {
   "cell_type": "code",
   "execution_count": 19,
   "metadata": {},
   "outputs": [
    {
     "data": {
      "text/plain": [
       "0.7771428571428571"
      ]
     },
     "execution_count": 19,
     "metadata": {},
     "output_type": "execute_result"
    }
   ],
   "source": [
    "classifier = DecisionTreeClassifier()\n",
    "\n",
    "cv = StratifiedKFold(n_splits=5, random_state=0, shuffle=True)\n",
    "accuracy = cross_val_score(classifier, X, y, cv=cv, scoring='accuracy')\n",
    "np.mean(accuracy)"
   ]
  },
  {
   "cell_type": "code",
   "execution_count": 20,
   "metadata": {},
   "outputs": [
    {
     "data": {
      "text/plain": [
       "array([0.86666667, 0.73333333, 0.78571429, 0.71428571, 0.78571429])"
      ]
     },
     "execution_count": 20,
     "metadata": {},
     "output_type": "execute_result"
    }
   ],
   "source": [
    "accuracy"
   ]
  },
  {
   "cell_type": "markdown",
   "metadata": {},
   "source": [
    "Next, let us apply random forests and observe the improvment in accuracy:"
   ]
  },
  {
   "cell_type": "code",
   "execution_count": 21,
   "metadata": {},
   "outputs": [
    {
     "data": {
      "text/plain": [
       "0.9723809523809525"
      ]
     },
     "execution_count": 21,
     "metadata": {},
     "output_type": "execute_result"
    }
   ],
   "source": [
    "classifier = RandomForestClassifier(n_estimators=100)\n",
    "\n",
    "accuracy = cross_val_score(classifier, X, y, cv=cv, scoring='accuracy')\n",
    "np.mean(accuracy)"
   ]
  },
  {
   "cell_type": "markdown",
   "metadata": {},
   "source": [
    "As you can see from our next experiment, random forests works better than bagging on this dataset:"
   ]
  },
  {
   "cell_type": "code",
   "execution_count": 22,
   "metadata": {},
   "outputs": [
    {
     "data": {
      "text/plain": [
       "0.9438095238095239"
      ]
     },
     "execution_count": 22,
     "metadata": {},
     "output_type": "execute_result"
    }
   ],
   "source": [
    "from sklearn.ensemble import BaggingClassifier\n",
    "\n",
    "bag = BaggingClassifier(DecisionTreeClassifier(), \n",
    "                        n_estimators=100)\n",
    "accuracy = cross_val_score(bag, X, y, cv=cv, scoring='accuracy')\n",
    "np.mean(accuracy)                                   "
   ]
  },
  {
   "cell_type": "markdown",
   "metadata": {},
   "source": [
    "### Additional features of random forests\n",
    "\n",
    "Random forests have additional features that are worth noting: \n",
    "\n",
    "* Error estimation during training using out-of-bag data.  Out of bag data are examples that were not selected in a given bootstrap sample.\n",
    "* Variable importance; random forests also generates a score for each feature according to its contribution to accuracy on out-of-bag examples.\n",
    "\n",
    "\n",
    "### Related methods:  boosting\n",
    "\n",
    "Boosting is similar to bagging, but uses a more sophisticated method for constructing its diverse training sets.\n",
    "Boosting classifiers are constructed iteratively and the main idea is to focus training of the next classifier on examples that previous classifiers made errors on.\n",
    "Furthermore, each classifier is assigned a confidence value that depends on its accuracy.\n",
    "Gradient boosting, along with random forests, were shown to achieve state-of-the accuracy.\n",
    "\n",
    "### Summary\n",
    "\n",
    "* A big improvement in accuracy over decision trees.\n",
    "* Training and prediction are fast.  The method is highly parallelizable.\n",
    "* Very flexible model, and yet not very susceptible to overfitting.\n",
    "* Able to handle missing data.\n",
    "* Useful variable importance measure obtained as part of the training procedure.\n",
    "* Works well out of the box, and is a good baseline classifier.\n"
   ]
  },
  {
   "cell_type": "code",
   "execution_count": null,
   "metadata": {},
   "outputs": [],
   "source": []
  }
 ],
 "metadata": {
  "kernelspec": {
   "display_name": "Python 3",
   "language": "python",
   "name": "python3"
  },
  "language_info": {
   "codemirror_mode": {
    "name": "ipython",
    "version": 3
   },
   "file_extension": ".py",
   "mimetype": "text/x-python",
   "name": "python",
   "nbconvert_exporter": "python",
   "pygments_lexer": "ipython3",
   "version": "3.7.10"
  }
 },
 "nbformat": 4,
 "nbformat_minor": 4
}
