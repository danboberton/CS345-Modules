{
 "cells": [
  {
   "cell_type": "markdown",
   "metadata": {},
   "source": [
    "# Understanding When Classifiers Make Mistakes\n",
    "\n",
    "This notebook is part of  course materials for CS 345: Machine Learning Foundations and Practice at Colorado State University.\n",
    "Original versions were created by Asa Ben-Hur with updates by Ross Beveridge\n",
    "\n",
    "Last Update 3/31/2022\n",
    "\n",
    "*The text is released under the [CC BY-SA license](https://creativecommons.org/licenses/by-sa/4.0/), and code is released under the [MIT license](https://opensource.org/licenses/MIT).*\n"
   ]
  },
  {
   "cell_type": "code",
   "execution_count": 46,
   "metadata": {},
   "outputs": [],
   "source": [
    "import numpy as np\n",
    "import matplotlib.pyplot as plt\n",
    "%matplotlib inline"
   ]
  },
  {
   "cell_type": "markdown",
   "metadata": {},
   "source": [
    "# Measuring classifier accuracy\n",
    "\n",
    "There is more to measuring classifier accuracy than using the standard accuracy measure defiend as the fraction of examples that are classified correctly.  There are many situations in which this is not the right way of measuring accuracy.  One example is when dealing with data that is imbalanced, ie. when one class has many more examples than the other.\n",
    "\n",
    "## The confusion matrix\n",
    "\n",
    "Before introducing additional measures of accuracy we will explore the **confusion matrix**.  We will do so using the iris dataset:"
   ]
  },
  {
   "cell_type": "code",
   "execution_count": 47,
   "metadata": {},
   "outputs": [
    {
     "name": "stdout",
     "output_type": "stream",
     "text": [
      "(150, 4) (150,)\n"
     ]
    }
   ],
   "source": [
    "from sklearn import datasets\n",
    "iris = datasets.load_iris()\n",
    "X=iris.data\n",
    "y=iris.target\n",
    "print(X.shape, y.shape)"
   ]
  },
  {
   "cell_type": "code",
   "execution_count": 48,
   "metadata": {},
   "outputs": [
    {
     "data": {
      "text/plain": [
       "array([0, 0, 0, 0, 0, 0, 0, 0, 0, 0, 0, 0, 0, 0, 0, 0, 0, 0, 0, 0, 0, 0,\n",
       "       0, 0, 0, 0, 0, 0, 0, 0, 0, 0, 0, 0, 0, 0, 0, 0, 0, 0, 0, 0, 0, 0,\n",
       "       0, 0, 0, 0, 0, 0, 1, 1, 1, 1, 1, 1, 1, 1, 1, 1, 1, 1, 1, 1, 1, 1,\n",
       "       1, 1, 1, 1, 1, 1, 1, 1, 1, 1, 1, 1, 1, 1, 1, 1, 1, 1, 1, 1, 1, 1,\n",
       "       1, 1, 1, 1, 1, 1, 1, 1, 1, 1, 1, 1, 2, 2, 2, 2, 2, 2, 2, 2, 2, 2,\n",
       "       2, 2, 2, 2, 2, 2, 2, 2, 2, 2, 2, 2, 2, 2, 2, 2, 2, 2, 2, 2, 2, 2,\n",
       "       2, 2, 2, 2, 2, 2, 2, 2, 2, 2, 2, 2, 2, 2, 2, 2, 2, 2])"
      ]
     },
     "execution_count": 48,
     "metadata": {},
     "output_type": "execute_result"
    }
   ],
   "source": [
    "y"
   ]
  },
  {
   "cell_type": "markdown",
   "metadata": {},
   "source": [
    "We will use a nearest neighbor classifier for obtaining predictions:"
   ]
  },
  {
   "cell_type": "code",
   "execution_count": 49,
   "metadata": {},
   "outputs": [
    {
     "data": {
      "text/plain": [
       "0.96"
      ]
     },
     "execution_count": 49,
     "metadata": {},
     "output_type": "execute_result"
    }
   ],
   "source": [
    "from sklearn.neighbors import KNeighborsClassifier\n",
    "from sklearn.model_selection import cross_val_predict\n",
    "\n",
    "classifier = KNeighborsClassifier(n_neighbors=1)\n",
    "\n",
    "y_pred = cross_val_predict(classifier, X, y, cv=5)\n",
    "np.mean(y==y_pred)"
   ]
  },
  {
   "cell_type": "markdown",
   "metadata": {},
   "source": [
    "### Definition of the confusion matrix\n",
    "\n",
    "Rows of the confusion matrix correspond to the true labels, while columns correspond to the predicted labels.\n",
    "The elements of the matrix in a given row quantify how predictions are distributed across the different classes.\n",
    "More formally, element $i, j$ in the matrix is the number of examples from class $i$ predicted to be in class $j$.\n",
    "As its name suggests, it tells us where the classifiers tends to be confused.\n",
    "Using the k-nearest neighbors classifier we obtain the following confusion matrix for our predictions on the iris dataset:\n"
   ]
  },
  {
   "cell_type": "code",
   "execution_count": 50,
   "metadata": {},
   "outputs": [
    {
     "name": "stdout",
     "output_type": "stream",
     "text": [
      "['setosa' 'versicolor' 'virginica']\n",
      "[[50  0  0]\n",
      " [ 0 47  3]\n",
      " [ 0  3 47]]\n"
     ]
    }
   ],
   "source": [
    "from sklearn.metrics import confusion_matrix\n",
    "print (iris.target_names)\n",
    "matrix = confusion_matrix(y, y_pred)\n",
    "print (matrix)"
   ]
  },
  {
   "cell_type": "markdown",
   "metadata": {},
   "source": [
    "Scikit-learn has a function for making nicer visualization of the confusion matrix:"
   ]
  },
  {
   "cell_type": "code",
   "execution_count": 51,
   "metadata": {},
   "outputs": [
    {
     "data": {
      "image/png": "[encoded data removed]",
      "text/plain": [
       "<Figure size 432x288 with 2 Axes>"
      ]
     },
     "metadata": {
      "needs_background": "light"
     },
     "output_type": "display_data"
    }
   ],
   "source": [
    "from sklearn.metrics._plot import confusion_matrix as cm\n",
    "\n",
    "plt.rcParams.update({'font.size': 14})\n",
    "\n",
    "disp=cm.ConfusionMatrixDisplay(confusion_matrix=matrix,\n",
    "                               display_labels=iris.target_names)\n",
    "fig, ax = plt.subplots(figsize=(6,4))\n",
    "disp.plot(ax=ax, include_values=True, cmap=plt.cm.YlGn);"
   ]
  },
  {
   "cell_type": "markdown",
   "metadata": {},
   "source": [
    "Here, we used  \"unofficial\" scikit-learn functionality for plotting the confusion matrix.  Their \"official\" (i.e. documented method) is [plot_confusion_matrix](https://scikit-learn.org/stable/modules/generated/sklearn.metrics.plot_confusion_matrix.html).  This method takes in a classifier and a test set.  It then generates the predictions for the test set and plots the resulting confusion matrix.  It thus precludes plotting predictions generated using cross-validation.\n",
    "\n",
    "Note that scikit-learn uses a convention that is different than other sources for labeling the axes of the confusion matrix (see e.g. the [wikipedia article on the confusion matrix](https://en.wikipedia.org/wiki/Confusion_matrix)).\n",
    "\n",
    "## Question\n",
    "\n",
    "How do you compute the accuracy of the classifier from the confusion matrix?"
   ]
  },
  {
   "cell_type": "markdown",
   "metadata": {},
   "source": [
    "## What Gets Confused with What\n",
    "\n",
    "The confusion matrix provides more information than accuracy:  for this dataset it tells us that the classifier has some difficulty distinguishing between iris-versicolor and iris-virginica, while iris-setosa is perfectly distinguishable from the other two classes.\n",
    "This makes sense in view of the following visualization of the data that demonstrates the overlap between iris-versicolor and iris-virginica:"
   ]
  },
  {
   "cell_type": "code",
   "execution_count": 52,
   "metadata": {},
   "outputs": [],
   "source": [
    "def scatter_with_legend(X, y, ax, class_names) :\n",
    "    colors = ['ob', 'or', 'oc']\n",
    "    for c in range(len(class_names)):\n",
    "        idx = (y==c)\n",
    "        ax.plot(X[idx,0], X[idx,1], colors[c], \n",
    "                label = class_names[c], alpha=0.5)\n",
    "    ax.legend()"
   ]
  },
  {
   "cell_type": "code",
   "execution_count": 53,
   "metadata": {},
   "outputs": [
    {
     "data": {
      "image/png": "[encoded data removed]",
      "text/plain": [
       "<Figure size 720x432 with 2 Axes>"
      ]
     },
     "metadata": {
      "needs_background": "light"
     },
     "output_type": "display_data"
    }
   ],
   "source": [
    "f, (ax1, ax2) = plt.subplots(1, 2, figsize=(10,6))\n",
    "scatter_with_legend(X[:,[0, 1]], y, ax1, iris.target_names)\n",
    "scatter_with_legend(X[:,[2, 3]], y, ax2, iris.target_names)\n",
    "ax1.set_title('first two features of iris data')\n",
    "ax2.set_title('last two features of iris data') ;"
   ]
  },
  {
   "cell_type": "markdown",
   "metadata": {},
   "source": [
    "## The confusion matrix for binary classification problems\n",
    "\n",
    "For binary classification problems we have special terminology that we will present next.\n",
    "First, we will take a look at a confusion matrix for a binary classification problem:"
   ]
  },
  {
   "cell_type": "code",
   "execution_count": 54,
   "metadata": {},
   "outputs": [
    {
     "name": "stdout",
     "output_type": "stream",
     "text": [
      "number of examples  569\n",
      "number of features  30\n",
      "['malignant' 'benign']\n"
     ]
    }
   ],
   "source": [
    "from sklearn.datasets import load_breast_cancer\n",
    "data = load_breast_cancer()\n",
    "\n",
    "X = data.data\n",
    "y = data.target\n",
    "print('number of examples ', len(y))\n",
    "print('number of features ', len(X[0]))\n",
    "print(data.target_names)"
   ]
  },
  {
   "cell_type": "code",
   "execution_count": 55,
   "metadata": {},
   "outputs": [
    {
     "data": {
      "image/png": "[encoded data removed]",
      "text/plain": [
       "<Figure size 432x288 with 2 Axes>"
      ]
     },
     "metadata": {
      "needs_background": "light"
     },
     "output_type": "display_data"
    }
   ],
   "source": [
    "from sklearn.model_selection import train_test_split\n",
    "\n",
    "X_train, X_test, y_train, y_test = train_test_split(X, y, test_size=0.3, random_state=11)\n",
    "\n",
    "classifier = KNeighborsClassifier(n_neighbors=3)\n",
    "\n",
    "classifier.fit(X_train, y_train)\n",
    "y_pred = classifier.predict(X_test)\n",
    "\n",
    "matrix = confusion_matrix(y_test, y_pred)\n",
    "\n",
    "plt.rcParams.update({'font.size': 14})\n",
    "disp=cm.ConfusionMatrixDisplay(confusion_matrix=matrix, display_labels=data.target_names)\n",
    "fig, ax = plt.subplots(figsize=(6,4))\n",
    "disp.plot(ax=ax, include_values=True, cmap=plt.cm.YlGn);"
   ]
  },
  {
   "cell_type": "markdown",
   "metadata": {},
   "source": [
    "In the case of a binary classification problem the entries in the confusion matrix have names:\n",
    "\n",
    "| True / Predicted | positive            | negative            |\n",
    "| :--------------- |:------------------- | :------------------ |\n",
    "| **positive**     | true positive (TP)  | false negative (FN) |\n",
    "| **negative**     | false positive (FP) | true negative (TN)  |\n",
    "\n",
    "\n",
    "Let's define $\\mathrm{P} = \\mathrm{TP} + \\mathrm{FN}$ and $\\mathrm{N} = \\mathrm{FP} + \\mathrm{TN}$.\n",
    "In terms of the entries of the confusion matrix we can define additional measures of accuracy that are commonly used in machine learning:\n",
    "\n",
    "**Recall** (true positive rate):\n",
    "\n",
    "$$\n",
    "\\mathrm {recall} =\\frac {\\mathrm {TP} }{\\mathrm {P} }\n",
    "=\\frac {\\mathrm {TP} }{\\mathrm {TP} +\\mathrm {FN} }\n",
    "$$\n",
    "\n",
    "Recall tells us what fraction of the positive examples our classifier is able to classify correctly.\n",
    "The true negative rate, or specifcity is defined analogously as $\\mathrm{TN} / \\mathrm{N}$.\n",
    "\n",
    "**Precision:**\n",
    "\n",
    "$$\n",
    " \\mathrm {precision} =\\frac {\\mathrm {TP} }{\\mathrm {TP} +\\mathrm {FP} }\n",
    "$$\n",
    "\n",
    "Precision tells us how accurate are the positive predictions, i.e. when the classifier makes a positive prediction, how likely it is to be correct.\n",
    "\n",
    "**Accuracy**:\n",
    "\n",
    "$$\n",
    "\\mathrm{accuracy}= \n",
    "\\frac{\\mathrm{TP} + \\mathrm{TN}}{\\mathrm{P + N}}\n",
    "$$\n",
    "\n",
    "\n",
    "**Balanced accuracy** is the mean of recall (true positive rate) and specificity (true negative rate):\n",
    "\n",
    "$$\n",
    "\\mathrm{balanced-accuracy}= \n",
    "\\frac{1}{2}\\left( \\frac{\\mathrm{TP}}{\\mathrm{P}} + \\frac{\\mathrm{TN}}{\\mathrm{N}}  \\right)\n",
    "$$\n",
    "\n",
    "Earlier in the course we pointed out that the standard measure of accuracy is not a good indication of  success for data that is imbalanced.  In particular, we have seen that the majority classifier has very high accuracy for imbalanced data.  Balanced accuracy addresses this shortcoming.\n",
    "\n",
    "The **F1 score** is the harmonic mean of precision and recall:\n",
    "\n",
    "$$\n",
    "\\mathrm {F} _{1}=2\\cdot {\\frac {\\mathrm {precision} \\cdot \\mathrm {recall} }{\\mathrm {precision} +\\mathrm {recall} }}\n",
    "$$\n",
    "\n",
    "The F1 score is commonly used in the field of information retrieval to measure performance in search, text categorization, and other natural language processing applications.\n",
    "The F1 score focuses on true positives and does not take into account into account true negatives.  Its focus is on how well a classifier is performing in retrieving relevant items.\n",
    "\n",
    "### Exercises\n",
    "\n",
    "* Recall and precision are competing goals.  Give examples of applications where high precision is more important than high recall.  Similarly, think of applications where high recall is more important.\n",
    "* What is the balanced accuracy of the majority classifier?\n",
    "* Show that when the data has an equal number of positive and negative examples, balanced accuracy is equal to accuracy.\n"
   ]
  },
  {
   "cell_type": "markdown",
   "metadata": {},
   "source": [
    "# Rank Based Retrieval\n",
    "\n",
    "Modern practice is to often use precision and recall when arguably true positives etc. would be more helpful. That said - the underlying mathematical connection is neither wrong nor improper. However, to develop an intuition for precision and recall it helps a lot to see these measures motivated in their original context of document retrieval. \n",
    "\n",
    "Therefore, let us play a bit with ranked based process of seperating positive from negative.  To clarify, many algorithms will compute a score and subsequently rank examples from most to least likely to be a postive example. Then, by taking the top $k$ ranked examples one can ask how well the algorithm behaved.  "
   ]
  },
  {
   "cell_type": "code",
   "execution_count": 56,
   "metadata": {},
   "outputs": [],
   "source": [
    "def rank_two_class_play_pen (num_p, num_n, noise_level, rseed=42) :\n",
    "    y_ranked = [1] * num_p + [0] * num_n\n",
    "    y_label = y_ranked.copy()\n",
    "    np.random.seed(rseed)\n",
    "    flipit = np.random.uniform(0,1,len(y_ranked)) < noise_level\n",
    "    for i in range(len(y_ranked)) :\n",
    "        if flipit[i] :\n",
    "            if y_ranked[i] == 1 : \n",
    "                y_label[i] = 0\n",
    "            else :\n",
    "                y_label[i] = 1\n",
    "    return y_ranked, y_label"
   ]
  },
  {
   "cell_type": "code",
   "execution_count": 63,
   "metadata": {},
   "outputs": [
    {
     "name": "stdout",
     "output_type": "stream",
     "text": [
      "Rank \t0 has true label 1 and observed is 1\n",
      "Rank \t1 has true label 1 and observed is 1\n",
      "Rank \t2 has true label 1 and observed is 1\n",
      "Rank \t3 has true label 1 and observed is 1\n",
      "Rank \t4 has true label 1 and observed is 1\n",
      "Rank \t5 has true label 1 and observed is 1\n",
      "Rank \t6 has true label 1 and observed is 0\n",
      "Rank \t7 has true label 1 and observed is 1\n",
      "Rank \t8 has true label 0 and observed is 0\n",
      "Rank \t9 has true label 0 and observed is 0\n",
      "Rank \t10 has true label 0 and observed is 1\n",
      "Rank \t11 has true label 0 and observed is 0\n",
      "Rank \t12 has true label 0 and observed is 0\n",
      "Rank \t13 has true label 0 and observed is 0\n",
      "Rank \t14 has true label 0 and observed is 0\n",
      "Rank \t15 has true label 0 and observed is 0\n",
      "Rank \t16 has true label 0 and observed is 0\n",
      "Rank \t17 has true label 0 and observed is 0\n",
      "Rank \t18 has true label 0 and observed is 0\n",
      "Rank \t19 has true label 0 and observed is 0\n",
      "Rank \t20 has true label 0 and observed is 0\n",
      "Rank \t21 has true label 0 and observed is 0\n",
      "Rank \t22 has true label 0 and observed is 0\n",
      "Rank \t23 has true label 0 and observed is 0\n",
      "Rank \t24 has true label 0 and observed is 0\n",
      "Rank \t25 has true label 0 and observed is 0\n",
      "Rank \t26 has true label 0 and observed is 0\n",
      "Rank \t27 has true label 0 and observed is 0\n",
      "Rank \t28 has true label 0 and observed is 0\n",
      "Rank \t29 has true label 0 and observed is 1\n",
      "Rank \t30 has true label 0 and observed is 0\n",
      "Rank \t31 has true label 0 and observed is 0\n"
     ]
    }
   ],
   "source": [
    "y_true, y = rank_two_class_play_pen(8, 24, 0.1)\n",
    "# y_true, y = rank_two_class_play_pen(4, 2, 1.0)\n",
    "for i in range(len(y)) :\n",
    "    print(f'Rank \\t{i} has true label {y_true[i]} and observed is {y[i]}')"
   ]
  },
  {
   "cell_type": "markdown",
   "metadata": {},
   "source": [
    "## Now Illustrate Precision and Recall\n",
    "\n",
    "In the next illustration we will play by the following rules.  We will take the labels in order of rank and declare the first $k$ to be positive.  \n",
    "\n",
    "I want you all to go and look at the [Precision and Recall](https://en.wikipedia.org/wiki/Precision_and_recall) Wikipedia Page. It is well put together and I promise you many practicing ML folks confuse themselves (repeatedly) over these two definitions. "
   ]
  },
  {
   "cell_type": "code",
   "execution_count": 64,
   "metadata": {},
   "outputs": [],
   "source": [
    "def calc_precision(y, k, pout=True) :\n",
    "    if (k == 0) :\n",
    "        return 1\n",
    "    else :\n",
    "        n_retrieved = np.sum(y[0:k])\n",
    "        if pout : print(f'{n_retrieved} positive examples in top {k}')\n",
    "        precision = n_retrieved / k\n",
    "        if pout : print(f'Precision is {precision:.3f}')\n",
    "        return precision"
   ]
  },
  {
   "cell_type": "code",
   "execution_count": 66,
   "metadata": {},
   "outputs": [
    {
     "name": "stdout",
     "output_type": "stream",
     "text": [
      "7 positive examples in top 8\n",
      "Precision is 0.875\n"
     ]
    },
    {
     "data": {
      "text/plain": [
       "0.875"
      ]
     },
     "execution_count": 66,
     "metadata": {},
     "output_type": "execute_result"
    }
   ],
   "source": [
    "calc_precision(y, 8)"
   ]
  },
  {
   "cell_type": "code",
   "execution_count": 33,
   "metadata": {},
   "outputs": [],
   "source": [
    "def calc_recall(y, k, pout=True) :\n",
    "    if (k == 0) :\n",
    "        return 0\n",
    "    else : \n",
    "        n_retrieved = np.sum(y[0:k])\n",
    "        n_positive = np.sum(y)\n",
    "        if pout : print(f'{n_retrieved} positive examples in top {k}')\n",
    "        if pout : print(f'{n_positive} positive examples in total')\n",
    "        recall = n_retrieved / n_positive\n",
    "        if pout : print(f'Recal is {recall:.3f}')\n",
    "        return recall    "
   ]
  },
  {
   "cell_type": "code",
   "execution_count": 67,
   "metadata": {},
   "outputs": [
    {
     "name": "stdout",
     "output_type": "stream",
     "text": [
      "7 positive examples in top 8\n",
      "9 positive examples in total\n",
      "Recal is 0.778\n"
     ]
    },
    {
     "data": {
      "text/plain": [
       "0.7777777777777778"
      ]
     },
     "execution_count": 67,
     "metadata": {},
     "output_type": "execute_result"
    }
   ],
   "source": [
    "calc_recall(y, 8)"
   ]
  },
  {
   "cell_type": "code",
   "execution_count": 68,
   "metadata": {},
   "outputs": [
    {
     "name": "stdout",
     "output_type": "stream",
     "text": [
      "k \tRecall\tPrecision\n",
      "0, \t0.000, \t1.000\n",
      "1, \t0.111, \t1.000\n",
      "2, \t0.222, \t1.000\n",
      "3, \t0.333, \t1.000\n",
      "4, \t0.444, \t1.000\n",
      "5, \t0.556, \t1.000\n",
      "6, \t0.667, \t1.000\n",
      "7, \t0.667, \t0.857\n",
      "8, \t0.778, \t0.875\n",
      "9, \t0.778, \t0.778\n",
      "10, \t0.778, \t0.700\n",
      "11, \t0.889, \t0.727\n",
      "12, \t0.889, \t0.667\n",
      "13, \t0.889, \t0.615\n",
      "14, \t0.889, \t0.571\n",
      "15, \t0.889, \t0.533\n",
      "16, \t0.889, \t0.500\n",
      "17, \t0.889, \t0.471\n",
      "18, \t0.889, \t0.444\n",
      "19, \t0.889, \t0.421\n",
      "20, \t0.889, \t0.400\n",
      "21, \t0.889, \t0.381\n",
      "22, \t0.889, \t0.364\n",
      "23, \t0.889, \t0.348\n",
      "24, \t0.889, \t0.333\n",
      "25, \t0.889, \t0.320\n",
      "26, \t0.889, \t0.308\n",
      "27, \t0.889, \t0.296\n",
      "28, \t0.889, \t0.286\n",
      "29, \t0.889, \t0.276\n",
      "30, \t1.000, \t0.300\n",
      "31, \t1.000, \t0.290\n"
     ]
    }
   ],
   "source": [
    "precis_vals = np.array([calc_precision(y, k, pout=False) for k in range(len(y))])\n",
    "recall_vals = np.array([calc_recall(y, k, pout=False) for k in range(len(y))])\n",
    "print(f'k \\tRecall\\tPrecision')\n",
    "for i in range(0,len(y)) :\n",
    "    print(f'{i}, \\t{recall_vals[i]:.3f}, \\t{precis_vals[i]:.3f}')"
   ]
  },
  {
   "cell_type": "markdown",
   "metadata": {},
   "source": [
    "## Precision Recall Curve\n",
    "\n",
    "We now have enough context (and code) to illustrate the [Precision Recall Curve](https://scikit-learn.org/stable/auto_examples/model_selection/plot_precision_recall.html). \n",
    "\n",
    "A key take away message from this plot is that in many ML contexts - and in particular rank based retreival - where one form of error may be traded off against another. Specifically as shown below, higher precision at the expense of a lower recall."
   ]
  },
  {
   "cell_type": "code",
   "execution_count": 36,
   "metadata": {},
   "outputs": [
    {
     "data": {
      "image/png": "[encoded data removed]",
      "text/plain": [
       "<Figure size 432x432 with 1 Axes>"
      ]
     },
     "metadata": {
      "needs_background": "light"
     },
     "output_type": "display_data"
    }
   ],
   "source": [
    "y_true, y = rank_two_class_play_pen(8, 24, 0.1)\n",
    "# y_true, y = rank_two_class_play_pen(128, 128, 0.2)\n",
    "\n",
    "precis_vals = np.array([calc_precision(y, k, pout=False) for k in range(1,len(y))])\n",
    "recall_vals = np.array([calc_recall(y, k, pout=False) for k in range(1,len(y))])\n",
    "f, ax = plt.subplots(1, 1, figsize=(6,6))\n",
    "ax.plot(recall_vals,precis_vals,color='darkgreen')\n",
    "ax.set_xlabel('Recall')\n",
    "ax.set_ylabel('Precision') ;"
   ]
  },
  {
   "cell_type": "code",
   "execution_count": null,
   "metadata": {},
   "outputs": [],
   "source": []
  }
 ],
 "metadata": {
  "kernelspec": {
   "display_name": "Python 3",
   "language": "python",
   "name": "python3"
  },
  "language_info": {
   "codemirror_mode": {
    "name": "ipython",
    "version": 3
   },
   "file_extension": ".py",
   "mimetype": "text/x-python",
   "name": "python",
   "nbconvert_exporter": "python",
   "pygments_lexer": "ipython3",
   "version": "3.7.10"
  }
 },
 "nbformat": 4,
 "nbformat_minor": 4
}
