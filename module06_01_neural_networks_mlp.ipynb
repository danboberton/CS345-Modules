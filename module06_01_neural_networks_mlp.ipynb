{
 "cells": [
  {
   "cell_type": "markdown",
   "metadata": {},
   "source": [
    "## Multi-Layer Preceptrons\n",
    "\n",
    "This notebook is part of  course materials for CS 345: Machine Learning Foundations and Practice at Colorado State University.\n",
    "Original versions were created by Asa Ben-Hur and Ben Sattleberg with updates by Ross Beveridge\n",
    "\n",
    "Last Update 4/07/2022\n",
    "\n",
    "\n",
    "*The text is released under the [CC BY-SA license](https://creativecommons.org/licenses/by-sa/4.0/), and code is released under the [MIT license](https://opensource.org/licenses/MIT).*"
   ]
  },
  {
   "cell_type": "code",
   "execution_count": 1,
   "metadata": {},
   "outputs": [],
   "source": [
    "import numpy as np\n",
    "import matplotlib.pyplot as plt\n",
    "%matplotlib inline"
   ]
  },
  {
   "cell_type": "markdown",
   "metadata": {},
   "source": [
    "# Neural Networks\n",
    "\n",
    "Neural networks are models inspired by the workings of the human brain and the ability of brains to learn and adapt.  Neural networks build on the foundations of humble linear models like the perceptron and logistic regression. If you are seeking a bit more of an overview consider the [Connectionism Page](https://en.wikipedia.org/wiki/Connectionism) on Wikipedia for additional context. "
   ]
  },
  {
   "cell_type": "markdown",
   "metadata": {},
   "source": [
    "### The XOR problem\n",
    "\n",
    "Linear models do not always give acceptable levels of accuracy.  As a toy example consider the XOR problem, which is a canonical example of a problem that is not linearly separable:"
   ]
  },
  {
   "cell_type": "code",
   "execution_count": 2,
   "metadata": {},
   "outputs": [
    {
     "data": {
      "text/plain": "<Figure size 216x216 with 1 Axes>",
      "image/png": "[encoded data removed]"
     },
     "metadata": {
      "needs_background": "light"
     },
     "output_type": "display_data"
    }
   ],
   "source": [
    "X = np.array([[0, 0], [1, 0], [0, 1], [1, 1]])\n",
    "y = np.array([1, 0, 0, 1])\n",
    "\n",
    "plt.figure(figsize=(3,3))\n",
    "plt.scatter(X[:,0], X[:,1], c=y, s=100, alpha=0.5, cmap='bwr');\n",
    "plt.xlabel('$x_1$')\n",
    "plt.ylabel('$x_2$');"
   ]
  },
  {
   "cell_type": "markdown",
   "metadata": {},
   "source": [
    "There is no line we can draw in the plane to successfully seperate the positive and negative examples."
   ]
  },
  {
   "cell_type": "markdown",
   "metadata": {},
   "source": [
    "### Recap: the perceptron"
   ]
  },
  {
   "cell_type": "markdown",
   "metadata": {},
   "source": [
    "The perceptron was our first linear classifier.  It used the following rule:\n",
    "\n",
    "$$h(\\textbf{x}) = \\text{step}(\\textbf{w}^T \\textbf{x} + b),$$\n",
    "\n",
    "where $\\text{step}$ refers to the step function\n",
    "\n",
    "$$\\text{step}(x) = \\begin{cases} 1 & x \\geq 0 \\\\ 0 & x < 0. \\end{cases} $$\n",
    "\n",
    "Previously we used the sign function because for convenience we used $\\pm 1$ as the labels.\n",
    "\n",
    "Think of the perceptron as a neural network with a single computational unit.  That neuron collects its input from the *input layer*, which also includes a constant unit that represents the bias.  The connections of the neuron have weights associated with them; those connections act to multiply the inputs received over those connections resulting in $\\textbf{w}^T \\textbf{x} + b$ as the input received by the neuron.  Whenever the input received by the neuron exceeds a certain threshold (e.g. 0), the neuron **fires**.  This is represented by the application of the step function to the input received by the neuron.\n",
    "The step function is an example of an **activation function**, which specifies the response of the neuron to the input it receives.\n",
    "\n",
    "<img style=\"padding:10px;width:50%;\" alt=\"the perceptron as a neural network\" src=\"https://github.com/asabenhur/CS345/raw/master/notebooks/figures/perceptron.png\">\n",
    "\n",
    "*Note: Replace \"f\" with \"h\" in above figure*\n",
    "\n",
    "Given features that are \"good enough\" - i.e. features that render the problem linearly separable, the perceptron can solve any classification problem. As a bit of context, recall we have already seen polynomial regression applied to the XOR problem demonstrating how even the addition of the $x_1 * x_2$ term to the feature set rendered XOR solvable as a \"linear\" problem."
   ]
  },
  {
   "cell_type": "markdown",
   "metadata": {},
   "source": [
    "### Multi-layer perceptrons\n",
    "\n",
    "A multi-layer perceptron (MLP) is a classifier that consists of at least three layers of nodes:  an **input layer**, a **hidden layer** and an **output layer**.\n",
    "The input layer receives the input, while each subsequent layer computes a function of the previous layer (usually nonlinear).  The output layer produces the resulting prediction of the MLP.  Here is a simple example:"
   ]
  },
  {
   "cell_type": "markdown",
   "metadata": {},
   "source": [
    "<img style=\"padding:10px;width:50%;\" alt=\"Simple multilayer perceptron architecture\" src=\"https://github.com/asabenhur/CS345/raw/master/notebooks/figures/simple_network.png\">"
   ]
  },
  {
   "cell_type": "markdown",
   "metadata": {},
   "source": [
    "First we'll consider an architecture where each node computes a function in exactly the same way as the perceptron. Here, the two red nodes, $h_1$ and $h_2$, represent perceptrons with\n",
    "\n",
    "$$ h_1(\\textbf{x}) = \\text{step}(\\textbf{w}_1^\\top \\textbf{x} + b_1) $$\n",
    "and\n",
    "$$ h_2(\\textbf{x}) = \\text{step}(\\textbf{w}_2^\\top \\mathbf{x} + b_2). $$\n",
    "\n",
    "Next, $h_1$ and $h_2$ are used as inputs to another perceptron, $f$.  For this second perceptron, we'll drop the step function:\n",
    "\n",
    "$$ f(\\textbf{x}) = v_1 h_1(\\textbf{x}) + v_2 h_2(\\textbf{x}) + c $$\n",
    "or\n",
    "$$ f(\\textbf{x}) = v_1 \\text{step}(\\textbf{w}_1^T \\textbf{x} + b_1) + v_2 \\text{step}(\\textbf{w}_2^T \\textbf{x} + b_2) + c. $$\n",
    "\n",
    "It is useful to write this in vector-matrix form as\n",
    "\n",
    "$$ f(\\mathbf{x}) = \\mathbf{v}^T \\text{step} \\left( W \\mathbf{x} + \\mathbf{b} \\right) + c. $$\n",
    "\n",
    "Here $\\mathbf{b} = (b_1, b_2)^\\top$ and the matrix $W$ is the result of stacking $\\mathbf{w}_1$ and $\\mathbf{w}_2$:\n",
    "\n",
    "$$\n",
    "W = \\begin{pmatrix}\n",
    "\\mathbf{w}_1^\\top \\\\\n",
    "\\mathbf{w}_2^\\top\n",
    "\\end{pmatrix}\n",
    "$$\n"
   ]
  },
  {
   "cell_type": "markdown",
   "metadata": {},
   "source": [
    "As an example, here is such a multilayer perceptron that solves the XOR problem:"
   ]
  },
  {
   "cell_type": "markdown",
   "metadata": {},
   "source": [
    "<img style=\"padding:10px;width:50%;\" alt=\"Multilayer perceptron architecture for XOR\" src=\"https://github.com/asabenhur/CS345/raw/master/notebooks/figures/xor_network.png\">"
   ]
  },
  {
   "cell_type": "markdown",
   "metadata": {},
   "source": [
    "This perceptron uses the following values for the parameters as shown in the figure:\n",
    "\\begin{align}\n",
    "\\textbf{W} &= \\begin{pmatrix} 1 & 1 \\\\ 1 & 1 \\end{pmatrix} \\\\\n",
    "\\textbf{b} &= \\begin{pmatrix} -1.5 \\\\ -0.5 \\end{pmatrix} \\\\\n",
    "\\textbf{v} &= \\begin{pmatrix} 1 \\\\ -1 \\end{pmatrix} \\\\\n",
    "c &= 1.0\n",
    "\\end{align}\n",
    "\n",
    "To illustrate that it indeed solves the XOR problem let's plot the decision boundary of this network:"
   ]
  },
  {
   "cell_type": "markdown",
   "metadata": {},
   "source": [
    "You can verify that this multilayer perceptron computes $\\mathrm{XOR}(x_1, x_2)$ and it does so by computing $(\\mathrm{AND}(x_1, x_2) - \\mathrm{OR}(x_1, x_2) + 1)$. \n"
   ]
  },
  {
   "cell_type": "code",
   "execution_count": 3,
   "metadata": {},
   "outputs": [
    {
     "data": {
      "text/plain": "<Figure size 576x288 with 2 Axes>",
      "image/png": "[encoded data removed]"
     },
     "metadata": {
      "needs_background": "light"
     },
     "output_type": "display_data"
    }
   ],
   "source": [
    "from mpl_toolkits.mplot3d import Axes3D\n",
    "\n",
    "fig = plt.figure(figsize=(8,4))\n",
    "ax  = fig.add_subplot(121)\n",
    "ax2 = fig.add_subplot(122, projection='3d')\n",
    "\n",
    "W = np.array([[1, 1], [1, 1]])\n",
    "b = np.array([[-1.5], [-0.5]])\n",
    "v = np.array([1, -1])\n",
    "c = 1\n",
    "\n",
    "delta = 0.01\n",
    "xmin=-0.1;xmax=1.1;ymin=-0.1;ymax=1.1\n",
    "xs = np.arange(xmin, xmax, delta)\n",
    "ys = np.arange(ymin, ymax, delta)\n",
    "x_grid, y_grid = np.meshgrid(xs, ys)\n",
    "\n",
    "xs = x_grid.reshape(-1)\n",
    "ys = y_grid.reshape(-1)\n",
    "x = np.vstack((xs, ys))\n",
    "\n",
    "Z = np.dot(v, np.heaviside(np.matmul(W, x) + b, 1)) + c\n",
    "Z = Z.reshape(x_grid.shape)\n",
    "\n",
    "im = ax.imshow(Z, origin='lower',\n",
    "                cmap=plt.cm.bwr, alpha=0.5, extent=(xmin,xmax,ymin,ymax) )\n",
    "\n",
    "X = np.array([[0, 0], [1, 0], [0, 1], [1, 1]])\n",
    "y = np.array([1, 0, 0, 1])\n",
    "\n",
    "ax.scatter(X[:,0], X[:,1], c=y, s=100, cmap='bwr', edgecolors='w');\n",
    "ax.set_xlabel('$x_1$')\n",
    "ax.set_ylabel('$x_2$')\n",
    "\n",
    "ax2.plot_wireframe(x_grid, y_grid, Z, alpha=0.5);\n",
    "ax2.scatter(X[:,0], X[:,1], y, c=y, s=100, cmap='bwr', edgecolors='w')\n",
    "ax2.set_xlabel('$x_1$')\n",
    "ax2.set_ylabel('$x_2$')\n",
    "ax2.set_zlabel('f($x_1$, $x_2$)');"
   ]
  },
  {
   "cell_type": "markdown",
   "metadata": {},
   "source": [
    "## More complex architectures"
   ]
  },
  {
   "cell_type": "markdown",
   "metadata": {},
   "source": [
    "The architecture described earlier, with two hidden nodes is perhaps  the simplest multi-layer neural network architecture that can be constructed.  For added complexity you can add more hidden nodes:"
   ]
  },
  {
   "cell_type": "markdown",
   "metadata": {},
   "source": [
    "<img style=\"padding:10px;width:50%;\" alt=\"A wider multilayer perceptron\" src=\"https://github.com/asabenhur/CS345/raw/master/notebooks/figures/wide_network.png\">"
   ]
  },
  {
   "cell_type": "markdown",
   "metadata": {},
   "source": [
    "In this architecture visualization $\\textbf{x}$ represents any number of inputs to the network.\n",
    "\n",
    "The set of nodes before the output is known as the **hidden layer**.  The number of nodes in that hidden layer is known as the \"width\" of the network.  \n",
    "\n",
    "Another way to allow the network to model more complex problems is to add more hidden layers to increase the \"depth\" of the network.  Here's an example of a network with two hidden layers:"
   ]
  },
  {
   "cell_type": "markdown",
   "metadata": {},
   "source": [
    "<img style=\"padding:10px;width:60%;\" alt=\"A wider multilayer perceptron\" src=\"https://github.com/asabenhur/CS345/raw/master/notebooks/figures/deeper_network.png\">"
   ]
  },
  {
   "cell_type": "markdown",
   "metadata": {},
   "source": [
    "This structure of successive layers is called a **multilayer perceptron**, and is also frequently referred to as a **fully-connected feedforward neural network**.  In general we can have any number of hidden layers and each hidden layer can have any number of neurons:"
   ]
  },
  {
   "cell_type": "markdown",
   "metadata": {},
   "source": [
    "<img style=\"padding:10px;width:70%;\" alt=\"A wider multilayer perceptron\" src=\"https://github.com/asabenhur/CS345/raw/master/notebooks/figures/full_network.png\">"
   ]
  },
  {
   "cell_type": "markdown",
   "metadata": {},
   "source": [
    "Modern neural networks can be very large both in depth and number of neurons per layer, which can add up to many parameters!"
   ]
  },
  {
   "cell_type": "markdown",
   "metadata": {},
   "source": [
    "## Universal approximation"
   ]
  },
  {
   "cell_type": "markdown",
   "metadata": {},
   "source": [
    "Neural networks being able to solve the XOR problem is great, but it doesn't mean they will be useful for problems in general.\n",
    "\n",
    "It has been shown that neural networks can serve as \"universal approximators\", i.e. can serve to approximate any function.  Therefore they should be able to solve arbitrarily complex machine learning problems.\n",
    "If you are interested, [chapter 4 of Neural networks and Deep Learning](http://neuralnetworksanddeeplearning.com/chap4.html) shows a relatively simple visual proof of this property.\n",
    "It is worth noting that a network with a single hidden layer is a universal approximator given sufficient (possibly **very** large) width."
   ]
  },
  {
   "cell_type": "markdown",
   "metadata": {},
   "source": [
    "### Training a neural network"
   ]
  },
  {
   "cell_type": "markdown",
   "metadata": {},
   "source": [
    "To train a network, we need a method to update its weights.   Applying the perceptron update rule will no longer work: it will successfully update weights in the final layer, but the hidden neurons don't have a sense of a \"correct\" or \"incorrect\" classification, so they cannot be updated in that way.\n",
    "\n",
    "The method that is used instead is gradient descent.  However, the output of the perceptron which uses the step function as the \"activation function\" is not differentiable.  So we need to choose an alternative to the step function."
   ]
  },
  {
   "cell_type": "markdown",
   "metadata": {},
   "source": [
    "# Activation functions\n",
    "\n",
    "As mentioned above, the activation function describes how a neuron responds to its input.\n",
    "The activation function that was used most commonly from the mid 1980s until the arrival of deep learning was the sigmoid and its sibling function, *tanh*, which is essentially a rescaling of the sigmoid to have a range from -1 to 1 instead of 0 to 1.  These can be considered as smooth versions of the step function, as they have similar behavior except near zero.\n",
    "\n",
    "A bit of ML history - [Ron Williams](https://en.wikipedia.org/wiki/Ronald_J._Williams) did some of the earliest tests revealing that back propogating responsibility for success or failure to label a sample correctly based upon sigmoid gradients would - in some cases - very nicely lead to convergence upon a set of weights useful to a multilayer neural network."
   ]
  },
  {
   "cell_type": "code",
   "execution_count": 4,
   "metadata": {},
   "outputs": [],
   "source": [
    "def sigmoid(s):\n",
    "    return 1/(1+np.exp(-s))\n",
    "\n",
    "def sigmoid_derivative(s):\n",
    "    return sigmoid(s) *(1-sigmoid(s))\n",
    "\n",
    "def step(s) :\n",
    "    return s > 0"
   ]
  },
  {
   "cell_type": "code",
   "execution_count": 5,
   "metadata": {},
   "outputs": [
    {
     "data": {
      "text/plain": "<Figure size 432x288 with 1 Axes>",
      "image/png": "[encoded data removed]"
     },
     "metadata": {
      "needs_background": "light"
     },
     "output_type": "display_data"
    }
   ],
   "source": [
    "plt.figure(figsize=(6,4))\n",
    "s = np.linspace(-10,10, 100)\n",
    "plt.plot(s, sigmoid(s), label = r'$\\sigma(s)$')\n",
    "plt.plot(s, sigmoid_derivative(s), label = r\"$\\sigma'(s)$\")\n",
    "plt.plot(s, step(s), label = r'$step(s)$')\n",
    "\n",
    "plt.xlabel(r\"$s$\", fontsize=20)\n",
    "plt.legend(fontsize=15);"
   ]
  },
  {
   "cell_type": "markdown",
   "metadata": {},
   "source": [
    "The sigmoid function has a severe problem: \"vanishing gradients.\"  As you can see in the plot of the derivative, as the input to the sigmoid increases in magnitude, the derivative approaches zero very rapidly.  This means that if a hidden neuron in the network recieves a large input, the derivative to the weights resulting from that input will be very small.  This isn't typically a significant issue for small networks, but for modern networks that have many layers, it can become difficult to train the network effectively.  \n",
    "\n",
    "With the advent of \"deep learning,\" the activation function that is used more commonly is the Rectified Linear Unit or ReLU.  ReLU is defined as\n",
    "\n",
    "$$ \\text{ReLU}(x) = \\begin{cases} x, & x \\geq 0 \\\\ 0, & x < 0 \\end{cases} $$\n",
    "\n",
    "Its derivative is\n",
    "\n",
    "$$ \\text{ReLU}'(x) = \\begin{cases} 1, & x > 0 \\\\ 0, & x < 0 \\end{cases} $$\n",
    "\n",
    "with the derivative at zero being somewhat arbitrary (typically a value of 0, 0.5, or 1 is chosen) due to the piecewise nature of the function.\n",
    "\n",
    "In addition to not suffering from the vanishing gradient problem, the ReLU function is faster to evaluate."
   ]
  },
  {
   "cell_type": "code",
   "execution_count": 6,
   "metadata": {},
   "outputs": [],
   "source": [
    "def ReLU(x):\n",
    "    return np.maximum(0, x)\n",
    "\n",
    "def ReLU_derivative(x):\n",
    "    dy = np.ones(x.shape)\n",
    "    dy[x<0] = 0\n",
    "    return dy"
   ]
  },
  {
   "cell_type": "code",
   "execution_count": 7,
   "metadata": {},
   "outputs": [
    {
     "data": {
      "text/plain": "<Figure size 576x288 with 2 Axes>",
      "image/png": "[encoded data removed]"
     },
     "metadata": {
      "needs_background": "light"
     },
     "output_type": "display_data"
    }
   ],
   "source": [
    "fig = plt.figure(figsize=(8, 4))\n",
    "ax1 = fig.add_subplot(121)\n",
    "ax2 = fig.add_subplot(122)\n",
    "plt.subplots_adjust(wspace=0.3)\n",
    "\n",
    "x = np.linspace(-10, 10, 1000)\n",
    "y = ReLU(x)\n",
    "\n",
    "dy = ReLU_derivative(x)\n",
    "\n",
    "ax1.plot(x, y)\n",
    "ax1.set_xlabel('$x$', fontsize=15)\n",
    "ax1.set_ylabel('ReLU$(x)$', fontsize=15)\n",
    "ax1.set_title('ReLU')\n",
    "ax2.plot(x, dy)\n",
    "ax2.set_xlabel('$x$', fontsize=15)\n",
    "ax2.set_ylabel(\"ReLU$'(x)$\", fontsize=15)\n",
    "ax2.set_title(\"ReLU derivative\");"
   ]
  },
  {
   "cell_type": "markdown",
   "metadata": {},
   "source": [
    "### The forward function\n",
    "\n",
    "In feed forward neural networks the computation of the network output is often referred to as a **forward pass**.\n",
    "For our simple network with a single hidden layer which has two neurons the output of the network can be written as:\n",
    "\n",
    "$$ \n",
    "f(\\textbf{x}) = v_1 \\sigma \\underbrace{\\left(\\textbf{w}_1^T \\textbf{x} + b_1\\right)}_{h_1(\\mathbf{x})} + v_2 \\sigma\\underbrace{\\left(\\textbf{w}_2^T \\textbf{x} + b_2\\right)}_{h_2(\\mathbf{x})} + c. \n",
    "$$\n",
    "\n",
    "Let's express that in code using Numpy:"
   ]
  },
  {
   "cell_type": "code",
   "execution_count": 8,
   "metadata": {},
   "outputs": [],
   "source": [
    "# first, create some random values for the parameters:\n",
    "from numpy.random import default_rng\n",
    "rng = default_rng(42)\n",
    "w1 = rng.normal(0, 0.1, 2)\n",
    "w2 = rng.normal(0, 0.1, 2)\n",
    "b = rng.normal(0, 0.1, 2)\n",
    "v = rng.normal(0, 0.1, 2)\n",
    "c = rng.normal(0, 0.1, 1)[0]"
   ]
  },
  {
   "cell_type": "markdown",
   "metadata": {},
   "source": [
    "Recall we still have the four corners of the 2-D unit square loaded into our data matrix X."
   ]
  },
  {
   "cell_type": "code",
   "execution_count": 9,
   "metadata": {},
   "outputs": [
    {
     "data": {
      "text/plain": "(array([0, 0]), array([1, 0]))"
     },
     "execution_count": 9,
     "metadata": {},
     "output_type": "execute_result"
    }
   ],
   "source": [
    "X[0],X[1]"
   ]
  },
  {
   "cell_type": "code",
   "execution_count": 10,
   "metadata": {},
   "outputs": [
    {
     "data": {
      "text/plain": "-0.0016801157504288797"
     },
     "execution_count": 10,
     "metadata": {},
     "output_type": "execute_result"
    }
   ],
   "source": [
    "# we'll apply the network to the second element in the dataset:\n",
    "x = X[0]\n",
    "h1 = ReLU(np.dot(w1, x) + b[0])\n",
    "h2 = ReLU(np.dot(w2, x) + b[1])\n",
    "# h is activation out of h1\n",
    "\n",
    "output = v[0] * h1 + v[1] * h2 + c\n",
    "output"
   ]
  },
  {
   "cell_type": "markdown",
   "metadata": {},
   "source": [
    "We can write that in a single line:"
   ]
  },
  {
   "cell_type": "code",
   "execution_count": 11,
   "metadata": {},
   "outputs": [
    {
     "data": {
      "text/plain": "-0.0016801157504288797"
     },
     "execution_count": 11,
     "metadata": {},
     "output_type": "execute_result"
    }
   ],
   "source": [
    "output = (v[0] * ReLU(np.dot(w1, x) + b[0]) + \n",
    "          v[1] * ReLU(np.dot(w2, x) + b[1]) + c)\n",
    "output"
   ]
  },
  {
   "cell_type": "markdown",
   "metadata": {},
   "source": [
    "By stacking together the weight vectors of the two hidden units we can express the output more succinctly:"
   ]
  },
  {
   "cell_type": "code",
   "execution_count": 12,
   "metadata": {},
   "outputs": [],
   "source": [
    "rng = default_rng(42)\n",
    "W = rng.normal(0, 0.1, (2, 2))\n",
    "b = rng.normal(0, 0.1, (2,1))\n",
    "v = rng.normal(0, 0.1, (2,1))\n",
    "c = rng.normal(0, 0.1, 1)[0]"
   ]
  },
  {
   "cell_type": "markdown",
   "metadata": {},
   "source": [
    "And here is the output of the complete network using `np.dot`"
   ]
  },
  {
   "cell_type": "code",
   "execution_count": 13,
   "metadata": {},
   "outputs": [
    {
     "data": {
      "text/plain": "array([[-0.00168012, -0.00168012, -0.00168012, -0.00290978]])"
     },
     "execution_count": 13,
     "metadata": {},
     "output_type": "execute_result"
    }
   ],
   "source": [
    "np.dot(v.T, ReLU(np.dot(W, X.T) + b)) + c"
   ]
  },
  {
   "cell_type": "markdown",
   "metadata": {},
   "source": [
    "And alternatively the same calculation using the matrix multiplication operator:"
   ]
  },
  {
   "cell_type": "code",
   "execution_count": 14,
   "metadata": {},
   "outputs": [
    {
     "data": {
      "text/plain": "array([[-0.00168012, -0.00168012, -0.00168012, -0.00290978]])"
     },
     "execution_count": 14,
     "metadata": {},
     "output_type": "execute_result"
    }
   ],
   "source": [
    "v.T @ ReLU(W @ X.T + b) + c"
   ]
  },
  {
   "cell_type": "markdown",
   "metadata": {},
   "source": [
    "### Gradient Descent"
   ]
  },
  {
   "cell_type": "markdown",
   "metadata": {},
   "source": [
    "\n",
    "Our two layer network with two hidden neurons is defined as \n",
    "\n",
    "$$ \n",
    "f(\\textbf{x}) = v_1 \\sigma(\\textbf{w}_1^T \\textbf{x} + b_1) + v_2 \\sigma(\\textbf{w}_2^T \\textbf{x} + b_2) + c.\n",
    "$$\n",
    "\n",
    "where $\\sigma$ refers to any activation function, not necessarily the sigmoid function.\n",
    "We can express this more explicitly as:\n",
    "\n",
    "$$ \n",
    "f(\\textbf{x}) = v_1 \\sigma(w_{11}x_1 + w_{12}x_2 + b_1) + v_2 \\sigma(w_{21}x_1 + w_{22}x_2 + b_2) + c. \n",
    "$$\n",
    "\n",
    "\n",
    "Next, we need a loss function that defines the errors of our network.  For a network with a single output we can use the squared loss, like we did in linear regression:\n",
    "\n",
    "$$ L(\\textbf{x}, y) = (f(\\textbf{x}) - y)^2. $$\n",
    "\n",
    "To be able to optimize the parameters using gradient descent, we need to compute the derivative of the loss function with respect to the parameters of the network.\n",
    "\n",
    "First, we'll compute the derivatives with respect to the parameters of the output layer.  For example, the derivative of this with respect to $v_1$ is \n",
    "\n",
    "\\begin{align*}\n",
    "\\frac{\\partial L(\\textbf{x}, y)}{\\partial v_1} &= \\frac{\\partial}{\\partial v_1} (f(\\textbf{x}) - y)^2 \\\\\n",
    "                                               &= 2(f(\\textbf{x}) - y) * \\frac{\\partial}{\\partial v_1} f(\\textbf{x}) \\qquad \\text{from the chain rule} \\\\\n",
    "                                               &= 2(f(\\textbf{x}) - y) * \\frac{\\partial}{\\partial v_1} \\left(v_1 \\sigma(\\textbf{w}_1^T \\textbf{x} + b_1) + v_2 \\sigma(\\textbf{w}_2^T \\textbf{x} + b_2) + c\\right) \\qquad \\text{substituting in the network definition}\\\\\n",
    "                                               &= 2(f(\\textbf{x}) - y) * \\frac{\\partial}{\\partial v_1} v_1 \\sigma(\\textbf{w}_1^T \\textbf{x} + b_1) \\qquad \\text{removing terms that don't depend on $v_1$}\\\\\n",
    "                                               &= 2(f(\\textbf{x}) - y) * \\sigma(\\textbf{w}_1^T \\textbf{x} + b_1)\n",
    "\\end{align*}\n",
    "\n",
    "The derivatives for $v_2$ and $c$ are computed similarly, so we have:\n",
    "\n",
    "\\begin{align*}\n",
    "\\frac{\\partial L(\\textbf{x}, y)}{\\partial v_1} &= 2(f(\\textbf{x}) - y) * \\sigma(\\textbf{w}_1^T \\textbf{x} + b_1) \\\\\n",
    "\\frac{\\partial L(\\textbf{x}, y)}{\\partial v_2} &= 2(f(\\textbf{x}) - y) * \\sigma(\\textbf{w}_2^T \\textbf{x} + b_2) \\\\\n",
    "\\frac{\\partial L(\\textbf{x}, y)}{\\partial c} &= 2(f(\\textbf{x}) - y)\n",
    "\\end{align*}"
   ]
  },
  {
   "cell_type": "markdown",
   "metadata": {},
   "source": [
    "Next, we'll compute the derivatives with respect to the parameters of the hidden layer.\n",
    "The derivative of the loss with respect to $w_{11}$ is\n",
    "\n",
    "\\begin{align*}\n",
    "\\frac{\\partial L(\\textbf{x}, y)}{\\partial w_{11}} &= \\frac{\\partial}{\\partial w_{11}} (f(\\textbf{x}) - y)^2 \\\\\n",
    "                                               &= 2(f(\\textbf{x}) - y) * \\frac{\\partial}{\\partial w_{11}} f(\\textbf{x})\\\\\n",
    "                                               &= 2(f(\\textbf{x}) - y) * \\frac{\\partial}{\\partial w_{11}} \\left(v_1 \\sigma(w_{11}x_1 + w_{12}x_2 + b_1) + v_2 \\sigma(w_{21}x_1 + w_{22}x_2 + b_2) + c\\right) \\\\\n",
    "                                               &= 2(f(\\textbf{x}) - y) * \\frac{\\partial}{\\partial w_{11}} v_1 \\sigma(w_{11}x_1 + w_{12}x_2 + b_1) \\\\\n",
    "                                               &= 2(f(\\textbf{x}) - y) * v_1 \\frac{\\partial}{\\partial w_{11}}  \\sigma(w_{11}x_1 + w_{12}x_2 + b_1) \\\\\n",
    "                                               &= 2(f(\\textbf{x}) - y) * v_1 * \\sigma'(w_{11}x_1 + w_{12}x_2 + b_1) * x_1\n",
    "\\end{align*}\n",
    "\n",
    "The derivatives for the other parameters in this layer proceeds in a similar way. Overall we have:\n",
    "\n",
    "\\begin{align*}\n",
    "\\frac{\\partial L(\\textbf{x}, y)}{\\partial v_1} &= 2(f(\\textbf{x}) - y) * \\sigma(\\textbf{w}_1^T \\textbf{x} + b_1) \\\\\n",
    "\\frac{\\partial L(\\textbf{x}, y)}{\\partial v_2} &= 2(f(\\textbf{x}) - y) * \\sigma(\\textbf{w}_2^T \\textbf{x} + b_2) \\\\\n",
    "\\frac{\\partial L(\\textbf{x}, y)}{\\partial c} &= 2(f(\\textbf{x}) - y) \\\\\n",
    "\\frac{\\partial L(\\textbf{x}, y)}{\\partial w_{11}} &= 2(f(\\textbf{x}) - y) * v_1 * \\sigma'(\\textbf{w}_1^T \\textbf{x} + b_1) * x_1 \\\\\n",
    "\\frac{\\partial L(\\textbf{x}, y)}{\\partial w_{12}} &= 2(f(\\textbf{x}) - y) * v_1 * \\sigma'(\\textbf{w}_1^T \\textbf{x} + b_1) * x_2 \\\\\n",
    "\\frac{\\partial L(\\textbf{x}, y)}{\\partial b_{1}} &= 2(f(\\textbf{x}) - y) * v_1 * \\sigma'(\\textbf{w}_1^T \\textbf{x} + b_1) \\\\\n",
    "\\frac{\\partial L(\\textbf{x}, y)}{\\partial w_{21}} &= 2(f(\\textbf{x}) - y) * v_2 * \\sigma'(\\textbf{w}_2^T \\textbf{x} + b_2) * x_1 \\\\\n",
    "\\frac{\\partial L(\\textbf{x}, y)}{\\partial w_{22}} &= 2(f(\\textbf{x}) - y) * v_2 * \\sigma'(\\textbf{w}_2^T \\textbf{x} + b_2) * x_2 \\\\\n",
    "\\frac{\\partial L(\\textbf{x}, y)}{\\partial b_{2}} &= 2(f(\\textbf{x}) - y) * v_2 * \\sigma'(\\textbf{w}_2^T \\textbf{x} + b_2) \\\\\n",
    "\\end{align*}\n",
    "\n",
    "This process of updating the weights is known as \"backpropagation,\" as the derivative is propagated backwards through the network to determine the update rule for the weights."
   ]
  },
  {
   "cell_type": "markdown",
   "metadata": {},
   "source": [
    "### A simple neural network implementation\n",
    "\n",
    "The following `neural_network` class initializes, trains, and handles prediction for a network with single hidden layer with two units in its hidden layer."
   ]
  },
  {
   "cell_type": "code",
   "execution_count": 15,
   "metadata": {},
   "outputs": [],
   "source": [
    "from numpy.random import default_rng\n",
    "import math\n",
    "\n",
    "def ReLU(x):\n",
    "    return max(0, x)\n",
    "\n",
    "def ReLU_derivative(x):\n",
    "    if x >= 0 :\n",
    "        return 1\n",
    "    else :\n",
    "        return 0\n",
    "\n",
    "def sigmoid(x):\n",
    "    return 1/(1+math.exp(-x))\n",
    "\n",
    "def sigmoid_derivative(x):\n",
    "    return sigmoid(x)*(1-sigmoid(x))\n",
    "\n",
    "class neural_network:\n",
    "    def __init__(self, lr=0.05, epochs=100, \n",
    "                 activation = ReLU,\n",
    "                 activation_derivative = ReLU_derivative,\n",
    "                 random_state=42):\n",
    "        self.lr = lr\n",
    "        self.epochs = epochs\n",
    "        # set the network's activation function\n",
    "        self.activation = activation\n",
    "        self.activation_derivative = activation_derivative\n",
    "        # create an instance of a random number generator for \n",
    "        # initializing the weights randomly\n",
    "        self.rng = default_rng(random_state)\n",
    "        # save a history of the loss values\n",
    "        self.loss_history = []\n",
    "\n",
    "    def initialize_weights(self, input_dim):\n",
    "        # weights are initialized to small random numbers\n",
    "        self.w1 = self.rng.normal(0, 0.1, input_dim)\n",
    "        self.w2 = self.rng.normal(0, 0.1, input_dim)\n",
    "        self.b = self.rng.normal(0, 0.1, 2)\n",
    "        self.v = self.rng.normal(0, 0.1, 2)\n",
    "        self.c = self.rng.normal(0, 0.1, 1)[0]\n",
    "        \n",
    "    def decision_function(self, x):\n",
    "        h1 = self.activation(\n",
    "                np.dot(x, self.w1) + self.b[0])\n",
    "        h2 = self.activation(\n",
    "                np.dot(x, self.w2) + self.b[1])\n",
    "        activation = self.v[0] * h1 + self.v[1] * h2 + self.c\n",
    "        return activation\n",
    "    \n",
    "    def gradient_step(self, X, y):\n",
    "        gradient_w1 = np.zeros_like(self.w1)\n",
    "        gradient_w2 = np.zeros_like(self.w2)\n",
    "        gradient_b = np.zeros_like(self.b)\n",
    "        gradient_v = np.zeros_like(self.v)\n",
    "        gradient_c = np.zeros_like(self.c)       \n",
    "        for i in range(len(X)):\n",
    "            x = X[i]\n",
    "            pred = self.decision_function(x)\n",
    "            loss_derivative = 2*(pred - y[i])\n",
    "            h1 = self.activation(\n",
    "                np.dot(self.w1, x) + self.b[0])\n",
    "            h2 = self.activation(\n",
    "                np.dot(self.w2, x) + self.b[1])\n",
    "            h1_derivative = self.activation_derivative(\n",
    "                np.dot(self.w1, x) + self.b[0])\n",
    "            h2_derivative = self.activation_derivative(\n",
    "                np.dot(self.w2, x) + self.b[1])\n",
    "\n",
    "            gradient_c += loss_derivative\n",
    "            gradient_v += loss_derivative*np.array([h1, h2])\n",
    "            gradient_b += loss_derivative*np.array(\n",
    "                [self.v[0]*h1_derivative, self.v[1]*h2_derivative])\n",
    "            gradient_w1 += loss_derivative*self.v[0]*h1_derivative*x\n",
    "            gradient_w2 += loss_derivative*self.v[1]*h2_derivative*x\n",
    "        self.v -= self.lr * gradient_v\n",
    "        self.c -= self.lr * gradient_c\n",
    "        self.w1 -= self.lr * gradient_w1\n",
    "        self.w2 -= self.lr * gradient_w2\n",
    "        self.b -= self.lr * gradient_b\n",
    "  \n",
    "    def loss(self, X, y):\n",
    "        return np.mean([(self.decision_function(X[i]) - y[i])**2 for \n",
    "                        i in range(len(X))])\n",
    "  \n",
    "    def fit(self, X, y):\n",
    "        self.initialize_weights(X.shape[1])\n",
    "        self.loss_history.append(self.loss(X, y))   \n",
    "        for _ in range(self.epochs):\n",
    "            self.gradient_step(X, y)\n",
    "            self.loss_history.append(self.loss(X, y))\n",
    "         \n",
    "    def predict(self, X): \n",
    "        pred = np.array([self.decision_function(x) for x in X])\n",
    "        return np.where(pred >= .5, 1, 0)\n"
   ]
  },
  {
   "cell_type": "markdown",
   "metadata": {},
   "source": [
    "While testing this notebook, this training method found a correct solution for the XOR problem about 20-30% of the time.\n",
    "There are ways to increase that significantly - standardizing the features, or using a different loss function than the sum-squared loss.\n",
    "\n",
    "Let's run the network on the XOR problem:"
   ]
  },
  {
   "cell_type": "code",
   "execution_count": 16,
   "metadata": {},
   "outputs": [
    {
     "name": "stdout",
     "output_type": "stream",
     "text": [
      "Seed: 3 yields training set accuracy: 0.750\n",
      "Seed: 4 yields training set accuracy: 0.500\n",
      "Seed: 5 yields training set accuracy: 0.750\n",
      "Seed: 6 yields training set accuracy: 1.000\n",
      "It took 4 trials to find a perfect solution\n"
     ]
    }
   ],
   "source": [
    "X = np.array([[0, 0], [1, 0], [0, 1], [1, 1]])\n",
    "y = np.array([1, 0, 0, 1])\n",
    "\n",
    "trials  = 10\n",
    "seed01  = 3\n",
    "success = False\n",
    "runs    = 0\n",
    "\n",
    "for i in range(seed01, seed01+trials) :\n",
    "    runs += 1\n",
    "    network = neural_network(lr=0.05, epochs=300, random_state=i)\n",
    "    network.fit(X, y)\n",
    "    acc = np.mean(network.predict(X) == y)\n",
    "    print(f'Seed: {i} yields training set accuracy: {acc:1.3f}')\n",
    "    if acc == 1.0 :\n",
    "        success = True\n",
    "        break\n",
    "      \n",
    "if success :\n",
    "    print(f'It took {runs} trials to find a perfect solution')\n",
    "else :\n",
    "    print(f'No solution was found in {trials} trials')"
   ]
  },
  {
   "cell_type": "code",
   "execution_count": 17,
   "metadata": {},
   "outputs": [
    {
     "data": {
      "text/plain": "<Figure size 432x288 with 1 Axes>",
      "image/png": "[encoded data removed]"
     },
     "metadata": {
      "needs_background": "light"
     },
     "output_type": "display_data"
    }
   ],
   "source": [
    "plt.plot(network.loss_history);\n",
    "plt.xlabel('epochs')\n",
    "plt.ylabel('loss');"
   ]
  },
  {
   "cell_type": "markdown",
   "metadata": {},
   "source": [
    "Next, we'll see how the decision boundary looks like:"
   ]
  },
  {
   "cell_type": "code",
   "execution_count": 18,
   "metadata": {},
   "outputs": [
    {
     "data": {
      "text/plain": "<Figure size 576x288 with 2 Axes>",
      "image/png": "[encoded data removed]"
     },
     "metadata": {
      "needs_background": "light"
     },
     "output_type": "display_data"
    }
   ],
   "source": [
    "fig = plt.figure(figsize=(8,4))\n",
    "ax = fig.add_subplot(121)\n",
    "ax2 = fig.add_subplot(122, projection='3d')\n",
    "\n",
    "delta = 0.01\n",
    "xmin=-0.1;xmax=1.1;ymin=-0.1;ymax=1.1\n",
    "xs = np.arange(xmin, xmax, delta)\n",
    "ys = np.arange(ymin, ymax, delta)\n",
    "x_grid, y_grid = np.meshgrid(xs, ys)\n",
    "\n",
    "xs = x_grid.reshape(-1)\n",
    "ys = y_grid.reshape(-1)\n",
    "x = np.vstack((xs, ys)).T\n",
    "\n",
    "Z = np.array([network.decision_function(xx) for xx in x])\n",
    "Z = Z.reshape(x_grid.shape)\n",
    "\n",
    "im = ax.imshow(Z, origin='lower',\n",
    "               cmap=plt.cm.bwr, extent=(xmin,xmax,ymin,ymax), \n",
    "               vmin=0, vmax=1)\n",
    "\n",
    "X = np.array([[0, 0], [1, 0], [0, 1], [1, 1]])\n",
    "y = np.array([1, 0, 0, 1])\n",
    "\n",
    "plt.style.use('default')\n",
    "ax.scatter(X[:,0], X[:,1], c=y, s=50, cmap='bwr', edgecolors='w');\n",
    "ax.plot([], [], 'or', label='0')\n",
    "ax.plot([], [], 'ob', label='1')\n",
    "ax.set_xlabel('$x_1$')\n",
    "ax.set_ylabel('$x_2$')\n",
    "ax.legend()\n",
    "\n",
    "ax2.view_init(30, 120)\n",
    "ax2.plot_wireframe(x_grid, y_grid, Z, alpha=0.5);\n",
    "ax2.scatter(X[:,0], X[:,1], y, c=y, s=30, alpha=0.7, cmap='bwr')\n",
    "ax2.set_xlabel('$x_1$')\n",
    "ax2.set_ylabel('$x_2$')\n",
    "ax2.set_zlabel('f($x_1$, $x_2$)');"
   ]
  },
  {
   "cell_type": "markdown",
   "metadata": {},
   "source": [
    "### Comments\n",
    "\n",
    "1. Libraries such as PyTorch and TensorFlow perform automatic differentiation, making it unnecessary to perform differentiation yourself.  These libraries allow for very complex architectures that would have been close to impossible otherwise.  Keras, which is an easy to use interface to TensorFlow, will be presented in a future notebook.\n",
    "\n",
    "2. There are many more types of neural network layers.  We will discuss a few in upcoming notebooks."
   ]
  },
  {
   "cell_type": "markdown",
   "metadata": {},
   "source": [
    "### Pros and cons of feed forward networks\n",
    "\n",
    "#### Pros\n",
    "\n",
    "- Highly flexible - you can choose almost every aspect of the architecture:  number of layers, number of neurons per layer, activation function, loss function, initialization, and many more.\n",
    "- Can provide high accuracy if you choose the right network architecture\n",
    "\n",
    "#### Cons\n",
    "\n",
    "- Training on a CPU can take a long time.  Solution:  GPUs/TPUs\n",
    "- Difficult to interpret\n",
    "- Many options to tweak means that selecting hyperparameters can be a challenge\n",
    "- Difficult to get better performance than random forests or support-vector machines.\n"
   ]
  },
  {
   "cell_type": "markdown",
   "metadata": {},
   "source": [
    "## References"
   ]
  },
  {
   "cell_type": "markdown",
   "metadata": {},
   "source": [
    "Rosenblatt, Frank. \"The perceptron: a probabilistic model for information storage and organization in the brain.\" Psychological review 65.6 (1958): 386."
   ]
  },
  {
   "cell_type": "markdown",
   "metadata": {},
   "source": [
    "Minsky, Marvin and Seymour Papert. Perceptrons: An Introduction to Computational Geometry.  The MIT Press, 1969."
   ]
  },
  {
   "cell_type": "markdown",
   "metadata": {},
   "source": [
    "Rumelhart, David E.; Hinton, Geoffrey E.; Williams, Ronald J. (1986). \"Learning Internal Representations by Error Propagation\". In Rumelhart, David E.; McClelland, James L. (eds.). Parallel Distributed Processing : Explorations in the Microstructure of Cognition. Volume 1 : Foundations. Cambridge: MIT Press."
   ]
  },
  {
   "cell_type": "markdown",
   "metadata": {},
   "source": [
    "### A more vectorized implementation\n",
    "\n",
    "Below you will find another implementation of the same simple neural network that introduces more vectorized computations."
   ]
  },
  {
   "cell_type": "code",
   "execution_count": 19,
   "metadata": {},
   "outputs": [],
   "source": [
    "def ReLU2(x):\n",
    "    return np.maximum(0, x)\n",
    "\n",
    "def ReLU_derivative2(x):\n",
    "    dy = np.ones(x.shape)\n",
    "    dy[x<0] = 0\n",
    "    return dy\n",
    "\n",
    "class neural_network2 :\n",
    "    def __init__(self, lr=0.01, epochs=100, random_state=42):\n",
    "        self.lr = lr\n",
    "        self.epochs = epochs\n",
    "        self.rng = default_rng(random_state)\n",
    "        # Initialize the weights to small random values\n",
    "        self.initialize_weights() \n",
    "        self.loss_history = []\n",
    "        # Use ReLU for the network's activation function\n",
    "        self.activation_function = ReLU2\n",
    "        self.activation_deriv = ReLU_derivative2\n",
    "        \n",
    "    def initialize_weights(self):\n",
    "        self.W = self.rng.normal(0, 0.1, (2, 2))\n",
    "        self.b = self.rng.normal(0, 0.1, (2, 1))\n",
    "        self.v = self.rng.normal(0, 0.1, (2))\n",
    "        self.c = self.rng.normal(0, 0.1, 1)\n",
    "               \n",
    "    def decision_function(self, X):\n",
    "        return np.dot(self.v,\n",
    "            self.activation_function(\n",
    "                np.dot(self.W, X.T) + self.b)) + self.c\n",
    "        \n",
    "    def gradient_step(self, X, y):\n",
    "        # we are using gradient descent and not SGD\n",
    "        # so we keep track of the old parameter values\n",
    "        # in order to avoid updating the weights\n",
    "        W = np.copy(self.W)\n",
    "        b = np.copy(self.b)\n",
    "        v = np.copy(self.v)\n",
    "        c = np.copy(self.c)\n",
    "        \n",
    "        for i in range(X.shape[0]):\n",
    "            x = X[i]\n",
    "            # calculate quantities of interest\n",
    "            pred = np.dot(v, self.activation_function(\n",
    "                np.dot(W, x).reshape(2, -1) + b)) + c\n",
    "            loss_derivative = 2*(pred - y[i])\n",
    "            h1 = self.activation_function(np.dot(W[0], x) + b[0])\n",
    "            h1_derivative = self.activation_deriv(np.dot(W[0], x) + b[0])\n",
    "            h2 = self.activation_function(np.dot(W[1], x) + b[1])\n",
    "            h2_derivative = self.activation_deriv(np.dot(W[1], x) + b[1])\n",
    "\n",
    "            # update weights using the contribution of example i to the\n",
    "            # gradient\n",
    "            self.v[0] -= self.lr*loss_derivative*h1\n",
    "            self.v[1] -= self.lr*loss_derivative*h2\n",
    "            self.c -= self.lr*loss_derivative\n",
    "            self.W[0] -= self.lr*loss_derivative*v[0]*h1_derivative*x\n",
    "            self.b[0] -= (self.lr*loss_derivative*v[0]*\n",
    "                          h1_derivative).reshape(-1)\n",
    "            self.W[1] -= self.lr*loss_derivative*v[1]*h2_derivative*x\n",
    "            self.b[1] -= (self.lr*loss_derivative*v[1]*\n",
    "                          h2_derivative).reshape(-1)\n",
    "  \n",
    "    def loss(self, X, y):\n",
    "        return np.mean((self.decision_function(X) - y)**2)\n",
    "  \n",
    "    def fit(self, X, y): \n",
    "        loss = self.loss(X, y)\n",
    "        self.loss_history.append(loss)   \n",
    "        for _ in range(self.epochs):\n",
    "            self.gradient_step(X, y)\n",
    "            self.loss_history.append(self.loss(X, y))\n",
    "         \n",
    "    def predict(self, X): \n",
    "        pred_prob = self.decision_function(X)\n",
    "        pred_class = np.where(pred_prob >= .5, 1, 0)\n",
    "        return np.squeeze(pred_class) \n"
   ]
  },
  {
   "cell_type": "code",
   "execution_count": 20,
   "metadata": {},
   "outputs": [
    {
     "name": "stdout",
     "output_type": "stream",
     "text": [
      "Seed: 10 yields training set accuracy: 0.750\n",
      "Seed: 11 yields training set accuracy: 0.750\n",
      "Seed: 12 yields training set accuracy: 0.500\n",
      "Seed: 13 yields training set accuracy: 0.500\n",
      "Seed: 14 yields training set accuracy: 0.750\n",
      "Seed: 15 yields training set accuracy: 0.500\n",
      "Seed: 16 yields training set accuracy: 1.000\n",
      "It took 7 trials to find a perfect solution\n"
     ]
    }
   ],
   "source": [
    "X = np.array([[0, 0], [1, 0], [0, 1], [1, 1]])\n",
    "y = np.array([1, 0, 0, 1])\n",
    "\n",
    "trials  = 9\n",
    "seed01  = 10\n",
    "success = False\n",
    "runs    = 0\n",
    "\n",
    "for i in range(seed01, seed01+trials) :\n",
    "    runs += 1\n",
    "    network = neural_network2(lr=0.05, epochs=300, random_state=i)\n",
    "    network.fit(X, y)\n",
    "    acc = np.mean(network.predict(X) == y)\n",
    "    print(f'Seed: {i} yields training set accuracy: {acc:1.3f}')\n",
    "    if acc == 1.0 :\n",
    "        success = True\n",
    "        break\n",
    "      \n",
    "if success :\n",
    "    print(f'It took {runs} trials to find a perfect solution')\n",
    "else :\n",
    "    print(f'No solution was found in {trials} trials')"
   ]
  }
 ],
 "metadata": {
  "kernelspec": {
   "display_name": "Python 3",
   "language": "python",
   "name": "python3"
  },
  "language_info": {
   "codemirror_mode": {
    "name": "ipython",
    "version": 3
   },
   "file_extension": ".py",
   "mimetype": "text/x-python",
   "name": "python",
   "nbconvert_exporter": "python",
   "pygments_lexer": "ipython3",
   "version": "3.7.10"
  }
 },
 "nbformat": 4,
 "nbformat_minor": 2
}