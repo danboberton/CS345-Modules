{
 "cells": [
  {
   "cell_type": "markdown",
   "metadata": {
    "id": "m-bY6GDAz8tw"
   },
   "source": [
    "# Linear Regression\n",
    "\n",
    "This notebook is part of  course materials for CS 345: Machine Learning Foundations and Practice at Colorado State University.\n",
    "Original versions were created by Asa Ben-Hur and updated by Ross Beveridge.\n",
    "\n",
    "Last Update 3/03/2022\n",
    "\n",
    "**The text is released under the [CC BY-SA license](https://creativecommons.org/licenses/by-sa/4.0/), and code is released under the [MIT license](https://opensource.org/licenses/MIT).*\n"
   ]
  },
  {
   "cell_type": "code",
   "execution_count": 15,
   "metadata": {
    "executionInfo": {
     "elapsed": 993,
     "status": "ok",
     "timestamp": 1614887781821,
     "user": {
      "displayName": "Ross Beveridge",
      "photoUrl": "https://lh3.googleusercontent.com/a-/AOh14GhZ9yfcROZXIKThWciv5reom6aDm1Spt-r8JOsVNA=s64",
      "userId": "11748907218223072510"
     },
     "user_tz": 420
    },
    "id": "JHCeEvV0z8t5"
   },
   "outputs": [],
   "source": [
    "import numpy as np\n",
    "import matplotlib.pyplot as plt\n",
    "%matplotlib inline\n",
    "\n",
    "from numpy.random import default_rng"
   ]
  },
  {
   "cell_type": "markdown",
   "metadata": {
    "id": "QQYBlpF-z8t6"
   },
   "source": [
    "## Part 1: Regression Basics\n",
    "\n",
    "*Adapted from Chapter 3 of [An Introduction to Statistical Learning](https://www.statlearning.com)*"
   ]
  },
  {
   "cell_type": "markdown",
   "metadata": {
    "id": "DEszEfifz8t7"
   },
   "source": [
    "### Regression problems"
   ]
  },
  {
   "cell_type": "markdown",
   "metadata": {
    "id": "dz9xJbJaz8t7"
   },
   "source": [
    "The two primary types of machine learning problems we will focus on in this course are:\n",
    "\n",
    "* **Classification problems:** supervised learning problems with a categorical response\n",
    "* **Regression problems**: supervised learning problems with a continuous response\n",
    "\n",
    "In this notebook we will learn one of the simplest methods for regression, namely **Linear regression**.\n",
    "\n",
    "Why learn linear regression?\n",
    "\n",
    "- Fast\n",
    "- Easy to use\n",
    "- Interpretable\n",
    "- Basis for many other methods\n"
   ]
  },
  {
   "cell_type": "markdown",
   "metadata": {
    "id": "fCTHUAkgz8t7"
   },
   "source": [
    "## Part 2: The Advertising Data"
   ]
  },
  {
   "cell_type": "markdown",
   "metadata": {
    "id": "qmTOGozwz8t8"
   },
   "source": [
    "To illustrate the concept of linear regression we will use a dataset that describes product sales as a function of advertising.\n",
    "\n",
    "What are the examples?\n",
    "\n",
    "- Each example represents a product in a given market with a total of 200 in the dataset.\n",
    "\n",
    "What are the features?\n",
    "\n",
    "- **TV:** advertising dollars spent on TV ads \n",
    "- **radio:** advertising dollars spent on radio ads\n",
    "- **newspaper:** advertising dollars spent on newspaper ads\n",
    "\n",
    "All expenditures are in **thousands** of dollars.\n",
    "\n",
    "What are the labels?\n",
    "\n",
    "- **sales:** sales of a product in a given market (in thousands of widgets)\n"
   ]
  },
  {
   "cell_type": "markdown",
   "metadata": {
    "id": "8YDZqgxwz8t8"
   },
   "source": [
    "**Note on Getting Data**\n",
    "\n",
    "The link to the original csv file on Gareth James' homepage is no longer active.  Student in CS 345 can obtain a local copy following the links on our Canvas course page. Please do not redistribut this data.  Once you get the file, place it in a `datasets` subfolder and proceed running this worksheet. You can also use this shortcut: [Advertising.csv](https://drive.google.com/file/d/1Vx_Wi-hddEHT7_XqZ5JGylTV5Q0YBXDn/view?usp=sharing)"
   ]
  },
  {
   "cell_type": "code",
   "execution_count": 16,
   "metadata": {
    "colab": {
     "base_uri": "https://localhost:8080/",
     "height": 426
    },
    "executionInfo": {
     "elapsed": 1485,
     "status": "error",
     "timestamp": 1614887782324,
     "user": {
      "displayName": "Ross Beveridge",
      "photoUrl": "https://lh3.googleusercontent.com/a-/AOh14GhZ9yfcROZXIKThWciv5reom6aDm1Spt-r8JOsVNA=s64",
      "userId": "11748907218223072510"
     },
     "user_tz": 420
    },
    "id": "DUst8Zf6z8t8",
    "outputId": "ba5263a8-d35e-4941-85fd-cb3e9c759bdc"
   },
   "outputs": [
    {
     "data": {
      "text/html": [
       "<div>\n",
       "<style scoped>\n",
       "    .dataframe tbody tr th:only-of-type {\n",
       "        vertical-align: middle;\n",
       "    }\n",
       "\n",
       "    .dataframe tbody tr th {\n",
       "        vertical-align: top;\n",
       "    }\n",
       "\n",
       "    .dataframe thead th {\n",
       "        text-align: right;\n",
       "    }\n",
       "</style>\n",
       "<table border=\"1\" class=\"dataframe\">\n",
       "  <thead>\n",
       "    <tr style=\"text-align: right;\">\n",
       "      <th></th>\n",
       "      <th>TV</th>\n",
       "      <th>Radio</th>\n",
       "      <th>Newspaper</th>\n",
       "      <th>Sales</th>\n",
       "    </tr>\n",
       "  </thead>\n",
       "  <tbody>\n",
       "    <tr>\n",
       "      <th>1</th>\n",
       "      <td>230.1</td>\n",
       "      <td>37.8</td>\n",
       "      <td>69.2</td>\n",
       "      <td>22.1</td>\n",
       "    </tr>\n",
       "    <tr>\n",
       "      <th>2</th>\n",
       "      <td>44.5</td>\n",
       "      <td>39.3</td>\n",
       "      <td>45.1</td>\n",
       "      <td>10.4</td>\n",
       "    </tr>\n",
       "    <tr>\n",
       "      <th>3</th>\n",
       "      <td>17.2</td>\n",
       "      <td>45.9</td>\n",
       "      <td>69.3</td>\n",
       "      <td>9.3</td>\n",
       "    </tr>\n",
       "    <tr>\n",
       "      <th>4</th>\n",
       "      <td>151.5</td>\n",
       "      <td>41.3</td>\n",
       "      <td>58.5</td>\n",
       "      <td>18.5</td>\n",
       "    </tr>\n",
       "    <tr>\n",
       "      <th>5</th>\n",
       "      <td>180.8</td>\n",
       "      <td>10.8</td>\n",
       "      <td>58.4</td>\n",
       "      <td>12.9</td>\n",
       "    </tr>\n",
       "  </tbody>\n",
       "</table>\n",
       "</div>"
      ],
      "text/plain": [
       "      TV  Radio  Newspaper  Sales\n",
       "1  230.1   37.8       69.2   22.1\n",
       "2   44.5   39.3       45.1   10.4\n",
       "3   17.2   45.9       69.3    9.3\n",
       "4  151.5   41.3       58.5   18.5\n",
       "5  180.8   10.8       58.4   12.9"
      ]
     },
     "execution_count": 16,
     "metadata": {},
     "output_type": "execute_result"
    }
   ],
   "source": [
    "# read data into a pandas DataFrame\n",
    "import pandas as pd\n",
    "data = pd.read_csv('datasets/Advertising.csv', index_col=0)\n",
    "data.head()"
   ]
  },
  {
   "cell_type": "code",
   "execution_count": 17,
   "metadata": {
    "executionInfo": {
     "elapsed": 1469,
     "status": "aborted",
     "timestamp": 1614887782318,
     "user": {
      "displayName": "Ross Beveridge",
      "photoUrl": "https://lh3.googleusercontent.com/a-/AOh14GhZ9yfcROZXIKThWciv5reom6aDm1Spt-r8JOsVNA=s64",
      "userId": "11748907218223072510"
     },
     "user_tz": 420
    },
    "id": "YfBzFpPOz8t-"
   },
   "outputs": [
    {
     "data": {
      "text/html": [
       "<div>\n",
       "<style scoped>\n",
       "    .dataframe tbody tr th:only-of-type {\n",
       "        vertical-align: middle;\n",
       "    }\n",
       "\n",
       "    .dataframe tbody tr th {\n",
       "        vertical-align: top;\n",
       "    }\n",
       "\n",
       "    .dataframe thead th {\n",
       "        text-align: right;\n",
       "    }\n",
       "</style>\n",
       "<table border=\"1\" class=\"dataframe\">\n",
       "  <thead>\n",
       "    <tr style=\"text-align: right;\">\n",
       "      <th></th>\n",
       "      <th>TV</th>\n",
       "      <th>Radio</th>\n",
       "      <th>Newspaper</th>\n",
       "      <th>Sales</th>\n",
       "    </tr>\n",
       "  </thead>\n",
       "  <tbody>\n",
       "    <tr>\n",
       "      <th>1</th>\n",
       "      <td>230.1</td>\n",
       "      <td>37.8</td>\n",
       "      <td>69.2</td>\n",
       "      <td>22.1</td>\n",
       "    </tr>\n",
       "    <tr>\n",
       "      <th>2</th>\n",
       "      <td>44.5</td>\n",
       "      <td>39.3</td>\n",
       "      <td>45.1</td>\n",
       "      <td>10.4</td>\n",
       "    </tr>\n",
       "    <tr>\n",
       "      <th>3</th>\n",
       "      <td>17.2</td>\n",
       "      <td>45.9</td>\n",
       "      <td>69.3</td>\n",
       "      <td>9.3</td>\n",
       "    </tr>\n",
       "    <tr>\n",
       "      <th>4</th>\n",
       "      <td>151.5</td>\n",
       "      <td>41.3</td>\n",
       "      <td>58.5</td>\n",
       "      <td>18.5</td>\n",
       "    </tr>\n",
       "    <tr>\n",
       "      <th>5</th>\n",
       "      <td>180.8</td>\n",
       "      <td>10.8</td>\n",
       "      <td>58.4</td>\n",
       "      <td>12.9</td>\n",
       "    </tr>\n",
       "    <tr>\n",
       "      <th>...</th>\n",
       "      <td>...</td>\n",
       "      <td>...</td>\n",
       "      <td>...</td>\n",
       "      <td>...</td>\n",
       "    </tr>\n",
       "    <tr>\n",
       "      <th>196</th>\n",
       "      <td>38.2</td>\n",
       "      <td>3.7</td>\n",
       "      <td>13.8</td>\n",
       "      <td>7.6</td>\n",
       "    </tr>\n",
       "    <tr>\n",
       "      <th>197</th>\n",
       "      <td>94.2</td>\n",
       "      <td>4.9</td>\n",
       "      <td>8.1</td>\n",
       "      <td>9.7</td>\n",
       "    </tr>\n",
       "    <tr>\n",
       "      <th>198</th>\n",
       "      <td>177.0</td>\n",
       "      <td>9.3</td>\n",
       "      <td>6.4</td>\n",
       "      <td>12.8</td>\n",
       "    </tr>\n",
       "    <tr>\n",
       "      <th>199</th>\n",
       "      <td>283.6</td>\n",
       "      <td>42.0</td>\n",
       "      <td>66.2</td>\n",
       "      <td>25.5</td>\n",
       "    </tr>\n",
       "    <tr>\n",
       "      <th>200</th>\n",
       "      <td>232.1</td>\n",
       "      <td>8.6</td>\n",
       "      <td>8.7</td>\n",
       "      <td>13.4</td>\n",
       "    </tr>\n",
       "  </tbody>\n",
       "</table>\n",
       "<p>200 rows × 4 columns</p>\n",
       "</div>"
      ],
      "text/plain": [
       "        TV  Radio  Newspaper  Sales\n",
       "1    230.1   37.8       69.2   22.1\n",
       "2     44.5   39.3       45.1   10.4\n",
       "3     17.2   45.9       69.3    9.3\n",
       "4    151.5   41.3       58.5   18.5\n",
       "5    180.8   10.8       58.4   12.9\n",
       "..     ...    ...        ...    ...\n",
       "196   38.2    3.7       13.8    7.6\n",
       "197   94.2    4.9        8.1    9.7\n",
       "198  177.0    9.3        6.4   12.8\n",
       "199  283.6   42.0       66.2   25.5\n",
       "200  232.1    8.6        8.7   13.4\n",
       "\n",
       "[200 rows x 4 columns]"
      ]
     },
     "execution_count": 17,
     "metadata": {},
     "output_type": "execute_result"
    }
   ],
   "source": [
    "data"
   ]
  },
  {
   "cell_type": "markdown",
   "metadata": {
    "id": "jk5QkE2sz8t-"
   },
   "source": [
    "### How can you help?\n",
    "\n",
    "You are asked by the company: On the basis of this data, how should we spend our advertising money?\n",
    "\n",
    "As their machine learning / data scientist, you offer more specific help:\n",
    "\n",
    "* Is there a relationship between ads and sales?\n",
    "* How strong is that relationship?\n",
    "* Which ad types contribute to sales?\n",
    "* What is the effect of each ad type on sales?\n",
    "* Given ad spending in a particular market, can sales be predicted?\n"
   ]
  },
  {
   "cell_type": "markdown",
   "metadata": {
    "id": "kR-y-j8_z8t_"
   },
   "source": [
    "## Part 3: Visualizing the data\n",
    "\n",
    "We'll use a **scatter plot** to visualize the relationship between the features and the labels. But first, a detail, here is an example of `iloc` used to access a single sample in the data frame."
   ]
  },
  {
   "cell_type": "code",
   "execution_count": 18,
   "metadata": {
    "executionInfo": {
     "elapsed": 1463,
     "status": "aborted",
     "timestamp": 1614887782319,
     "user": {
      "displayName": "Ross Beveridge",
      "photoUrl": "https://lh3.googleusercontent.com/a-/AOh14GhZ9yfcROZXIKThWciv5reom6aDm1Spt-r8JOsVNA=s64",
      "userId": "11748907218223072510"
     },
     "user_tz": 420
    },
    "id": "xlAp-GFYz8t_"
   },
   "outputs": [
    {
     "data": {
      "text/plain": [
       "TV           230.1\n",
       "Radio         37.8\n",
       "Newspaper     69.2\n",
       "Sales         22.1\n",
       "Name: 1, dtype: float64"
      ]
     },
     "execution_count": 18,
     "metadata": {},
     "output_type": "execute_result"
    }
   ],
   "source": [
    "data.iloc[0]"
   ]
  },
  {
   "cell_type": "code",
   "execution_count": 19,
   "metadata": {
    "executionInfo": {
     "elapsed": 1455,
     "status": "aborted",
     "timestamp": 1614887782319,
     "user": {
      "displayName": "Ross Beveridge",
      "photoUrl": "https://lh3.googleusercontent.com/a-/AOh14GhZ9yfcROZXIKThWciv5reom6aDm1Spt-r8JOsVNA=s64",
      "userId": "11748907218223072510"
     },
     "user_tz": 420
    },
    "id": "XHiKLZQJz8t_"
   },
   "outputs": [
    {
     "data": {
      "image/png": "[encoded data removed]",
      "text/plain": [
       "<Figure size 1008x360 with 3 Axes>"
      ]
     },
     "metadata": {
      "needs_background": "light"
     },
     "output_type": "display_data"
    }
   ],
   "source": [
    "fig, (ax1,ax2,ax3) = plt.subplots(1,3, figsize=(14, 5))\n",
    "ax1.scatter(data['TV'], data['Sales'], alpha=0.5)\n",
    "ax1.set_xlabel('TV Dollars')\n",
    "ax1.set_ylabel('Sales')\n",
    "ax2.scatter(data['Radio'], data['Sales'], alpha=0.5)\n",
    "ax2.set_xlabel('Radio Dollars')\n",
    "ax3.scatter(data['Newspaper'], data['Sales'], alpha=0.5)\n",
    "ax3.set_xlabel('Newspaper Dollars');"
   ]
  },
  {
   "cell_type": "markdown",
   "metadata": {
    "id": "rknXV9dsz8uA"
   },
   "source": [
    "We can quantify the relationships between variables by computing the correlation matrix. Keep in mind we are jumping over a lot of background and motivation which we will return to later. To learn more about just the functionality we are tapping into see [pandas.DataFrame.corr](https://pandas.pydata.org/pandas-docs/stable/reference/api/pandas.DataFrame.corr.html)"
   ]
  },
  {
   "cell_type": "markdown",
   "metadata": {},
   "source": [
    "## Part 4: Correlating Advertising to Sales\n",
    "\n",
    "Linear regrression is intimately related to the underlying concept of correlation. \n",
    "\n",
    "In simple English, how much does a dollar spent on advertising (e.g. TV) relate to an increase (or worst case a decrease) in widget sales?\n",
    "\n",
    "There are actually at least two very different parts to this question. \n",
    "\n",
    "The first involves **\"noise\"** and you can already see more \"noise\" in the Newspaper plot compared to the TV plot.\n",
    "\n",
    "The second involves the and actual expect rate of increased sales. This will come shortly as we begin fitting regression lines.\n",
    "\n",
    "For now, let us look at correlation more closely."
   ]
  },
  {
   "cell_type": "code",
   "execution_count": 20,
   "metadata": {
    "executionInfo": {
     "elapsed": 1447,
     "status": "aborted",
     "timestamp": 1614887782320,
     "user": {
      "displayName": "Ross Beveridge",
      "photoUrl": "https://lh3.googleusercontent.com/a-/AOh14GhZ9yfcROZXIKThWciv5reom6aDm1Spt-r8JOsVNA=s64",
      "userId": "11748907218223072510"
     },
     "user_tz": 420
    },
    "id": "V74PFBR3z8uA"
   },
   "outputs": [
    {
     "data": {
      "text/html": [
       "<div>\n",
       "<style scoped>\n",
       "    .dataframe tbody tr th:only-of-type {\n",
       "        vertical-align: middle;\n",
       "    }\n",
       "\n",
       "    .dataframe tbody tr th {\n",
       "        vertical-align: top;\n",
       "    }\n",
       "\n",
       "    .dataframe thead th {\n",
       "        text-align: right;\n",
       "    }\n",
       "</style>\n",
       "<table border=\"1\" class=\"dataframe\">\n",
       "  <thead>\n",
       "    <tr style=\"text-align: right;\">\n",
       "      <th></th>\n",
       "      <th>TV</th>\n",
       "      <th>Radio</th>\n",
       "      <th>Newspaper</th>\n",
       "      <th>Sales</th>\n",
       "    </tr>\n",
       "  </thead>\n",
       "  <tbody>\n",
       "    <tr>\n",
       "      <th>TV</th>\n",
       "      <td>1.000000</td>\n",
       "      <td>0.054809</td>\n",
       "      <td>0.056648</td>\n",
       "      <td>0.782224</td>\n",
       "    </tr>\n",
       "    <tr>\n",
       "      <th>Radio</th>\n",
       "      <td>0.054809</td>\n",
       "      <td>1.000000</td>\n",
       "      <td>0.354104</td>\n",
       "      <td>0.576223</td>\n",
       "    </tr>\n",
       "    <tr>\n",
       "      <th>Newspaper</th>\n",
       "      <td>0.056648</td>\n",
       "      <td>0.354104</td>\n",
       "      <td>1.000000</td>\n",
       "      <td>0.228299</td>\n",
       "    </tr>\n",
       "    <tr>\n",
       "      <th>Sales</th>\n",
       "      <td>0.782224</td>\n",
       "      <td>0.576223</td>\n",
       "      <td>0.228299</td>\n",
       "      <td>1.000000</td>\n",
       "    </tr>\n",
       "  </tbody>\n",
       "</table>\n",
       "</div>"
      ],
      "text/plain": [
       "                 TV     Radio  Newspaper     Sales\n",
       "TV         1.000000  0.054809   0.056648  0.782224\n",
       "Radio      0.054809  1.000000   0.354104  0.576223\n",
       "Newspaper  0.056648  0.354104   1.000000  0.228299\n",
       "Sales      0.782224  0.576223   0.228299  1.000000"
      ]
     },
     "execution_count": 20,
     "metadata": {},
     "output_type": "execute_result"
    }
   ],
   "source": [
    "# compute the correlation matrix\n",
    "data.corr()"
   ]
  },
  {
   "cell_type": "markdown",
   "metadata": {
    "id": "kjOaxo-9z8uB"
   },
   "source": [
    "Correlation is a quantification of the strength of the **linear** relationship between two variables.  \n",
    "\n",
    "We observe that the amount spent on TV ads is the most strongly correlated variable (predictive) relative to sales.\n",
    "\n",
    "Let's construct a model that predicts sales from TV ads alone.  First extract the necessary data:"
   ]
  },
  {
   "cell_type": "code",
   "execution_count": 21,
   "metadata": {
    "executionInfo": {
     "elapsed": 1440,
     "status": "aborted",
     "timestamp": 1614887782320,
     "user": {
      "displayName": "Ross Beveridge",
      "photoUrl": "https://lh3.googleusercontent.com/a-/AOh14GhZ9yfcROZXIKThWciv5reom6aDm1Spt-r8JOsVNA=s64",
      "userId": "11748907218223072510"
     },
     "user_tz": 420
    },
    "id": "3Ge02iBDz8uB"
   },
   "outputs": [
    {
     "data": {
      "text/plain": [
       "((200, 1), (200,))"
      ]
     },
     "execution_count": 21,
     "metadata": {},
     "output_type": "execute_result"
    }
   ],
   "source": [
    "# create feature matrix and vector of labels\n",
    "X = data[['TV']].values\n",
    "y = data['Sales'].values\n",
    "X.shape, y.shape"
   ]
  },
  {
   "cell_type": "code",
   "execution_count": 22,
   "metadata": {
    "executionInfo": {
     "elapsed": 1434,
     "status": "aborted",
     "timestamp": 1614887782321,
     "user": {
      "displayName": "Ross Beveridge",
      "photoUrl": "https://lh3.googleusercontent.com/a-/AOh14GhZ9yfcROZXIKThWciv5reom6aDm1Spt-r8JOsVNA=s64",
      "userId": "11748907218223072510"
     },
     "user_tz": 420
    },
    "id": "6iRhWKV9z8uC"
   },
   "outputs": [
    {
     "data": {
      "text/plain": [
       "array([[1.        , 0.78222442],\n",
       "       [0.78222442, 1.        ]])"
      ]
     },
     "execution_count": 22,
     "metadata": {},
     "output_type": "execute_result"
    }
   ],
   "source": [
    "np.corrcoef(X[:,0],y)"
   ]
  },
  {
   "cell_type": "markdown",
   "metadata": {},
   "source": [
    "## Deeper Dive into Correlation\n",
    "\n",
    "What is really going on here?  \n",
    "\n",
    "We can take this cacluation apart one more level and actually relate the correlation value to something we already understand - normalized vectors and dot products.  You may want to quickly glance at Wikipedia page on correlation as we jump in here. \n",
    "\n",
    "Working from the wikipedia page and adopting its notation, here is an equation that captures the formal definition of the sample correlation coefficient between two variables:\n",
    "\n",
    "$$\n",
    "r_{xy} = \\frac{\\sum_{i=1}^{n}{(x_i} - \\hat{x})(y_i - \\hat{y})}\n",
    "            {\\sqrt{\\sum_{i=1}^{n}{(x_i - \\hat{x})^2}\\sum_{i=1}^{n}{(y_i - \\hat{y})^2}}}\n",
    "$$\n",
    "\n",
    "But wait, here comes the very cool trick.  \n",
    "\n",
    "Look closely at the numerator.  What you see is the average of each vector $\\hat{x}$ is being subtracted from each sample.  What would happen if $\\hat{x}$ and $\\hat{y}$ were both zero?  The numerator would reduce to:\n",
    "\n",
    "$$\n",
    "\\sum_{i=1}^{n}{x^{\\prime}_i y^{\\prime}_i} = X^{\\prime} \\cdot Y^{\\prime} \n",
    "       \\;\\;\\; X^{\\prime} = X - \\hat{x} \\;\\;\\; Y^{\\prime} = Y - \\hat{y}\n",
    "$$\n",
    "\n",
    "In words, just the dot product between the vectors X and Y. Now in general the mean will not equal zero, but it is very easy to make a small adjustment such that the mean becomes zero. Just subtract the mean to produce a new vector like the first but with zero mean.\n",
    "\n",
    "Now look at the demoninator.  \n",
    "\n",
    "$$\n",
    "\\sqrt{\\sum_{i=1}^{n}{(x_i - \\hat{x})^2}\\sum_{i=1}^{n}{(y_i - \\hat{y})^2}}\n",
    "$$\n",
    "\n",
    "What you see is the product of the sample standard deviation for the X and Y vectors.  Image just for the moment that the sample standard deviation of the vectors just happened to be one. In that case, the entire denominator equals one and for that special case:\n",
    "\n",
    "$$\n",
    "r_{xy} = X^{\\prime\\prime} \\cdot Y^{\\prime\\prime} \\;\\;\\;\\;\\;\\;\n",
    "X^{\\prime\\prime} = \\frac{X^{\\prime}}{\\sqrt{\\sum_{i=1}^{n}{(x^{\\prime}_i)^2}}}  \\;\\;\\;\\;\n",
    "Y^{\\prime\\prime} = \\frac{Y^{\\prime}}{\\sqrt{\\sum_{i=1}^{n}{(y^{\\prime}_i)^2}}} \n",
    "$$\n",
    "\n",
    "Look closely at the way $X^{\\prime\\prime}$ is being defined.  The denominator is simply the length (magnitude) of the vector $X^{\\prime}$. \n",
    "\n",
    "Let us wrap this up with a summary of what we have done and then show how it works using the correlation calcuation already carried out by our tool package above.  To compute the correlation between two vectors following the following steps. First subract off the average (mean) value from each; $X^{\\prime}$ and $Y^{\\prime}$ above. Second, divde through each by the sample standard deviation; $X^{\\prime\\prime}$ and $Y^{\\prime\\prime}$ above. Third and last, take the dot product of the two resulting vectors."
   ]
  },
  {
   "cell_type": "code",
   "execution_count": 23,
   "metadata": {},
   "outputs": [
    {
     "data": {
      "text/plain": [
       "0.7822244248616064"
      ]
     },
     "execution_count": 23,
     "metadata": {},
     "output_type": "execute_result"
    }
   ],
   "source": [
    "Vector_A = X[:,0]\n",
    "Vector_B = y\n",
    "Vector_A_zm = Vector_A - np.mean(Vector_A)\n",
    "Vector_B_zm = Vector_B - np.mean(Vector_B)\n",
    "Vector_A_hat = Vector_A_zm / np.linalg.norm(Vector_A_zm)\n",
    "Vector_B_hat = Vector_B_zm / np.linalg.norm(Vector_B_zm)\n",
    "Vector_A_hat @ Vector_B_hat"
   ]
  },
  {
   "cell_type": "markdown",
   "metadata": {
    "id": "27E9uv1xz8uD"
   },
   "source": [
    "## Part 5: Linear Regression for TV Advertising to Sales\n",
    "\n",
    "So far you have a good understanding of how to measure the correlation between to sets of values captured in vectors $X$ and $Y$.  \n",
    "\n",
    "The sklearn library has an excellent prebuilt package for carrying out linear regression accross multiple independent variables. We will use tool to predict sales based upon where and how advertising dollars are spent.\n"
   ]
  },
  {
   "cell_type": "code",
   "execution_count": 24,
   "metadata": {
    "executionInfo": {
     "elapsed": 1426,
     "status": "aborted",
     "timestamp": 1614887782321,
     "user": {
      "displayName": "Ross Beveridge",
      "photoUrl": "https://lh3.googleusercontent.com/a-/AOh14GhZ9yfcROZXIKThWciv5reom6aDm1Spt-r8JOsVNA=s64",
      "userId": "11748907218223072510"
     },
     "user_tz": 420
    },
    "id": "7zgqxXo_z8uD"
   },
   "outputs": [
    {
     "data": {
      "text/plain": [
       "<matplotlib.legend.Legend at 0x7fa8e0d25b50>"
      ]
     },
     "execution_count": 24,
     "metadata": {},
     "output_type": "execute_result"
    },
    {
     "data": {
      "image/png": "[encoded data removed]",
      "text/plain": [
       "<Figure size 504x504 with 1 Axes>"
      ]
     },
     "metadata": {
      "needs_background": "light"
     },
     "output_type": "display_data"
    }
   ],
   "source": [
    "from sklearn.linear_model import LinearRegression\n",
    "\n",
    "# instantiate, fit, and predict:\n",
    "linreg = LinearRegression()\n",
    "linreg.fit(X, y)\n",
    "y_pred = linreg.predict(X)\n",
    "\n",
    "# plot the reslts\n",
    "fig = plt.figure(figsize=(7,7))\n",
    "ax  = fig.add_subplot(111)\n",
    "\n",
    "ax.scatter(X, y,  color='blue', alpha=0.5, label = 'data')\n",
    "ax.plot(X, y_pred, color='black', alpha=0.8,linewidth=2, label = 'model')\n",
    "ax.set_xlabel('TV Sales (thousand dollars)')\n",
    "ax.set_ylabel('Widgets Sales (in thousands)')\n",
    "ax.legend(loc=\"best\")"
   ]
  },
  {
   "cell_type": "markdown",
   "metadata": {
    "id": "RWofL3GIz8uD"
   },
   "source": [
    "### What is Linear Regression giving us?"
   ]
  },
  {
   "cell_type": "markdown",
   "metadata": {
    "id": "MCGlba1bz8uE"
   },
   "source": [
    "In one dimension, linear regression takes the following form:\n",
    "\n",
    "$$\n",
    "\\large\n",
    "y =  wx + b\n",
    "$$\n",
    "\n",
    "where:\n",
    "\n",
    "- $y$ is the sample value (label)\n",
    "- $x$ is the feature\n",
    "- $b$ is the bias, or intercept in this case\n",
    "- $w$ is the parameter corresponding to x\n",
    "\n",
    "$w$ and $b$ are the **model parameters**, which are learned during the training process.  \n",
    "\n",
    "The resulting model can then be used to predict the label, which in the context of regression, is also called the *response*.\n",
    "\n",
    "Note this example makes use of the sklearn [LinearRegression](https://scikit-learn.org/stable/modules/generated/sklearn.linear_model.LinearRegression.html) object\n"
   ]
  },
  {
   "cell_type": "markdown",
   "metadata": {},
   "source": [
    "### Explicitly Plot Prediction Line\n",
    "\n",
    "What about the TV Advertising (x) to Sales (y) analysis just run?\n",
    "\n",
    "Regression is giving us the best fit (more on fitting soon) line such that:\n",
    "\n",
    "$$\n",
    "\\large\n",
    "y =  wx + b\n",
    "$$\n",
    "\n",
    "The regression coefficient $w$ which corresponds to the TV feature has the following interpretation:\n",
    "\n",
    "- A unit increase in TV ad spending is associated with an increase of $w$ units in sales.\n",
    "- This is not a statement of **causation**.\n",
    "\n",
    "If an increase in TV ad spending was associated with a **decrease** in sales, $w$ would be **negative**.\n",
    "\n",
    "Now let us retrieve the model parameters explicitly calculate the linear regression line.\n",
    "\n",
    "We will show one example of how to put a change in predicitons into a simple English sentence and again plot the regression line. Note the regression line matches exactly what was shown above - as it should.\n"
   ]
  },
  {
   "cell_type": "code",
   "execution_count": 25,
   "metadata": {},
   "outputs": [
    {
     "name": "stdout",
     "output_type": "stream",
     "text": [
      "The w model parameter is 0.048\n",
      "The b model parameter is 7.033\n",
      "Increasing TV sales from 100 to 200 increases predicted sales from 11.8 to 16.5\n"
     ]
    },
    {
     "data": {
      "text/plain": [
       "<matplotlib.legend.Legend at 0x7fa8b1767210>"
      ]
     },
     "execution_count": 25,
     "metadata": {},
     "output_type": "execute_result"
    },
    {
     "data": {
      "image/png": "[encoded data removed]",
      "text/plain": [
       "<Figure size 504x504 with 1 Axes>"
      ]
     },
     "metadata": {
      "needs_background": "light"
     },
     "output_type": "display_data"
    }
   ],
   "source": [
    "# Go get the model parameters\n",
    "mp_w = linreg.coef_[0]\n",
    "mp_b = linreg.intercept_\n",
    "\n",
    "# Pring a short summary of parameters and example of prediction\n",
    "print(f'The w model parameter is {mp_w:.3f}')\n",
    "print(f'The b model parameter is {mp_b:.3f}')\n",
    "\n",
    "wsat_100 = mp_w * 100 + mp_b\n",
    "wsat_200 = mp_w * 200 + mp_b\n",
    "print(f'Increasing TV sales from 100 to 200 increases predicted sales from {wsat_100:.1f} to {wsat_200:.1f}')\n",
    "\n",
    "# Construct for a range of TV Sales values (x) the associated Widget sales (y)\n",
    "xs = np.linspace(0,300,num=100)\n",
    "ys = mp_w * xs + mp_b\n",
    "\n",
    "# plot the reslts\n",
    "fig = plt.figure(figsize=(7,7))\n",
    "ax  = fig.add_subplot(111)\n",
    "\n",
    "ax.scatter(X, y,  color='blue', alpha=0.5, label = 'data')\n",
    "ax.plot(xs, ys, color='darkgreen', alpha=0.8,linewidth=2, label = 'model')\n",
    "ax.set_xlabel('TV Sales (thousand dollars)')\n",
    "ax.set_ylabel('Widgets Sales (in thousands)')\n",
    "ax.legend(loc=\"best\")"
   ]
  },
  {
   "cell_type": "markdown",
   "metadata": {},
   "source": [
    "## Part 6: Fitting Revealed\n",
    "\n",
    "Note we've already grown used to the term \"fit\" as describing the process of building a model from training data.  This actually was a bit strange for nearest neighbor.  Now we see how very literally the model is fit to the data. N"
   ]
  },
  {
   "cell_type": "code",
   "execution_count": 26,
   "metadata": {
    "executionInfo": {
     "elapsed": 1419,
     "status": "aborted",
     "timestamp": 1614887782321,
     "user": {
      "displayName": "Ross Beveridge",
      "photoUrl": "https://lh3.googleusercontent.com/a-/AOh14GhZ9yfcROZXIKThWciv5reom6aDm1Spt-r8JOsVNA=s64",
      "userId": "11748907218223072510"
     },
     "user_tz": 420
    },
    "hideCode": false,
    "hidePrompt": false,
    "id": "UQD_jNqoz8uE"
   },
   "outputs": [
    {
     "data": {
      "image/png": "[encoded data removed]",
      "text/plain": [
       "<Figure size 504x504 with 1 Axes>"
      ]
     },
     "metadata": {
      "needs_background": "light"
     },
     "output_type": "display_data"
    }
   ],
   "source": [
    "def regression_revealed(seed=5,equation=True) :\n",
    "    from numpy.random import default_rng\n",
    "    rng = default_rng(seed)\n",
    "    nsamples = 15\n",
    "    xmax = 20\n",
    "    slope = 0.5\n",
    "    intersept = 5\n",
    "    sigma = 3\n",
    "    x = xmax * rng.random(nsamples)\n",
    "    y = slope * x + intersept + rng.standard_normal(nsamples) * sigma\n",
    "    #x = 10 * rng.random(15)\n",
    "    #y = 2 * x - 5 + rng.standard_normal(15)* 5\n",
    "\n",
    "    # instantiate and fit\n",
    "    model = LinearRegression()\n",
    "    model.fit(x[:, np.newaxis], y)\n",
    "\n",
    "    # data for plotting the regression line\n",
    "    xs = np.linspace(0, xmax, 1000)\n",
    "    ys = model.predict(xs[:, np.newaxis])\n",
    "\n",
    "    # plot the regression line\n",
    "    fig = plt.figure(figsize=(7,7))\n",
    "    ax = fig.add_subplot(111)\n",
    "    ax.set_aspect('equal')\n",
    "    ax.scatter(x, y, alpha=0.5)\n",
    "    ax.plot(xs, ys)\n",
    "    ax.set_xlabel('x', fontsize = 14)\n",
    "    ax.set_ylabel('y', fontsize = 14)\n",
    "    ax.set_xlim(-1, xmax+1)\n",
    "    ax.set_ylim(-1, xmax+1)\n",
    "    \n",
    "    # the predictions over the training data\n",
    "    y_hat = model.predict(x[:, np.newaxis])\n",
    "\n",
    "    for i in range(len(x)):\n",
    "        ax.arrow(x[i],y_hat[i], 0, y[i]-y_hat[i],color='red')  \n",
    "    if equation :\n",
    "        lnpos = 175\n",
    "        ax.text(5, 3.5, r'$y_i-\\hat{y}_i$', fontsize = 18);\n",
    "        ax.annotate(r'$\\hat{y} = wx + b$', fontsize=18, xy=(xs[lnpos], ys[lnpos]), \n",
    "                     xytext=(xs[lnpos]-2.55, ys[lnpos]+7),\n",
    "                     arrowprops=dict(facecolor='black',width=1,headwidth=6));\n",
    "    return None\n",
    "\n",
    "regression_revealed()"
   ]
  },
  {
   "cell_type": "code",
   "execution_count": 27,
   "metadata": {
    "executionInfo": {
     "elapsed": 1419,
     "status": "aborted",
     "timestamp": 1614887782321,
     "user": {
      "displayName": "Ross Beveridge",
      "photoUrl": "https://lh3.googleusercontent.com/a-/AOh14GhZ9yfcROZXIKThWciv5reom6aDm1Spt-r8JOsVNA=s64",
      "userId": "11748907218223072510"
     },
     "user_tz": 420
    },
    "hideCode": false,
    "hidePrompt": false,
    "id": "UQD_jNqoz8uE"
   },
   "outputs": [
    {
     "data": {
      "image/png": "[encoded data removed]",
      "text/plain": [
       "<Figure size 504x504 with 1 Axes>"
      ]
     },
     "metadata": {
      "needs_background": "light"
     },
     "output_type": "display_data"
    }
   ],
   "source": [
    "def regression_revealed_2(seed=5,equation=True) :\n",
    "    from numpy.random import default_rng\n",
    "    rng = default_rng(seed)\n",
    "    nsamples = 15\n",
    "    xmax = 20\n",
    "    slope = 0.5\n",
    "    intersept = 5\n",
    "    sigma = 0.7\n",
    "    x = xmax * rng.random(nsamples)\n",
    "    y = slope * x + intersept + rng.standard_normal(nsamples) * sigma\n",
    "    #x = 10 * rng.random(15)\n",
    "    #y = 2 * x - 5 + rng.standard_normal(15)* 5\n",
    "\n",
    "    # instantiate and fit\n",
    "    model = LinearRegression()\n",
    "    model.fit(x[:, np.newaxis], y)\n",
    "\n",
    "    # data for plotting the regression line\n",
    "    xs = np.linspace(0, xmax, 1000)\n",
    "    ys = model.predict(xs[:, np.newaxis])\n",
    "\n",
    "    # plot the regression line\n",
    "    fig = plt.figure(figsize=(7,7))\n",
    "    ax = fig.add_subplot(111)\n",
    "    ax.set_aspect('equal')\n",
    "    ax.scatter(x, y, alpha=0.5)\n",
    "    ax.plot(xs, ys)\n",
    "    ax.set_xlabel('x', fontsize = 14)\n",
    "    ax.set_ylabel('y', fontsize = 14)\n",
    "    ax.set_xlim(-1, xmax+1)\n",
    "    ax.set_ylim(-1, xmax+1)\n",
    "    \n",
    "    # the predictions over the training data\n",
    "    y_hat = model.predict(x[:, np.newaxis])\n",
    "\n",
    "    for i in range(len(x)):\n",
    "        ax.arrow(x[i],y_hat[i], 0, y[i]-y_hat[i],color='red')  \n",
    "    if equation :\n",
    "        lnpos = 175\n",
    "        ax.text(5, 3.5, r'$y_i-\\hat{y}_i$', fontsize = 18);\n",
    "        ax.annotate(r'$\\hat{y} = wx + b$', fontsize=18, xy=(xs[lnpos], ys[lnpos]), \n",
    "                     xytext=(xs[lnpos]-2.55, ys[lnpos]+7),\n",
    "                     arrowprops=dict(facecolor='black',width=1,headwidth=6));\n",
    "    return None\n",
    "\n",
    "regression_revealed_2()"
   ]
  },
  {
   "cell_type": "markdown",
   "metadata": {
    "id": "fLbyuq64z8uF"
   },
   "source": [
    "### Learning the model \n",
    "\n",
    "- Coefficients are estimated during the model fitting process using the **least squares criterion**.\n",
    "- We seek to find the line that minimizes the **sum of squared error** illustrated in the figure above.\n",
    "\n",
    "In this figure:\n",
    "\n",
    "- The dots are the **observed values** of x and y.\n",
    "- The blue line is the **least squares line**.\n",
    "- The red lines are the **residuals**, which are the distances between the observed values and the least squares line."
   ]
  },
  {
   "cell_type": "markdown",
   "metadata": {
    "id": "J3FRLVQQz8uF"
   },
   "source": [
    "How do the model parameters relate to the least squares line?\n",
    "\n",
    "- $w$ is the **slope**\n",
    "- $b$ is the **intercept** (the value of $y$ when $x$=0)\n",
    "\n",
    "The parameters $(w,b)$ are chosen as to minimize the sum-squared error:\n",
    "$$\n",
    "J( w,b ) = \\sum_{i=1}^N (y_i - \\hat{y}_i)^2,\n",
    "$$\n",
    "\n",
    "where $y_i$ are the known labels and $\\hat{y}_i = w x_i + b$ are the predicted labels."
   ]
  },
  {
   "cell_type": "markdown",
   "metadata": {
    "id": "hUV3Py9Lz8uH"
   },
   "source": [
    "### Mass Spring Metaphor\n",
    "\n",
    "There is a useful and common metaphor from Physics to motivate least squares fitting in general and linear regression in this particular case. In the following figure now think of each red line as representing a spring.  Each spring is pulling the line up or down proportional to how much the string is streched. The least energy state for the line is that which minimizes the sum of squared lengths of the springs, and note that is equivalent to the mathematical formulation above.  In other words, if you like, you may think of the regression line as the solution to a physical problem - where does the line end up after it comes to rest and is minimizing all the push/pull forces assocated with the sample data points."
   ]
  },
  {
   "cell_type": "code",
   "execution_count": 28,
   "metadata": {
    "executionInfo": {
     "elapsed": 1391,
     "status": "aborted",
     "timestamp": 1614887782323,
     "user": {
      "displayName": "Ross Beveridge",
      "photoUrl": "https://lh3.googleusercontent.com/a-/AOh14GhZ9yfcROZXIKThWciv5reom6aDm1Spt-r8JOsVNA=s64",
      "userId": "11748907218223072510"
     },
     "user_tz": 420
    },
    "id": "1CAlFDLFz8uH"
   },
   "outputs": [
    {
     "data": {
      "image/png": "[encoded data removed]",
      "text/plain": [
       "<Figure size 504x504 with 1 Axes>"
      ]
     },
     "metadata": {
      "needs_background": "light"
     },
     "output_type": "display_data"
    }
   ],
   "source": [
    "regression_revealed(seed=9,equation=False)"
   ]
  },
  {
   "cell_type": "markdown",
   "metadata": {
    "id": "LeJTq-Phz8uI"
   },
   "source": [
    "### and because one must ...\n",
    "\n",
    "Correlation is a very big intellectual deal and is a jumping off point for a lot of thought and sometimes argument.  As just a teaser, consider the XKCD take on [Correlation](https://xkcd.com/552/)"
   ]
  }
 ],
 "metadata": {
  "anaconda-cloud": {},
  "colab": {
   "name": "module03_01_linear_regression.ipynb",
   "provenance": []
  },
  "kernelspec": {
   "display_name": "Python 3",
   "language": "python",
   "name": "python3"
  },
  "language_info": {
   "codemirror_mode": {
    "name": "ipython",
    "version": 3
   },
   "file_extension": ".py",
   "mimetype": "text/x-python",
   "name": "python",
   "nbconvert_exporter": "python",
   "pygments_lexer": "ipython3",
   "version": "3.7.10"
  }
 },
 "nbformat": 4,
 "nbformat_minor": 1
}
