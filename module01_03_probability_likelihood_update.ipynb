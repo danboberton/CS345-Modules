{
 "cells": [
  {
   "cell_type": "markdown",
   "metadata": {
    "id": "YDKxiqjoHljF"
   },
   "source": [
    "# Basics of Probability and Likelihood\n",
    "\n",
    "Throughout machine learning terms like probaility, a-posterior probability, likelihood and odds ratio crop up.  Actually understanding the interplayb between these related concepts can at first be difficult. Matters are not made simpler by the reality that in real-world applications information assumed by a rigorous application of these ideas lie beyond our reach.\n",
    "\n",
    "For these reasons, this notebook creates a clean closed-world exampler were all the key elements are fully defined and this toy example is then useful as a means to clarify the interlocking pieces. \n",
    "\n",
    "\n",
    "Last Update 2/15/2022\n",
    "\n",
    "**The text is released under the [CC BY-SA license](https://creativecommons.org/licenses/by-sa/4.0/), and code is released under the [MIT license](https://opensource.org/licenses/MIT).*\n"
   ]
  },
  {
   "cell_type": "code",
   "execution_count": 1,
   "metadata": {
    "id": "UQ0WZTQ8HljO"
   },
   "outputs": [],
   "source": [
    "import numpy as np\n",
    "import math as math\n",
    "import matplotlib.pyplot as plt"
   ]
  },
  {
   "cell_type": "markdown",
   "metadata": {},
   "source": [
    "# Part 1: The Binomial Distribution\n",
    "\n",
    "The binomial distribution often takes center stage in situations where there are two possible outcomes and multiple independent samples are avaialble.  The common practical introduction to binomial distributions starts with a discussion of coin tossing.  \n",
    "\n",
    "Consider tossing a fair coin 10 times. What is the probability of seeing heads exactly 5 times?\n",
    "\n",
    "To begin, here is the probability mass function for the binomial distribution which gives us the exact answer to our question.\n",
    "\n",
    "$$\n",
    "P(k ; N, p) \\; = \\:\n",
    "{{N}\\choose{k}} p^{k} ( 1 - p )^{N-k}\n",
    "$$\n",
    "\n",
    "In this equation $N$ is the total number of trials, i.e. coin tosses. The value $k$ is the number of successes, i.e. times the coins comes up heads. The value of $p$ is the probability of success, i.e. probability the coin comes up heads on single toss. "
   ]
  },
  {
   "cell_type": "code",
   "execution_count": 2,
   "metadata": {},
   "outputs": [
    {
     "data": {
      "text/plain": [
       "0.0"
      ]
     },
     "execution_count": 2,
     "metadata": {},
     "output_type": "execute_result"
    }
   ],
   "source": [
    "def n_choose_k (n,k) :\n",
    "    res = math.factorial(n) // (math.factorial(k) * math.factorial(n-k))\n",
    "    return res\n",
    "    \n",
    "def binomial_mass_function(k, n, p) :\n",
    "    res = n_choose_k(n,k) * pow(p,k) * pow(1 - p, n - k)\n",
    "    return res\n",
    "    \n",
    "foo = binomial_mass_function(1, 10**4, 0.5)\n",
    "foo"
   ]
  },
  {
   "cell_type": "markdown",
   "metadata": {},
   "source": [
    "The answer to our question is that the probability of observing exactly $5$ heads in $10$ tosses for a fair coin is close to $25$ out of $100$ - or $0.25$\n",
    "\n",
    "If you wish this may be a good point further review the [binomial distribution probability mass function](https://en.wikipedia.org/wiki/Binomial_distribution). "
   ]
  },
  {
   "cell_type": "markdown",
   "metadata": {},
   "source": [
    "## Digression about Precision\n",
    "\n",
    "The following may be a bit of overkill, but binomial distributions quickly raise interesting practical questions about probabilities and calculations. With that in mind, here is a variant on the standard form given above but in such a way that Python's ability to work with very large integers and true fractions helps us avoid floating point precision questions (entirely)\n",
    "\n",
    "$$\n",
    "P(k ; N, a, b) \\; = \\: \\frac{{{N}\\choose{k}}a^{k} ( b - a )^{N-k}}{b^{N}} \n",
    "\\;\\; \\hbox{where} \n",
    "\\;\\; p = \\frac{a}{b}\n",
    "$$"
   ]
  },
  {
   "cell_type": "code",
   "execution_count": 3,
   "metadata": {},
   "outputs": [
    {
     "name": "stdout",
     "output_type": "stream",
     "text": [
      "The probability is 63 / 256 - as a float 0.24609375\n"
     ]
    }
   ],
   "source": [
    "from fractions import Fraction\n",
    "\n",
    "def binomial_mass_function_rational(k, n, a, b) :\n",
    "    num = n_choose_k(n,k) * pow(a,k) * pow(b - a, n - k)\n",
    "    den = pow(b,n)\n",
    "    return Fraction(num,den)\n",
    "    \n",
    "#rat = binomial_mass_function_rational(5, 10, 1, 2)\n",
    "rat = binomial_mass_function_rational(5, 10, 1, 2)\n",
    "print(f'The probability is {rat.numerator} / {rat.denominator} - as a float {float(rat):10.8f}' )"
   ]
  },
  {
   "cell_type": "markdown",
   "metadata": {},
   "source": [
    "So far this may not to seem important, but in general realize that the probability of any particular outcome starts to become very small even for apparently simple problems.  Let us illustrate with a slight variant upon the above question.\n",
    "\n",
    "What is the probability of seeing heads only once in $100$ tosses of a fair coin?"
   ]
  },
  {
   "cell_type": "code",
   "execution_count": 4,
   "metadata": {},
   "outputs": [
    {
     "name": "stdout",
     "output_type": "stream",
     "text": [
      "The probability is 25 / 316912650057057350374175801344 - as a float 0.00000000\n"
     ]
    }
   ],
   "source": [
    "rat = binomial_mass_function_rational(1, 10**2, 1, 2)\n",
    "rat_float = float(rat)\n",
    "print(f'The probability is {rat.numerator} / {rat.denominator} - as a float {rat_float:10.8f}' )"
   ]
  },
  {
   "cell_type": "markdown",
   "metadata": {},
   "source": [
    "Take away from this little example that just because a probability of an outcome is terribly small do not confuse it with impossible.\n",
    "\n",
    "The set of all possible outcomes, and yes I will speak of this as the set $\\Omega$ is itself a key concept.  Why?  Because on feature of a probability is that the sum of the probability over the space of all possible outcomes $\\Omega$ must be one.  \n",
    "\n",
    "With this constraint in mind, consider again the floating point versus rational number approach to computing the binomial mass funciton. "
   ]
  },
  {
   "cell_type": "code",
   "execution_count": 5,
   "metadata": {},
   "outputs": [
    {
     "data": {
      "text/plain": [
       "Fraction(1, 1)"
      ]
     },
     "execution_count": 5,
     "metadata": {},
     "output_type": "execute_result"
    }
   ],
   "source": [
    "foo = [binomial_mass_function_rational(i,100,1,2) for i in range(101)]\n",
    "addem = foo[0]\n",
    "for i in range(1,101) :\n",
    "    addem = addem + foo[i]\n",
    "addem"
   ]
  },
  {
   "cell_type": "markdown",
   "metadata": {},
   "source": [
    "And while it may not seem like a big deal - here is the equivalent calcuation using our original setup in which probabilities were returned as floating point numbers.  Close, but not identical."
   ]
  },
  {
   "cell_type": "code",
   "execution_count": 6,
   "metadata": {},
   "outputs": [
    {
     "data": {
      "text/plain": [
       "1.0000000000000002"
      ]
     },
     "execution_count": 6,
     "metadata": {},
     "output_type": "execute_result"
    }
   ],
   "source": [
    "foo = [binomial_mass_function(i,100,1/2) for i in range(101)]\n",
    "addem = foo[0]\n",
    "for i in range(1,101) :\n",
    "    addem = addem + foo[i]\n",
    "addem"
   ]
  },
  {
   "cell_type": "markdown",
   "metadata": {},
   "source": [
    "# Overview: Reasoning from First Principals\n",
    "\n",
    "We are about to do several things at once. \n",
    "\n",
    "From a very pragmatic side the next step is to go from our way of correctly computing the probability of $k$ heads in $n$ trials with a coin whose proability of heads on a given trial is $a$ divided by $b$.  \n",
    "\n",
    "However, we doing this as a step along the path to working out optimal deicsion rules for problems where the underlying behavior is perfectly known. In other words, we will reason from first prinicipals based upon the assumption that our task involves fair (and unfair) coins. "
   ]
  },
  {
   "cell_type": "markdown",
   "metadata": {},
   "source": [
    "# Part 2: A Fair and an Unfair Coin \n",
    "\n",
    "Here are the probability mass functions for both a fair ($p=\\frac{1}{2}$) and an unfair ($p=\\frac{1}{5}$) coin. "
   ]
  },
  {
   "cell_type": "code",
   "execution_count": 7,
   "metadata": {},
   "outputs": [
    {
     "name": "stdout",
     "output_type": "stream",
     "text": [
      "Probabilities for outcomes zero to n heads:\n",
      " [0.001  0.0098 0.0439 0.1172 0.2051 0.2461 0.2051 0.1172 0.0439 0.0098\n",
      " 0.001 ]\n"
     ]
    },
    {
     "data": {
      "image/png": "[encoded data removed]",
      "text/plain": [
       "<Figure size 576x432 with 1 Axes>"
      ]
     },
     "metadata": {
      "needs_background": "light"
     },
     "output_type": "display_data"
    }
   ],
   "source": [
    "tosses = 10; a = 1; b = 2\n",
    "mass = np.array([float(binomial_mass_function_rational(i,tosses,a,b)) for i in range(tosses+1)])\n",
    "np.set_printoptions(precision=4)\n",
    "print(f'Probabilities for outcomes zero to n heads:\\n {mass}')\n",
    "\n",
    "fig = plt.figure(figsize=(8, 6))\n",
    "plt.bar(np.arange(tosses+1),mass,color='darkgreen')\n",
    "plt.xlabel('Number of Heads',fontsize=12);\n",
    "plt.ylabel('Probability', fontsize=12);"
   ]
  },
  {
   "cell_type": "markdown",
   "metadata": {},
   "source": [
    "What if the coins is not fair. In other words, it only comes up heads one out of five times?"
   ]
  },
  {
   "cell_type": "code",
   "execution_count": 8,
   "metadata": {},
   "outputs": [
    {
     "name": "stdout",
     "output_type": "stream",
     "text": [
      "Probabilities for outcomes zero to n heads:\n",
      " [1.0737e-01 2.6844e-01 3.0199e-01 2.0133e-01 8.8080e-02 2.6424e-02\n",
      " 5.5050e-03 7.8643e-04 7.3728e-05 4.0960e-06 1.0240e-07]\n"
     ]
    },
    {
     "data": {
      "image/png": "[encoded data removed]",
      "text/plain": [
       "<Figure size 576x432 with 1 Axes>"
      ]
     },
     "metadata": {
      "needs_background": "light"
     },
     "output_type": "display_data"
    }
   ],
   "source": [
    "tosses = 10; a = 1; b = 5\n",
    "mass = np.array([float(binomial_mass_function_rational(i,tosses,a,b)) for i in range(tosses+1)])\n",
    "np.set_printoptions(precision=4)\n",
    "print(f'Probabilities for outcomes zero to n heads:\\n {mass}')\n",
    "\n",
    "fig = plt.figure(figsize=(8, 6))\n",
    "plt.bar(np.arange(tosses+1),mass,color='darkred')\n",
    "plt.xlabel('Number of Heads',fontsize=12);\n",
    "plt.ylabel('Probability', fontsize=12);"
   ]
  },
  {
   "cell_type": "markdown",
   "metadata": {},
   "source": [
    "# Part 3: A Gambling Game\n",
    "\n",
    "At the risk of gross oversimplification, machine learning is about using data to create strategies for intelligently guessing a label or a value. While perhaps a bit simplistic, this view quickly motivates some very important concepts which includ Bayes rule, Maximum A-Posteri estimation, Maximum Likelihood and finally odds ratios.  \n",
    "\n",
    "However, let us start off with some sound commmon sense reasoning about the following game.\n",
    "\n",
    "Here is how one round of the game is played. \n",
    "\n",
    "1. I am going to pick at random either a fair coin ($p = \\frac{1}{2}$) or an unfair coind ($p = \\frac{1}{5}$. I will then proceed to toss it $10$ times and we will both observe the number of times it comes up heads ($k$ observed). \n",
    "\n",
    "2. You must guess if the coin I picked at random is fair or unfair. If you guess correctly I give you a dollar, otherwise you give me a dollar.\n",
    "\n",
    "We can play this game for as many rounds as you like - within reason and the limits of computer and simulation - and of course what matters is whether you can devise a strategy to win money."
   ]
  },
  {
   "cell_type": "markdown",
   "metadata": {},
   "source": [
    "## Simulating Game Play\n",
    "\n",
    "In order to write the code to simulate game and different strategies we begin my taking advantage of the capabilities built into the NumPy random number generator."
   ]
  },
  {
   "cell_type": "code",
   "execution_count": 9,
   "metadata": {},
   "outputs": [],
   "source": [
    "def tosses_heads (n, p) :\n",
    "    rng = np.random.default_rng()\n",
    "    cnt = np.sum(rng.random(10) > (1 - p) )\n",
    "    return cnt\n",
    "\n",
    "def trial_10_fair () : return tosses_heads(10, 1/2)\n",
    "\n",
    "def trial_10_unfair () : return tosses_heads(10, 1/5)"
   ]
  },
  {
   "cell_type": "markdown",
   "metadata": {},
   "source": [
    "Let us use the above to the outcomes of 100 games using only a fair coin."
   ]
  },
  {
   "cell_type": "code",
   "execution_count": 10,
   "metadata": {},
   "outputs": [
    {
     "name": "stdout",
     "output_type": "stream",
     "text": [
      "Game Outcomes:\n",
      "[8 3 9 4 6 3 5 5 4 5 3 4 4 3 5 4 4 3 6 6 6 8 5 5 6 4 4 8 5 6 7 6 8 4 4 7 3\n",
      " 5 6 5 4 5 5 4 5 4 5 7 3 6 6 6 3 5 4 4 3 3 6 6 9 3 6 4 5 6 5 3 4 7 3 7 5 3\n",
      " 5 6 2 7 6 3 2 7 7 3 5 7 6 5 5 8 1 6 4 5 5 4 7 4 4 7]\n",
      "Count of Outcomes:\n",
      "[ 0  1  2 16 21 23 19 11  5  2  0]\n",
      "Fewest and most heads seen: 1 and 9\n"
     ]
    }
   ],
   "source": [
    "tosses = 10; n_games = 10**2\n",
    "data = np.array([trial_10_fair() for i in range(n_games)])\n",
    "sumc = np.bincount(data,minlength=tosses+1)\n",
    "print(f'Game Outcomes:\\n{data}')\n",
    "print(f'Count of Outcomes:\\n{sumc}')\n",
    "print(f'Fewest and most heads seen: {np.min(data)} and {np.max(data)}')\n",
    "None"
   ]
  },
  {
   "cell_type": "markdown",
   "metadata": {},
   "source": [
    "Now let us look at the probability mass function - curve plot - and the actual empirical results over different numbers ofgames. \n",
    "\n",
    "As the number of games increases what we observe comes closer to what we exepct based upon how we constructed the game in the first place."
   ]
  },
  {
   "cell_type": "markdown",
   "metadata": {},
   "source": [
    "### An Asside about Code for Plotting\n",
    "\n",
    "You see below that the two plots are sufficiently similar that a function was written to generate each - thus highlighitng what is common and making changes to each simpler. As you coding skills develop you should aspire simplify and consolidate code in this manner. However, do not confuse the final product with how it came to be. Rest assured the instructor first wrote the brute force longer version and got it working - and only then did the more consolidated version you see here get written. "
   ]
  },
  {
   "cell_type": "code",
   "execution_count": 11,
   "metadata": {},
   "outputs": [],
   "source": [
    "def gen_plot_theory_samples (ax, tosses, n_games, mass, freq, fair_p) :\n",
    "    '''This function creates a plot where the empirical observation of number of heads \n",
    "    is shown in comparison to probability from first principals.\n",
    "    The function is designed to readily generate similar plots \n",
    "    for fair and unfair coins.'''\n",
    "    title_swap = ' Fair ' if fair_p else ' Unfair ' \n",
    "    base_color = 'darkgreen' if fair_p else 'darkred'\n",
    "    ax.scatter(np.arange(tosses+1),mass,color=base_color,marker='_',s=300.0)\n",
    "    ax.bar(np.arange(tosses+1),freq,color=base_color,alpha=0.5)\n",
    "    ax.set_title(\"{:,}\".format(n_games) + ' Games' + title_swap + 'Coin',fontsize=14)\n",
    "    ax.set_xlabel('Number of Heads',fontsize=12);\n",
    "    ax.set_ylabel('Probability / Frequency', fontsize=12);\n",
    "    pass"
   ]
  },
  {
   "cell_type": "code",
   "execution_count": 12,
   "metadata": {},
   "outputs": [
    {
     "data": {
      "image/png": "[encoded data removed]",
      "text/plain": [
       "<Figure size 864x432 with 2 Axes>"
      ]
     },
     "metadata": {
      "needs_background": "light"
     },
     "output_type": "display_data"
    }
   ],
   "source": [
    "n_games = 10**3; tosses = 10\n",
    "\n",
    "a = 1; b = 2\n",
    "mass = np.array([float(binomial_mass_function_rational(i,tosses,a,b)) for i in range(tosses+1)])\n",
    "data = np.array([trial_10_fair() for i in range(n_games)])\n",
    "freq = np.bincount(data,minlength=tosses+1)/n_games\n",
    "\n",
    "fig, ax = plt.subplots(1,2, figsize=(12, 6))\n",
    "gen_plot_theory_samples(ax[0], tosses, n_games, mass, freq, True)\n",
    "\n",
    "a = 1; b = 5\n",
    "mass = np.array([float(binomial_mass_function_rational(i,tosses,a,b)) for i in range(tosses+1)])\n",
    "data = np.array([trial_10_unfair() for i in range(n_games)])\n",
    "freq = np.bincount(data,minlength=tosses+1)/n_games\n",
    "\n",
    "gen_plot_theory_samples(ax[1], tosses, n_games, mass, freq, False)"
   ]
  },
  {
   "cell_type": "markdown",
   "metadata": {},
   "source": [
    "# Play the Guessing Game\n",
    "\n",
    "Now that we have the simulations we need it is time to build the game. "
   ]
  },
  {
   "cell_type": "markdown",
   "metadata": {},
   "source": [
    "## Player 1 - Guess Always Fair\n",
    "\n",
    "Just to get us started, let us build a player whose strategy is to simply always guess that the coin tossed was a fair coin. How do you expect this player to do in terms of winnings. To be clear, the player wins a dollar every time they guess correctly and loose a dollar everytime they guess incorrectly."
   ]
  },
  {
   "cell_type": "code",
   "execution_count": 13,
   "metadata": {},
   "outputs": [],
   "source": [
    "def trial_10 (fair_p) :\n",
    "    return tosses_heads(10, 1/2 if fair_p else 1/5)\n",
    "    \n",
    "def player_1 (n_heads) :\n",
    "    '''Always choose fair coin which is signafied by returning True'''\n",
    "    return True\n",
    "\n",
    "def player_1_games (n) :\n",
    "    rng = np.random.default_rng()\n",
    "    fair = rng.random(n) > 1/2\n",
    "    outcomes = np.array([trial_10(fp) for fp in fair])\n",
    "    games = np.array([player_1(outcomes[i]) == fair[i] for i in range(n)])\n",
    "    wins   = np.sum(games)\n",
    "    losses = np.sum(~games)\n",
    "    return wins - losses\n",
    "    "
   ]
  },
  {
   "cell_type": "code",
   "execution_count": 14,
   "metadata": {},
   "outputs": [
    {
     "data": {
      "text/plain": [
       "-112"
      ]
     },
     "execution_count": 14,
     "metadata": {},
     "output_type": "execute_result"
    }
   ],
   "source": [
    "player_1_games(10**4)"
   ]
  },
  {
   "cell_type": "markdown",
   "metadata": {},
   "source": [
    "## Player 2 - Most Likely\n",
    "\n",
    "There is a very intuitive strategy that leads nicely toward more formal decision theory. \n",
    "\n",
    "We'll get back to the more formal motivation shortly, but for now, let us just look at the probability mass functions for the fair and unfair coin."
   ]
  },
  {
   "cell_type": "code",
   "execution_count": 15,
   "metadata": {},
   "outputs": [
    {
     "data": {
      "image/png": "[encoded data removed]",
      "text/plain": [
       "<Figure size 576x432 with 1 Axes>"
      ]
     },
     "metadata": {
      "needs_background": "light"
     },
     "output_type": "display_data"
    }
   ],
   "source": [
    "tosses = 10\n",
    "mass_fair   = np.array([float(binomial_mass_function_rational(i,tosses,1,2)) for i in range(tosses+1)])\n",
    "mass_unfair = np.array([float(binomial_mass_function_rational(i,tosses,1,5)) for i in range(tosses+1)])\n",
    "np.set_printoptions(precision=4)\n",
    "\n",
    "fig = plt.figure(figsize=(8, 6))\n",
    "plt.bar(np.arange(tosses+1),mass_fair,color='darkgreen',alpha=0.6)\n",
    "plt.bar(np.arange(tosses+1),mass_unfair,color='darkred',alpha=0.6)\n",
    "plt.xlabel('Number of Heads',fontsize=12);\n",
    "plt.ylabel('Probability', fontsize=12);"
   ]
  },
  {
   "cell_type": "markdown",
   "metadata": {},
   "source": [
    "Just eye ball these two histograms and keep in mind you able to see each distribution even though the overlap because of semi-transparent rendering.  The fair coin probabilities are in green, the unfair in red, and since each is partially transparent where the distributions overlap you see brown.  \n",
    "\n",
    "What should jump out is that the probability values are higher for an unfair versus a fair coin when $k$ is $0, 1, 2$ and $3$. Otherwise, the probability is higher for a fair coin.  "
   ]
  },
  {
   "cell_type": "markdown",
   "metadata": {},
   "source": [
    "## Player 2\n",
    "\n",
    "This clearly suggests a strategy; pick fair if and only if observed heads is 4 or greater."
   ]
  },
  {
   "cell_type": "code",
   "execution_count": 16,
   "metadata": {},
   "outputs": [],
   "source": [
    "def player_2 (n_heads, threshold = 3) :\n",
    "    '''Choose fair coin over unfair iff number of heads observed is greater than 3'''\n",
    "    if (n_heads > threshold) :\n",
    "        return True\n",
    "    else:\n",
    "        return False\n",
    "\n",
    "def player_2_games (n, print_accuracy=False) :\n",
    "    '''This function will simulate n rounds of play for player 2. \n",
    "    The result is returned as the amount of money won by player 2. '''\n",
    "    rng = np.random.default_rng()\n",
    "    fair_true = rng.random(n) > 1/2\n",
    "    outcomes  = np.array([trial_10(fp) for fp in fair_true])\n",
    "    predicts  = np.array([player_2(outcomes[i]) for i in range(n)])\n",
    "    corrects  = fair_true == predicts\n",
    "    wins   = np.sum(corrects)\n",
    "    losses = np.sum(~corrects)\n",
    "    if print_accuracy : print(f'Accuracy of Guesses: {wins/n:5.3f}')\n",
    "    return wins - losses\n",
    "    "
   ]
  },
  {
   "cell_type": "code",
   "execution_count": 17,
   "metadata": {},
   "outputs": [
    {
     "data": {
      "text/plain": [
       "716"
      ]
     },
     "execution_count": 17,
     "metadata": {},
     "output_type": "execute_result"
    }
   ],
   "source": [
    "player_2_games (10**3)"
   ]
  },
  {
   "cell_type": "markdown",
   "metadata": {},
   "source": [
    "What we've done so far should make a lot of intuitive sense; guess the most likely of the two cases, i.e. fair versus not fair, based upon the relative probability conditioned upon the number of heads actually observed. If you let player 2 play more games then player 2 consistently earns more money.  This was not true for player 1."
   ]
  },
  {
   "cell_type": "markdown",
   "metadata": {},
   "source": [
    "### One More Thing - Accuracy\n",
    "\n",
    "Notice that by introducing our guessing game as a gambling excercise we side-stepped ever actually measuring the accuracy of the guesses. Let us tidy up this small omission."
   ]
  },
  {
   "cell_type": "code",
   "execution_count": 18,
   "metadata": {},
   "outputs": [
    {
     "name": "stdout",
     "output_type": "stream",
     "text": [
      "Accuracy of Guesses: 0.836\n"
     ]
    },
    {
     "data": {
      "text/plain": [
       "672"
      ]
     },
     "execution_count": 18,
     "metadata": {},
     "output_type": "execute_result"
    }
   ],
   "source": [
    "player_2_games (10**3, print_accuracy=True)"
   ]
  },
  {
   "cell_type": "markdown",
   "metadata": {},
   "source": [
    "# Part 4: Accuracy Follows from First Principals\n",
    "\n",
    "At this point we've shown that we can simulate game play an record and empirical estimate of how accurately Player 2 is guessing.  But because we have complete knowledge of the game we can of course go back to the original distributions and explain what we are oberving. \n"
   ]
  },
  {
   "cell_type": "code",
   "execution_count": 19,
   "metadata": {},
   "outputs": [],
   "source": [
    "def plot_mistakes_for_a_threshold(threshold) :\n",
    "    tosses = 10\n",
    "\n",
    "    mass_fair   = np.array([float(binomial_mass_function_rational(i,tosses,1,2)) for i in range(tosses+1)])\n",
    "    mass_unfair = np.array([float(binomial_mass_function_rational(i,tosses,1,5)) for i in range(tosses+1)])\n",
    "\n",
    "    # Note below we re-normalize so pair of distributions sum to 1.0\n",
    "    mass_fair = mass_fair / 2.0\n",
    "    mass_unfair = mass_unfair / 2.0\n",
    "\n",
    "    fair_mislabeled   = np.zeros(tosses+1)\n",
    "    unfair_mislabeled = np.zeros(tosses+1)\n",
    "    for i in range(0,threshold+1) : fair_mislabeled[i] = mass_fair[i]\n",
    "    for i in range(threshold+1,tosses+1) : unfair_mislabeled[i] = mass_unfair[i]\n",
    "\n",
    "    fig = plt.figure(figsize=(8, 6))\n",
    "    plt.bar(np.arange(tosses+1),mass_fair,color='darkgreen',alpha=1.0)\n",
    "    plt.bar(np.arange(tosses+1),mass_unfair,color='darkred',alpha=1.0)\n",
    "    plt.bar(np.arange(tosses+1),fair_mislabeled,color='orange',alpha=1.0)\n",
    "    plt.bar(np.arange(tosses+1),unfair_mislabeled,color='gold',alpha=1.0)\n",
    "\n",
    "    accuracy = 1.0 - np.sum(fair_mislabeled + unfair_mislabeled)\n",
    "    ptitle = f'Threshold is {threshold} and expected accuracy is {accuracy:5.3f}'\n",
    "    print(ptitle)\n",
    "    plt.title(ptitle,fontsize=14)\n",
    "    plt.xlabel('Number of Heads',fontsize=12);\n",
    "    plt.ylabel('Probability Conditioned Upon Class', fontsize=12);"
   ]
  },
  {
   "cell_type": "code",
   "execution_count": 20,
   "metadata": {},
   "outputs": [
    {
     "name": "stdout",
     "output_type": "stream",
     "text": [
      "Threshold is 3 and expected accuracy is 0.854\n"
     ]
    },
    {
     "data": {
      "image/png": "[encoded data removed]",
      "text/plain": [
       "<Figure size 576x432 with 1 Axes>"
      ]
     },
     "metadata": {
      "needs_background": "light"
     },
     "output_type": "display_data"
    }
   ],
   "source": [
    "plot_mistakes_for_a_threshold(3)"
   ]
  },
  {
   "cell_type": "markdown",
   "metadata": {},
   "source": [
    "Notice now that you can actually see very clearly the reason for selecting the threshold which will in expectation yield the most accurate predictions. To say a bit more, Player 2 guesses incorrectly when the fair coin generates as many heads (or fewer) than the theshold (shown in orange).  Player 2 also guesses incorrectly when the unfair coin generates more heads than the threshold (shown in gold).\n",
    "\n",
    "One more important detail that foreshadows the next note book.  Note that the vertical axis probabilities are divided by two and are now described as conditioned upon whether the outcome is heads or tails. We will talk more explicitly next time about what to do when some classes arise more often in our sample than others."
   ]
  },
  {
   "cell_type": "code",
   "execution_count": null,
   "metadata": {},
   "outputs": [],
   "source": []
  },
  {
   "cell_type": "markdown",
   "metadata": {},
   "source": [
    "# Part 5: Likelihood Ratio\n",
    "\n",
    "The concept of looking at the relative likelihood as expressed as ratios of probabilities is common. While I frankly find the wikipedia writeup less than wonderful - if you want more you can go to [Likelihood Function](https://en.wikipedia.org/wiki/Likelihood_function).\n",
    "\n",
    "This concept is actually relatively simple to define by example using what we've already built for our coin toss gambling game.  To begin let us formalize what we established for the game:\n",
    "\n",
    "$$ \n",
    "P( k \\,|\\, \\hbox{fair} ) \\; = \\; {{10}\\choose{k}} p^{k} ( 1 - p )^{N-k} \\;\\;\\; \\hbox{where} \\;\\;\\; p = \\frac{1}{2}\n",
    "$$\n",
    "\n",
    "$$\n",
    "P( k \\,|\\, \\hbox{unfair} ) \\; = \\; {{10}\\choose{k}} p^{k} ( 1 - p )^{N-k} \\;\\;\\; \\hbox{where} \\;\\;\\; p = \\frac{1}{5}\n",
    "$$"
   ]
  },
  {
   "cell_type": "markdown",
   "metadata": {},
   "source": [
    "Now learning to say and understand these two mathematical statements clearly in English is half the battle to understanding the process of guessing a class label from observed data.  Here is a go at the top equation in English:\n",
    "\n",
    "<blockquote>\n",
    "    The probability of observing $k$ heads in $10$ trials conditioned upon the knowledge that the coin comes from the class of fair coins is ...\n",
    "</blockquote>\n",
    "\n",
    "Thus, by example, we are bringing in the extremely important notion of conditional probability.  \n",
    "\n",
    "As a bit of a teaser for the next lecture, do keep the following in mind\n",
    "\n",
    "$$\n",
    "P( \\hbox{fair} \\,|\\, k ) \\; \\neq \\; P( k \\,|\\, \\hbox{fair} )\n",
    "$$\n",
    "\n",
    "Indeed, if we write \n",
    "\n",
    "$$\n",
    "P( \\hbox{fair} \\,|\\, k ) \n",
    "$$\n",
    "\n",
    "then the English translation is \n",
    "\n",
    "<blockquote>\n",
    "    The probability that the coin belongs to the class fair conditioned upon having observed $k$ out of $10$ heads.\n",
    "</blockquote>\n",
    "\n",
    "To really say why there are not equal takes into Bayes Rule - which is a topic for down the road. \n"
   ]
  },
  {
   "cell_type": "markdown",
   "metadata": {},
   "source": [
    "## The Coin Toss Game Likelihodd Ratio\n",
    "\n",
    "For the moment, let us see what our decision rule above looks like in terms of what we do know well, namely $P( k \\,|\\, \\hbox{fair} )$ and $P( k \\,|\\, \\hbox{unfair} )$. What our intuition let us to select was as follows:\n",
    "\n",
    "$$\n",
    "\\hbox{if} \\;\\;\\; P( k \\,|\\, \\hbox{fair} ) \\; > \\;  P( k \\,|\\, \\hbox{unfair} ) \\;\\;\\; \\hbox{then guess Fair}\n",
    "$$\n",
    "\n",
    "With a little manipulation the above is equivalent to \n",
    "\n",
    "$$\n",
    "\\hbox{if} \\;\\;\\; \\frac{P( k \\,|\\, \\hbox{fair} )}{P( k \\,|\\, \\hbox{unfair} )} \\; > \\; 1 \\;\\;\\; \\hbox{then guess Fair}\n",
    "$$\n",
    "\n",
    "or even\n",
    "\n",
    "$$\n",
    "\\hbox{if} \\;\\;\\; \\log \\left( \\frac{P( k \\,|\\, \\hbox{fair} )}{P( k \\,|\\, \\hbox{unfair} )} \\right) \\; > \\; 0 \\;\\;\\; \\hbox{then guess Fair}\n",
    "$$\n",
    "\n",
    "\n"
   ]
  },
  {
   "cell_type": "code",
   "execution_count": 21,
   "metadata": {},
   "outputs": [
    {
     "data": {
      "image/png": "[encoded data removed]",
      "text/plain": [
       "<Figure size 576x432 with 1 Axes>"
      ]
     },
     "metadata": {
      "needs_background": "light"
     },
     "output_type": "display_data"
    }
   ],
   "source": [
    "tosses = 10\n",
    "mass_fair   = np.array([float(binomial_mass_function_rational(i,tosses,1,2)) for i in range(tosses+1)])\n",
    "mass_unfair = np.array([float(binomial_mass_function_rational(i,tosses,1,5)) for i in range(tosses+1)])\n",
    "\n",
    "log_like = np.log(mass_fair / mass_unfair )\n",
    "tosses_a = np.arange(tosses+1)\n",
    "colors = ['darkgreen' if x else 'darkred' for x in log_like > 0]\n",
    "\n",
    "fig = plt.figure(figsize=(8, 6))\n",
    "plt.plot(tosses_a, log_like,'-')\n",
    "plt.scatter(tosses_a, log_like, marker='p', s=100, color=colors)\n",
    "plt.plot(tosses_a, np.zeros(tosses+1), color='orange')\n",
    "for x, y, text in zip(tosses_a, log_like, tosses_a) : \n",
    "    plt.text(x-0.1, y+0.7, text, fontsize=12)\n",
    "plt.ylim([-6, 12])\n",
    "plt.xlabel('Number of Heads',fontsize=12);\n",
    "plt.ylabel('Log Likelihood Heads', fontsize=12);"
   ]
  },
  {
   "cell_type": "markdown",
   "metadata": {},
   "source": [
    "# Part 6: Continuous Variable, e.g. Gaussian\n",
    "\n",
    "The decision to work with discrete space of outcomes above is carefully considered. Working with continuous distributions, of which the [Gaussian](https://en.wikipedia.org/wiki/Normal_distribution) is the most common, is not really harder. But, it does come with a few twists.  \n",
    "\n",
    "To begin, here is the standard equation where it all begins, the probability mass (density) function for a Gaussian (Normal) distribution\n",
    "\n",
    "Here is the function in standard mathematical notation.\n",
    "\n",
    "$$\n",
    "p(x) \\,=\\, \\frac{1}{\\sigma \\sqrt[]{2 \\pi}}\n",
    "            e^{-\\frac{1}{2} \\left( \\frac{x - \\mu}{\\sigma} \\right)^{2}}\n",
    "$$"
   ]
  },
  {
   "cell_type": "markdown",
   "metadata": {},
   "source": [
    "## Probabilities Sum to One\n",
    "\n",
    "For a discrete set of possible outcomes as we had above for the binomial distibution the rule that over the set of all possible outcomes $\\Omega$ the probability must sum to $1$ is tested using actual summation.  \n",
    "\n",
    "However, for continuous variables the situation is complicated that one never can enumerate all the possible outcomes.  The problem follows directly from the question [How many real numbers are there](https://www.maa.org/external_archive/devlin/devlin_6_01.html)"
   ]
  },
  {
   "cell_type": "markdown",
   "metadata": {},
   "source": [
    "## To Get it Right, Start off Wrong\n",
    "\n",
    "Here in code is a naive mistake commonly made. Once we dig ourselves a whole with the common mistake we'll find a ladder and climb out."
   ]
  },
  {
   "cell_type": "code",
   "execution_count": 22,
   "metadata": {},
   "outputs": [],
   "source": [
    "def Gaussian_mass (xv, mu=0.0, sigma=1.0) :\n",
    "    gv = 1/(sigma * np.sqrt(2 * np.pi)) * np.exp( - (xv - mu)**2 / (2 * sigma**2)) \n",
    "    return gv"
   ]
  },
  {
   "cell_type": "markdown",
   "metadata": {},
   "source": [
    "Now let us take our new function for a spin and use it to answer this question\n",
    "\n",
    "$$\n",
    "p(x=0.1; \\mu = 0.0, \\sigma = 1.0) = \\hbox{?}\n",
    "$$\n",
    "\n",
    "or in English, what is the probability that a Gaussian Random Variable with mean equal zero and sigma equal 1 generates the value $0.1$?"
   ]
  },
  {
   "cell_type": "code",
   "execution_count": 23,
   "metadata": {},
   "outputs": [
    {
     "data": {
      "text/plain": [
       "0.3969525474770118"
      ]
     },
     "execution_count": 23,
     "metadata": {},
     "output_type": "execute_result"
    }
   ],
   "source": [
    "Gaussian_mass(0.1)"
   ]
  },
  {
   "cell_type": "markdown",
   "metadata": {},
   "source": [
    "Now the **mistake** - the probability is $0.397$ (see above)\n",
    "\n",
    "But before we find the ladder and climb out of the hole, let us play with just how deep the hole really is.  Let us assume the answer is correct. Then we can start to add up the probabilities."
   ]
  },
  {
   "cell_type": "code",
   "execution_count": 24,
   "metadata": {},
   "outputs": [
    {
     "name": "stdout",
     "output_type": "stream",
     "text": [
      "\tx = -4.00 yields prob of 0.000134\n",
      "\tx = -3.33 yields prob of 0.001542\n",
      "\tx = -2.67 yields prob of 0.011396\n",
      "\tx = -2.00 yields prob of 0.053991\n",
      "\tx = -1.33 yields prob of 0.164010\n",
      "\tx = -0.67 yields prob of 0.319448\n",
      "\tx =  0.00 yields prob of 0.398942\n",
      "\tx =  0.67 yields prob of 0.319448\n",
      "\tx =  1.33 yields prob of 0.164010\n",
      "\tx =  2.00 yields prob of 0.053991\n",
      "\tx =  2.67 yields prob of 0.011396\n",
      "\tx =  3.33 yields prob of 0.001542\n",
      "\tx =  4.00 yields prob of 0.000134\n",
      "Sum of \"probability\" for 13 outcomes is 1.500 (Ouch)\n"
     ]
    }
   ],
   "source": [
    "np.set_printoptions(precision=4)\n",
    "np.set_printoptions(suppress=True)\n",
    "nsam  = 13\n",
    "bound = 4\n",
    "xvals = np.linspace(-bound,bound,nsam)\n",
    "probs = np.array([Gaussian_mass(x) for x in xvals])\n",
    "for i in range(nsam) :\n",
    "    print(f'\\tx = {xvals[i]:5.2f} yields prob of {probs[i]:7.6f}')\n",
    "print(f'Sum of \"probability\" for {nsam} outcomes is {np.sum(probs):5.3f} (Ouch)')"
   ]
  },
  {
   "cell_type": "markdown",
   "metadata": {},
   "source": [
    "    ## Back onto the Right Path\n",
    "\n",
    "Now that you will never plug $x$ into the probability mass function an claim the result is a probability, let us get the ladder and climb out of our hole.  \n",
    "\n",
    "To recap, the answer to our question above \n",
    "\n",
    "$$\n",
    "p(x=0.1; \\mu = 0.0, \\sigma = 1.0) = \\hbox{?}\n",
    "$$\n",
    "\n",
    "is zero.  To elaborate, the probablity of observing any exact real value is zero.  \n",
    "\n",
    "What we meant to ask was\n",
    "\n",
    "$$\n",
    "p(k - \\delta < x < k + \\delta ;  \\mu = 0.0, \\sigma = 1.0) = \\hbox{?}\n",
    "$$\n",
    "\n",
    "and now the answer is an integral summing the area under the mass function\n",
    "\n",
    "$$\n",
    "p(k - \\delta < x < k + \\delta ;  \\mu = 0.0, \\sigma = 1.0) = \n",
    "\\int_{k-\\delta}^{k+\\delta}  \\frac{1}{\\sigma \\sqrt[]{2 \\pi}}\n",
    "            e^{-\\frac{1}{2} \\left( \\frac{x - \\mu}{\\sigma} \\right)^{2}} dx\n",
    "$$\n",
    "\n",
    "In English, the probability of observing a real value $k$ plus or minus $\\delta$ is the area under the mass function between the bounds of $k - \\delta$ and $k + \\delta$."
   ]
  },
  {
   "cell_type": "markdown",
   "metadata": {},
   "source": [
    "At hi point we could start looking to evaluate the integral above, but much simpler is to invoke the definition of the cumulative probability distribution function for a Gaussian.  \n",
    "\n",
    "$$\n",
    "C(x) = \\frac{1}{2} \\left(1 + \\text{erf} \\left( \\frac{x - \\mu}{\\sigma \\sqrt[]{2}} \\right) \\right)\n",
    "$$"
   ]
  },
  {
   "cell_type": "code",
   "execution_count": 25,
   "metadata": {},
   "outputs": [],
   "source": [
    "from scipy.special import erf\n",
    "\n",
    "def Gaussian_cumulative_distribution(x, mu=0.0, sigma=1.0) :\n",
    "    val = (1/2)*(1 + erf((x - mu)/(sigma*np.sqrt(2))))\n",
    "    return val"
   ]
  },
  {
   "cell_type": "code",
   "execution_count": 26,
   "metadata": {},
   "outputs": [
    {
     "data": {
      "image/png": "[encoded data removed]",
      "text/plain": [
       "<Figure size 576x432 with 1 Axes>"
      ]
     },
     "metadata": {
      "needs_background": "light"
     },
     "output_type": "display_data"
    }
   ],
   "source": [
    "fig = plt.figure(figsize=(8, 6))\n",
    "xvals = np.linspace(-3,3,91)\n",
    "yvals = np.array([Gaussian_cumulative_distribution(x) for x in xvals])\n",
    "plt.plot(xvals, yvals,color='darkred')\n",
    "plt.xlabel('thresholds values t')\n",
    "plt.ylabel('p(x<t)', fontsize=12);"
   ]
  },
  {
   "cell_type": "markdown",
   "metadata": {},
   "source": [
    "To implement a correct function to compute the probability of observing a value $x$ plus or minus $\\delta$ from a Gaussian Random Variable a clean solution is to use the cumulative distribution function $C(x)$.  To be more precise:\n",
    "\n",
    "$$\n",
    "p(x \\, \\pm \\,\\delta; \\mu = 0.0, \\sigma = 1.0) =\n",
    "C(x + \\delta) - C(x - \\delta)\n",
    "$$"
   ]
  },
  {
   "cell_type": "code",
   "execution_count": 27,
   "metadata": {},
   "outputs": [],
   "source": [
    "def Gaussian_probability_x_plus_minus(x, delta=0.1, mu=0.0, sigma=1.0) :\n",
    "    ppdel = Gaussian_cumulative_distribution(x + delta, mu, sigma) \n",
    "    pmdel = Gaussian_cumulative_distribution(x - delta, mu, sigma) \n",
    "    return ppdel - pmdel"
   ]
  },
  {
   "cell_type": "code",
   "execution_count": 28,
   "metadata": {},
   "outputs": [
    {
     "data": {
      "text/plain": [
       "0.07965567455405798"
      ]
     },
     "execution_count": 28,
     "metadata": {},
     "output_type": "execute_result"
    }
   ],
   "source": [
    "Gaussian_probability_x_plus_minus(0.0, 0.1)"
   ]
  },
  {
   "cell_type": "markdown",
   "metadata": {},
   "source": [
    "If we use this function correctly, asking for adjacent intervals over a range, the sum of the probabilities should now be one"
   ]
  },
  {
   "cell_type": "code",
   "execution_count": 29,
   "metadata": {},
   "outputs": [
    {
     "name": "stdout",
     "output_type": "stream",
     "text": [
      "\tx = -4.00 plus or minus 0.154 yields prob of 0.000044\n",
      "\tx = -3.69 plus or minus 0.154 yields prob of 0.000141\n",
      "\tx = -3.38 plus or minus 0.154 yields prob of 0.000416\n",
      "\tx = -3.08 plus or minus 0.154 yields prob of 0.001116\n",
      "\tx = -2.77 plus or minus 0.154 yields prob of 0.002723\n",
      "\tx = -2.46 plus or minus 0.154 yields prob of 0.006052\n",
      "\tx = -2.15 plus or minus 0.154 yields prob of 0.012242\n",
      "\tx = -1.85 plus or minus 0.154 yields prob of 0.022544\n",
      "\tx = -1.54 plus or minus 0.154 yields prob of 0.037791\n",
      "\tx = -1.23 plus or minus 0.154 yields prob of 0.057672\n",
      "\tx = -0.92 plus or minus 0.154 yields prob of 0.080121\n",
      "\tx = -0.62 plus or minus 0.154 yields prob of 0.101328\n",
      "\tx = -0.31 plus or minus 0.154 yields prob of 0.116659\n",
      "\tx =  0.00 plus or minus 0.154 yields prob of 0.122269\n",
      "\tx =  0.31 plus or minus 0.154 yields prob of 0.116659\n",
      "\tx =  0.62 plus or minus 0.154 yields prob of 0.101328\n",
      "\tx =  0.92 plus or minus 0.154 yields prob of 0.080121\n",
      "\tx =  1.23 plus or minus 0.154 yields prob of 0.057672\n",
      "\tx =  1.54 plus or minus 0.154 yields prob of 0.037791\n",
      "\tx =  1.85 plus or minus 0.154 yields prob of 0.022544\n",
      "\tx =  2.15 plus or minus 0.154 yields prob of 0.012242\n",
      "\tx =  2.46 plus or minus 0.154 yields prob of 0.006052\n",
      "\tx =  2.77 plus or minus 0.154 yields prob of 0.002723\n",
      "\tx =  3.08 plus or minus 0.154 yields prob of 0.001116\n",
      "\tx =  3.38 plus or minus 0.154 yields prob of 0.000416\n",
      "\tx =  3.69 plus or minus 0.154 yields prob of 0.000141\n",
      "\tx =  4.00 plus or minus 0.154 yields prob of 0.000044\n",
      "Sum of \"probability\" for 27 outcomes is 1.000 (Yeah)\n"
     ]
    }
   ],
   "source": [
    "nsam  = 27\n",
    "bound = 4\n",
    "xvals = np.linspace(-bound,bound,nsam)\n",
    "delta = (xvals[1] - xvals[0]) / 2\n",
    "probs = np.array([Gaussian_probability_x_plus_minus(x,delta) for x in xvals])\n",
    "for i in range(nsam) :\n",
    "    print(f'\\tx = {xvals[i]:5.2f} plus or minus {delta:5.3f} yields prob of {probs[i]:7.6f}')\n",
    "print(f'Sum of \"probability\" for {nsam} outcomes is {np.sum(probs):5.3f} (Yeah)')"
   ]
  },
  {
   "cell_type": "markdown",
   "metadata": {},
   "source": [
    "# Why Being Wrong often Works Out\n",
    "\n",
    "You should now be forever cured of making the mistake of thinking that \n",
    "\n",
    "$$\n",
    "p(x) \\,=\\, \\frac{1}{\\sigma \\sqrt[]{2 \\pi}}\n",
    "            e^{-\\frac{1}{2} \\left( \\frac{x - \\mu}{\\sigma} \\right)^{2}}\n",
    "$$\n",
    "\n",
    "returns a probability.  But you can fairly ask, how come this mistake so often seems not to matter.  There are two reasons. \n",
    "\n",
    "First, if all you even do is rank choices based upon `probability`, plugging values of $x$ into the above equation will always yield equivalent ranking decisions.\n",
    "\n",
    "Second, let us sample from the probability density function and then adjust the sampled values so they sum to one.  As you see below, the values do then sum to one and they approximate the true probabilty.  How much one cares about the failure to yield the truly correct number depends upon application - but often it is close enough."
   ]
  },
  {
   "cell_type": "code",
   "execution_count": 30,
   "metadata": {},
   "outputs": [
    {
     "name": "stdout",
     "output_type": "stream",
     "text": [
      "\tx = -4.00 +/- 0.333 yields p = 0.000116 while apprx is 0.000089; apprx error is  0.000026\n",
      "\tx = -3.33 +/- 0.333 yields p = 0.001227 while apprx is 0.001028; apprx error is  0.000199\n",
      "\tx = -2.67 +/- 0.333 yields p = 0.008465 while apprx is 0.007597; apprx error is  0.000868\n",
      "\tx = -2.00 +/- 0.333 yields p = 0.037975 while apprx is 0.035994; apprx error is  0.001981\n",
      "\tx = -1.33 +/- 0.333 yields p = 0.110865 while apprx is 0.109341; apprx error is  0.001524\n",
      "\tx = -0.67 +/- 0.333 yields p = 0.210786 while apprx is 0.212968; apprx error is -0.002181\n",
      "\tx =  0.00 +/- 0.333 yields p = 0.261117 while apprx is 0.265964; apprx error is -0.004847\n",
      "\tx =  0.67 +/- 0.333 yields p = 0.210786 while apprx is 0.212968; apprx error is -0.002181\n",
      "\tx =  1.33 +/- 0.333 yields p = 0.110865 while apprx is 0.109341; apprx error is  0.001524\n",
      "\tx =  2.00 +/- 0.333 yields p = 0.037975 while apprx is 0.035994; apprx error is  0.001981\n",
      "\tx =  2.67 +/- 0.333 yields p = 0.008465 while apprx is 0.007597; apprx error is  0.000868\n",
      "\tx =  3.33 +/- 0.333 yields p = 0.001227 while apprx is 0.001028; apprx error is  0.000199\n",
      "\tx =  4.00 +/- 0.333 yields p = 0.000116 while apprx is 0.000089; apprx error is  0.000026\n",
      "Sum of \"probability\" for 13 outcomes is 1.000 \n",
      "Sum of \"apprx probs\" for 13 outcomes is 1.000 \n"
     ]
    }
   ],
   "source": [
    "nsam  = 13\n",
    "bound = 4\n",
    "xvals = np.linspace(-bound,bound,nsam)\n",
    "delta = (xvals[1] - xvals[0]) / 2\n",
    "yvals = np.array([Gaussian_mass(x) for x in xvals])\n",
    "yvals = yvals / np.sum(yvals)\n",
    "probs = np.array([Gaussian_probability_x_plus_minus(x,delta) for x in xvals])\n",
    "for i in range(nsam) :\n",
    "    print(f'\\tx = {xvals[i]:5.2f} +/- {delta:5.3f} yields p = {probs[i]:7.6f} while apprx is {yvals[i]:7.6f}'+\n",
    "          f'; apprx error is {(probs[i]-yvals[i]):9.6f}')\n",
    "print(f'Sum of \"probability\" for {nsam} outcomes is {np.sum(probs):5.3f} ')\n",
    "print(f'Sum of \"apprx probs\" for {nsam} outcomes is {np.sum(yvals):5.3f} ')"
   ]
  },
  {
   "cell_type": "code",
   "execution_count": null,
   "metadata": {},
   "outputs": [],
   "source": []
  }
 ],
 "metadata": {
  "anaconda-cloud": {},
  "colab": {
   "name": "module01_05_matplotlib.ipynb",
   "provenance": [],
   "toc_visible": true
  },
  "kernelspec": {
   "display_name": "Python 3",
   "language": "python",
   "name": "python3"
  },
  "language_info": {
   "codemirror_mode": {
    "name": "ipython",
    "version": 3
   },
   "file_extension": ".py",
   "mimetype": "text/x-python",
   "name": "python",
   "nbconvert_exporter": "python",
   "pygments_lexer": "ipython3",
   "version": "3.7.10"
  }
 },
 "nbformat": 4,
 "nbformat_minor": 1
}