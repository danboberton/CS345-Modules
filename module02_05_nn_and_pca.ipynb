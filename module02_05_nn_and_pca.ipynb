{
 "cells": [
  {
   "cell_type": "markdown",
   "id": "88f0f3bb",
   "metadata": {},
   "source": [
    "# Subspaces, PCA and Nearest Neighbor\n",
    "\n",
    "This notebook is part of  course materials for CS 345: Machine Learning Foundations and Practice at Colorado State University.\n",
    "Original versions were created by Asa Ben-Hur and updated by Ross Beveridge\n",
    "\n",
    "Last Update 3/03/2022\n",
    "\n",
    "**The text is released under the [CC BY-SA license](https://creativecommons.org/licenses/by-sa/4.0/), and code is released under the [MIT license](https://opensource.org/licenses/MIT).*\n"
   ]
  },
  {
   "cell_type": "code",
   "execution_count": 27,
   "id": "3c832175",
   "metadata": {},
   "outputs": [],
   "source": [
    "import numpy as np\n",
    "from matplotlib import pylab as plt\n",
    "import math as math\n",
    "from sklearn.datasets import make_blobs\n",
    "from sklearn.decomposition import PCA\n",
    "import plotly.express as px\n",
    "import plotly.graph_objects as go\n",
    "import pandas as pd\n",
    "%matplotlib inline"
   ]
  },
  {
   "cell_type": "markdown",
   "id": "be5be6d0",
   "metadata": {},
   "source": [
    "\n",
    "In this notebook we introduce a principled manner of selecting a smaller dimensional subspace fueled in part by the desire to carry out nearest neighbor calculations faster.  We will use the digits dataset to motivate and illustrate.\n",
    "\n",
    "To begin here is the nearest neighbor implementation fromt the previous notebook"
   ]
  },
  {
   "cell_type": "markdown",
   "id": "388cb114",
   "metadata": {},
   "source": [
    "# Part 1: What is PCA\n",
    "\n",
    "There are many ways to introduce Principal Components Analysis.  Here we will choose a rather visual and hopefully intuitive way of seeing what it means for a dimension to be a principal component.\n",
    "\n",
    "In particular, the first principal component has a ready explanation. It is the direction along which the sample variance of the data is largest.  To expand this sentence, consider all possible single dimension in a higher dimensional space. For all such dimensions the data may be projected onto that dimension and then the sample variance calculated.  Unless there are ties - equally good directions to choose from - then there will exist one unique direction that is better - higher variance - than all others. \n",
    "\n",
    "That is call the first principal component.  Let see this for highly controlled data - samples from a 2D Gaussian Random Variable - in a way that we can literally see the first principal component."
   ]
  },
  {
   "cell_type": "code",
   "execution_count": 28,
   "id": "3748cae6",
   "metadata": {},
   "outputs": [
    {
     "data": {
      "text/plain": [
       "(-14.0, 13.0)"
      ]
     },
     "execution_count": 28,
     "metadata": {},
     "output_type": "execute_result"
    },
    {
     "data": {
      "image/png": "[encoded data removed]",
      "text/plain": [
       "<Figure size 576x576 with 1 Axes>"
      ]
     },
     "metadata": {
      "needs_background": "light"
     },
     "output_type": "display_data"
    }
   ],
   "source": [
    "X, y = make_blobs(n_samples=1000, n_features=2, centers=[[0.0,0.0]], \n",
    "           cluster_std=[[4.0,1.0]], shuffle=True, random_state=None)\n",
    "\n",
    "theta = np.radians(35)\n",
    "Rot = np.array([[np.cos(theta), -np.sin(theta)],[np.sin(theta), np.cos(theta)]])\n",
    "\n",
    "Xr = np.matmul(X,Rot.T)\n",
    "\n",
    "pca = PCA(2)\n",
    "pca.fit(Xr)\n",
    "Xrcps = pca.components_\n",
    "\n",
    "fig = plt.figure(figsize = (8,8))\n",
    "ax = fig.add_subplot(111)\n",
    "ax.set_aspect('equal')\n",
    "ax.scatter(Xr[:,0], Xr[:,1],color='darkgreen')\n",
    "pc1rg = [-14,14]\n",
    "pc2rg = [-8,8]\n",
    "ax.plot([(Xrcps[0]*i)[0] for i in pc1rg],[(Xrcps[0]*i)[1] for i in pc1rg],color='darkred')\n",
    "ax.plot([(Xrcps[1]*i)[0] for i in pc2rg],[(Xrcps[1]*i)[1] for i in pc2rg],color='darkblue')\n",
    "rmin = math.floor(X.min())\n",
    "rmax = math.ceil(X.max())\n",
    "ax.set_xlim(rmin,rmax)\n",
    "ax.set_ylim(rmin,rmax)"
   ]
  },
  {
   "cell_type": "markdown",
   "id": "da69c22d",
   "metadata": {},
   "source": [
    "# And now a 3D Example"
   ]
  },
  {
   "cell_type": "code",
   "execution_count": 29,
   "id": "49c99f77",
   "metadata": {},
   "outputs": [],
   "source": [
    "X, y = make_blobs(n_samples=1000, n_features=3, centers=[[0.0,0.0,0.0]], \n",
    "           cluster_std=[[9.0,4.0,1.0]], shuffle=True, random_state=None)"
   ]
  },
  {
   "cell_type": "markdown",
   "id": "60e4a82a",
   "metadata": {},
   "source": [
    "### 3D Plotting with Plotly Express\n",
    "\n",
    "\n",
    "\n",
    "Below we are working with a graphics API called [plotly_express](https://plotly.com/python/plotly-express/).  Likely you will need to install this and there are two ways to do this. First, if you run the command below it will most likely set you up for the duration of this session. It will not carry over to new sessions (tomorrow).\n",
    "\n",
    "Another way is to permenantly add it to your system, so for example, if you are using Conda the this will probably work (worked for me):\n",
    "\n",
    "`conda install -c plotly plotly_express `"
   ]
  },
  {
   "cell_type": "code",
   "execution_count": 30,
   "id": "c73b3341",
   "metadata": {},
   "outputs": [],
   "source": [
    "# pip install plotly_express\n",
    "\n",
    "import plotly.express as px"
   ]
  },
  {
   "cell_type": "markdown",
   "id": "c5d422ae",
   "metadata": {},
   "source": [
    "## 3D Illustration of First Principal Component\n",
    "\n",
    "The following example first creates an axis-aligned Gaussian with most of the variance on the zero'th axis.\n",
    "\n",
    "Then the point cloud is rotated into a new space.\n",
    "\n",
    "The PCA is used to recover the direction of the original axis of maximum sample variance as expressed in the new space."
   ]
  },
  {
   "cell_type": "code",
   "execution_count": 31,
   "id": "5059d1e5",
   "metadata": {},
   "outputs": [],
   "source": [
    "nsam = 256\n",
    "\n",
    "X, y = make_blobs(n_samples=nsam, n_features=3, centers=[[0.0,0.0,0.0]], \n",
    "           cluster_std=[[9.0,4.0,2.0]], shuffle=True, random_state=42)"
   ]
  },
  {
   "cell_type": "code",
   "execution_count": 32,
   "id": "1f4ed84e",
   "metadata": {},
   "outputs": [
    {
     "data": {
      "application/vnd.plotly.v1+json": {
       "config": {
        "plotlyServerURL": "https://plot.ly"
       },
       "data": [
        {
         "marker": {
          "size": 4
         },
         "mode": "markers",
         "showlegend": false,
         "type": "scatter3d",
         "x": [
          16.791970600302808,
          -3.084188346723139,
          14.27415134530817,
          2.5289268096152937,
          2.765695687889484,
          -4.31256814060761,
          9.823561667302156,
          -15.828655377808028,
          4.470427377101094,
          9.800555372706295,
          2.254435653112889,
          -3.8419296295267804,
          -5.855783122096442,
          3.6364577113308454,
          12.97145960159504,
          13.707268707672227,
          -0.17114587112419946,
          -5.073520975235772,
          2.95875998693716,
          0.8736979441323635,
          -10.765859616726036,
          -5.435866680442385,
          -0.6480910942230046,
          16.885537552942978,
          -5.394533808996199,
          -13.633625022172781,
          0.1657654127059653,
          -12.39902431161382,
          8.42110553832715,
          2.1205310229770933,
          -3.4678223717558416,
          7.428747140892269,
          -0.8704180068335314,
          7.47302234889821,
          -8.914826926176195,
          -0.11022095562223161,
          -6.094455403609005,
          -0.294252732846838,
          1.3527158531568984,
          -5.806077791446119,
          0.18903457469483143,
          2.6650824935811843,
          -3.4609998980684282,
          0.8258469888195207,
          3.213139373685426,
          -20.717290482620264,
          1.041071708635728,
          -5.819155958182739,
          1.9481273062377737,
          -2.0784107718781017,
          2.3375025154933367,
          10.293786388862362,
          0.09209754917628343,
          7.408535255657231,
          -7.342292564688945,
          3.4678564175595312,
          3.2140131436057175,
          19.0994057731137,
          8.7441385585892,
          13.081806694415851,
          -15.232181667433375,
          6.8128975498081665,
          -6.2975295719332705,
          12.200740729244558,
          11.764284788541852,
          4.624073558209879,
          -0.2386248790429519,
          23.160238229248744,
          -5.162958061922127,
          -0.33871232182363525,
          6.176341713370621,
          -10.518102338575789,
          -5.96361383051262,
          6.302788914680923,
          3.615405498890473,
          5.695036794956564,
          14.338679639754574,
          -8.458918076946198,
          0.523878466013999,
          3.715028342428485,
          2.801251390891825,
          7.5212290085862765,
          2.990826107816325,
          -1.9719047592797783,
          -4.774510328494747,
          2.5197176368783825,
          23.040760844419154,
          19.70822639895905,
          12.974117585921103,
          13.060292470155375,
          -18.737364670953497,
          -11.884109517758487,
          -8.309099214998138,
          16.483128892689184,
          -3.7068926951022063,
          -4.899444520726644,
          5.605649391127489,
          3.9943748533160557,
          1.1629906377770476,
          -7.429474771132604,
          0.16590539758853842,
          2.177660444094307,
          -5.060587763168754,
          -1.988726395799007,
          7.119287523387422,
          -12.871272401645694,
          5.543420462498374,
          0.6963147688285647,
          2.917497172395979,
          2.935197200179062,
          7.124964245666423,
          10.139085265929817,
          5.908982477704468,
          -6.832193953983282,
          4.850190393161928,
          -2.7829113826609313,
          -6.339093214884834,
          18.67860718780895,
          10.510038554938266,
          2.090283274449032,
          5.138014596238503,
          -0.2171257839900295,
          -9.072776798256637,
          -6.437733383339714,
          -7.004742528620814,
          -5.415359510064572,
          11.140346807761155,
          -7.000350188317878,
          4.259138621161903,
          3.6742748014302467,
          -6.957088054699199,
          5.631006129885056,
          -10.121778826540822,
          -0.5357282045562007,
          -15.330441954196392,
          5.454089562110757,
          -6.955426930838146,
          6.762484110346101,
          5.047060737314109,
          4.253377341717387,
          14.212915339566523,
          1.9268436971718357,
          -15.418210761817898,
          3.6448353986486,
          5.19364914462486,
          13.464398803402647,
          4.67411862817055,
          1.8311727228050079,
          -10.161465940955063,
          -7.276442426038688,
          13.949409645157855,
          -7.775916927118344,
          2.016832336293751,
          -17.568790195702515,
          -3.465740523746849,
          7.934757812545055,
          1.8797723550427987,
          -2.111284200376322,
          -3.248695492371719,
          -6.906128065992446,
          4.508254688619427,
          -6.964102791932158,
          -1.151258323326899,
          18.546731323937884,
          -0.9632732395910204,
          1.7915372601612303,
          4.883040392273682,
          -2.597927750281245,
          -1.0408345414941647,
          9.482776169470556,
          -14.953680560420638,
          17.184749764231174,
          -6.328587826132987,
          2.3179535165048795,
          -6.798446391179903,
          4.658931184222108,
          -9.560733423534945,
          14.98927000016319,
          4.536418639660599,
          14.804709421511554,
          2.2339852767030246,
          -1.6641192279869013,
          11.498984062095824,
          0.6668530237779766,
          -7.880564280462814,
          2.0884494362187267,
          7.791796747531094,
          -11.655708948572546,
          5.862521261752182,
          -16.24393890598067,
          2.204699139978505,
          1.0826606854070897,
          -8.172216679690898,
          -6.465997991271924,
          19.295496803927932,
          1.7717511228221117,
          0.04719329746364849,
          -4.358106655796262,
          4.329083085630419,
          -0.5641118754585469,
          -2.42466151000102,
          9.337859498321093,
          -6.478597875552378,
          3.3812821651110476,
          -2.948959319379914,
          -3.3733872679463777,
          7.397122539377015,
          -9.054156433497319,
          -10.780901033299637,
          2.4902171939701714,
          -8.68431114522094,
          -11.516192700621314,
          -2.2731133625384428,
          -1.1320822808968334,
          4.439861107928003,
          -8.808873442040767,
          -4.29891702088605,
          4.243215214223961,
          13.278205952545967,
          -2.336322162272443,
          -7.132686645894306,
          -11.740225504543679,
          -2.2947949567876975,
          -2.031986704378821,
          -4.274507800448606,
          -2.4545121277290343,
          1.678088832924849,
          4.3422517371886675,
          2.770215920028533,
          7.321654956327028,
          10.427360211066636,
          -2.2084930440258344,
          0.736867254476903,
          3.0925646061161527,
          10.810925299475503,
          2.338945148235812,
          3.5500692814046717,
          -4.531280887045793,
          -7.46095509829865,
          9.278995702463558,
          -9.519398360603104,
          -4.4370084119294955,
          5.493332388901184,
          -4.8908229402038845,
          -5.866524970219433,
          -8.168072958374381,
          5.356413228932222,
          -10.999150280027509,
          6.689376846204435,
          -8.085732042135222,
          -3.084430648740925,
          -1.7312486830301026,
          -0.3224343519895638,
          -12.616659565130528,
          -1.8197338719050467,
          2.4341114320185495
         ],
         "y": [
          1.89533168364715,
          -1.4857634639831658,
          -4.951261995307396,
          -2.490798079282375,
          3.2514484753558404,
          -0.7426359066552685,
          4.984340769990516,
          -4.7330340506631,
          -0.5530572046847386,
          0.2571200763818511,
          1.3857928379879028,
          -4.04841750104067,
          -1.9485015350587842,
          7.544743604842121,
          -5.7434486047177575,
          -0.9366134988933439,
          -4.010117458551235,
          -3.288881582265726,
          -2.1190408150681552,
          3.874579962131557,
          3.250103289576792,
          0.34635914989159966,
          4.014131591568097,
          3.801695352744201,
          -8.495582897239228,
          -1.7860598082680843,
          6.705749249101131,
          -3.751300159660491,
          5.086220379976635,
          3.0834607755478673,
          0.45406938100499217,
          3.254038544002554,
          -2.179676347235799,
          -3.424335303635469,
          -2.2651909184110877,
          -3.589017485943326,
          3.9004789336710046,
          -8.269768400159506,
          -1.4544488488554235,
          1.4455824220336557,
          2.7278118851798556,
          1.0442210887195573,
          4.025171236857762,
          -7.950275658403571,
          -2.771638381042617,
          -6.060764248794209,
          4.717188736255306,
          -4.32619201445758,
          0.18228735961525513,
          2.7848254592536734,
          -3.6172665004176343,
          1.3539856299776565,
          -3.9260346041918037,
          0.29327186875361555,
          -0.3084068376564168,
          -3.535429744804532,
          5.911576178966064,
          4.129861042204587,
          2.58150379834059,
          -1.0586273329518243,
          6.118201277842455,
          -3.6886612967105017,
          0.855919642936888,
          1.6537396128948034,
          -6.42993293824491,
          2.0601907452241917,
          0.24092083976410575,
          0.23687373605795303,
          -2.1874357649615686,
          4.413207528066086,
          -6.450863484758607,
          4.571291258060082,
          2.2823946743726373,
          -2.3025513049510957,
          2.76057596684445,
          9.082771431217584,
          -2.0448627057247406,
          -2.055467669346774,
          -4.571881191322492,
          3.28824063997796,
          12.31552323382095,
          -4.518827418630472,
          -2.9939461462262145,
          3.3176223247339567,
          -2.30327296257872,
          -4.501956189193506,
          -0.3842395988985995,
          -3.233193141420606,
          -9.886578000509157,
          3.8370833043408274,
          6.785825473160153,
          2.0877662624675906,
          -5.4067384224653345,
          4.717760482885148,
          -1.9504248962899742,
          0.44369035883946434,
          -4.2704817175303775,
          3.098536213717347,
          0.43757917841957156,
          -1.2855433666119738,
          1.3903268214466842,
          -7.653120978631192,
          -4.051324481337695,
          2.456666800173701,
          -3.6375498191789557,
          -1.760177946787935,
          2.372405031873535,
          -3.4451368053130547,
          -0.5205722174707383,
          -5.004454305541212,
          2.4964792682086205,
          -1.0755547622193222,
          -3.8987266809092858,
          0.6015751459048305,
          -4.148984617305826,
          1.3250537256142558,
          -5.633845185454239,
          3.4844988137267694,
          1.0176833732048525,
          1.172289893194725,
          4.542262560722396,
          0.7923390430714198,
          -7.483167684103423,
          2.7183909957387034,
          0.7833810203907262,
          7.409112738035751,
          -6.377710635177468,
          -4.442303381863315,
          -0.2913156506274911,
          -6.8103344169513615,
          0.09804069703577085,
          -3.42863022566513,
          -6.136456682942489,
          -12.96506936027629,
          -0.22219079558647511,
          -5.121717409985132,
          -0.9472744269600355,
          -6.677621124485487,
          4.332204972701108,
          1.0241189372555026,
          3.069738916611635,
          -4.982955114847952,
          5.415489496661651,
          -5.043535817340181,
          -0.8121815441719707,
          2.617462625416231,
          6.130955652010311,
          -3.0254029811372134,
          -2.0980810651190946,
          -2.007028174338146,
          -3.1330131693449483,
          0.19408651177930797,
          0.05036960312717944,
          -0.6071403801423333,
          -2.707688001223835,
          -0.03189056526646949,
          -7.838680495519102,
          -5.661482968201657,
          4.637319213456992,
          3.4892825468827127,
          -3.910220979194204,
          -4.978618813245668,
          -3.822161762401703,
          7.021363369772818,
          -4.140969289677496,
          -2.4008675086351787,
          -1.853670771249849,
          1.290874241352358,
          -1.2044147823571552,
          -3.797595555327772,
          -0.2643191945892663,
          -5.594270295276565,
          -0.1399539619878468,
          -0.29778366306466886,
          -2.446071211967793,
          -2.9029752526138624,
          1.8943697225407263,
          4.057480260072522,
          -2.121030473489763,
          -0.9961441582255133,
          -1.8374435981609765,
          -2.090892082076158,
          -2.3662855553433197,
          6.514462182285167,
          -5.531198923857344,
          -5.7923373659892965,
          -4.801185628223105,
          -1.3431387971605129,
          -1.2610769785613825,
          -6.510169751532651,
          -2.027772701484519,
          2.057755336234996,
          -5.649214805341166,
          -0.853788606847389,
          2.535676089272045,
          2.9538663199816417,
          0.18792237505896822,
          5.067644596746491,
          0.8955360971165255,
          3.820569282004953,
          2.8701690231838493,
          -2.040065595418988,
          -1.84255508383915,
          -2.40255475967522,
          -1.5684326125286305,
          2.843839872813966,
          0.34818827295268484,
          -4.856754451150929,
          7.858900531665557,
          3.308732996144095,
          2.7442058399937572,
          -2.4992743107827153,
          -4.991132727859398,
          0.22289964915477842,
          0.7393444947794956,
          -1.7771730403044463,
          1.9159193029855675,
          7.528097985900135,
          3.4306384928080775,
          -6.012571812472425,
          -0.45894576586759606,
          2.678690195320154,
          6.015971954330754,
          0.27011281875169535,
          -2.6133169302948476,
          -10.787546571766287,
          -2.647145859073552,
          -0.8938511413034036,
          -6.840673570626502,
          -4.923457265735821,
          -3.282729273406842,
          -3.0149446574299583,
          9.258634266694035,
          -7.052160621450936,
          -1.6323014920862056,
          3.1272914871092414,
          -1.6839379232810519,
          -6.202653724264531,
          -2.2407241607878783,
          3.7251204764647943,
          3.290179648412756,
          -2.357459027776846,
          -0.08360637585659253,
          -2.8513831307086575,
          0.18959468526565607,
          -2.307085322273331,
          -3.27288273293389,
          2.8519937206895523,
          0.6834617525117674,
          1.9676766860260229,
          -3.2091090768864756,
          1.2061893693344499,
          6.258574623256025,
          2.347428375201081,
          -0.8707248129088812,
          -0.2009524377965478
         ],
         "z": [
          -2.382606994405297,
          -2.8150233894356425,
          4.266066749312533,
          -0.41624450071455044,
          1.2592576838472245,
          -2.2126699480120564,
          -4.146780464816299,
          -4.078464355520201,
          1.295377076201385,
          -2.1554895558586122,
          -1.3600494431569816,
          -3.3097133437315387,
          -1.1847878484777383,
          0.3491556256636779,
          2.326327504309919,
          -0.4682739138983611,
          -0.03702627198477986,
          0.4873744229838246,
          1.0265348662267122,
          -1.4041061877547047,
          2.712480057141646,
          -0.31135447078415895,
          0.7232720500952683,
          -1.1538073113248062,
          -1.051510043361522,
          1.7127975886469446,
          0.6538547475283253,
          1.0300705344173195,
          1.4433441280864703,
          -2.957172491559683,
          1.3242613490420934,
          2.610957614308658,
          0.7982722287041417,
          0.14313247443878493,
          0.19930273017528244,
          0.15160911638745267,
          -0.2941147630042773,
          -0.17824007902557681,
          -0.11389124744213491,
          3.0760731329319384,
          -0.6205335131869121,
          0.01022691328492178,
          -1.1537837390462975,
          -0.43934377567502386,
          1.7991997508665014,
          2.7337485348890493,
          0.1350369628202179,
          3.3742832701451295,
          -1.3032006952116342,
          3.6979121898906904,
          1.2771849175547478,
          -0.8305758278016026,
          0.9242069485265415,
          -2.5799217994821078,
          0.6823039496332878,
          0.3074502118910558,
          -1.0365404365472948,
          -3.038739931908027,
          2.7372631150646973,
          5.440338333179238,
          -0.31601579715797884,
          1.7392118402113204,
          -0.22465609938165965,
          3.753591625116132,
          0.3692677170646084,
          7.705462981309442,
          4.926484224970572,
          0.027858583825892406,
          -0.06550654043199677,
          0.2284552973240793,
          -0.9438637315788669,
          1.5038660653735483,
          -1.5265183130850337,
          0.24401962929072288,
          -0.8024409437716725,
          0.3637325101169903,
          -1.9792096405171618,
          -2.118427043777903,
          0.7155747206965666,
          3.7935859653078947,
          2.2391498228691535,
          1.0596083558305656,
          3.102303951045046,
          -4.42227061801577,
          -0.550103394303288,
          4.891503959233653,
          2.2985466525713516,
          -1.6794436843615521,
          -1.5937905109409536,
          4.306364915023113,
          0.4220349344052368,
          0.5939693464663721,
          -1.9517465059546655,
          -0.9383513042094096,
          -0.8651163756392418,
          -2.3019871548446056,
          -0.284758970042587,
          -1.853860943156166,
          1.451533247797384,
          0.8258629085512487,
          -1.079519360618723,
          -3.4498356650260655,
          0.6284946651905478,
          1.5150154200946102,
          2.8055886218721984,
          0.2614811545721827,
          -0.6190928786279806,
          3.0462481545393145,
          0.19399192998543638,
          1.848054038413802,
          1.2566910185285598,
          -2.2130518174833407,
          1.574169207484904,
          0.6835119515543189,
          -0.3806773561672164,
          1.9510902542447184,
          -3.1132583470478075,
          -0.6520470643356823,
          0.6752053241504044,
          -1.4287028360527356,
          1.9080035269864046,
          -0.28872082384788494,
          -0.7030269680826173,
          -1.4607332634342733,
          -1.956745555230064,
          -0.026994449475867842,
          -1.1987500459075457,
          3.5045408868472454,
          -1.69358743613681,
          2.0583112746512873,
          0.9959965824908995,
          -2.1417849961222246,
          2.555353643797018,
          -2.0487752826685797,
          0.7681308978786145,
          3.5095883639687293,
          -0.9707270956582069,
          1.08672038475987,
          2.107604104069806,
          1.9653819678910278,
          -0.9389487718699042,
          0.346361851702364,
          -0.22907969050523577,
          1.8357238941095522,
          0.7422917467426177,
          -0.11116934182091014,
          -0.2175202969137152,
          -2.8445074191953483,
          0.9787491224558361,
          1.8308042354041483,
          -0.6441230324113512,
          -1.6619002328220756,
          0.19535219709766344,
          1.176634412969153,
          1.2233525776817358,
          2.9598882777800517,
          -2.656372097796861,
          -0.8412906455307181,
          -2.1621266551997946,
          0.3666840114767035,
          0.19866461085845175,
          -3.557440497808557,
          -3.212892640515145,
          -0.497928296958147,
          -1.107298610694364,
          0.13960416998003783,
          -0.9314595071405137,
          -1.654461887104646,
          -2.9570439807348547,
          5.264764129674782,
          -2.4220323995249133,
          1.1259384733811417,
          3.54160127127102,
          -3.837542430598083,
          -2.8133221936964445,
          0.37353352895415665,
          -1.8388484684676063,
          -3.6817484626632906,
          -1.5857456645246883,
          1.1531139261115328,
          -1.6996887389295836,
          2.0980184516737785,
          1.0941947623400758,
          -2.7602029164297828,
          1.8523550950632828,
          -2.8149275487531105,
          -0.6690024716818967,
          3.338043050578786,
          1.5179384409865349,
          0.09616989332276399,
          -0.9420766112366455,
          1.4232297561777796,
          2.931297537843108,
          0.6218151311960092,
          -4.050285173315214,
          0.342736562379941,
          -0.9001309429584873,
          -1.4153389312375615,
          -1.5809489108906238,
          -1.9714520926710875,
          3.004714104192056,
          -0.5397498705867425,
          2.1142444524378314,
          -0.5833874995865536,
          -2.927029896264237,
          0.8885266229720795,
          -0.5980147009317348,
          2.3162217470001356,
          0.07052710394345722,
          0.02600378375581404,
          2.1168489736991756,
          0.05218210042166757,
          3.2648226078632705,
          2.188383036941897,
          -1.7167155603624271,
          0.7546009860897044,
          0.6673242105738966,
          2.6908400923099554,
          -0.3198770599268542,
          -0.49148612817188864,
          1.0099745579609143,
          0.7331964921936965,
          -5.301939616786024,
          -2.8494963724269136,
          3.5309084805621938,
          -0.10858973303562441,
          1.704866669592448,
          1.428000988184184,
          -2.696370844211426,
          0.45491986920825883,
          1.9267522584886436,
          -1.7790288592510466,
          -3.734530385183496,
          0.64816793878959,
          -4.076249070355708,
          -2.473901421756164,
          0.5795497137928258,
          0.13712594961205465,
          1.4945872102465236,
          -1.678435046445277,
          -2.4416872999420445,
          1.6992041940420493,
          0.234654766617564,
          0.21286045538379367,
          -1.7208267305679048,
          1.510782451651512,
          4.1847745513709205,
          -0.48065079631627006,
          -0.36796667270535827,
          -2.6404664140412843,
          -0.32257142333201827,
          -0.06942353941048662,
          -5.239490208179489,
          4.380911251619957,
          2.19755370397438,
          -0.4778960937328195
         ]
        },
        {
         "mode": "lines",
         "showlegend": false,
         "type": "scatter3d",
         "x": [
          -30,
          30
         ],
         "y": [
          0,
          0
         ],
         "z": [
          0,
          0
         ]
        },
        {
         "mode": "lines",
         "showlegend": false,
         "type": "scatter3d",
         "x": [
          0,
          0
         ],
         "y": [
          -30,
          30
         ],
         "z": [
          0,
          0
         ]
        },
        {
         "mode": "lines",
         "showlegend": false,
         "type": "scatter3d",
         "x": [
          0,
          0
         ],
         "y": [
          0,
          0
         ],
         "z": [
          -30,
          30
         ]
        }
       ],
       "layout": {
        "colorway": [
         "black",
         "red",
         "green",
         "blue"
        ],
        "height": 800,
        "template": {
         "data": {
          "bar": [
           {
            "error_x": {
             "color": "#2a3f5f"
            },
            "error_y": {
             "color": "#2a3f5f"
            },
            "marker": {
             "line": {
              "color": "#E5ECF6",
              "width": 0.5
             },
             "pattern": {
              "fillmode": "overlay",
              "size": 10,
              "solidity": 0.2
             }
            },
            "type": "bar"
           }
          ],
          "barpolar": [
           {
            "marker": {
             "line": {
              "color": "#E5ECF6",
              "width": 0.5
             },
             "pattern": {
              "fillmode": "overlay",
              "size": 10,
              "solidity": 0.2
             }
            },
            "type": "barpolar"
           }
          ],
          "carpet": [
           {
            "aaxis": {
             "endlinecolor": "#2a3f5f",
             "gridcolor": "white",
             "linecolor": "white",
             "minorgridcolor": "white",
             "startlinecolor": "#2a3f5f"
            },
            "baxis": {
             "endlinecolor": "#2a3f5f",
             "gridcolor": "white",
             "linecolor": "white",
             "minorgridcolor": "white",
             "startlinecolor": "#2a3f5f"
            },
            "type": "carpet"
           }
          ],
          "choropleth": [
           {
            "colorbar": {
             "outlinewidth": 0,
             "ticks": ""
            },
            "type": "choropleth"
           }
          ],
          "contour": [
           {
            "colorbar": {
             "outlinewidth": 0,
             "ticks": ""
            },
            "colorscale": [
             [
              0,
              "#0d0887"
             ],
             [
              0.1111111111111111,
              "#46039f"
             ],
             [
              0.2222222222222222,
              "#7201a8"
             ],
             [
              0.3333333333333333,
              "#9c179e"
             ],
             [
              0.4444444444444444,
              "#bd3786"
             ],
             [
              0.5555555555555556,
              "#d8576b"
             ],
             [
              0.6666666666666666,
              "#ed7953"
             ],
             [
              0.7777777777777778,
              "#fb9f3a"
             ],
             [
              0.8888888888888888,
              "#fdca26"
             ],
             [
              1,
              "#f0f921"
             ]
            ],
            "type": "contour"
           }
          ],
          "contourcarpet": [
           {
            "colorbar": {
             "outlinewidth": 0,
             "ticks": ""
            },
            "type": "contourcarpet"
           }
          ],
          "heatmap": [
           {
            "colorbar": {
             "outlinewidth": 0,
             "ticks": ""
            },
            "colorscale": [
             [
              0,
              "#0d0887"
             ],
             [
              0.1111111111111111,
              "#46039f"
             ],
             [
              0.2222222222222222,
              "#7201a8"
             ],
             [
              0.3333333333333333,
              "#9c179e"
             ],
             [
              0.4444444444444444,
              "#bd3786"
             ],
             [
              0.5555555555555556,
              "#d8576b"
             ],
             [
              0.6666666666666666,
              "#ed7953"
             ],
             [
              0.7777777777777778,
              "#fb9f3a"
             ],
             [
              0.8888888888888888,
              "#fdca26"
             ],
             [
              1,
              "#f0f921"
             ]
            ],
            "type": "heatmap"
           }
          ],
          "heatmapgl": [
           {
            "colorbar": {
             "outlinewidth": 0,
             "ticks": ""
            },
            "colorscale": [
             [
              0,
              "#0d0887"
             ],
             [
              0.1111111111111111,
              "#46039f"
             ],
             [
              0.2222222222222222,
              "#7201a8"
             ],
             [
              0.3333333333333333,
              "#9c179e"
             ],
             [
              0.4444444444444444,
              "#bd3786"
             ],
             [
              0.5555555555555556,
              "#d8576b"
             ],
             [
              0.6666666666666666,
              "#ed7953"
             ],
             [
              0.7777777777777778,
              "#fb9f3a"
             ],
             [
              0.8888888888888888,
              "#fdca26"
             ],
             [
              1,
              "#f0f921"
             ]
            ],
            "type": "heatmapgl"
           }
          ],
          "histogram": [
           {
            "marker": {
             "pattern": {
              "fillmode": "overlay",
              "size": 10,
              "solidity": 0.2
             }
            },
            "type": "histogram"
           }
          ],
          "histogram2d": [
           {
            "colorbar": {
             "outlinewidth": 0,
             "ticks": ""
            },
            "colorscale": [
             [
              0,
              "#0d0887"
             ],
             [
              0.1111111111111111,
              "#46039f"
             ],
             [
              0.2222222222222222,
              "#7201a8"
             ],
             [
              0.3333333333333333,
              "#9c179e"
             ],
             [
              0.4444444444444444,
              "#bd3786"
             ],
             [
              0.5555555555555556,
              "#d8576b"
             ],
             [
              0.6666666666666666,
              "#ed7953"
             ],
             [
              0.7777777777777778,
              "#fb9f3a"
             ],
             [
              0.8888888888888888,
              "#fdca26"
             ],
             [
              1,
              "#f0f921"
             ]
            ],
            "type": "histogram2d"
           }
          ],
          "histogram2dcontour": [
           {
            "colorbar": {
             "outlinewidth": 0,
             "ticks": ""
            },
            "colorscale": [
             [
              0,
              "#0d0887"
             ],
             [
              0.1111111111111111,
              "#46039f"
             ],
             [
              0.2222222222222222,
              "#7201a8"
             ],
             [
              0.3333333333333333,
              "#9c179e"
             ],
             [
              0.4444444444444444,
              "#bd3786"
             ],
             [
              0.5555555555555556,
              "#d8576b"
             ],
             [
              0.6666666666666666,
              "#ed7953"
             ],
             [
              0.7777777777777778,
              "#fb9f3a"
             ],
             [
              0.8888888888888888,
              "#fdca26"
             ],
             [
              1,
              "#f0f921"
             ]
            ],
            "type": "histogram2dcontour"
           }
          ],
          "mesh3d": [
           {
            "colorbar": {
             "outlinewidth": 0,
             "ticks": ""
            },
            "type": "mesh3d"
           }
          ],
          "parcoords": [
           {
            "line": {
             "colorbar": {
              "outlinewidth": 0,
              "ticks": ""
             }
            },
            "type": "parcoords"
           }
          ],
          "pie": [
           {
            "automargin": true,
            "type": "pie"
           }
          ],
          "scatter": [
           {
            "marker": {
             "colorbar": {
              "outlinewidth": 0,
              "ticks": ""
             }
            },
            "type": "scatter"
           }
          ],
          "scatter3d": [
           {
            "line": {
             "colorbar": {
              "outlinewidth": 0,
              "ticks": ""
             }
            },
            "marker": {
             "colorbar": {
              "outlinewidth": 0,
              "ticks": ""
             }
            },
            "type": "scatter3d"
           }
          ],
          "scattercarpet": [
           {
            "marker": {
             "colorbar": {
              "outlinewidth": 0,
              "ticks": ""
             }
            },
            "type": "scattercarpet"
           }
          ],
          "scattergeo": [
           {
            "marker": {
             "colorbar": {
              "outlinewidth": 0,
              "ticks": ""
             }
            },
            "type": "scattergeo"
           }
          ],
          "scattergl": [
           {
            "marker": {
             "colorbar": {
              "outlinewidth": 0,
              "ticks": ""
             }
            },
            "type": "scattergl"
           }
          ],
          "scattermapbox": [
           {
            "marker": {
             "colorbar": {
              "outlinewidth": 0,
              "ticks": ""
             }
            },
            "type": "scattermapbox"
           }
          ],
          "scatterpolar": [
           {
            "marker": {
             "colorbar": {
              "outlinewidth": 0,
              "ticks": ""
             }
            },
            "type": "scatterpolar"
           }
          ],
          "scatterpolargl": [
           {
            "marker": {
             "colorbar": {
              "outlinewidth": 0,
              "ticks": ""
             }
            },
            "type": "scatterpolargl"
           }
          ],
          "scatterternary": [
           {
            "marker": {
             "colorbar": {
              "outlinewidth": 0,
              "ticks": ""
             }
            },
            "type": "scatterternary"
           }
          ],
          "surface": [
           {
            "colorbar": {
             "outlinewidth": 0,
             "ticks": ""
            },
            "colorscale": [
             [
              0,
              "#0d0887"
             ],
             [
              0.1111111111111111,
              "#46039f"
             ],
             [
              0.2222222222222222,
              "#7201a8"
             ],
             [
              0.3333333333333333,
              "#9c179e"
             ],
             [
              0.4444444444444444,
              "#bd3786"
             ],
             [
              0.5555555555555556,
              "#d8576b"
             ],
             [
              0.6666666666666666,
              "#ed7953"
             ],
             [
              0.7777777777777778,
              "#fb9f3a"
             ],
             [
              0.8888888888888888,
              "#fdca26"
             ],
             [
              1,
              "#f0f921"
             ]
            ],
            "type": "surface"
           }
          ],
          "table": [
           {
            "cells": {
             "fill": {
              "color": "#EBF0F8"
             },
             "line": {
              "color": "white"
             }
            },
            "header": {
             "fill": {
              "color": "#C8D4E3"
             },
             "line": {
              "color": "white"
             }
            },
            "type": "table"
           }
          ]
         },
         "layout": {
          "annotationdefaults": {
           "arrowcolor": "#2a3f5f",
           "arrowhead": 0,
           "arrowwidth": 1
          },
          "autotypenumbers": "strict",
          "coloraxis": {
           "colorbar": {
            "outlinewidth": 0,
            "ticks": ""
           }
          },
          "colorscale": {
           "diverging": [
            [
             0,
             "#8e0152"
            ],
            [
             0.1,
             "#c51b7d"
            ],
            [
             0.2,
             "#de77ae"
            ],
            [
             0.3,
             "#f1b6da"
            ],
            [
             0.4,
             "#fde0ef"
            ],
            [
             0.5,
             "#f7f7f7"
            ],
            [
             0.6,
             "#e6f5d0"
            ],
            [
             0.7,
             "#b8e186"
            ],
            [
             0.8,
             "#7fbc41"
            ],
            [
             0.9,
             "#4d9221"
            ],
            [
             1,
             "#276419"
            ]
           ],
           "sequential": [
            [
             0,
             "#0d0887"
            ],
            [
             0.1111111111111111,
             "#46039f"
            ],
            [
             0.2222222222222222,
             "#7201a8"
            ],
            [
             0.3333333333333333,
             "#9c179e"
            ],
            [
             0.4444444444444444,
             "#bd3786"
            ],
            [
             0.5555555555555556,
             "#d8576b"
            ],
            [
             0.6666666666666666,
             "#ed7953"
            ],
            [
             0.7777777777777778,
             "#fb9f3a"
            ],
            [
             0.8888888888888888,
             "#fdca26"
            ],
            [
             1,
             "#f0f921"
            ]
           ],
           "sequentialminus": [
            [
             0,
             "#0d0887"
            ],
            [
             0.1111111111111111,
             "#46039f"
            ],
            [
             0.2222222222222222,
             "#7201a8"
            ],
            [
             0.3333333333333333,
             "#9c179e"
            ],
            [
             0.4444444444444444,
             "#bd3786"
            ],
            [
             0.5555555555555556,
             "#d8576b"
            ],
            [
             0.6666666666666666,
             "#ed7953"
            ],
            [
             0.7777777777777778,
             "#fb9f3a"
            ],
            [
             0.8888888888888888,
             "#fdca26"
            ],
            [
             1,
             "#f0f921"
            ]
           ]
          },
          "colorway": [
           "#636efa",
           "#EF553B",
           "#00cc96",
           "#ab63fa",
           "#FFA15A",
           "#19d3f3",
           "#FF6692",
           "#B6E880",
           "#FF97FF",
           "#FECB52"
          ],
          "font": {
           "color": "#2a3f5f"
          },
          "geo": {
           "bgcolor": "white",
           "lakecolor": "white",
           "landcolor": "#E5ECF6",
           "showlakes": true,
           "showland": true,
           "subunitcolor": "white"
          },
          "hoverlabel": {
           "align": "left"
          },
          "hovermode": "closest",
          "mapbox": {
           "style": "light"
          },
          "paper_bgcolor": "white",
          "plot_bgcolor": "#E5ECF6",
          "polar": {
           "angularaxis": {
            "gridcolor": "white",
            "linecolor": "white",
            "ticks": ""
           },
           "bgcolor": "#E5ECF6",
           "radialaxis": {
            "gridcolor": "white",
            "linecolor": "white",
            "ticks": ""
           }
          },
          "scene": {
           "xaxis": {
            "backgroundcolor": "#E5ECF6",
            "gridcolor": "white",
            "gridwidth": 2,
            "linecolor": "white",
            "showbackground": true,
            "ticks": "",
            "zerolinecolor": "white"
           },
           "yaxis": {
            "backgroundcolor": "#E5ECF6",
            "gridcolor": "white",
            "gridwidth": 2,
            "linecolor": "white",
            "showbackground": true,
            "ticks": "",
            "zerolinecolor": "white"
           },
           "zaxis": {
            "backgroundcolor": "#E5ECF6",
            "gridcolor": "white",
            "gridwidth": 2,
            "linecolor": "white",
            "showbackground": true,
            "ticks": "",
            "zerolinecolor": "white"
           }
          },
          "shapedefaults": {
           "line": {
            "color": "#2a3f5f"
           }
          },
          "ternary": {
           "aaxis": {
            "gridcolor": "white",
            "linecolor": "white",
            "ticks": ""
           },
           "baxis": {
            "gridcolor": "white",
            "linecolor": "white",
            "ticks": ""
           },
           "bgcolor": "#E5ECF6",
           "caxis": {
            "gridcolor": "white",
            "linecolor": "white",
            "ticks": ""
           }
          },
          "title": {
           "x": 0.05
          },
          "xaxis": {
           "automargin": true,
           "gridcolor": "white",
           "linecolor": "white",
           "ticks": "",
           "title": {
            "standoff": 15
           },
           "zerolinecolor": "white",
           "zerolinewidth": 2
          },
          "yaxis": {
           "automargin": true,
           "gridcolor": "white",
           "linecolor": "white",
           "ticks": "",
           "title": {
            "standoff": 15
           },
           "zerolinecolor": "white",
           "zerolinewidth": 2
          }
         }
        },
        "title": {
         "text": "Gaussian Sample: Sigmas are 9.0, 4.0 and 2.0"
        },
        "width": 800
       }
      },
      "text/html": [
       "<div>                            <div id=\"0335bb3e-a5aa-4465-accc-f9b29b1bdc56\" class=\"plotly-graph-div\" style=\"height:800px; width:800px;\"></div>            <script type=\"text/javascript\">                require([\"plotly\"], function(Plotly) {                    window.PLOTLYENV=window.PLOTLYENV || {};                                    if (document.getElementById(\"0335bb3e-a5aa-4465-accc-f9b29b1bdc56\")) {                    Plotly.newPlot(                        \"0335bb3e-a5aa-4465-accc-f9b29b1bdc56\",                        [{\"marker\":{\"size\":4},\"mode\":\"markers\",\"showlegend\":false,\"x\":[16.791970600302808,-3.084188346723139,14.27415134530817,2.5289268096152937,2.765695687889484,-4.31256814060761,9.823561667302156,-15.828655377808028,4.470427377101094,9.800555372706295,2.254435653112889,-3.8419296295267804,-5.855783122096442,3.6364577113308454,12.97145960159504,13.707268707672227,-0.17114587112419946,-5.073520975235772,2.95875998693716,0.8736979441323635,-10.765859616726036,-5.435866680442385,-0.6480910942230046,16.885537552942978,-5.394533808996199,-13.633625022172781,0.1657654127059653,-12.39902431161382,8.42110553832715,2.1205310229770933,-3.4678223717558416,7.428747140892269,-0.8704180068335314,7.47302234889821,-8.914826926176195,-0.11022095562223161,-6.094455403609005,-0.294252732846838,1.3527158531568984,-5.806077791446119,0.18903457469483143,2.6650824935811843,-3.4609998980684282,0.8258469888195207,3.213139373685426,-20.717290482620264,1.041071708635728,-5.819155958182739,1.9481273062377737,-2.0784107718781017,2.3375025154933367,10.293786388862362,0.09209754917628343,7.408535255657231,-7.342292564688945,3.4678564175595312,3.2140131436057175,19.0994057731137,8.7441385585892,13.081806694415851,-15.232181667433375,6.8128975498081665,-6.2975295719332705,12.200740729244558,11.764284788541852,4.624073558209879,-0.2386248790429519,23.160238229248744,-5.162958061922127,-0.33871232182363525,6.176341713370621,-10.518102338575789,-5.96361383051262,6.302788914680923,3.615405498890473,5.695036794956564,14.338679639754574,-8.458918076946198,0.523878466013999,3.715028342428485,2.801251390891825,7.5212290085862765,2.990826107816325,-1.9719047592797783,-4.774510328494747,2.5197176368783825,23.040760844419154,19.70822639895905,12.974117585921103,13.060292470155375,-18.737364670953497,-11.884109517758487,-8.309099214998138,16.483128892689184,-3.7068926951022063,-4.899444520726644,5.605649391127489,3.9943748533160557,1.1629906377770476,-7.429474771132604,0.16590539758853842,2.177660444094307,-5.060587763168754,-1.988726395799007,7.119287523387422,-12.871272401645694,5.543420462498374,0.6963147688285647,2.917497172395979,2.935197200179062,7.124964245666423,10.139085265929817,5.908982477704468,-6.832193953983282,4.850190393161928,-2.7829113826609313,-6.339093214884834,18.67860718780895,10.510038554938266,2.090283274449032,5.138014596238503,-0.2171257839900295,-9.072776798256637,-6.437733383339714,-7.004742528620814,-5.415359510064572,11.140346807761155,-7.000350188317878,4.259138621161903,3.6742748014302467,-6.957088054699199,5.631006129885056,-10.121778826540822,-0.5357282045562007,-15.330441954196392,5.454089562110757,-6.955426930838146,6.762484110346101,5.047060737314109,4.253377341717387,14.212915339566523,1.9268436971718357,-15.418210761817898,3.6448353986486,5.19364914462486,13.464398803402647,4.67411862817055,1.8311727228050079,-10.161465940955063,-7.276442426038688,13.949409645157855,-7.775916927118344,2.016832336293751,-17.568790195702515,-3.465740523746849,7.934757812545055,1.8797723550427987,-2.111284200376322,-3.248695492371719,-6.906128065992446,4.508254688619427,-6.964102791932158,-1.151258323326899,18.546731323937884,-0.9632732395910204,1.7915372601612303,4.883040392273682,-2.597927750281245,-1.0408345414941647,9.482776169470556,-14.953680560420638,17.184749764231174,-6.328587826132987,2.3179535165048795,-6.798446391179903,4.658931184222108,-9.560733423534945,14.98927000016319,4.536418639660599,14.804709421511554,2.2339852767030246,-1.6641192279869013,11.498984062095824,0.6668530237779766,-7.880564280462814,2.0884494362187267,7.791796747531094,-11.655708948572546,5.862521261752182,-16.24393890598067,2.204699139978505,1.0826606854070897,-8.172216679690898,-6.465997991271924,19.295496803927932,1.7717511228221117,0.04719329746364849,-4.358106655796262,4.329083085630419,-0.5641118754585469,-2.42466151000102,9.337859498321093,-6.478597875552378,3.3812821651110476,-2.948959319379914,-3.3733872679463777,7.397122539377015,-9.054156433497319,-10.780901033299637,2.4902171939701714,-8.68431114522094,-11.516192700621314,-2.2731133625384428,-1.1320822808968334,4.439861107928003,-8.808873442040767,-4.29891702088605,4.243215214223961,13.278205952545967,-2.336322162272443,-7.132686645894306,-11.740225504543679,-2.2947949567876975,-2.031986704378821,-4.274507800448606,-2.4545121277290343,1.678088832924849,4.3422517371886675,2.770215920028533,7.321654956327028,10.427360211066636,-2.2084930440258344,0.736867254476903,3.0925646061161527,10.810925299475503,2.338945148235812,3.5500692814046717,-4.531280887045793,-7.46095509829865,9.278995702463558,-9.519398360603104,-4.4370084119294955,5.493332388901184,-4.8908229402038845,-5.866524970219433,-8.168072958374381,5.356413228932222,-10.999150280027509,6.689376846204435,-8.085732042135222,-3.084430648740925,-1.7312486830301026,-0.3224343519895638,-12.616659565130528,-1.8197338719050467,2.4341114320185495],\"y\":[1.89533168364715,-1.4857634639831658,-4.951261995307396,-2.490798079282375,3.2514484753558404,-0.7426359066552685,4.984340769990516,-4.7330340506631,-0.5530572046847386,0.2571200763818511,1.3857928379879028,-4.04841750104067,-1.9485015350587842,7.544743604842121,-5.7434486047177575,-0.9366134988933439,-4.010117458551235,-3.288881582265726,-2.1190408150681552,3.874579962131557,3.250103289576792,0.34635914989159966,4.014131591568097,3.801695352744201,-8.495582897239228,-1.7860598082680843,6.705749249101131,-3.751300159660491,5.086220379976635,3.0834607755478673,0.45406938100499217,3.254038544002554,-2.179676347235799,-3.424335303635469,-2.2651909184110877,-3.589017485943326,3.9004789336710046,-8.269768400159506,-1.4544488488554235,1.4455824220336557,2.7278118851798556,1.0442210887195573,4.025171236857762,-7.950275658403571,-2.771638381042617,-6.060764248794209,4.717188736255306,-4.32619201445758,0.18228735961525513,2.7848254592536734,-3.6172665004176343,1.3539856299776565,-3.9260346041918037,0.29327186875361555,-0.3084068376564168,-3.535429744804532,5.911576178966064,4.129861042204587,2.58150379834059,-1.0586273329518243,6.118201277842455,-3.6886612967105017,0.855919642936888,1.6537396128948034,-6.42993293824491,2.0601907452241917,0.24092083976410575,0.23687373605795303,-2.1874357649615686,4.413207528066086,-6.450863484758607,4.571291258060082,2.2823946743726373,-2.3025513049510957,2.76057596684445,9.082771431217584,-2.0448627057247406,-2.055467669346774,-4.571881191322492,3.28824063997796,12.31552323382095,-4.518827418630472,-2.9939461462262145,3.3176223247339567,-2.30327296257872,-4.501956189193506,-0.3842395988985995,-3.233193141420606,-9.886578000509157,3.8370833043408274,6.785825473160153,2.0877662624675906,-5.4067384224653345,4.717760482885148,-1.9504248962899742,0.44369035883946434,-4.2704817175303775,3.098536213717347,0.43757917841957156,-1.2855433666119738,1.3903268214466842,-7.653120978631192,-4.051324481337695,2.456666800173701,-3.6375498191789557,-1.760177946787935,2.372405031873535,-3.4451368053130547,-0.5205722174707383,-5.004454305541212,2.4964792682086205,-1.0755547622193222,-3.8987266809092858,0.6015751459048305,-4.148984617305826,1.3250537256142558,-5.633845185454239,3.4844988137267694,1.0176833732048525,1.172289893194725,4.542262560722396,0.7923390430714198,-7.483167684103423,2.7183909957387034,0.7833810203907262,7.409112738035751,-6.377710635177468,-4.442303381863315,-0.2913156506274911,-6.8103344169513615,0.09804069703577085,-3.42863022566513,-6.136456682942489,-12.96506936027629,-0.22219079558647511,-5.121717409985132,-0.9472744269600355,-6.677621124485487,4.332204972701108,1.0241189372555026,3.069738916611635,-4.982955114847952,5.415489496661651,-5.043535817340181,-0.8121815441719707,2.617462625416231,6.130955652010311,-3.0254029811372134,-2.0980810651190946,-2.007028174338146,-3.1330131693449483,0.19408651177930797,0.05036960312717944,-0.6071403801423333,-2.707688001223835,-0.03189056526646949,-7.838680495519102,-5.661482968201657,4.637319213456992,3.4892825468827127,-3.910220979194204,-4.978618813245668,-3.822161762401703,7.021363369772818,-4.140969289677496,-2.4008675086351787,-1.853670771249849,1.290874241352358,-1.2044147823571552,-3.797595555327772,-0.2643191945892663,-5.594270295276565,-0.1399539619878468,-0.29778366306466886,-2.446071211967793,-2.9029752526138624,1.8943697225407263,4.057480260072522,-2.121030473489763,-0.9961441582255133,-1.8374435981609765,-2.090892082076158,-2.3662855553433197,6.514462182285167,-5.531198923857344,-5.7923373659892965,-4.801185628223105,-1.3431387971605129,-1.2610769785613825,-6.510169751532651,-2.027772701484519,2.057755336234996,-5.649214805341166,-0.853788606847389,2.535676089272045,2.9538663199816417,0.18792237505896822,5.067644596746491,0.8955360971165255,3.820569282004953,2.8701690231838493,-2.040065595418988,-1.84255508383915,-2.40255475967522,-1.5684326125286305,2.843839872813966,0.34818827295268484,-4.856754451150929,7.858900531665557,3.308732996144095,2.7442058399937572,-2.4992743107827153,-4.991132727859398,0.22289964915477842,0.7393444947794956,-1.7771730403044463,1.9159193029855675,7.528097985900135,3.4306384928080775,-6.012571812472425,-0.45894576586759606,2.678690195320154,6.015971954330754,0.27011281875169535,-2.6133169302948476,-10.787546571766287,-2.647145859073552,-0.8938511413034036,-6.840673570626502,-4.923457265735821,-3.282729273406842,-3.0149446574299583,9.258634266694035,-7.052160621450936,-1.6323014920862056,3.1272914871092414,-1.6839379232810519,-6.202653724264531,-2.2407241607878783,3.7251204764647943,3.290179648412756,-2.357459027776846,-0.08360637585659253,-2.8513831307086575,0.18959468526565607,-2.307085322273331,-3.27288273293389,2.8519937206895523,0.6834617525117674,1.9676766860260229,-3.2091090768864756,1.2061893693344499,6.258574623256025,2.347428375201081,-0.8707248129088812,-0.2009524377965478],\"z\":[-2.382606994405297,-2.8150233894356425,4.266066749312533,-0.41624450071455044,1.2592576838472245,-2.2126699480120564,-4.146780464816299,-4.078464355520201,1.295377076201385,-2.1554895558586122,-1.3600494431569816,-3.3097133437315387,-1.1847878484777383,0.3491556256636779,2.326327504309919,-0.4682739138983611,-0.03702627198477986,0.4873744229838246,1.0265348662267122,-1.4041061877547047,2.712480057141646,-0.31135447078415895,0.7232720500952683,-1.1538073113248062,-1.051510043361522,1.7127975886469446,0.6538547475283253,1.0300705344173195,1.4433441280864703,-2.957172491559683,1.3242613490420934,2.610957614308658,0.7982722287041417,0.14313247443878493,0.19930273017528244,0.15160911638745267,-0.2941147630042773,-0.17824007902557681,-0.11389124744213491,3.0760731329319384,-0.6205335131869121,0.01022691328492178,-1.1537837390462975,-0.43934377567502386,1.7991997508665014,2.7337485348890493,0.1350369628202179,3.3742832701451295,-1.3032006952116342,3.6979121898906904,1.2771849175547478,-0.8305758278016026,0.9242069485265415,-2.5799217994821078,0.6823039496332878,0.3074502118910558,-1.0365404365472948,-3.038739931908027,2.7372631150646973,5.440338333179238,-0.31601579715797884,1.7392118402113204,-0.22465609938165965,3.753591625116132,0.3692677170646084,7.705462981309442,4.926484224970572,0.027858583825892406,-0.06550654043199677,0.2284552973240793,-0.9438637315788669,1.5038660653735483,-1.5265183130850337,0.24401962929072288,-0.8024409437716725,0.3637325101169903,-1.9792096405171618,-2.118427043777903,0.7155747206965666,3.7935859653078947,2.2391498228691535,1.0596083558305656,3.102303951045046,-4.42227061801577,-0.550103394303288,4.891503959233653,2.2985466525713516,-1.6794436843615521,-1.5937905109409536,4.306364915023113,0.4220349344052368,0.5939693464663721,-1.9517465059546655,-0.9383513042094096,-0.8651163756392418,-2.3019871548446056,-0.284758970042587,-1.853860943156166,1.451533247797384,0.8258629085512487,-1.079519360618723,-3.4498356650260655,0.6284946651905478,1.5150154200946102,2.8055886218721984,0.2614811545721827,-0.6190928786279806,3.0462481545393145,0.19399192998543638,1.848054038413802,1.2566910185285598,-2.2130518174833407,1.574169207484904,0.6835119515543189,-0.3806773561672164,1.9510902542447184,-3.1132583470478075,-0.6520470643356823,0.6752053241504044,-1.4287028360527356,1.9080035269864046,-0.28872082384788494,-0.7030269680826173,-1.4607332634342733,-1.956745555230064,-0.026994449475867842,-1.1987500459075457,3.5045408868472454,-1.69358743613681,2.0583112746512873,0.9959965824908995,-2.1417849961222246,2.555353643797018,-2.0487752826685797,0.7681308978786145,3.5095883639687293,-0.9707270956582069,1.08672038475987,2.107604104069806,1.9653819678910278,-0.9389487718699042,0.346361851702364,-0.22907969050523577,1.8357238941095522,0.7422917467426177,-0.11116934182091014,-0.2175202969137152,-2.8445074191953483,0.9787491224558361,1.8308042354041483,-0.6441230324113512,-1.6619002328220756,0.19535219709766344,1.176634412969153,1.2233525776817358,2.9598882777800517,-2.656372097796861,-0.8412906455307181,-2.1621266551997946,0.3666840114767035,0.19866461085845175,-3.557440497808557,-3.212892640515145,-0.497928296958147,-1.107298610694364,0.13960416998003783,-0.9314595071405137,-1.654461887104646,-2.9570439807348547,5.264764129674782,-2.4220323995249133,1.1259384733811417,3.54160127127102,-3.837542430598083,-2.8133221936964445,0.37353352895415665,-1.8388484684676063,-3.6817484626632906,-1.5857456645246883,1.1531139261115328,-1.6996887389295836,2.0980184516737785,1.0941947623400758,-2.7602029164297828,1.8523550950632828,-2.8149275487531105,-0.6690024716818967,3.338043050578786,1.5179384409865349,0.09616989332276399,-0.9420766112366455,1.4232297561777796,2.931297537843108,0.6218151311960092,-4.050285173315214,0.342736562379941,-0.9001309429584873,-1.4153389312375615,-1.5809489108906238,-1.9714520926710875,3.004714104192056,-0.5397498705867425,2.1142444524378314,-0.5833874995865536,-2.927029896264237,0.8885266229720795,-0.5980147009317348,2.3162217470001356,0.07052710394345722,0.02600378375581404,2.1168489736991756,0.05218210042166757,3.2648226078632705,2.188383036941897,-1.7167155603624271,0.7546009860897044,0.6673242105738966,2.6908400923099554,-0.3198770599268542,-0.49148612817188864,1.0099745579609143,0.7331964921936965,-5.301939616786024,-2.8494963724269136,3.5309084805621938,-0.10858973303562441,1.704866669592448,1.428000988184184,-2.696370844211426,0.45491986920825883,1.9267522584886436,-1.7790288592510466,-3.734530385183496,0.64816793878959,-4.076249070355708,-2.473901421756164,0.5795497137928258,0.13712594961205465,1.4945872102465236,-1.678435046445277,-2.4416872999420445,1.6992041940420493,0.234654766617564,0.21286045538379367,-1.7208267305679048,1.510782451651512,4.1847745513709205,-0.48065079631627006,-0.36796667270535827,-2.6404664140412843,-0.32257142333201827,-0.06942353941048662,-5.239490208179489,4.380911251619957,2.19755370397438,-0.4778960937328195],\"type\":\"scatter3d\"},{\"mode\":\"lines\",\"showlegend\":false,\"x\":[-30,30],\"y\":[0,0],\"z\":[0,0],\"type\":\"scatter3d\"},{\"mode\":\"lines\",\"showlegend\":false,\"x\":[0,0],\"y\":[-30,30],\"z\":[0,0],\"type\":\"scatter3d\"},{\"mode\":\"lines\",\"showlegend\":false,\"x\":[0,0],\"y\":[0,0],\"z\":[-30,30],\"type\":\"scatter3d\"}],                        {\"colorway\":[\"black\",\"red\",\"green\",\"blue\"],\"height\":800,\"title\":{\"text\":\"Gaussian Sample: Sigmas are 9.0, 4.0 and 2.0\"},\"width\":800,\"template\":{\"data\":{\"bar\":[{\"error_x\":{\"color\":\"#2a3f5f\"},\"error_y\":{\"color\":\"#2a3f5f\"},\"marker\":{\"line\":{\"color\":\"#E5ECF6\",\"width\":0.5},\"pattern\":{\"fillmode\":\"overlay\",\"size\":10,\"solidity\":0.2}},\"type\":\"bar\"}],\"barpolar\":[{\"marker\":{\"line\":{\"color\":\"#E5ECF6\",\"width\":0.5},\"pattern\":{\"fillmode\":\"overlay\",\"size\":10,\"solidity\":0.2}},\"type\":\"barpolar\"}],\"carpet\":[{\"aaxis\":{\"endlinecolor\":\"#2a3f5f\",\"gridcolor\":\"white\",\"linecolor\":\"white\",\"minorgridcolor\":\"white\",\"startlinecolor\":\"#2a3f5f\"},\"baxis\":{\"endlinecolor\":\"#2a3f5f\",\"gridcolor\":\"white\",\"linecolor\":\"white\",\"minorgridcolor\":\"white\",\"startlinecolor\":\"#2a3f5f\"},\"type\":\"carpet\"}],\"choropleth\":[{\"colorbar\":{\"outlinewidth\":0,\"ticks\":\"\"},\"type\":\"choropleth\"}],\"contour\":[{\"colorbar\":{\"outlinewidth\":0,\"ticks\":\"\"},\"colorscale\":[[0.0,\"#0d0887\"],[0.1111111111111111,\"#46039f\"],[0.2222222222222222,\"#7201a8\"],[0.3333333333333333,\"#9c179e\"],[0.4444444444444444,\"#bd3786\"],[0.5555555555555556,\"#d8576b\"],[0.6666666666666666,\"#ed7953\"],[0.7777777777777778,\"#fb9f3a\"],[0.8888888888888888,\"#fdca26\"],[1.0,\"#f0f921\"]],\"type\":\"contour\"}],\"contourcarpet\":[{\"colorbar\":{\"outlinewidth\":0,\"ticks\":\"\"},\"type\":\"contourcarpet\"}],\"heatmap\":[{\"colorbar\":{\"outlinewidth\":0,\"ticks\":\"\"},\"colorscale\":[[0.0,\"#0d0887\"],[0.1111111111111111,\"#46039f\"],[0.2222222222222222,\"#7201a8\"],[0.3333333333333333,\"#9c179e\"],[0.4444444444444444,\"#bd3786\"],[0.5555555555555556,\"#d8576b\"],[0.6666666666666666,\"#ed7953\"],[0.7777777777777778,\"#fb9f3a\"],[0.8888888888888888,\"#fdca26\"],[1.0,\"#f0f921\"]],\"type\":\"heatmap\"}],\"heatmapgl\":[{\"colorbar\":{\"outlinewidth\":0,\"ticks\":\"\"},\"colorscale\":[[0.0,\"#0d0887\"],[0.1111111111111111,\"#46039f\"],[0.2222222222222222,\"#7201a8\"],[0.3333333333333333,\"#9c179e\"],[0.4444444444444444,\"#bd3786\"],[0.5555555555555556,\"#d8576b\"],[0.6666666666666666,\"#ed7953\"],[0.7777777777777778,\"#fb9f3a\"],[0.8888888888888888,\"#fdca26\"],[1.0,\"#f0f921\"]],\"type\":\"heatmapgl\"}],\"histogram\":[{\"marker\":{\"pattern\":{\"fillmode\":\"overlay\",\"size\":10,\"solidity\":0.2}},\"type\":\"histogram\"}],\"histogram2d\":[{\"colorbar\":{\"outlinewidth\":0,\"ticks\":\"\"},\"colorscale\":[[0.0,\"#0d0887\"],[0.1111111111111111,\"#46039f\"],[0.2222222222222222,\"#7201a8\"],[0.3333333333333333,\"#9c179e\"],[0.4444444444444444,\"#bd3786\"],[0.5555555555555556,\"#d8576b\"],[0.6666666666666666,\"#ed7953\"],[0.7777777777777778,\"#fb9f3a\"],[0.8888888888888888,\"#fdca26\"],[1.0,\"#f0f921\"]],\"type\":\"histogram2d\"}],\"histogram2dcontour\":[{\"colorbar\":{\"outlinewidth\":0,\"ticks\":\"\"},\"colorscale\":[[0.0,\"#0d0887\"],[0.1111111111111111,\"#46039f\"],[0.2222222222222222,\"#7201a8\"],[0.3333333333333333,\"#9c179e\"],[0.4444444444444444,\"#bd3786\"],[0.5555555555555556,\"#d8576b\"],[0.6666666666666666,\"#ed7953\"],[0.7777777777777778,\"#fb9f3a\"],[0.8888888888888888,\"#fdca26\"],[1.0,\"#f0f921\"]],\"type\":\"histogram2dcontour\"}],\"mesh3d\":[{\"colorbar\":{\"outlinewidth\":0,\"ticks\":\"\"},\"type\":\"mesh3d\"}],\"parcoords\":[{\"line\":{\"colorbar\":{\"outlinewidth\":0,\"ticks\":\"\"}},\"type\":\"parcoords\"}],\"pie\":[{\"automargin\":true,\"type\":\"pie\"}],\"scatter\":[{\"marker\":{\"colorbar\":{\"outlinewidth\":0,\"ticks\":\"\"}},\"type\":\"scatter\"}],\"scatter3d\":[{\"line\":{\"colorbar\":{\"outlinewidth\":0,\"ticks\":\"\"}},\"marker\":{\"colorbar\":{\"outlinewidth\":0,\"ticks\":\"\"}},\"type\":\"scatter3d\"}],\"scattercarpet\":[{\"marker\":{\"colorbar\":{\"outlinewidth\":0,\"ticks\":\"\"}},\"type\":\"scattercarpet\"}],\"scattergeo\":[{\"marker\":{\"colorbar\":{\"outlinewidth\":0,\"ticks\":\"\"}},\"type\":\"scattergeo\"}],\"scattergl\":[{\"marker\":{\"colorbar\":{\"outlinewidth\":0,\"ticks\":\"\"}},\"type\":\"scattergl\"}],\"scattermapbox\":[{\"marker\":{\"colorbar\":{\"outlinewidth\":0,\"ticks\":\"\"}},\"type\":\"scattermapbox\"}],\"scatterpolar\":[{\"marker\":{\"colorbar\":{\"outlinewidth\":0,\"ticks\":\"\"}},\"type\":\"scatterpolar\"}],\"scatterpolargl\":[{\"marker\":{\"colorbar\":{\"outlinewidth\":0,\"ticks\":\"\"}},\"type\":\"scatterpolargl\"}],\"scatterternary\":[{\"marker\":{\"colorbar\":{\"outlinewidth\":0,\"ticks\":\"\"}},\"type\":\"scatterternary\"}],\"surface\":[{\"colorbar\":{\"outlinewidth\":0,\"ticks\":\"\"},\"colorscale\":[[0.0,\"#0d0887\"],[0.1111111111111111,\"#46039f\"],[0.2222222222222222,\"#7201a8\"],[0.3333333333333333,\"#9c179e\"],[0.4444444444444444,\"#bd3786\"],[0.5555555555555556,\"#d8576b\"],[0.6666666666666666,\"#ed7953\"],[0.7777777777777778,\"#fb9f3a\"],[0.8888888888888888,\"#fdca26\"],[1.0,\"#f0f921\"]],\"type\":\"surface\"}],\"table\":[{\"cells\":{\"fill\":{\"color\":\"#EBF0F8\"},\"line\":{\"color\":\"white\"}},\"header\":{\"fill\":{\"color\":\"#C8D4E3\"},\"line\":{\"color\":\"white\"}},\"type\":\"table\"}]},\"layout\":{\"annotationdefaults\":{\"arrowcolor\":\"#2a3f5f\",\"arrowhead\":0,\"arrowwidth\":1},\"autotypenumbers\":\"strict\",\"coloraxis\":{\"colorbar\":{\"outlinewidth\":0,\"ticks\":\"\"}},\"colorscale\":{\"diverging\":[[0,\"#8e0152\"],[0.1,\"#c51b7d\"],[0.2,\"#de77ae\"],[0.3,\"#f1b6da\"],[0.4,\"#fde0ef\"],[0.5,\"#f7f7f7\"],[0.6,\"#e6f5d0\"],[0.7,\"#b8e186\"],[0.8,\"#7fbc41\"],[0.9,\"#4d9221\"],[1,\"#276419\"]],\"sequential\":[[0.0,\"#0d0887\"],[0.1111111111111111,\"#46039f\"],[0.2222222222222222,\"#7201a8\"],[0.3333333333333333,\"#9c179e\"],[0.4444444444444444,\"#bd3786\"],[0.5555555555555556,\"#d8576b\"],[0.6666666666666666,\"#ed7953\"],[0.7777777777777778,\"#fb9f3a\"],[0.8888888888888888,\"#fdca26\"],[1.0,\"#f0f921\"]],\"sequentialminus\":[[0.0,\"#0d0887\"],[0.1111111111111111,\"#46039f\"],[0.2222222222222222,\"#7201a8\"],[0.3333333333333333,\"#9c179e\"],[0.4444444444444444,\"#bd3786\"],[0.5555555555555556,\"#d8576b\"],[0.6666666666666666,\"#ed7953\"],[0.7777777777777778,\"#fb9f3a\"],[0.8888888888888888,\"#fdca26\"],[1.0,\"#f0f921\"]]},\"colorway\":[\"#636efa\",\"#EF553B\",\"#00cc96\",\"#ab63fa\",\"#FFA15A\",\"#19d3f3\",\"#FF6692\",\"#B6E880\",\"#FF97FF\",\"#FECB52\"],\"font\":{\"color\":\"#2a3f5f\"},\"geo\":{\"bgcolor\":\"white\",\"lakecolor\":\"white\",\"landcolor\":\"#E5ECF6\",\"showlakes\":true,\"showland\":true,\"subunitcolor\":\"white\"},\"hoverlabel\":{\"align\":\"left\"},\"hovermode\":\"closest\",\"mapbox\":{\"style\":\"light\"},\"paper_bgcolor\":\"white\",\"plot_bgcolor\":\"#E5ECF6\",\"polar\":{\"angularaxis\":{\"gridcolor\":\"white\",\"linecolor\":\"white\",\"ticks\":\"\"},\"bgcolor\":\"#E5ECF6\",\"radialaxis\":{\"gridcolor\":\"white\",\"linecolor\":\"white\",\"ticks\":\"\"}},\"scene\":{\"xaxis\":{\"backgroundcolor\":\"#E5ECF6\",\"gridcolor\":\"white\",\"gridwidth\":2,\"linecolor\":\"white\",\"showbackground\":true,\"ticks\":\"\",\"zerolinecolor\":\"white\"},\"yaxis\":{\"backgroundcolor\":\"#E5ECF6\",\"gridcolor\":\"white\",\"gridwidth\":2,\"linecolor\":\"white\",\"showbackground\":true,\"ticks\":\"\",\"zerolinecolor\":\"white\"},\"zaxis\":{\"backgroundcolor\":\"#E5ECF6\",\"gridcolor\":\"white\",\"gridwidth\":2,\"linecolor\":\"white\",\"showbackground\":true,\"ticks\":\"\",\"zerolinecolor\":\"white\"}},\"shapedefaults\":{\"line\":{\"color\":\"#2a3f5f\"}},\"ternary\":{\"aaxis\":{\"gridcolor\":\"white\",\"linecolor\":\"white\",\"ticks\":\"\"},\"baxis\":{\"gridcolor\":\"white\",\"linecolor\":\"white\",\"ticks\":\"\"},\"bgcolor\":\"#E5ECF6\",\"caxis\":{\"gridcolor\":\"white\",\"linecolor\":\"white\",\"ticks\":\"\"}},\"title\":{\"x\":0.05},\"xaxis\":{\"automargin\":true,\"gridcolor\":\"white\",\"linecolor\":\"white\",\"ticks\":\"\",\"title\":{\"standoff\":15},\"zerolinecolor\":\"white\",\"zerolinewidth\":2},\"yaxis\":{\"automargin\":true,\"gridcolor\":\"white\",\"linecolor\":\"white\",\"ticks\":\"\",\"title\":{\"standoff\":15},\"zerolinecolor\":\"white\",\"zerolinewidth\":2}}}},                        {\"responsive\": true}                    ).then(function(){\n",
       "                            \n",
       "var gd = document.getElementById('0335bb3e-a5aa-4465-accc-f9b29b1bdc56');\n",
       "var x = new MutationObserver(function (mutations, observer) {{\n",
       "        var display = window.getComputedStyle(gd).display;\n",
       "        if (!display || display === 'none') {{\n",
       "            console.log([gd, 'removed!']);\n",
       "            Plotly.purge(gd);\n",
       "            observer.disconnect();\n",
       "        }}\n",
       "}});\n",
       "\n",
       "// Listen for the removal of the full notebook cells\n",
       "var notebookContainer = gd.closest('#notebook-container');\n",
       "if (notebookContainer) {{\n",
       "    x.observe(notebookContainer, {childList: true});\n",
       "}}\n",
       "\n",
       "// Listen for the clearing of the current output cell\n",
       "var outputEl = gd.closest('.output');\n",
       "if (outputEl) {{\n",
       "    x.observe(outputEl, {childList: true});\n",
       "}}\n",
       "\n",
       "                        })                };                });            </script>        </div>"
      ]
     },
     "metadata": {},
     "output_type": "display_data"
    }
   ],
   "source": [
    "trace1 = go.Scatter3d(\n",
    "   x = X[:,0], y = X[:,1], z = X[:,2], mode = 'markers', showlegend=False,\n",
    "    marker = dict(\n",
    "      size = 4\n",
    "      )    \n",
    "   )\n",
    "bnd = 30\n",
    "axes = [go.Scatter3d(x = [-bnd,bnd], y = [0,0], z = [0,0], mode = 'lines', showlegend=False),\n",
    "        go.Scatter3d(x = [0,0], y = [-bnd,bnd], z = [0,0], mode = 'lines', showlegend=False),\n",
    "        go.Scatter3d(x = [0,0], y = [0,0], z = [-bnd,bnd], mode = 'lines', showlegend=False)]\n",
    "\n",
    "layout = go.Layout(title = 'Gaussian Sample: Sigmas are 9.0, 4.0 and 2.0',\n",
    "                  colorway=[\"black\", \"red\", \"green\", \"blue\"], width=800, height=800,)\n",
    "\n",
    "fig = go.Figure(data = [trace1] + axes, layout = layout)\n",
    "\n",
    "fig.show()"
   ]
  },
  {
   "cell_type": "markdown",
   "id": "2d0c589f",
   "metadata": {},
   "source": [
    "## Generate a Random Rotation\n",
    "\n",
    "Now let us rotate the data so it is expressed in a new randomly chosen set of three mutually orthongal basis vectors."
   ]
  },
  {
   "cell_type": "code",
   "execution_count": 33,
   "id": "d33f2c79",
   "metadata": {},
   "outputs": [
    {
     "name": "stdout",
     "output_type": "stream",
     "text": [
      "Test Rot times Rot transpose is identify:\n",
      " [[ 1.00000000e+00  3.28414675e-17 -1.08097145e-16]\n",
      " [ 3.28414675e-17  1.00000000e+00  1.17794973e-16]\n",
      " [-1.08097145e-16  1.17794973e-16  1.00000000e+00]]\n"
     ]
    }
   ],
   "source": [
    "seed = 12\n",
    "rng = np.random.default_rng(seed)\n",
    "\n",
    "row1 = 2 * rng.random(3) - 1\n",
    "row1 = row1 / np.linalg.norm(row1)\n",
    "up   = 2 * rng.random(3) - 1\n",
    "row2 = np.cross(up,row1)\n",
    "row2 = row2 / np.linalg.norm(row2)\n",
    "row3 = np.cross(row1,row2)\n",
    "Rot = np.array([row1, row2, row3])\n",
    "print(f'Test Rot times Rot transpose is identify:\\n {np.matmul(Rot.T,Rot)}')"
   ]
  },
  {
   "cell_type": "code",
   "execution_count": 34,
   "id": "5ed03426",
   "metadata": {},
   "outputs": [],
   "source": [
    "Xr = np.matmul(X,Rot.T)"
   ]
  },
  {
   "cell_type": "code",
   "execution_count": 35,
   "id": "1f402311",
   "metadata": {},
   "outputs": [
    {
     "data": {
      "application/vnd.plotly.v1+json": {
       "config": {
        "plotlyServerURL": "https://plot.ly"
       },
       "data": [
        {
         "marker": {
          "size": 4
         },
         "mode": "markers",
         "showlegend": false,
         "type": "scatter3d",
         "x": [
          -4.33949817787366,
          1.636275120038944,
          -11.853262675235452,
          -2.6960867527805488,
          0.6219327088290697,
          2.389725529689661,
          1.7832972480535172,
          5.174150349853473,
          -2.946462262503268,
          -2.7694764134926046,
          0.8018362168516646,
          0.29562885259709354,
          1.5985190042553368,
          3.9366031688216117,
          -10.8953216676305,
          -6.162885994071842,
          -2.902911076498828,
          -0.5957215852699334,
          -3.346486849695687,
          3.2573321791075336,
          5.500229305244744,
          2.6833115537192413,
          2.8907548987778697,
          -3.5933021393851625,
          -3.5498233269829607,
          3.453831327176599,
          4.597132356474225,
          1.8272565992134315,
          -0.458594254697141,
          2.9538901573718532,
          1.0952979225107888,
          -2.01919547085484,
          -1.6790345210338613,
          -5.741708872532022,
          1.9172312220182408,
          -2.71186331179051,
          5.601558627971321,
          -5.958005113475631,
          -1.5897482802015188,
          1.8995548335518582,
          2.279614894211854,
          -0.3354099981891258,
          5.044488981638578,
          -6.050315603460069,
          -4.340621146279037,
          2.6821492958117035,
          3.0176518803975263,
          -2.558190125799783,
          0.0014864372655001212,
          1.0244868856150688,
          -4.336310671677988,
          -2.8438241400000037,
          -3.44872035299679,
          -1.5262847598797382,
          2.4724610749793583,
          -4.242440383421762,
          3.6127050840200905,
          -3.291584061545743,
          -3.1344240689051848,
          -9.060721824846,
          11.072725507320303,
          -6.492708301751876,
          3.3774130495093675,
          -5.793643878472711,
          -9.88925432518902,
          -4.3872245631725475,
          -2.278151793647577,
          -9.480076749635991,
          0.5506980704601782,
          3.316702352007267,
          -6.89677213001153,
          7.010682210751929,
          4.978992660522038,
          -4.46950454178565,
          0.9719798316828383,
          4.22005020994233,
          -6.468700182760385,
          3.08710296340172,
          -4.002282720509088,
          -1.0614138710956798,
          6.8644217342024705,
          -7.054514249754242,
          -5.090448885578116,
          5.59304091800507,
          0.5540599609198397,
          -6.948749739289848,
          -11.072683096595188,
          -9.746881264695048,
          -11.954169026959617,
          -4.80867534195327,
          12.647289598049543,
          6.197878989342681,
          0.4366202710038627,
          -2.8538038320160064,
          0.5364822934239062,
          3.565970716190861,
          -5.373749673234861,
          1.6122665915158665,
          -0.911050472725363,
          1.70484500970357,
          1.529127026459023,
          -4.8285642214912485,
          -1.2434934805840294,
          1.8753326985104766,
          -7.135672789096776,
          3.909134654478193,
          -0.21565081415820858,
          -4.442858589881062,
          -1.7039445842748568,
          -5.916968193564422,
          -1.7552066798704327,
          -3.8753241162043466,
          -6.187507723988001,
          2.9387254086994608,
          -4.918741456120614,
          1.134911814376933,
          0.04985151943540736,
          -4.837058526181171,
          -3.9665439928511943,
          0.746445613036778,
          0.26102693077241795,
          0.8317201969153405,
          -1.443611570613679,
          5.467689581269441,
          4.51683128944086,
          7.799213600588899,
          -8.776547182107642,
          -2.220705918846847,
          -1.111545060167839,
          -7.681831238417175,
          2.4526450691904023,
          -3.791917619035476,
          -1.6930359184850794,
          -8.391322196809478,
          5.81801598882837,
          -7.915706990447645,
          2.692595270139046,
          -8.364145101257483,
          0.038482398494714354,
          -2.026599791766237,
          -3.1385023638058276,
          -4.701578301502563,
          10.580502469713975,
          -6.235187983895385,
          -3.1538842429301845,
          -3.5941738525792375,
          2.7434155933690363,
          -1.5441362585863978,
          2.1563814665595333,
          0.5809089753976882,
          -7.811935437988253,
          4.244960699451135,
          -0.9034875913475338,
          6.2505171224830125,
          -1.213307190818606,
          -4.863804693143751,
          -5.254942062815996,
          -2.9103444245912944,
          5.9364726973075275,
          5.289525351539343,
          -4.898890669718313,
          1.0297393180204364,
          -0.7059625404525193,
          -2.2220349741452536,
          -2.1152174853380874,
          -2.6104967662161154,
          -2.933151042033006,
          2.9040245349089524,
          1.0692921127811543,
          -9.515702350572584,
          7.285722982093777,
          -11.914987217286418,
          0.6919019594783263,
          0.8047380103554092,
          2.4649401847012076,
          -4.300530137758567,
          6.349087695403327,
          -1.3006318178461986,
          -2.648773097163621,
          -7.505888964689559,
          -1.4193545024574894,
          -1.9570127530525305,
          -7.1217663182388105,
          6.017960721751442,
          -1.809407201749567,
          -3.7320058034619636,
          -6.4806082558716644,
          2.11731185450896,
          -4.170079326729862,
          1.8534379580451994,
          -1.9425107201971743,
          0.3464800519584299,
          -2.3361547140283747,
          1.7319234247416875,
          -4.03812337877634,
          1.2893805140882324,
          0.5878858015789572,
          6.331922632764232,
          -0.3132007139747122,
          4.110136045555342,
          1.5921878262035096,
          -5.13032321562436,
          0.2243764178304282,
          -2.898318768721071,
          1.576407948203248,
          3.0660351134490553,
          -2.509348098112347,
          -1.0581474265148243,
          10.31820397869097,
          1.4195666271975953,
          4.565167212221306,
          2.9019092094847365,
          -4.4740634187142225,
          -0.49827783710238216,
          -0.40543562266210054,
          1.9491487803656267,
          2.8735382117326775,
          2.455995117185051,
          -2.8013131068847903,
          -3.2603097671471,
          2.102729872026097,
          6.5068022466650675,
          8.198313164943329,
          2.52678948990147,
          -2.0039964171611304,
          -6.974184156595101,
          -3.559628188646253,
          -3.216331700495894,
          -4.859931508580398,
          -6.9595700821894235,
          -7.791878657946125,
          -0.4075626294821117,
          8.542994616365528,
          -6.888152570245563,
          -3.603437865396925,
          2.644808443371867,
          -3.035853866044176,
          -2.8146709595670423,
          0.6578140624693082,
          -0.2112537343491176,
          7.686725907926951,
          -0.7945169592383525,
          -2.4712877762118297,
          -0.202710766367236,
          3.477248623488765,
          0.8942696144891646,
          -6.845451878882131,
          6.9577380421881765,
          -2.0838385869455602,
          6.205832449607456,
          -0.9438610921843332,
          1.6571882979381363,
          7.52582452614844,
          4.730891647277448,
          -1.033089564628387,
          -0.9153340801188098
         ],
         "y": [
          12.786590579002446,
          0.16837319009844534,
          7.148369062158309,
          2.3309955966855354,
          0.5187219801726998,
          -1.1940823015997089,
          8.977068932409216,
          -7.063086944207557,
          2.1377537474772574,
          8.130850177307057,
          2.3258097396196953,
          0.3541149627175973,
          -2.8230125684617615,
          1.2051418478837617,
          7.787582351705655,
          9.687874248621643,
          0.4368269717179136,
          -3.338435581371546,
          1.5212267127581975,
          1.1028559016347488,
          -9.645146925144564,
          -3.476759599405803,
          -1.4882508841627173,
          11.705383063000285,
          -1.7524315619874433,
          -10.187856581524926,
          -1.242441576179471,
          -8.602691032669684,
          3.9503000654037437,
          3.1761377033192235,
          -3.3572002499248477,
          2.672348271242872,
          -0.8815116625643186,
          5.373134068923022,
          -5.847764961070726,
          0.2853642382529279,
          -4.397849825507101,
          1.0145024601189372,
          1.1836576430124497,
          -6.335882617991353,
          0.22181093602548227,
          1.6493081458757366,
          -2.0161418880632365,
          1.9165299397618367,
          1.215351877115765,
          -15.138396502203534,
          -0.015337620238619393,
          -5.806083993589704,
          2.235867580769993,
          -4.455390305647563,
          1.1168380504611297,
          7.35461347509225,
          -0.09681521406234754,
          6.825390694804932,
          -5.3973538871934545,
          2.57276996486319,
          2.143482345370103,
          14.524486023600051,
          3.553647695076977,
          4.981438787299744,
          -10.821525521450754,
          3.801554582158705,
          -4.1864512540905405,
          5.261354878477125,
          8.489843833995279,
          -2.767582681755876,
          -3.7786365655085317,
          15.534439267913703,
          -3.14033414444381,
          -0.972075228413044,
          5.688132883216049,
          -8.771523096520282,
          -3.200746870649983,
          4.365301240476802,
          2.655734833053225,
          2.378481246932786,
          11.357856853734347,
          -3.8810981545603385,
          0.43019890500912494,
          -0.6922456532438759,
          -1.3574771895803965,
          4.881676824497491,
          0.14618485279097324,
          1.458065181282235,
          -2.510971430784705,
          -1.2759531051373982,
          13.882284709401583,
          14.908662109512475,
          11.185700026215029,
          5.151504769014723,
          -13.805063624646191,
          -8.703202609491672,
          -3.462839797270531,
          11.15778760809062,
          -1.6093828244556694,
          -1.6793243075182063,
          4.538774682163205,
          3.6319539594682655,
          -0.33137986291599525,
          -5.432598647446811,
          0.7155074175492684,
          4.97898528544608,
          -3.3326418796821966,
          -2.762909434725442,
          3.224719773870389,
          -8.621651436169703,
          3.870541574458119,
          -1.2980283701118873,
          1.8902675187364355,
          1.2850864157801631,
          3.5530182070223377,
          8.575057395352387,
          3.340918774067472,
          -5.174105242428715,
          4.084308390708547,
          -3.4666609799504378,
          -1.261797257146636,
          12.588279413788092,
          6.447955321227532,
          2.293277041354697,
          1.4738822381734669,
          -0.03966575706087762,
          -4.613966696836496,
          -3.6247835868346403,
          -3.391902952788474,
          -4.594701263337542,
          9.204652108272565,
          -6.680597160487547,
          4.137280530158414,
          1.8658256954804582,
          -5.419715909066049,
          5.797540882717696,
          -7.868340180147229,
          2.8285173827680192,
          -10.846767759223583,
          1.785927130779025,
          -3.849948486470878,
          4.63399085397747,
          1.2948670709293528,
          1.2974222632241987,
          9.846252698041436,
          1.6969385654799343,
          -10.917998174249773,
          1.7767323957788697,
          3.061023998498696,
          8.7991250207197,
          2.501088754609915,
          3.6992259959789875,
          -7.276014761890169,
          -5.966754420638377,
          10.266417314459094,
          -4.048359313576117,
          1.2084194060690332,
          -12.600060769070879,
          -2.8683682314375085,
          3.1890723572375372,
          4.2251699615659515,
          -0.06707099133179109,
          -1.2193400805568695,
          -5.37129424631297,
          3.401176291419084,
          -1.4448204035805114,
          2.064698558645203,
          11.924252251605084,
          0.7000601006805989,
          1.4183319141079982,
          4.206862123881622,
          -0.7128374246704834,
          1.610007576044713,
          3.045895239983167,
          -8.265251712500673,
          11.477283834244226,
          -6.818819900521575,
          4.392614425870466,
          -2.206650506710483,
          3.2433901015059643,
          -5.343254281179925,
          12.236151748281449,
          4.484931831358315,
          9.253813853738729,
          2.9813253325636877,
          -2.3734821433960493,
          7.25150463977036,
          1.6052658433419422,
          -5.927569104190806,
          4.213101299749055,
          6.359164055696148,
          -10.097993466722556,
          3.0052414847249613,
          -10.149030999088408,
          2.4349908379659775,
          -0.5769626182419508,
          -6.893861903807098,
          -4.692206439653911,
          15.601583456745745,
          0.5560399767797191,
          0.6624548120283263,
          -2.5659291925811,
          3.9469538186115694,
          0.5553813449293309,
          -4.194922243094383,
          6.943980390721904,
          -5.6577237516689145,
          3.014717443515434,
          0.35174113787949995,
          -3.2893250953361988,
          5.367680187466128,
          -7.14334325266175,
          -8.335341465138816,
          1.2236539807962343,
          -7.744504106001587,
          -7.460606680108237,
          -3.253017972697771,
          -2.3841773573789915,
          4.140791225877849,
          -6.244619914853872,
          -3.6296331298331403,
          -0.08912005867979106,
          8.719297471149932,
          -0.42720249339602273,
          -5.475135194251596,
          -8.785103387706432,
          1.5278848505254494,
          0.6716543268714508,
          -5.104900336513714,
          -0.1603021552028212,
          0.23471140337892887,
          1.9995668157978963,
          4.722846250061982,
          5.240567992900048,
          6.044236143510379,
          0.20367983931949962,
          2.002403823024714,
          2.532617503315141,
          10.45648711784813,
          2.965557027965138,
          2.1875894500926107,
          -2.33705078777842,
          -5.815556842698267,
          6.978501674754435,
          -5.059320897690781,
          -3.914263405263068,
          3.5368668981367852,
          -3.0729224025025528,
          -2.7199427521489947,
          -6.2945149610584075,
          0.9865881853588532,
          -7.425397772827946,
          4.6800274555401495,
          -3.776664261289536,
          -1.4206720230513386,
          -1.2724333020058898,
          2.7779618483290527,
          -11.987087472562102,
          -2.7104221043248127,
          2.012262640422762
         ],
         "z": [
          -10.436054419724758,
          4.115619238029365,
          -7.407206031127824,
          0.26529439164207796,
          -4.3761680672943575,
          4.112060275072455,
          -7.400938404953663,
          14.591873932743255,
          -2.9524505120201043,
          -5.194459294466591,
          -1.6734109262556807,
          6.472365574759696,
          5.381999022890839,
          -7.302032526477762,
          -5.225255266723269,
          -7.55974004156518,
          2.737515911208105,
          5.029399033520682,
          -0.8861509583637027,
          -2.433254631600136,
          3.247009566118154,
          3.236902010928206,
          -2.5465746366964868,
          -12.28729931279071,
          9.311784744038851,
          8.733730239782652,
          -4.769149842642157,
          9.566814641812067,
          -9.11332646272729,
          -1.983918734808363,
          1.2309216336678168,
          -7.834127581329667,
          1.59675774692945,
          -2.3989230301452134,
          6.83906572568033,
          2.3410564126752584,
          1.3130437624445581,
          5.6551201061556995,
          0.17288099750207647,
          1.2291284162881624,
          -1.6173773323172307,
          -2.315264508115133,
          0.006595321687429108,
          4.878782976859608,
          -0.9619207726110452,
          15.39634358442896,
          -3.7745829893435965,
          4.869225086030983,
          -0.7263984351241606,
          -2.202163160361416,
          0.3589133409953207,
          -6.804961161107907,
          2.091253905371672,
          -3.565514859005707,
          4.384680240541447,
          0.04869853241513074,
          -5.357693057144003,
          -13.010832932743591,
          -8.256131307657899,
          -9.74372757320013,
          5.462686741711272,
          -2.537631706610274,
          3.3924407876418714,
          -10.219305973979205,
          -3.1629090074190755,
          -7.621899282115566,
          -2.2174673872950246,
          -14.32699764624793,
          4.61306138895537,
          -2.774504244744447,
          0.8552156995029778,
          2.77479931173586,
          2.8406205458952063,
          -2.4605101961351523,
          -3.652146733316909,
          -9.570605283372739,
          -6.546103706291846,
          7.461423987420314,
          2.3420622073004047,
          -6.115509227974502,
          -10.750343424365088,
          -2.1247392752736998,
          -1.2645174061669706,
          1.0214905309704843,
          4.668154774100971,
          -0.7938628448426609,
          -14.865580290140635,
          -9.187946260597151,
          -0.768295310825675,
          -12.416838025129405,
          6.839638864215147,
          5.637746620141714,
          9.48163318392669,
          -12.73541850973494,
          3.9262845981485794,
          3.7368817654192266,
          -0.5135617791380455,
          -3.633492040347132,
          -1.6465557849660915,
          5.011201661747862,
          -0.5250857013081486,
          5.20658284532857,
          5.455731497381977,
          -1.0653520042457327,
          -3.235847225967342,
          8.90067664856283,
          -4.659774103796943,
          0.457798628602505,
          -1.5309734206611139,
          0.6428759829164656,
          -6.547679565019709,
          -4.506186867404794,
          -1.7740243117607888,
          3.4785749066923355,
          -0.0879938150514348,
          -0.03678509743697665,
          8.945505821584092,
          -13.401318966733728,
          -7.3920831321338065,
          -1.4030106604180141,
          -6.959264092567629,
          -0.2548972756463166,
          10.744050506718553,
          2.8165789495547617,
          4.647815222756062,
          -1.510889275078249,
          -2.11331983895602,
          5.608819459072004,
          -1.6555187707792622,
          1.2750524652174264,
          3.7435153266735086,
          -0.24669558655782547,
          9.047606958091537,
          9.703747193199,
          9.173884862374788,
          -1.5647171593296687,
          5.305226770571778,
          -0.2645409417737904,
          -6.855994125198378,
          -4.148777343181321,
          -10.271951858373283,
          1.917836234422029,
          5.995957842108882,
          0.24002841231068844,
          -2.9778807226364976,
          -9.889935163703685,
          -6.760291647578601,
          2.128109358672269,
          7.1431724202306635,
          4.938320267713654,
          -6.196050006792429,
          5.371737292873802,
          -1.3534197286381562,
          10.610607015664238,
          3.337644763725025,
          -6.155936856084034,
          5.154443854762256,
          5.3612570481768325,
          -0.07102988701246842,
          1.781649346838285,
          -0.29415321183466286,
          9.09905966668917,
          4.636338225138216,
          -15.697244591819423,
          3.786476336987343,
          0.4085352957087794,
          -1.3589450502046327,
          1.48705525962765,
          2.7463704406635827,
          -5.677715049699962,
          10.399640505386428,
          -7.360995682772432,
          2.3745562515855982,
          0.49563167940527175,
          7.012252341465555,
          -1.1217368575303581,
          5.432894537379995,
          -10.162754558112129,
          -0.6795889964547447,
          -8.917956939571798,
          0.594106943201606,
          1.4420428311177103,
          -5.976564977935139,
          -3.421827135211463,
          7.597278750006041,
          3.7627809442998914,
          -1.3318383705535928,
          6.507658779205747,
          -3.441303507138954,
          14.135736540364803,
          0.39691370483734495,
          -2.6418099540174893,
          7.369417062117547,
          4.231829278716317,
          -11.637646383408185,
          -3.1638922331280015,
          0.25163792871308827,
          -0.007926150038917331,
          -2.5230548128983683,
          -1.2648827807593828,
          -1.7357205443666803,
          -4.136391858043854,
          4.216288231096213,
          -0.23855078841391494,
          4.137035423318311,
          -0.19082856643698284,
          -4.481903618563796,
          7.667050730281073,
          1.4324343065105378,
          -3.692840835442999,
          2.571163124599416,
          8.648124668077958,
          3.184045778801497,
          -0.4332809553890428,
          -2.4280813895774833,
          6.20721830873486,
          1.0794894249432978,
          -8.710792193676882,
          -10.21317049729539,
          5.571252813517813,
          4.20800668989627,
          5.101895348427947,
          -0.147632252876186,
          2.342173310628134,
          2.7371788262068666,
          8.58735355754329,
          -0.062381144614920836,
          -2.7111344075363464,
          3.976822337387457,
          -1.4679394460674788,
          -5.096308776039322,
          4.1139620466198314,
          -4.818674189781431,
          2.419968946400257,
          -3.7193323567519343,
          -2.3624700015289934,
          -1.3313753808985165,
          6.755741575224024,
          5.354163421223026,
          -7.35182387240223,
          4.766925739716818,
          3.4898762734416184,
          -3.409114678701975,
          4.755197221711989,
          4.233669737119768,
          5.822532560270254,
          -3.0135849805237003,
          5.079325693933254,
          -4.370954333878521,
          4.842244081675363,
          4.123949934101746,
          0.30261338723935033,
          -1.5397633060528473,
          4.220343599819138,
          0.6965438349943527,
          -1.143078129384305
         ]
        },
        {
         "mode": "lines",
         "showlegend": false,
         "type": "scatter3d",
         "x": [
          -30,
          30
         ],
         "y": [
          0,
          0
         ],
         "z": [
          0,
          0
         ]
        },
        {
         "mode": "lines",
         "showlegend": false,
         "type": "scatter3d",
         "x": [
          0,
          0
         ],
         "y": [
          -30,
          30
         ],
         "z": [
          0,
          0
         ]
        },
        {
         "mode": "lines",
         "showlegend": false,
         "type": "scatter3d",
         "x": [
          0,
          0
         ],
         "y": [
          0,
          0
         ],
         "z": [
          -30,
          30
         ]
        }
       ],
       "layout": {
        "colorway": [
         "black",
         "red",
         "green",
         "blue"
        ],
        "height": 800,
        "template": {
         "data": {
          "bar": [
           {
            "error_x": {
             "color": "#2a3f5f"
            },
            "error_y": {
             "color": "#2a3f5f"
            },
            "marker": {
             "line": {
              "color": "#E5ECF6",
              "width": 0.5
             },
             "pattern": {
              "fillmode": "overlay",
              "size": 10,
              "solidity": 0.2
             }
            },
            "type": "bar"
           }
          ],
          "barpolar": [
           {
            "marker": {
             "line": {
              "color": "#E5ECF6",
              "width": 0.5
             },
             "pattern": {
              "fillmode": "overlay",
              "size": 10,
              "solidity": 0.2
             }
            },
            "type": "barpolar"
           }
          ],
          "carpet": [
           {
            "aaxis": {
             "endlinecolor": "#2a3f5f",
             "gridcolor": "white",
             "linecolor": "white",
             "minorgridcolor": "white",
             "startlinecolor": "#2a3f5f"
            },
            "baxis": {
             "endlinecolor": "#2a3f5f",
             "gridcolor": "white",
             "linecolor": "white",
             "minorgridcolor": "white",
             "startlinecolor": "#2a3f5f"
            },
            "type": "carpet"
           }
          ],
          "choropleth": [
           {
            "colorbar": {
             "outlinewidth": 0,
             "ticks": ""
            },
            "type": "choropleth"
           }
          ],
          "contour": [
           {
            "colorbar": {
             "outlinewidth": 0,
             "ticks": ""
            },
            "colorscale": [
             [
              0,
              "#0d0887"
             ],
             [
              0.1111111111111111,
              "#46039f"
             ],
             [
              0.2222222222222222,
              "#7201a8"
             ],
             [
              0.3333333333333333,
              "#9c179e"
             ],
             [
              0.4444444444444444,
              "#bd3786"
             ],
             [
              0.5555555555555556,
              "#d8576b"
             ],
             [
              0.6666666666666666,
              "#ed7953"
             ],
             [
              0.7777777777777778,
              "#fb9f3a"
             ],
             [
              0.8888888888888888,
              "#fdca26"
             ],
             [
              1,
              "#f0f921"
             ]
            ],
            "type": "contour"
           }
          ],
          "contourcarpet": [
           {
            "colorbar": {
             "outlinewidth": 0,
             "ticks": ""
            },
            "type": "contourcarpet"
           }
          ],
          "heatmap": [
           {
            "colorbar": {
             "outlinewidth": 0,
             "ticks": ""
            },
            "colorscale": [
             [
              0,
              "#0d0887"
             ],
             [
              0.1111111111111111,
              "#46039f"
             ],
             [
              0.2222222222222222,
              "#7201a8"
             ],
             [
              0.3333333333333333,
              "#9c179e"
             ],
             [
              0.4444444444444444,
              "#bd3786"
             ],
             [
              0.5555555555555556,
              "#d8576b"
             ],
             [
              0.6666666666666666,
              "#ed7953"
             ],
             [
              0.7777777777777778,
              "#fb9f3a"
             ],
             [
              0.8888888888888888,
              "#fdca26"
             ],
             [
              1,
              "#f0f921"
             ]
            ],
            "type": "heatmap"
           }
          ],
          "heatmapgl": [
           {
            "colorbar": {
             "outlinewidth": 0,
             "ticks": ""
            },
            "colorscale": [
             [
              0,
              "#0d0887"
             ],
             [
              0.1111111111111111,
              "#46039f"
             ],
             [
              0.2222222222222222,
              "#7201a8"
             ],
             [
              0.3333333333333333,
              "#9c179e"
             ],
             [
              0.4444444444444444,
              "#bd3786"
             ],
             [
              0.5555555555555556,
              "#d8576b"
             ],
             [
              0.6666666666666666,
              "#ed7953"
             ],
             [
              0.7777777777777778,
              "#fb9f3a"
             ],
             [
              0.8888888888888888,
              "#fdca26"
             ],
             [
              1,
              "#f0f921"
             ]
            ],
            "type": "heatmapgl"
           }
          ],
          "histogram": [
           {
            "marker": {
             "pattern": {
              "fillmode": "overlay",
              "size": 10,
              "solidity": 0.2
             }
            },
            "type": "histogram"
           }
          ],
          "histogram2d": [
           {
            "colorbar": {
             "outlinewidth": 0,
             "ticks": ""
            },
            "colorscale": [
             [
              0,
              "#0d0887"
             ],
             [
              0.1111111111111111,
              "#46039f"
             ],
             [
              0.2222222222222222,
              "#7201a8"
             ],
             [
              0.3333333333333333,
              "#9c179e"
             ],
             [
              0.4444444444444444,
              "#bd3786"
             ],
             [
              0.5555555555555556,
              "#d8576b"
             ],
             [
              0.6666666666666666,
              "#ed7953"
             ],
             [
              0.7777777777777778,
              "#fb9f3a"
             ],
             [
              0.8888888888888888,
              "#fdca26"
             ],
             [
              1,
              "#f0f921"
             ]
            ],
            "type": "histogram2d"
           }
          ],
          "histogram2dcontour": [
           {
            "colorbar": {
             "outlinewidth": 0,
             "ticks": ""
            },
            "colorscale": [
             [
              0,
              "#0d0887"
             ],
             [
              0.1111111111111111,
              "#46039f"
             ],
             [
              0.2222222222222222,
              "#7201a8"
             ],
             [
              0.3333333333333333,
              "#9c179e"
             ],
             [
              0.4444444444444444,
              "#bd3786"
             ],
             [
              0.5555555555555556,
              "#d8576b"
             ],
             [
              0.6666666666666666,
              "#ed7953"
             ],
             [
              0.7777777777777778,
              "#fb9f3a"
             ],
             [
              0.8888888888888888,
              "#fdca26"
             ],
             [
              1,
              "#f0f921"
             ]
            ],
            "type": "histogram2dcontour"
           }
          ],
          "mesh3d": [
           {
            "colorbar": {
             "outlinewidth": 0,
             "ticks": ""
            },
            "type": "mesh3d"
           }
          ],
          "parcoords": [
           {
            "line": {
             "colorbar": {
              "outlinewidth": 0,
              "ticks": ""
             }
            },
            "type": "parcoords"
           }
          ],
          "pie": [
           {
            "automargin": true,
            "type": "pie"
           }
          ],
          "scatter": [
           {
            "marker": {
             "colorbar": {
              "outlinewidth": 0,
              "ticks": ""
             }
            },
            "type": "scatter"
           }
          ],
          "scatter3d": [
           {
            "line": {
             "colorbar": {
              "outlinewidth": 0,
              "ticks": ""
             }
            },
            "marker": {
             "colorbar": {
              "outlinewidth": 0,
              "ticks": ""
             }
            },
            "type": "scatter3d"
           }
          ],
          "scattercarpet": [
           {
            "marker": {
             "colorbar": {
              "outlinewidth": 0,
              "ticks": ""
             }
            },
            "type": "scattercarpet"
           }
          ],
          "scattergeo": [
           {
            "marker": {
             "colorbar": {
              "outlinewidth": 0,
              "ticks": ""
             }
            },
            "type": "scattergeo"
           }
          ],
          "scattergl": [
           {
            "marker": {
             "colorbar": {
              "outlinewidth": 0,
              "ticks": ""
             }
            },
            "type": "scattergl"
           }
          ],
          "scattermapbox": [
           {
            "marker": {
             "colorbar": {
              "outlinewidth": 0,
              "ticks": ""
             }
            },
            "type": "scattermapbox"
           }
          ],
          "scatterpolar": [
           {
            "marker": {
             "colorbar": {
              "outlinewidth": 0,
              "ticks": ""
             }
            },
            "type": "scatterpolar"
           }
          ],
          "scatterpolargl": [
           {
            "marker": {
             "colorbar": {
              "outlinewidth": 0,
              "ticks": ""
             }
            },
            "type": "scatterpolargl"
           }
          ],
          "scatterternary": [
           {
            "marker": {
             "colorbar": {
              "outlinewidth": 0,
              "ticks": ""
             }
            },
            "type": "scatterternary"
           }
          ],
          "surface": [
           {
            "colorbar": {
             "outlinewidth": 0,
             "ticks": ""
            },
            "colorscale": [
             [
              0,
              "#0d0887"
             ],
             [
              0.1111111111111111,
              "#46039f"
             ],
             [
              0.2222222222222222,
              "#7201a8"
             ],
             [
              0.3333333333333333,
              "#9c179e"
             ],
             [
              0.4444444444444444,
              "#bd3786"
             ],
             [
              0.5555555555555556,
              "#d8576b"
             ],
             [
              0.6666666666666666,
              "#ed7953"
             ],
             [
              0.7777777777777778,
              "#fb9f3a"
             ],
             [
              0.8888888888888888,
              "#fdca26"
             ],
             [
              1,
              "#f0f921"
             ]
            ],
            "type": "surface"
           }
          ],
          "table": [
           {
            "cells": {
             "fill": {
              "color": "#EBF0F8"
             },
             "line": {
              "color": "white"
             }
            },
            "header": {
             "fill": {
              "color": "#C8D4E3"
             },
             "line": {
              "color": "white"
             }
            },
            "type": "table"
           }
          ]
         },
         "layout": {
          "annotationdefaults": {
           "arrowcolor": "#2a3f5f",
           "arrowhead": 0,
           "arrowwidth": 1
          },
          "autotypenumbers": "strict",
          "coloraxis": {
           "colorbar": {
            "outlinewidth": 0,
            "ticks": ""
           }
          },
          "colorscale": {
           "diverging": [
            [
             0,
             "#8e0152"
            ],
            [
             0.1,
             "#c51b7d"
            ],
            [
             0.2,
             "#de77ae"
            ],
            [
             0.3,
             "#f1b6da"
            ],
            [
             0.4,
             "#fde0ef"
            ],
            [
             0.5,
             "#f7f7f7"
            ],
            [
             0.6,
             "#e6f5d0"
            ],
            [
             0.7,
             "#b8e186"
            ],
            [
             0.8,
             "#7fbc41"
            ],
            [
             0.9,
             "#4d9221"
            ],
            [
             1,
             "#276419"
            ]
           ],
           "sequential": [
            [
             0,
             "#0d0887"
            ],
            [
             0.1111111111111111,
             "#46039f"
            ],
            [
             0.2222222222222222,
             "#7201a8"
            ],
            [
             0.3333333333333333,
             "#9c179e"
            ],
            [
             0.4444444444444444,
             "#bd3786"
            ],
            [
             0.5555555555555556,
             "#d8576b"
            ],
            [
             0.6666666666666666,
             "#ed7953"
            ],
            [
             0.7777777777777778,
             "#fb9f3a"
            ],
            [
             0.8888888888888888,
             "#fdca26"
            ],
            [
             1,
             "#f0f921"
            ]
           ],
           "sequentialminus": [
            [
             0,
             "#0d0887"
            ],
            [
             0.1111111111111111,
             "#46039f"
            ],
            [
             0.2222222222222222,
             "#7201a8"
            ],
            [
             0.3333333333333333,
             "#9c179e"
            ],
            [
             0.4444444444444444,
             "#bd3786"
            ],
            [
             0.5555555555555556,
             "#d8576b"
            ],
            [
             0.6666666666666666,
             "#ed7953"
            ],
            [
             0.7777777777777778,
             "#fb9f3a"
            ],
            [
             0.8888888888888888,
             "#fdca26"
            ],
            [
             1,
             "#f0f921"
            ]
           ]
          },
          "colorway": [
           "#636efa",
           "#EF553B",
           "#00cc96",
           "#ab63fa",
           "#FFA15A",
           "#19d3f3",
           "#FF6692",
           "#B6E880",
           "#FF97FF",
           "#FECB52"
          ],
          "font": {
           "color": "#2a3f5f"
          },
          "geo": {
           "bgcolor": "white",
           "lakecolor": "white",
           "landcolor": "#E5ECF6",
           "showlakes": true,
           "showland": true,
           "subunitcolor": "white"
          },
          "hoverlabel": {
           "align": "left"
          },
          "hovermode": "closest",
          "mapbox": {
           "style": "light"
          },
          "paper_bgcolor": "white",
          "plot_bgcolor": "#E5ECF6",
          "polar": {
           "angularaxis": {
            "gridcolor": "white",
            "linecolor": "white",
            "ticks": ""
           },
           "bgcolor": "#E5ECF6",
           "radialaxis": {
            "gridcolor": "white",
            "linecolor": "white",
            "ticks": ""
           }
          },
          "scene": {
           "xaxis": {
            "backgroundcolor": "#E5ECF6",
            "gridcolor": "white",
            "gridwidth": 2,
            "linecolor": "white",
            "showbackground": true,
            "ticks": "",
            "zerolinecolor": "white"
           },
           "yaxis": {
            "backgroundcolor": "#E5ECF6",
            "gridcolor": "white",
            "gridwidth": 2,
            "linecolor": "white",
            "showbackground": true,
            "ticks": "",
            "zerolinecolor": "white"
           },
           "zaxis": {
            "backgroundcolor": "#E5ECF6",
            "gridcolor": "white",
            "gridwidth": 2,
            "linecolor": "white",
            "showbackground": true,
            "ticks": "",
            "zerolinecolor": "white"
           }
          },
          "shapedefaults": {
           "line": {
            "color": "#2a3f5f"
           }
          },
          "ternary": {
           "aaxis": {
            "gridcolor": "white",
            "linecolor": "white",
            "ticks": ""
           },
           "baxis": {
            "gridcolor": "white",
            "linecolor": "white",
            "ticks": ""
           },
           "bgcolor": "#E5ECF6",
           "caxis": {
            "gridcolor": "white",
            "linecolor": "white",
            "ticks": ""
           }
          },
          "title": {
           "x": 0.05
          },
          "xaxis": {
           "automargin": true,
           "gridcolor": "white",
           "linecolor": "white",
           "ticks": "",
           "title": {
            "standoff": 15
           },
           "zerolinecolor": "white",
           "zerolinewidth": 2
          },
          "yaxis": {
           "automargin": true,
           "gridcolor": "white",
           "linecolor": "white",
           "ticks": "",
           "title": {
            "standoff": 15
           },
           "zerolinecolor": "white",
           "zerolinewidth": 2
          }
         }
        },
        "title": {
         "text": "Gaussian Sample Randomly Rotated"
        },
        "width": 800
       }
      },
      "text/html": [
       "<div>                            <div id=\"e39e9971-2203-43cb-bc7b-75102a0d0b97\" class=\"plotly-graph-div\" style=\"height:800px; width:800px;\"></div>            <script type=\"text/javascript\">                require([\"plotly\"], function(Plotly) {                    window.PLOTLYENV=window.PLOTLYENV || {};                                    if (document.getElementById(\"e39e9971-2203-43cb-bc7b-75102a0d0b97\")) {                    Plotly.newPlot(                        \"e39e9971-2203-43cb-bc7b-75102a0d0b97\",                        [{\"marker\":{\"size\":4},\"mode\":\"markers\",\"showlegend\":false,\"x\":[-4.33949817787366,1.636275120038944,-11.853262675235452,-2.6960867527805488,0.6219327088290697,2.389725529689661,1.7832972480535172,5.174150349853473,-2.946462262503268,-2.7694764134926046,0.8018362168516646,0.29562885259709354,1.5985190042553368,3.9366031688216117,-10.8953216676305,-6.162885994071842,-2.902911076498828,-0.5957215852699334,-3.346486849695687,3.2573321791075336,5.500229305244744,2.6833115537192413,2.8907548987778697,-3.5933021393851625,-3.5498233269829607,3.453831327176599,4.597132356474225,1.8272565992134315,-0.458594254697141,2.9538901573718532,1.0952979225107888,-2.01919547085484,-1.6790345210338613,-5.741708872532022,1.9172312220182408,-2.71186331179051,5.601558627971321,-5.958005113475631,-1.5897482802015188,1.8995548335518582,2.279614894211854,-0.3354099981891258,5.044488981638578,-6.050315603460069,-4.340621146279037,2.6821492958117035,3.0176518803975263,-2.558190125799783,0.0014864372655001212,1.0244868856150688,-4.336310671677988,-2.8438241400000037,-3.44872035299679,-1.5262847598797382,2.4724610749793583,-4.242440383421762,3.6127050840200905,-3.291584061545743,-3.1344240689051848,-9.060721824846,11.072725507320303,-6.492708301751876,3.3774130495093675,-5.793643878472711,-9.88925432518902,-4.3872245631725475,-2.278151793647577,-9.480076749635991,0.5506980704601782,3.316702352007267,-6.89677213001153,7.010682210751929,4.978992660522038,-4.46950454178565,0.9719798316828383,4.22005020994233,-6.468700182760385,3.08710296340172,-4.002282720509088,-1.0614138710956798,6.8644217342024705,-7.054514249754242,-5.090448885578116,5.59304091800507,0.5540599609198397,-6.948749739289848,-11.072683096595188,-9.746881264695048,-11.954169026959617,-4.80867534195327,12.647289598049543,6.197878989342681,0.4366202710038627,-2.8538038320160064,0.5364822934239062,3.565970716190861,-5.373749673234861,1.6122665915158665,-0.911050472725363,1.70484500970357,1.529127026459023,-4.8285642214912485,-1.2434934805840294,1.8753326985104766,-7.135672789096776,3.909134654478193,-0.21565081415820858,-4.442858589881062,-1.7039445842748568,-5.916968193564422,-1.7552066798704327,-3.8753241162043466,-6.187507723988001,2.9387254086994608,-4.918741456120614,1.134911814376933,0.04985151943540736,-4.837058526181171,-3.9665439928511943,0.746445613036778,0.26102693077241795,0.8317201969153405,-1.443611570613679,5.467689581269441,4.51683128944086,7.799213600588899,-8.776547182107642,-2.220705918846847,-1.111545060167839,-7.681831238417175,2.4526450691904023,-3.791917619035476,-1.6930359184850794,-8.391322196809478,5.81801598882837,-7.915706990447645,2.692595270139046,-8.364145101257483,0.038482398494714354,-2.026599791766237,-3.1385023638058276,-4.701578301502563,10.580502469713975,-6.235187983895385,-3.1538842429301845,-3.5941738525792375,2.7434155933690363,-1.5441362585863978,2.1563814665595333,0.5809089753976882,-7.811935437988253,4.244960699451135,-0.9034875913475338,6.2505171224830125,-1.213307190818606,-4.863804693143751,-5.254942062815996,-2.9103444245912944,5.9364726973075275,5.289525351539343,-4.898890669718313,1.0297393180204364,-0.7059625404525193,-2.2220349741452536,-2.1152174853380874,-2.6104967662161154,-2.933151042033006,2.9040245349089524,1.0692921127811543,-9.515702350572584,7.285722982093777,-11.914987217286418,0.6919019594783263,0.8047380103554092,2.4649401847012076,-4.300530137758567,6.349087695403327,-1.3006318178461986,-2.648773097163621,-7.505888964689559,-1.4193545024574894,-1.9570127530525305,-7.1217663182388105,6.017960721751442,-1.809407201749567,-3.7320058034619636,-6.4806082558716644,2.11731185450896,-4.170079326729862,1.8534379580451994,-1.9425107201971743,0.3464800519584299,-2.3361547140283747,1.7319234247416875,-4.03812337877634,1.2893805140882324,0.5878858015789572,6.331922632764232,-0.3132007139747122,4.110136045555342,1.5921878262035096,-5.13032321562436,0.2243764178304282,-2.898318768721071,1.576407948203248,3.0660351134490553,-2.509348098112347,-1.0581474265148243,10.31820397869097,1.4195666271975953,4.565167212221306,2.9019092094847365,-4.4740634187142225,-0.49827783710238216,-0.40543562266210054,1.9491487803656267,2.8735382117326775,2.455995117185051,-2.8013131068847903,-3.2603097671471,2.102729872026097,6.5068022466650675,8.198313164943329,2.52678948990147,-2.0039964171611304,-6.974184156595101,-3.559628188646253,-3.216331700495894,-4.859931508580398,-6.9595700821894235,-7.791878657946125,-0.4075626294821117,8.542994616365528,-6.888152570245563,-3.603437865396925,2.644808443371867,-3.035853866044176,-2.8146709595670423,0.6578140624693082,-0.2112537343491176,7.686725907926951,-0.7945169592383525,-2.4712877762118297,-0.202710766367236,3.477248623488765,0.8942696144891646,-6.845451878882131,6.9577380421881765,-2.0838385869455602,6.205832449607456,-0.9438610921843332,1.6571882979381363,7.52582452614844,4.730891647277448,-1.033089564628387,-0.9153340801188098],\"y\":[12.786590579002446,0.16837319009844534,7.148369062158309,2.3309955966855354,0.5187219801726998,-1.1940823015997089,8.977068932409216,-7.063086944207557,2.1377537474772574,8.130850177307057,2.3258097396196953,0.3541149627175973,-2.8230125684617615,1.2051418478837617,7.787582351705655,9.687874248621643,0.4368269717179136,-3.338435581371546,1.5212267127581975,1.1028559016347488,-9.645146925144564,-3.476759599405803,-1.4882508841627173,11.705383063000285,-1.7524315619874433,-10.187856581524926,-1.242441576179471,-8.602691032669684,3.9503000654037437,3.1761377033192235,-3.3572002499248477,2.672348271242872,-0.8815116625643186,5.373134068923022,-5.847764961070726,0.2853642382529279,-4.397849825507101,1.0145024601189372,1.1836576430124497,-6.335882617991353,0.22181093602548227,1.6493081458757366,-2.0161418880632365,1.9165299397618367,1.215351877115765,-15.138396502203534,-0.015337620238619393,-5.806083993589704,2.235867580769993,-4.455390305647563,1.1168380504611297,7.35461347509225,-0.09681521406234754,6.825390694804932,-5.3973538871934545,2.57276996486319,2.143482345370103,14.524486023600051,3.553647695076977,4.981438787299744,-10.821525521450754,3.801554582158705,-4.1864512540905405,5.261354878477125,8.489843833995279,-2.767582681755876,-3.7786365655085317,15.534439267913703,-3.14033414444381,-0.972075228413044,5.688132883216049,-8.771523096520282,-3.200746870649983,4.365301240476802,2.655734833053225,2.378481246932786,11.357856853734347,-3.8810981545603385,0.43019890500912494,-0.6922456532438759,-1.3574771895803965,4.881676824497491,0.14618485279097324,1.458065181282235,-2.510971430784705,-1.2759531051373982,13.882284709401583,14.908662109512475,11.185700026215029,5.151504769014723,-13.805063624646191,-8.703202609491672,-3.462839797270531,11.15778760809062,-1.6093828244556694,-1.6793243075182063,4.538774682163205,3.6319539594682655,-0.33137986291599525,-5.432598647446811,0.7155074175492684,4.97898528544608,-3.3326418796821966,-2.762909434725442,3.224719773870389,-8.621651436169703,3.870541574458119,-1.2980283701118873,1.8902675187364355,1.2850864157801631,3.5530182070223377,8.575057395352387,3.340918774067472,-5.174105242428715,4.084308390708547,-3.4666609799504378,-1.261797257146636,12.588279413788092,6.447955321227532,2.293277041354697,1.4738822381734669,-0.03966575706087762,-4.613966696836496,-3.6247835868346403,-3.391902952788474,-4.594701263337542,9.204652108272565,-6.680597160487547,4.137280530158414,1.8658256954804582,-5.419715909066049,5.797540882717696,-7.868340180147229,2.8285173827680192,-10.846767759223583,1.785927130779025,-3.849948486470878,4.63399085397747,1.2948670709293528,1.2974222632241987,9.846252698041436,1.6969385654799343,-10.917998174249773,1.7767323957788697,3.061023998498696,8.7991250207197,2.501088754609915,3.6992259959789875,-7.276014761890169,-5.966754420638377,10.266417314459094,-4.048359313576117,1.2084194060690332,-12.600060769070879,-2.8683682314375085,3.1890723572375372,4.2251699615659515,-0.06707099133179109,-1.2193400805568695,-5.37129424631297,3.401176291419084,-1.4448204035805114,2.064698558645203,11.924252251605084,0.7000601006805989,1.4183319141079982,4.206862123881622,-0.7128374246704834,1.610007576044713,3.045895239983167,-8.265251712500673,11.477283834244226,-6.818819900521575,4.392614425870466,-2.206650506710483,3.2433901015059643,-5.343254281179925,12.236151748281449,4.484931831358315,9.253813853738729,2.9813253325636877,-2.3734821433960493,7.25150463977036,1.6052658433419422,-5.927569104190806,4.213101299749055,6.359164055696148,-10.097993466722556,3.0052414847249613,-10.149030999088408,2.4349908379659775,-0.5769626182419508,-6.893861903807098,-4.692206439653911,15.601583456745745,0.5560399767797191,0.6624548120283263,-2.5659291925811,3.9469538186115694,0.5553813449293309,-4.194922243094383,6.943980390721904,-5.6577237516689145,3.014717443515434,0.35174113787949995,-3.2893250953361988,5.367680187466128,-7.14334325266175,-8.335341465138816,1.2236539807962343,-7.744504106001587,-7.460606680108237,-3.253017972697771,-2.3841773573789915,4.140791225877849,-6.244619914853872,-3.6296331298331403,-0.08912005867979106,8.719297471149932,-0.42720249339602273,-5.475135194251596,-8.785103387706432,1.5278848505254494,0.6716543268714508,-5.104900336513714,-0.1603021552028212,0.23471140337892887,1.9995668157978963,4.722846250061982,5.240567992900048,6.044236143510379,0.20367983931949962,2.002403823024714,2.532617503315141,10.45648711784813,2.965557027965138,2.1875894500926107,-2.33705078777842,-5.815556842698267,6.978501674754435,-5.059320897690781,-3.914263405263068,3.5368668981367852,-3.0729224025025528,-2.7199427521489947,-6.2945149610584075,0.9865881853588532,-7.425397772827946,4.6800274555401495,-3.776664261289536,-1.4206720230513386,-1.2724333020058898,2.7779618483290527,-11.987087472562102,-2.7104221043248127,2.012262640422762],\"z\":[-10.436054419724758,4.115619238029365,-7.407206031127824,0.26529439164207796,-4.3761680672943575,4.112060275072455,-7.400938404953663,14.591873932743255,-2.9524505120201043,-5.194459294466591,-1.6734109262556807,6.472365574759696,5.381999022890839,-7.302032526477762,-5.225255266723269,-7.55974004156518,2.737515911208105,5.029399033520682,-0.8861509583637027,-2.433254631600136,3.247009566118154,3.236902010928206,-2.5465746366964868,-12.28729931279071,9.311784744038851,8.733730239782652,-4.769149842642157,9.566814641812067,-9.11332646272729,-1.983918734808363,1.2309216336678168,-7.834127581329667,1.59675774692945,-2.3989230301452134,6.83906572568033,2.3410564126752584,1.3130437624445581,5.6551201061556995,0.17288099750207647,1.2291284162881624,-1.6173773323172307,-2.315264508115133,0.006595321687429108,4.878782976859608,-0.9619207726110452,15.39634358442896,-3.7745829893435965,4.869225086030983,-0.7263984351241606,-2.202163160361416,0.3589133409953207,-6.804961161107907,2.091253905371672,-3.565514859005707,4.384680240541447,0.04869853241513074,-5.357693057144003,-13.010832932743591,-8.256131307657899,-9.74372757320013,5.462686741711272,-2.537631706610274,3.3924407876418714,-10.219305973979205,-3.1629090074190755,-7.621899282115566,-2.2174673872950246,-14.32699764624793,4.61306138895537,-2.774504244744447,0.8552156995029778,2.77479931173586,2.8406205458952063,-2.4605101961351523,-3.652146733316909,-9.570605283372739,-6.546103706291846,7.461423987420314,2.3420622073004047,-6.115509227974502,-10.750343424365088,-2.1247392752736998,-1.2645174061669706,1.0214905309704843,4.668154774100971,-0.7938628448426609,-14.865580290140635,-9.187946260597151,-0.768295310825675,-12.416838025129405,6.839638864215147,5.637746620141714,9.48163318392669,-12.73541850973494,3.9262845981485794,3.7368817654192266,-0.5135617791380455,-3.633492040347132,-1.6465557849660915,5.011201661747862,-0.5250857013081486,5.20658284532857,5.455731497381977,-1.0653520042457327,-3.235847225967342,8.90067664856283,-4.659774103796943,0.457798628602505,-1.5309734206611139,0.6428759829164656,-6.547679565019709,-4.506186867404794,-1.7740243117607888,3.4785749066923355,-0.0879938150514348,-0.03678509743697665,8.945505821584092,-13.401318966733728,-7.3920831321338065,-1.4030106604180141,-6.959264092567629,-0.2548972756463166,10.744050506718553,2.8165789495547617,4.647815222756062,-1.510889275078249,-2.11331983895602,5.608819459072004,-1.6555187707792622,1.2750524652174264,3.7435153266735086,-0.24669558655782547,9.047606958091537,9.703747193199,9.173884862374788,-1.5647171593296687,5.305226770571778,-0.2645409417737904,-6.855994125198378,-4.148777343181321,-10.271951858373283,1.917836234422029,5.995957842108882,0.24002841231068844,-2.9778807226364976,-9.889935163703685,-6.760291647578601,2.128109358672269,7.1431724202306635,4.938320267713654,-6.196050006792429,5.371737292873802,-1.3534197286381562,10.610607015664238,3.337644763725025,-6.155936856084034,5.154443854762256,5.3612570481768325,-0.07102988701246842,1.781649346838285,-0.29415321183466286,9.09905966668917,4.636338225138216,-15.697244591819423,3.786476336987343,0.4085352957087794,-1.3589450502046327,1.48705525962765,2.7463704406635827,-5.677715049699962,10.399640505386428,-7.360995682772432,2.3745562515855982,0.49563167940527175,7.012252341465555,-1.1217368575303581,5.432894537379995,-10.162754558112129,-0.6795889964547447,-8.917956939571798,0.594106943201606,1.4420428311177103,-5.976564977935139,-3.421827135211463,7.597278750006041,3.7627809442998914,-1.3318383705535928,6.507658779205747,-3.441303507138954,14.135736540364803,0.39691370483734495,-2.6418099540174893,7.369417062117547,4.231829278716317,-11.637646383408185,-3.1638922331280015,0.25163792871308827,-0.007926150038917331,-2.5230548128983683,-1.2648827807593828,-1.7357205443666803,-4.136391858043854,4.216288231096213,-0.23855078841391494,4.137035423318311,-0.19082856643698284,-4.481903618563796,7.667050730281073,1.4324343065105378,-3.692840835442999,2.571163124599416,8.648124668077958,3.184045778801497,-0.4332809553890428,-2.4280813895774833,6.20721830873486,1.0794894249432978,-8.710792193676882,-10.21317049729539,5.571252813517813,4.20800668989627,5.101895348427947,-0.147632252876186,2.342173310628134,2.7371788262068666,8.58735355754329,-0.062381144614920836,-2.7111344075363464,3.976822337387457,-1.4679394460674788,-5.096308776039322,4.1139620466198314,-4.818674189781431,2.419968946400257,-3.7193323567519343,-2.3624700015289934,-1.3313753808985165,6.755741575224024,5.354163421223026,-7.35182387240223,4.766925739716818,3.4898762734416184,-3.409114678701975,4.755197221711989,4.233669737119768,5.822532560270254,-3.0135849805237003,5.079325693933254,-4.370954333878521,4.842244081675363,4.123949934101746,0.30261338723935033,-1.5397633060528473,4.220343599819138,0.6965438349943527,-1.143078129384305],\"type\":\"scatter3d\"},{\"mode\":\"lines\",\"showlegend\":false,\"x\":[-30,30],\"y\":[0,0],\"z\":[0,0],\"type\":\"scatter3d\"},{\"mode\":\"lines\",\"showlegend\":false,\"x\":[0,0],\"y\":[-30,30],\"z\":[0,0],\"type\":\"scatter3d\"},{\"mode\":\"lines\",\"showlegend\":false,\"x\":[0,0],\"y\":[0,0],\"z\":[-30,30],\"type\":\"scatter3d\"}],                        {\"colorway\":[\"black\",\"red\",\"green\",\"blue\"],\"height\":800,\"title\":{\"text\":\"Gaussian Sample Randomly Rotated\"},\"width\":800,\"template\":{\"data\":{\"bar\":[{\"error_x\":{\"color\":\"#2a3f5f\"},\"error_y\":{\"color\":\"#2a3f5f\"},\"marker\":{\"line\":{\"color\":\"#E5ECF6\",\"width\":0.5},\"pattern\":{\"fillmode\":\"overlay\",\"size\":10,\"solidity\":0.2}},\"type\":\"bar\"}],\"barpolar\":[{\"marker\":{\"line\":{\"color\":\"#E5ECF6\",\"width\":0.5},\"pattern\":{\"fillmode\":\"overlay\",\"size\":10,\"solidity\":0.2}},\"type\":\"barpolar\"}],\"carpet\":[{\"aaxis\":{\"endlinecolor\":\"#2a3f5f\",\"gridcolor\":\"white\",\"linecolor\":\"white\",\"minorgridcolor\":\"white\",\"startlinecolor\":\"#2a3f5f\"},\"baxis\":{\"endlinecolor\":\"#2a3f5f\",\"gridcolor\":\"white\",\"linecolor\":\"white\",\"minorgridcolor\":\"white\",\"startlinecolor\":\"#2a3f5f\"},\"type\":\"carpet\"}],\"choropleth\":[{\"colorbar\":{\"outlinewidth\":0,\"ticks\":\"\"},\"type\":\"choropleth\"}],\"contour\":[{\"colorbar\":{\"outlinewidth\":0,\"ticks\":\"\"},\"colorscale\":[[0.0,\"#0d0887\"],[0.1111111111111111,\"#46039f\"],[0.2222222222222222,\"#7201a8\"],[0.3333333333333333,\"#9c179e\"],[0.4444444444444444,\"#bd3786\"],[0.5555555555555556,\"#d8576b\"],[0.6666666666666666,\"#ed7953\"],[0.7777777777777778,\"#fb9f3a\"],[0.8888888888888888,\"#fdca26\"],[1.0,\"#f0f921\"]],\"type\":\"contour\"}],\"contourcarpet\":[{\"colorbar\":{\"outlinewidth\":0,\"ticks\":\"\"},\"type\":\"contourcarpet\"}],\"heatmap\":[{\"colorbar\":{\"outlinewidth\":0,\"ticks\":\"\"},\"colorscale\":[[0.0,\"#0d0887\"],[0.1111111111111111,\"#46039f\"],[0.2222222222222222,\"#7201a8\"],[0.3333333333333333,\"#9c179e\"],[0.4444444444444444,\"#bd3786\"],[0.5555555555555556,\"#d8576b\"],[0.6666666666666666,\"#ed7953\"],[0.7777777777777778,\"#fb9f3a\"],[0.8888888888888888,\"#fdca26\"],[1.0,\"#f0f921\"]],\"type\":\"heatmap\"}],\"heatmapgl\":[{\"colorbar\":{\"outlinewidth\":0,\"ticks\":\"\"},\"colorscale\":[[0.0,\"#0d0887\"],[0.1111111111111111,\"#46039f\"],[0.2222222222222222,\"#7201a8\"],[0.3333333333333333,\"#9c179e\"],[0.4444444444444444,\"#bd3786\"],[0.5555555555555556,\"#d8576b\"],[0.6666666666666666,\"#ed7953\"],[0.7777777777777778,\"#fb9f3a\"],[0.8888888888888888,\"#fdca26\"],[1.0,\"#f0f921\"]],\"type\":\"heatmapgl\"}],\"histogram\":[{\"marker\":{\"pattern\":{\"fillmode\":\"overlay\",\"size\":10,\"solidity\":0.2}},\"type\":\"histogram\"}],\"histogram2d\":[{\"colorbar\":{\"outlinewidth\":0,\"ticks\":\"\"},\"colorscale\":[[0.0,\"#0d0887\"],[0.1111111111111111,\"#46039f\"],[0.2222222222222222,\"#7201a8\"],[0.3333333333333333,\"#9c179e\"],[0.4444444444444444,\"#bd3786\"],[0.5555555555555556,\"#d8576b\"],[0.6666666666666666,\"#ed7953\"],[0.7777777777777778,\"#fb9f3a\"],[0.8888888888888888,\"#fdca26\"],[1.0,\"#f0f921\"]],\"type\":\"histogram2d\"}],\"histogram2dcontour\":[{\"colorbar\":{\"outlinewidth\":0,\"ticks\":\"\"},\"colorscale\":[[0.0,\"#0d0887\"],[0.1111111111111111,\"#46039f\"],[0.2222222222222222,\"#7201a8\"],[0.3333333333333333,\"#9c179e\"],[0.4444444444444444,\"#bd3786\"],[0.5555555555555556,\"#d8576b\"],[0.6666666666666666,\"#ed7953\"],[0.7777777777777778,\"#fb9f3a\"],[0.8888888888888888,\"#fdca26\"],[1.0,\"#f0f921\"]],\"type\":\"histogram2dcontour\"}],\"mesh3d\":[{\"colorbar\":{\"outlinewidth\":0,\"ticks\":\"\"},\"type\":\"mesh3d\"}],\"parcoords\":[{\"line\":{\"colorbar\":{\"outlinewidth\":0,\"ticks\":\"\"}},\"type\":\"parcoords\"}],\"pie\":[{\"automargin\":true,\"type\":\"pie\"}],\"scatter\":[{\"marker\":{\"colorbar\":{\"outlinewidth\":0,\"ticks\":\"\"}},\"type\":\"scatter\"}],\"scatter3d\":[{\"line\":{\"colorbar\":{\"outlinewidth\":0,\"ticks\":\"\"}},\"marker\":{\"colorbar\":{\"outlinewidth\":0,\"ticks\":\"\"}},\"type\":\"scatter3d\"}],\"scattercarpet\":[{\"marker\":{\"colorbar\":{\"outlinewidth\":0,\"ticks\":\"\"}},\"type\":\"scattercarpet\"}],\"scattergeo\":[{\"marker\":{\"colorbar\":{\"outlinewidth\":0,\"ticks\":\"\"}},\"type\":\"scattergeo\"}],\"scattergl\":[{\"marker\":{\"colorbar\":{\"outlinewidth\":0,\"ticks\":\"\"}},\"type\":\"scattergl\"}],\"scattermapbox\":[{\"marker\":{\"colorbar\":{\"outlinewidth\":0,\"ticks\":\"\"}},\"type\":\"scattermapbox\"}],\"scatterpolar\":[{\"marker\":{\"colorbar\":{\"outlinewidth\":0,\"ticks\":\"\"}},\"type\":\"scatterpolar\"}],\"scatterpolargl\":[{\"marker\":{\"colorbar\":{\"outlinewidth\":0,\"ticks\":\"\"}},\"type\":\"scatterpolargl\"}],\"scatterternary\":[{\"marker\":{\"colorbar\":{\"outlinewidth\":0,\"ticks\":\"\"}},\"type\":\"scatterternary\"}],\"surface\":[{\"colorbar\":{\"outlinewidth\":0,\"ticks\":\"\"},\"colorscale\":[[0.0,\"#0d0887\"],[0.1111111111111111,\"#46039f\"],[0.2222222222222222,\"#7201a8\"],[0.3333333333333333,\"#9c179e\"],[0.4444444444444444,\"#bd3786\"],[0.5555555555555556,\"#d8576b\"],[0.6666666666666666,\"#ed7953\"],[0.7777777777777778,\"#fb9f3a\"],[0.8888888888888888,\"#fdca26\"],[1.0,\"#f0f921\"]],\"type\":\"surface\"}],\"table\":[{\"cells\":{\"fill\":{\"color\":\"#EBF0F8\"},\"line\":{\"color\":\"white\"}},\"header\":{\"fill\":{\"color\":\"#C8D4E3\"},\"line\":{\"color\":\"white\"}},\"type\":\"table\"}]},\"layout\":{\"annotationdefaults\":{\"arrowcolor\":\"#2a3f5f\",\"arrowhead\":0,\"arrowwidth\":1},\"autotypenumbers\":\"strict\",\"coloraxis\":{\"colorbar\":{\"outlinewidth\":0,\"ticks\":\"\"}},\"colorscale\":{\"diverging\":[[0,\"#8e0152\"],[0.1,\"#c51b7d\"],[0.2,\"#de77ae\"],[0.3,\"#f1b6da\"],[0.4,\"#fde0ef\"],[0.5,\"#f7f7f7\"],[0.6,\"#e6f5d0\"],[0.7,\"#b8e186\"],[0.8,\"#7fbc41\"],[0.9,\"#4d9221\"],[1,\"#276419\"]],\"sequential\":[[0.0,\"#0d0887\"],[0.1111111111111111,\"#46039f\"],[0.2222222222222222,\"#7201a8\"],[0.3333333333333333,\"#9c179e\"],[0.4444444444444444,\"#bd3786\"],[0.5555555555555556,\"#d8576b\"],[0.6666666666666666,\"#ed7953\"],[0.7777777777777778,\"#fb9f3a\"],[0.8888888888888888,\"#fdca26\"],[1.0,\"#f0f921\"]],\"sequentialminus\":[[0.0,\"#0d0887\"],[0.1111111111111111,\"#46039f\"],[0.2222222222222222,\"#7201a8\"],[0.3333333333333333,\"#9c179e\"],[0.4444444444444444,\"#bd3786\"],[0.5555555555555556,\"#d8576b\"],[0.6666666666666666,\"#ed7953\"],[0.7777777777777778,\"#fb9f3a\"],[0.8888888888888888,\"#fdca26\"],[1.0,\"#f0f921\"]]},\"colorway\":[\"#636efa\",\"#EF553B\",\"#00cc96\",\"#ab63fa\",\"#FFA15A\",\"#19d3f3\",\"#FF6692\",\"#B6E880\",\"#FF97FF\",\"#FECB52\"],\"font\":{\"color\":\"#2a3f5f\"},\"geo\":{\"bgcolor\":\"white\",\"lakecolor\":\"white\",\"landcolor\":\"#E5ECF6\",\"showlakes\":true,\"showland\":true,\"subunitcolor\":\"white\"},\"hoverlabel\":{\"align\":\"left\"},\"hovermode\":\"closest\",\"mapbox\":{\"style\":\"light\"},\"paper_bgcolor\":\"white\",\"plot_bgcolor\":\"#E5ECF6\",\"polar\":{\"angularaxis\":{\"gridcolor\":\"white\",\"linecolor\":\"white\",\"ticks\":\"\"},\"bgcolor\":\"#E5ECF6\",\"radialaxis\":{\"gridcolor\":\"white\",\"linecolor\":\"white\",\"ticks\":\"\"}},\"scene\":{\"xaxis\":{\"backgroundcolor\":\"#E5ECF6\",\"gridcolor\":\"white\",\"gridwidth\":2,\"linecolor\":\"white\",\"showbackground\":true,\"ticks\":\"\",\"zerolinecolor\":\"white\"},\"yaxis\":{\"backgroundcolor\":\"#E5ECF6\",\"gridcolor\":\"white\",\"gridwidth\":2,\"linecolor\":\"white\",\"showbackground\":true,\"ticks\":\"\",\"zerolinecolor\":\"white\"},\"zaxis\":{\"backgroundcolor\":\"#E5ECF6\",\"gridcolor\":\"white\",\"gridwidth\":2,\"linecolor\":\"white\",\"showbackground\":true,\"ticks\":\"\",\"zerolinecolor\":\"white\"}},\"shapedefaults\":{\"line\":{\"color\":\"#2a3f5f\"}},\"ternary\":{\"aaxis\":{\"gridcolor\":\"white\",\"linecolor\":\"white\",\"ticks\":\"\"},\"baxis\":{\"gridcolor\":\"white\",\"linecolor\":\"white\",\"ticks\":\"\"},\"bgcolor\":\"#E5ECF6\",\"caxis\":{\"gridcolor\":\"white\",\"linecolor\":\"white\",\"ticks\":\"\"}},\"title\":{\"x\":0.05},\"xaxis\":{\"automargin\":true,\"gridcolor\":\"white\",\"linecolor\":\"white\",\"ticks\":\"\",\"title\":{\"standoff\":15},\"zerolinecolor\":\"white\",\"zerolinewidth\":2},\"yaxis\":{\"automargin\":true,\"gridcolor\":\"white\",\"linecolor\":\"white\",\"ticks\":\"\",\"title\":{\"standoff\":15},\"zerolinecolor\":\"white\",\"zerolinewidth\":2}}}},                        {\"responsive\": true}                    ).then(function(){\n",
       "                            \n",
       "var gd = document.getElementById('e39e9971-2203-43cb-bc7b-75102a0d0b97');\n",
       "var x = new MutationObserver(function (mutations, observer) {{\n",
       "        var display = window.getComputedStyle(gd).display;\n",
       "        if (!display || display === 'none') {{\n",
       "            console.log([gd, 'removed!']);\n",
       "            Plotly.purge(gd);\n",
       "            observer.disconnect();\n",
       "        }}\n",
       "}});\n",
       "\n",
       "// Listen for the removal of the full notebook cells\n",
       "var notebookContainer = gd.closest('#notebook-container');\n",
       "if (notebookContainer) {{\n",
       "    x.observe(notebookContainer, {childList: true});\n",
       "}}\n",
       "\n",
       "// Listen for the clearing of the current output cell\n",
       "var outputEl = gd.closest('.output');\n",
       "if (outputEl) {{\n",
       "    x.observe(outputEl, {childList: true});\n",
       "}}\n",
       "\n",
       "                        })                };                });            </script>        </div>"
      ]
     },
     "metadata": {},
     "output_type": "display_data"
    }
   ],
   "source": [
    "trace1 = go.Scatter3d(\n",
    "   x = Xr[:,0], y = Xr[:,1], z = Xr[:,2], mode = 'markers', showlegend=False,\n",
    "    marker = dict(\n",
    "      size = 4\n",
    "      )    \n",
    "   )\n",
    "bnd = 30\n",
    "axes = [go.Scatter3d(x = [-bnd,bnd], y = [0,0], z = [0,0], mode = 'lines', showlegend=False),\n",
    "        go.Scatter3d(x = [0,0], y = [-bnd,bnd], z = [0,0], mode = 'lines', showlegend=False),\n",
    "        go.Scatter3d(x = [0,0], y = [0,0], z = [-bnd,bnd], mode = 'lines', showlegend=False)]\n",
    "\n",
    "layout = go.Layout(title = 'Gaussian Sample Randomly Rotated',\n",
    "                  colorway=[\"black\", \"red\", \"green\", \"blue\"], width=800, height=800,)\n",
    "\n",
    "fig = go.Figure(data = [trace1] + axes, layout = layout)\n",
    "\n",
    "fig.show()"
   ]
  },
  {
   "cell_type": "markdown",
   "id": "a9cb0359",
   "metadata": {},
   "source": [
    "# Apply PCA to rotated data\n",
    "\n",
    "Now let us apply Principal Component Analysis to our 3D Gaussian data, a.k.a Point Cloud"
   ]
  },
  {
   "cell_type": "code",
   "execution_count": 36,
   "id": "a7abeb29",
   "metadata": {},
   "outputs": [
    {
     "name": "stdout",
     "output_type": "stream",
     "text": [
      "Angle in degrees between R first row and first principal component:   1.47\n"
     ]
    }
   ],
   "source": [
    "pca = PCA(3)\n",
    "pca.fit(Xr)\n",
    "\n",
    "Xcps = pca.components_\n",
    "\n",
    "angle = np.degrees(np.arccos(Xcps[0] @ Rot.T[0]))\n",
    "print(f'Angle in degrees between R first row and first principal component: {angle:6.2f}')"
   ]
  },
  {
   "cell_type": "code",
   "execution_count": 37,
   "id": "d776f52c",
   "metadata": {},
   "outputs": [
    {
     "data": {
      "application/vnd.plotly.v1+json": {
       "config": {
        "plotlyServerURL": "https://plot.ly"
       },
       "data": [
        {
         "marker": {
          "size": 4
         },
         "mode": "markers",
         "showlegend": false,
         "type": "scatter3d",
         "x": [
          -4.33949817787366,
          1.636275120038944,
          -11.853262675235452,
          -2.6960867527805488,
          0.6219327088290697,
          2.389725529689661,
          1.7832972480535172,
          5.174150349853473,
          -2.946462262503268,
          -2.7694764134926046,
          0.8018362168516646,
          0.29562885259709354,
          1.5985190042553368,
          3.9366031688216117,
          -10.8953216676305,
          -6.162885994071842,
          -2.902911076498828,
          -0.5957215852699334,
          -3.346486849695687,
          3.2573321791075336,
          5.500229305244744,
          2.6833115537192413,
          2.8907548987778697,
          -3.5933021393851625,
          -3.5498233269829607,
          3.453831327176599,
          4.597132356474225,
          1.8272565992134315,
          -0.458594254697141,
          2.9538901573718532,
          1.0952979225107888,
          -2.01919547085484,
          -1.6790345210338613,
          -5.741708872532022,
          1.9172312220182408,
          -2.71186331179051,
          5.601558627971321,
          -5.958005113475631,
          -1.5897482802015188,
          1.8995548335518582,
          2.279614894211854,
          -0.3354099981891258,
          5.044488981638578,
          -6.050315603460069,
          -4.340621146279037,
          2.6821492958117035,
          3.0176518803975263,
          -2.558190125799783,
          0.0014864372655001212,
          1.0244868856150688,
          -4.336310671677988,
          -2.8438241400000037,
          -3.44872035299679,
          -1.5262847598797382,
          2.4724610749793583,
          -4.242440383421762,
          3.6127050840200905,
          -3.291584061545743,
          -3.1344240689051848,
          -9.060721824846,
          11.072725507320303,
          -6.492708301751876,
          3.3774130495093675,
          -5.793643878472711,
          -9.88925432518902,
          -4.3872245631725475,
          -2.278151793647577,
          -9.480076749635991,
          0.5506980704601782,
          3.316702352007267,
          -6.89677213001153,
          7.010682210751929,
          4.978992660522038,
          -4.46950454178565,
          0.9719798316828383,
          4.22005020994233,
          -6.468700182760385,
          3.08710296340172,
          -4.002282720509088,
          -1.0614138710956798,
          6.8644217342024705,
          -7.054514249754242,
          -5.090448885578116,
          5.59304091800507,
          0.5540599609198397,
          -6.948749739289848,
          -11.072683096595188,
          -9.746881264695048,
          -11.954169026959617,
          -4.80867534195327,
          12.647289598049543,
          6.197878989342681,
          0.4366202710038627,
          -2.8538038320160064,
          0.5364822934239062,
          3.565970716190861,
          -5.373749673234861,
          1.6122665915158665,
          -0.911050472725363,
          1.70484500970357,
          1.529127026459023,
          -4.8285642214912485,
          -1.2434934805840294,
          1.8753326985104766,
          -7.135672789096776,
          3.909134654478193,
          -0.21565081415820858,
          -4.442858589881062,
          -1.7039445842748568,
          -5.916968193564422,
          -1.7552066798704327,
          -3.8753241162043466,
          -6.187507723988001,
          2.9387254086994608,
          -4.918741456120614,
          1.134911814376933,
          0.04985151943540736,
          -4.837058526181171,
          -3.9665439928511943,
          0.746445613036778,
          0.26102693077241795,
          0.8317201969153405,
          -1.443611570613679,
          5.467689581269441,
          4.51683128944086,
          7.799213600588899,
          -8.776547182107642,
          -2.220705918846847,
          -1.111545060167839,
          -7.681831238417175,
          2.4526450691904023,
          -3.791917619035476,
          -1.6930359184850794,
          -8.391322196809478,
          5.81801598882837,
          -7.915706990447645,
          2.692595270139046,
          -8.364145101257483,
          0.038482398494714354,
          -2.026599791766237,
          -3.1385023638058276,
          -4.701578301502563,
          10.580502469713975,
          -6.235187983895385,
          -3.1538842429301845,
          -3.5941738525792375,
          2.7434155933690363,
          -1.5441362585863978,
          2.1563814665595333,
          0.5809089753976882,
          -7.811935437988253,
          4.244960699451135,
          -0.9034875913475338,
          6.2505171224830125,
          -1.213307190818606,
          -4.863804693143751,
          -5.254942062815996,
          -2.9103444245912944,
          5.9364726973075275,
          5.289525351539343,
          -4.898890669718313,
          1.0297393180204364,
          -0.7059625404525193,
          -2.2220349741452536,
          -2.1152174853380874,
          -2.6104967662161154,
          -2.933151042033006,
          2.9040245349089524,
          1.0692921127811543,
          -9.515702350572584,
          7.285722982093777,
          -11.914987217286418,
          0.6919019594783263,
          0.8047380103554092,
          2.4649401847012076,
          -4.300530137758567,
          6.349087695403327,
          -1.3006318178461986,
          -2.648773097163621,
          -7.505888964689559,
          -1.4193545024574894,
          -1.9570127530525305,
          -7.1217663182388105,
          6.017960721751442,
          -1.809407201749567,
          -3.7320058034619636,
          -6.4806082558716644,
          2.11731185450896,
          -4.170079326729862,
          1.8534379580451994,
          -1.9425107201971743,
          0.3464800519584299,
          -2.3361547140283747,
          1.7319234247416875,
          -4.03812337877634,
          1.2893805140882324,
          0.5878858015789572,
          6.331922632764232,
          -0.3132007139747122,
          4.110136045555342,
          1.5921878262035096,
          -5.13032321562436,
          0.2243764178304282,
          -2.898318768721071,
          1.576407948203248,
          3.0660351134490553,
          -2.509348098112347,
          -1.0581474265148243,
          10.31820397869097,
          1.4195666271975953,
          4.565167212221306,
          2.9019092094847365,
          -4.4740634187142225,
          -0.49827783710238216,
          -0.40543562266210054,
          1.9491487803656267,
          2.8735382117326775,
          2.455995117185051,
          -2.8013131068847903,
          -3.2603097671471,
          2.102729872026097,
          6.5068022466650675,
          8.198313164943329,
          2.52678948990147,
          -2.0039964171611304,
          -6.974184156595101,
          -3.559628188646253,
          -3.216331700495894,
          -4.859931508580398,
          -6.9595700821894235,
          -7.791878657946125,
          -0.4075626294821117,
          8.542994616365528,
          -6.888152570245563,
          -3.603437865396925,
          2.644808443371867,
          -3.035853866044176,
          -2.8146709595670423,
          0.6578140624693082,
          -0.2112537343491176,
          7.686725907926951,
          -0.7945169592383525,
          -2.4712877762118297,
          -0.202710766367236,
          3.477248623488765,
          0.8942696144891646,
          -6.845451878882131,
          6.9577380421881765,
          -2.0838385869455602,
          6.205832449607456,
          -0.9438610921843332,
          1.6571882979381363,
          7.52582452614844,
          4.730891647277448,
          -1.033089564628387,
          -0.9153340801188098
         ],
         "y": [
          12.786590579002446,
          0.16837319009844534,
          7.148369062158309,
          2.3309955966855354,
          0.5187219801726998,
          -1.1940823015997089,
          8.977068932409216,
          -7.063086944207557,
          2.1377537474772574,
          8.130850177307057,
          2.3258097396196953,
          0.3541149627175973,
          -2.8230125684617615,
          1.2051418478837617,
          7.787582351705655,
          9.687874248621643,
          0.4368269717179136,
          -3.338435581371546,
          1.5212267127581975,
          1.1028559016347488,
          -9.645146925144564,
          -3.476759599405803,
          -1.4882508841627173,
          11.705383063000285,
          -1.7524315619874433,
          -10.187856581524926,
          -1.242441576179471,
          -8.602691032669684,
          3.9503000654037437,
          3.1761377033192235,
          -3.3572002499248477,
          2.672348271242872,
          -0.8815116625643186,
          5.373134068923022,
          -5.847764961070726,
          0.2853642382529279,
          -4.397849825507101,
          1.0145024601189372,
          1.1836576430124497,
          -6.335882617991353,
          0.22181093602548227,
          1.6493081458757366,
          -2.0161418880632365,
          1.9165299397618367,
          1.215351877115765,
          -15.138396502203534,
          -0.015337620238619393,
          -5.806083993589704,
          2.235867580769993,
          -4.455390305647563,
          1.1168380504611297,
          7.35461347509225,
          -0.09681521406234754,
          6.825390694804932,
          -5.3973538871934545,
          2.57276996486319,
          2.143482345370103,
          14.524486023600051,
          3.553647695076977,
          4.981438787299744,
          -10.821525521450754,
          3.801554582158705,
          -4.1864512540905405,
          5.261354878477125,
          8.489843833995279,
          -2.767582681755876,
          -3.7786365655085317,
          15.534439267913703,
          -3.14033414444381,
          -0.972075228413044,
          5.688132883216049,
          -8.771523096520282,
          -3.200746870649983,
          4.365301240476802,
          2.655734833053225,
          2.378481246932786,
          11.357856853734347,
          -3.8810981545603385,
          0.43019890500912494,
          -0.6922456532438759,
          -1.3574771895803965,
          4.881676824497491,
          0.14618485279097324,
          1.458065181282235,
          -2.510971430784705,
          -1.2759531051373982,
          13.882284709401583,
          14.908662109512475,
          11.185700026215029,
          5.151504769014723,
          -13.805063624646191,
          -8.703202609491672,
          -3.462839797270531,
          11.15778760809062,
          -1.6093828244556694,
          -1.6793243075182063,
          4.538774682163205,
          3.6319539594682655,
          -0.33137986291599525,
          -5.432598647446811,
          0.7155074175492684,
          4.97898528544608,
          -3.3326418796821966,
          -2.762909434725442,
          3.224719773870389,
          -8.621651436169703,
          3.870541574458119,
          -1.2980283701118873,
          1.8902675187364355,
          1.2850864157801631,
          3.5530182070223377,
          8.575057395352387,
          3.340918774067472,
          -5.174105242428715,
          4.084308390708547,
          -3.4666609799504378,
          -1.261797257146636,
          12.588279413788092,
          6.447955321227532,
          2.293277041354697,
          1.4738822381734669,
          -0.03966575706087762,
          -4.613966696836496,
          -3.6247835868346403,
          -3.391902952788474,
          -4.594701263337542,
          9.204652108272565,
          -6.680597160487547,
          4.137280530158414,
          1.8658256954804582,
          -5.419715909066049,
          5.797540882717696,
          -7.868340180147229,
          2.8285173827680192,
          -10.846767759223583,
          1.785927130779025,
          -3.849948486470878,
          4.63399085397747,
          1.2948670709293528,
          1.2974222632241987,
          9.846252698041436,
          1.6969385654799343,
          -10.917998174249773,
          1.7767323957788697,
          3.061023998498696,
          8.7991250207197,
          2.501088754609915,
          3.6992259959789875,
          -7.276014761890169,
          -5.966754420638377,
          10.266417314459094,
          -4.048359313576117,
          1.2084194060690332,
          -12.600060769070879,
          -2.8683682314375085,
          3.1890723572375372,
          4.2251699615659515,
          -0.06707099133179109,
          -1.2193400805568695,
          -5.37129424631297,
          3.401176291419084,
          -1.4448204035805114,
          2.064698558645203,
          11.924252251605084,
          0.7000601006805989,
          1.4183319141079982,
          4.206862123881622,
          -0.7128374246704834,
          1.610007576044713,
          3.045895239983167,
          -8.265251712500673,
          11.477283834244226,
          -6.818819900521575,
          4.392614425870466,
          -2.206650506710483,
          3.2433901015059643,
          -5.343254281179925,
          12.236151748281449,
          4.484931831358315,
          9.253813853738729,
          2.9813253325636877,
          -2.3734821433960493,
          7.25150463977036,
          1.6052658433419422,
          -5.927569104190806,
          4.213101299749055,
          6.359164055696148,
          -10.097993466722556,
          3.0052414847249613,
          -10.149030999088408,
          2.4349908379659775,
          -0.5769626182419508,
          -6.893861903807098,
          -4.692206439653911,
          15.601583456745745,
          0.5560399767797191,
          0.6624548120283263,
          -2.5659291925811,
          3.9469538186115694,
          0.5553813449293309,
          -4.194922243094383,
          6.943980390721904,
          -5.6577237516689145,
          3.014717443515434,
          0.35174113787949995,
          -3.2893250953361988,
          5.367680187466128,
          -7.14334325266175,
          -8.335341465138816,
          1.2236539807962343,
          -7.744504106001587,
          -7.460606680108237,
          -3.253017972697771,
          -2.3841773573789915,
          4.140791225877849,
          -6.244619914853872,
          -3.6296331298331403,
          -0.08912005867979106,
          8.719297471149932,
          -0.42720249339602273,
          -5.475135194251596,
          -8.785103387706432,
          1.5278848505254494,
          0.6716543268714508,
          -5.104900336513714,
          -0.1603021552028212,
          0.23471140337892887,
          1.9995668157978963,
          4.722846250061982,
          5.240567992900048,
          6.044236143510379,
          0.20367983931949962,
          2.002403823024714,
          2.532617503315141,
          10.45648711784813,
          2.965557027965138,
          2.1875894500926107,
          -2.33705078777842,
          -5.815556842698267,
          6.978501674754435,
          -5.059320897690781,
          -3.914263405263068,
          3.5368668981367852,
          -3.0729224025025528,
          -2.7199427521489947,
          -6.2945149610584075,
          0.9865881853588532,
          -7.425397772827946,
          4.6800274555401495,
          -3.776664261289536,
          -1.4206720230513386,
          -1.2724333020058898,
          2.7779618483290527,
          -11.987087472562102,
          -2.7104221043248127,
          2.012262640422762
         ],
         "z": [
          -10.436054419724758,
          4.115619238029365,
          -7.407206031127824,
          0.26529439164207796,
          -4.3761680672943575,
          4.112060275072455,
          -7.400938404953663,
          14.591873932743255,
          -2.9524505120201043,
          -5.194459294466591,
          -1.6734109262556807,
          6.472365574759696,
          5.381999022890839,
          -7.302032526477762,
          -5.225255266723269,
          -7.55974004156518,
          2.737515911208105,
          5.029399033520682,
          -0.8861509583637027,
          -2.433254631600136,
          3.247009566118154,
          3.236902010928206,
          -2.5465746366964868,
          -12.28729931279071,
          9.311784744038851,
          8.733730239782652,
          -4.769149842642157,
          9.566814641812067,
          -9.11332646272729,
          -1.983918734808363,
          1.2309216336678168,
          -7.834127581329667,
          1.59675774692945,
          -2.3989230301452134,
          6.83906572568033,
          2.3410564126752584,
          1.3130437624445581,
          5.6551201061556995,
          0.17288099750207647,
          1.2291284162881624,
          -1.6173773323172307,
          -2.315264508115133,
          0.006595321687429108,
          4.878782976859608,
          -0.9619207726110452,
          15.39634358442896,
          -3.7745829893435965,
          4.869225086030983,
          -0.7263984351241606,
          -2.202163160361416,
          0.3589133409953207,
          -6.804961161107907,
          2.091253905371672,
          -3.565514859005707,
          4.384680240541447,
          0.04869853241513074,
          -5.357693057144003,
          -13.010832932743591,
          -8.256131307657899,
          -9.74372757320013,
          5.462686741711272,
          -2.537631706610274,
          3.3924407876418714,
          -10.219305973979205,
          -3.1629090074190755,
          -7.621899282115566,
          -2.2174673872950246,
          -14.32699764624793,
          4.61306138895537,
          -2.774504244744447,
          0.8552156995029778,
          2.77479931173586,
          2.8406205458952063,
          -2.4605101961351523,
          -3.652146733316909,
          -9.570605283372739,
          -6.546103706291846,
          7.461423987420314,
          2.3420622073004047,
          -6.115509227974502,
          -10.750343424365088,
          -2.1247392752736998,
          -1.2645174061669706,
          1.0214905309704843,
          4.668154774100971,
          -0.7938628448426609,
          -14.865580290140635,
          -9.187946260597151,
          -0.768295310825675,
          -12.416838025129405,
          6.839638864215147,
          5.637746620141714,
          9.48163318392669,
          -12.73541850973494,
          3.9262845981485794,
          3.7368817654192266,
          -0.5135617791380455,
          -3.633492040347132,
          -1.6465557849660915,
          5.011201661747862,
          -0.5250857013081486,
          5.20658284532857,
          5.455731497381977,
          -1.0653520042457327,
          -3.235847225967342,
          8.90067664856283,
          -4.659774103796943,
          0.457798628602505,
          -1.5309734206611139,
          0.6428759829164656,
          -6.547679565019709,
          -4.506186867404794,
          -1.7740243117607888,
          3.4785749066923355,
          -0.0879938150514348,
          -0.03678509743697665,
          8.945505821584092,
          -13.401318966733728,
          -7.3920831321338065,
          -1.4030106604180141,
          -6.959264092567629,
          -0.2548972756463166,
          10.744050506718553,
          2.8165789495547617,
          4.647815222756062,
          -1.510889275078249,
          -2.11331983895602,
          5.608819459072004,
          -1.6555187707792622,
          1.2750524652174264,
          3.7435153266735086,
          -0.24669558655782547,
          9.047606958091537,
          9.703747193199,
          9.173884862374788,
          -1.5647171593296687,
          5.305226770571778,
          -0.2645409417737904,
          -6.855994125198378,
          -4.148777343181321,
          -10.271951858373283,
          1.917836234422029,
          5.995957842108882,
          0.24002841231068844,
          -2.9778807226364976,
          -9.889935163703685,
          -6.760291647578601,
          2.128109358672269,
          7.1431724202306635,
          4.938320267713654,
          -6.196050006792429,
          5.371737292873802,
          -1.3534197286381562,
          10.610607015664238,
          3.337644763725025,
          -6.155936856084034,
          5.154443854762256,
          5.3612570481768325,
          -0.07102988701246842,
          1.781649346838285,
          -0.29415321183466286,
          9.09905966668917,
          4.636338225138216,
          -15.697244591819423,
          3.786476336987343,
          0.4085352957087794,
          -1.3589450502046327,
          1.48705525962765,
          2.7463704406635827,
          -5.677715049699962,
          10.399640505386428,
          -7.360995682772432,
          2.3745562515855982,
          0.49563167940527175,
          7.012252341465555,
          -1.1217368575303581,
          5.432894537379995,
          -10.162754558112129,
          -0.6795889964547447,
          -8.917956939571798,
          0.594106943201606,
          1.4420428311177103,
          -5.976564977935139,
          -3.421827135211463,
          7.597278750006041,
          3.7627809442998914,
          -1.3318383705535928,
          6.507658779205747,
          -3.441303507138954,
          14.135736540364803,
          0.39691370483734495,
          -2.6418099540174893,
          7.369417062117547,
          4.231829278716317,
          -11.637646383408185,
          -3.1638922331280015,
          0.25163792871308827,
          -0.007926150038917331,
          -2.5230548128983683,
          -1.2648827807593828,
          -1.7357205443666803,
          -4.136391858043854,
          4.216288231096213,
          -0.23855078841391494,
          4.137035423318311,
          -0.19082856643698284,
          -4.481903618563796,
          7.667050730281073,
          1.4324343065105378,
          -3.692840835442999,
          2.571163124599416,
          8.648124668077958,
          3.184045778801497,
          -0.4332809553890428,
          -2.4280813895774833,
          6.20721830873486,
          1.0794894249432978,
          -8.710792193676882,
          -10.21317049729539,
          5.571252813517813,
          4.20800668989627,
          5.101895348427947,
          -0.147632252876186,
          2.342173310628134,
          2.7371788262068666,
          8.58735355754329,
          -0.062381144614920836,
          -2.7111344075363464,
          3.976822337387457,
          -1.4679394460674788,
          -5.096308776039322,
          4.1139620466198314,
          -4.818674189781431,
          2.419968946400257,
          -3.7193323567519343,
          -2.3624700015289934,
          -1.3313753808985165,
          6.755741575224024,
          5.354163421223026,
          -7.35182387240223,
          4.766925739716818,
          3.4898762734416184,
          -3.409114678701975,
          4.755197221711989,
          4.233669737119768,
          5.822532560270254,
          -3.0135849805237003,
          5.079325693933254,
          -4.370954333878521,
          4.842244081675363,
          4.123949934101746,
          0.30261338723935033,
          -1.5397633060528473,
          4.220343599819138,
          0.6965438349943527,
          -1.143078129384305
         ]
        },
        {
         "mode": "lines",
         "showlegend": false,
         "type": "scatter3d",
         "x": [
          -30,
          30
         ],
         "y": [
          0,
          0
         ],
         "z": [
          0,
          0
         ]
        },
        {
         "mode": "lines",
         "showlegend": false,
         "type": "scatter3d",
         "x": [
          0,
          0
         ],
         "y": [
          -30,
          30
         ],
         "z": [
          0,
          0
         ]
        },
        {
         "mode": "lines",
         "showlegend": false,
         "type": "scatter3d",
         "x": [
          0,
          0
         ],
         "y": [
          0,
          0
         ],
         "z": [
          -30,
          30
         ]
        },
        {
         "mode": "lines",
         "showlegend": false,
         "type": "scatter3d",
         "x": [
          -11.81937948460485,
          11.81937948460485
         ],
         "y": [
          20.25572459443642,
          -20.25572459443642
         ],
         "z": [
          -18.708497795206465,
          18.708497795206465
         ]
        },
        {
         "mode": "lines",
         "showlegend": false,
         "type": "scatter3d",
         "x": [
          23.529144903305195,
          -23.529144903305195
         ],
         "y": [
          -3.2036270075143194,
          3.2036270075143194
         ],
         "z": [
          -18.333469778413253,
          18.333469778413253
         ]
        },
        {
         "mode": "lines",
         "showlegend": false,
         "type": "scatter3d",
         "x": [
          -14.376425449956926,
          14.376425449956926
         ],
         "y": [
          -21.89617307090599,
          21.89617307090599
         ],
         "z": [
          -14.624499859166557,
          14.624499859166557
         ]
        }
       ],
       "layout": {
        "colorway": [
         "black",
         "grey",
         "grey",
         "grey",
         "red",
         "green",
         "blue"
        ],
        "height": 800,
        "template": {
         "data": {
          "bar": [
           {
            "error_x": {
             "color": "#2a3f5f"
            },
            "error_y": {
             "color": "#2a3f5f"
            },
            "marker": {
             "line": {
              "color": "#E5ECF6",
              "width": 0.5
             },
             "pattern": {
              "fillmode": "overlay",
              "size": 10,
              "solidity": 0.2
             }
            },
            "type": "bar"
           }
          ],
          "barpolar": [
           {
            "marker": {
             "line": {
              "color": "#E5ECF6",
              "width": 0.5
             },
             "pattern": {
              "fillmode": "overlay",
              "size": 10,
              "solidity": 0.2
             }
            },
            "type": "barpolar"
           }
          ],
          "carpet": [
           {
            "aaxis": {
             "endlinecolor": "#2a3f5f",
             "gridcolor": "white",
             "linecolor": "white",
             "minorgridcolor": "white",
             "startlinecolor": "#2a3f5f"
            },
            "baxis": {
             "endlinecolor": "#2a3f5f",
             "gridcolor": "white",
             "linecolor": "white",
             "minorgridcolor": "white",
             "startlinecolor": "#2a3f5f"
            },
            "type": "carpet"
           }
          ],
          "choropleth": [
           {
            "colorbar": {
             "outlinewidth": 0,
             "ticks": ""
            },
            "type": "choropleth"
           }
          ],
          "contour": [
           {
            "colorbar": {
             "outlinewidth": 0,
             "ticks": ""
            },
            "colorscale": [
             [
              0,
              "#0d0887"
             ],
             [
              0.1111111111111111,
              "#46039f"
             ],
             [
              0.2222222222222222,
              "#7201a8"
             ],
             [
              0.3333333333333333,
              "#9c179e"
             ],
             [
              0.4444444444444444,
              "#bd3786"
             ],
             [
              0.5555555555555556,
              "#d8576b"
             ],
             [
              0.6666666666666666,
              "#ed7953"
             ],
             [
              0.7777777777777778,
              "#fb9f3a"
             ],
             [
              0.8888888888888888,
              "#fdca26"
             ],
             [
              1,
              "#f0f921"
             ]
            ],
            "type": "contour"
           }
          ],
          "contourcarpet": [
           {
            "colorbar": {
             "outlinewidth": 0,
             "ticks": ""
            },
            "type": "contourcarpet"
           }
          ],
          "heatmap": [
           {
            "colorbar": {
             "outlinewidth": 0,
             "ticks": ""
            },
            "colorscale": [
             [
              0,
              "#0d0887"
             ],
             [
              0.1111111111111111,
              "#46039f"
             ],
             [
              0.2222222222222222,
              "#7201a8"
             ],
             [
              0.3333333333333333,
              "#9c179e"
             ],
             [
              0.4444444444444444,
              "#bd3786"
             ],
             [
              0.5555555555555556,
              "#d8576b"
             ],
             [
              0.6666666666666666,
              "#ed7953"
             ],
             [
              0.7777777777777778,
              "#fb9f3a"
             ],
             [
              0.8888888888888888,
              "#fdca26"
             ],
             [
              1,
              "#f0f921"
             ]
            ],
            "type": "heatmap"
           }
          ],
          "heatmapgl": [
           {
            "colorbar": {
             "outlinewidth": 0,
             "ticks": ""
            },
            "colorscale": [
             [
              0,
              "#0d0887"
             ],
             [
              0.1111111111111111,
              "#46039f"
             ],
             [
              0.2222222222222222,
              "#7201a8"
             ],
             [
              0.3333333333333333,
              "#9c179e"
             ],
             [
              0.4444444444444444,
              "#bd3786"
             ],
             [
              0.5555555555555556,
              "#d8576b"
             ],
             [
              0.6666666666666666,
              "#ed7953"
             ],
             [
              0.7777777777777778,
              "#fb9f3a"
             ],
             [
              0.8888888888888888,
              "#fdca26"
             ],
             [
              1,
              "#f0f921"
             ]
            ],
            "type": "heatmapgl"
           }
          ],
          "histogram": [
           {
            "marker": {
             "pattern": {
              "fillmode": "overlay",
              "size": 10,
              "solidity": 0.2
             }
            },
            "type": "histogram"
           }
          ],
          "histogram2d": [
           {
            "colorbar": {
             "outlinewidth": 0,
             "ticks": ""
            },
            "colorscale": [
             [
              0,
              "#0d0887"
             ],
             [
              0.1111111111111111,
              "#46039f"
             ],
             [
              0.2222222222222222,
              "#7201a8"
             ],
             [
              0.3333333333333333,
              "#9c179e"
             ],
             [
              0.4444444444444444,
              "#bd3786"
             ],
             [
              0.5555555555555556,
              "#d8576b"
             ],
             [
              0.6666666666666666,
              "#ed7953"
             ],
             [
              0.7777777777777778,
              "#fb9f3a"
             ],
             [
              0.8888888888888888,
              "#fdca26"
             ],
             [
              1,
              "#f0f921"
             ]
            ],
            "type": "histogram2d"
           }
          ],
          "histogram2dcontour": [
           {
            "colorbar": {
             "outlinewidth": 0,
             "ticks": ""
            },
            "colorscale": [
             [
              0,
              "#0d0887"
             ],
             [
              0.1111111111111111,
              "#46039f"
             ],
             [
              0.2222222222222222,
              "#7201a8"
             ],
             [
              0.3333333333333333,
              "#9c179e"
             ],
             [
              0.4444444444444444,
              "#bd3786"
             ],
             [
              0.5555555555555556,
              "#d8576b"
             ],
             [
              0.6666666666666666,
              "#ed7953"
             ],
             [
              0.7777777777777778,
              "#fb9f3a"
             ],
             [
              0.8888888888888888,
              "#fdca26"
             ],
             [
              1,
              "#f0f921"
             ]
            ],
            "type": "histogram2dcontour"
           }
          ],
          "mesh3d": [
           {
            "colorbar": {
             "outlinewidth": 0,
             "ticks": ""
            },
            "type": "mesh3d"
           }
          ],
          "parcoords": [
           {
            "line": {
             "colorbar": {
              "outlinewidth": 0,
              "ticks": ""
             }
            },
            "type": "parcoords"
           }
          ],
          "pie": [
           {
            "automargin": true,
            "type": "pie"
           }
          ],
          "scatter": [
           {
            "marker": {
             "colorbar": {
              "outlinewidth": 0,
              "ticks": ""
             }
            },
            "type": "scatter"
           }
          ],
          "scatter3d": [
           {
            "line": {
             "colorbar": {
              "outlinewidth": 0,
              "ticks": ""
             }
            },
            "marker": {
             "colorbar": {
              "outlinewidth": 0,
              "ticks": ""
             }
            },
            "type": "scatter3d"
           }
          ],
          "scattercarpet": [
           {
            "marker": {
             "colorbar": {
              "outlinewidth": 0,
              "ticks": ""
             }
            },
            "type": "scattercarpet"
           }
          ],
          "scattergeo": [
           {
            "marker": {
             "colorbar": {
              "outlinewidth": 0,
              "ticks": ""
             }
            },
            "type": "scattergeo"
           }
          ],
          "scattergl": [
           {
            "marker": {
             "colorbar": {
              "outlinewidth": 0,
              "ticks": ""
             }
            },
            "type": "scattergl"
           }
          ],
          "scattermapbox": [
           {
            "marker": {
             "colorbar": {
              "outlinewidth": 0,
              "ticks": ""
             }
            },
            "type": "scattermapbox"
           }
          ],
          "scatterpolar": [
           {
            "marker": {
             "colorbar": {
              "outlinewidth": 0,
              "ticks": ""
             }
            },
            "type": "scatterpolar"
           }
          ],
          "scatterpolargl": [
           {
            "marker": {
             "colorbar": {
              "outlinewidth": 0,
              "ticks": ""
             }
            },
            "type": "scatterpolargl"
           }
          ],
          "scatterternary": [
           {
            "marker": {
             "colorbar": {
              "outlinewidth": 0,
              "ticks": ""
             }
            },
            "type": "scatterternary"
           }
          ],
          "surface": [
           {
            "colorbar": {
             "outlinewidth": 0,
             "ticks": ""
            },
            "colorscale": [
             [
              0,
              "#0d0887"
             ],
             [
              0.1111111111111111,
              "#46039f"
             ],
             [
              0.2222222222222222,
              "#7201a8"
             ],
             [
              0.3333333333333333,
              "#9c179e"
             ],
             [
              0.4444444444444444,
              "#bd3786"
             ],
             [
              0.5555555555555556,
              "#d8576b"
             ],
             [
              0.6666666666666666,
              "#ed7953"
             ],
             [
              0.7777777777777778,
              "#fb9f3a"
             ],
             [
              0.8888888888888888,
              "#fdca26"
             ],
             [
              1,
              "#f0f921"
             ]
            ],
            "type": "surface"
           }
          ],
          "table": [
           {
            "cells": {
             "fill": {
              "color": "#EBF0F8"
             },
             "line": {
              "color": "white"
             }
            },
            "header": {
             "fill": {
              "color": "#C8D4E3"
             },
             "line": {
              "color": "white"
             }
            },
            "type": "table"
           }
          ]
         },
         "layout": {
          "annotationdefaults": {
           "arrowcolor": "#2a3f5f",
           "arrowhead": 0,
           "arrowwidth": 1
          },
          "autotypenumbers": "strict",
          "coloraxis": {
           "colorbar": {
            "outlinewidth": 0,
            "ticks": ""
           }
          },
          "colorscale": {
           "diverging": [
            [
             0,
             "#8e0152"
            ],
            [
             0.1,
             "#c51b7d"
            ],
            [
             0.2,
             "#de77ae"
            ],
            [
             0.3,
             "#f1b6da"
            ],
            [
             0.4,
             "#fde0ef"
            ],
            [
             0.5,
             "#f7f7f7"
            ],
            [
             0.6,
             "#e6f5d0"
            ],
            [
             0.7,
             "#b8e186"
            ],
            [
             0.8,
             "#7fbc41"
            ],
            [
             0.9,
             "#4d9221"
            ],
            [
             1,
             "#276419"
            ]
           ],
           "sequential": [
            [
             0,
             "#0d0887"
            ],
            [
             0.1111111111111111,
             "#46039f"
            ],
            [
             0.2222222222222222,
             "#7201a8"
            ],
            [
             0.3333333333333333,
             "#9c179e"
            ],
            [
             0.4444444444444444,
             "#bd3786"
            ],
            [
             0.5555555555555556,
             "#d8576b"
            ],
            [
             0.6666666666666666,
             "#ed7953"
            ],
            [
             0.7777777777777778,
             "#fb9f3a"
            ],
            [
             0.8888888888888888,
             "#fdca26"
            ],
            [
             1,
             "#f0f921"
            ]
           ],
           "sequentialminus": [
            [
             0,
             "#0d0887"
            ],
            [
             0.1111111111111111,
             "#46039f"
            ],
            [
             0.2222222222222222,
             "#7201a8"
            ],
            [
             0.3333333333333333,
             "#9c179e"
            ],
            [
             0.4444444444444444,
             "#bd3786"
            ],
            [
             0.5555555555555556,
             "#d8576b"
            ],
            [
             0.6666666666666666,
             "#ed7953"
            ],
            [
             0.7777777777777778,
             "#fb9f3a"
            ],
            [
             0.8888888888888888,
             "#fdca26"
            ],
            [
             1,
             "#f0f921"
            ]
           ]
          },
          "colorway": [
           "#636efa",
           "#EF553B",
           "#00cc96",
           "#ab63fa",
           "#FFA15A",
           "#19d3f3",
           "#FF6692",
           "#B6E880",
           "#FF97FF",
           "#FECB52"
          ],
          "font": {
           "color": "#2a3f5f"
          },
          "geo": {
           "bgcolor": "white",
           "lakecolor": "white",
           "landcolor": "#E5ECF6",
           "showlakes": true,
           "showland": true,
           "subunitcolor": "white"
          },
          "hoverlabel": {
           "align": "left"
          },
          "hovermode": "closest",
          "mapbox": {
           "style": "light"
          },
          "paper_bgcolor": "white",
          "plot_bgcolor": "#E5ECF6",
          "polar": {
           "angularaxis": {
            "gridcolor": "white",
            "linecolor": "white",
            "ticks": ""
           },
           "bgcolor": "#E5ECF6",
           "radialaxis": {
            "gridcolor": "white",
            "linecolor": "white",
            "ticks": ""
           }
          },
          "scene": {
           "xaxis": {
            "backgroundcolor": "#E5ECF6",
            "gridcolor": "white",
            "gridwidth": 2,
            "linecolor": "white",
            "showbackground": true,
            "ticks": "",
            "zerolinecolor": "white"
           },
           "yaxis": {
            "backgroundcolor": "#E5ECF6",
            "gridcolor": "white",
            "gridwidth": 2,
            "linecolor": "white",
            "showbackground": true,
            "ticks": "",
            "zerolinecolor": "white"
           },
           "zaxis": {
            "backgroundcolor": "#E5ECF6",
            "gridcolor": "white",
            "gridwidth": 2,
            "linecolor": "white",
            "showbackground": true,
            "ticks": "",
            "zerolinecolor": "white"
           }
          },
          "shapedefaults": {
           "line": {
            "color": "#2a3f5f"
           }
          },
          "ternary": {
           "aaxis": {
            "gridcolor": "white",
            "linecolor": "white",
            "ticks": ""
           },
           "baxis": {
            "gridcolor": "white",
            "linecolor": "white",
            "ticks": ""
           },
           "bgcolor": "#E5ECF6",
           "caxis": {
            "gridcolor": "white",
            "linecolor": "white",
            "ticks": ""
           }
          },
          "title": {
           "x": 0.05
          },
          "xaxis": {
           "automargin": true,
           "gridcolor": "white",
           "linecolor": "white",
           "ticks": "",
           "title": {
            "standoff": 15
           },
           "zerolinecolor": "white",
           "zerolinewidth": 2
          },
          "yaxis": {
           "automargin": true,
           "gridcolor": "white",
           "linecolor": "white",
           "ticks": "",
           "title": {
            "standoff": 15
           },
           "zerolinecolor": "white",
           "zerolinewidth": 2
          }
         }
        },
        "title": {
         "text": "Gaussian Sample Randomly Rotated"
        },
        "width": 800
       }
      },
      "text/html": [
       "<div>                            <div id=\"cf47fef5-fe74-4c62-9f5a-248e4e427ceb\" class=\"plotly-graph-div\" style=\"height:800px; width:800px;\"></div>            <script type=\"text/javascript\">                require([\"plotly\"], function(Plotly) {                    window.PLOTLYENV=window.PLOTLYENV || {};                                    if (document.getElementById(\"cf47fef5-fe74-4c62-9f5a-248e4e427ceb\")) {                    Plotly.newPlot(                        \"cf47fef5-fe74-4c62-9f5a-248e4e427ceb\",                        [{\"marker\":{\"size\":4},\"mode\":\"markers\",\"showlegend\":false,\"x\":[-4.33949817787366,1.636275120038944,-11.853262675235452,-2.6960867527805488,0.6219327088290697,2.389725529689661,1.7832972480535172,5.174150349853473,-2.946462262503268,-2.7694764134926046,0.8018362168516646,0.29562885259709354,1.5985190042553368,3.9366031688216117,-10.8953216676305,-6.162885994071842,-2.902911076498828,-0.5957215852699334,-3.346486849695687,3.2573321791075336,5.500229305244744,2.6833115537192413,2.8907548987778697,-3.5933021393851625,-3.5498233269829607,3.453831327176599,4.597132356474225,1.8272565992134315,-0.458594254697141,2.9538901573718532,1.0952979225107888,-2.01919547085484,-1.6790345210338613,-5.741708872532022,1.9172312220182408,-2.71186331179051,5.601558627971321,-5.958005113475631,-1.5897482802015188,1.8995548335518582,2.279614894211854,-0.3354099981891258,5.044488981638578,-6.050315603460069,-4.340621146279037,2.6821492958117035,3.0176518803975263,-2.558190125799783,0.0014864372655001212,1.0244868856150688,-4.336310671677988,-2.8438241400000037,-3.44872035299679,-1.5262847598797382,2.4724610749793583,-4.242440383421762,3.6127050840200905,-3.291584061545743,-3.1344240689051848,-9.060721824846,11.072725507320303,-6.492708301751876,3.3774130495093675,-5.793643878472711,-9.88925432518902,-4.3872245631725475,-2.278151793647577,-9.480076749635991,0.5506980704601782,3.316702352007267,-6.89677213001153,7.010682210751929,4.978992660522038,-4.46950454178565,0.9719798316828383,4.22005020994233,-6.468700182760385,3.08710296340172,-4.002282720509088,-1.0614138710956798,6.8644217342024705,-7.054514249754242,-5.090448885578116,5.59304091800507,0.5540599609198397,-6.948749739289848,-11.072683096595188,-9.746881264695048,-11.954169026959617,-4.80867534195327,12.647289598049543,6.197878989342681,0.4366202710038627,-2.8538038320160064,0.5364822934239062,3.565970716190861,-5.373749673234861,1.6122665915158665,-0.911050472725363,1.70484500970357,1.529127026459023,-4.8285642214912485,-1.2434934805840294,1.8753326985104766,-7.135672789096776,3.909134654478193,-0.21565081415820858,-4.442858589881062,-1.7039445842748568,-5.916968193564422,-1.7552066798704327,-3.8753241162043466,-6.187507723988001,2.9387254086994608,-4.918741456120614,1.134911814376933,0.04985151943540736,-4.837058526181171,-3.9665439928511943,0.746445613036778,0.26102693077241795,0.8317201969153405,-1.443611570613679,5.467689581269441,4.51683128944086,7.799213600588899,-8.776547182107642,-2.220705918846847,-1.111545060167839,-7.681831238417175,2.4526450691904023,-3.791917619035476,-1.6930359184850794,-8.391322196809478,5.81801598882837,-7.915706990447645,2.692595270139046,-8.364145101257483,0.038482398494714354,-2.026599791766237,-3.1385023638058276,-4.701578301502563,10.580502469713975,-6.235187983895385,-3.1538842429301845,-3.5941738525792375,2.7434155933690363,-1.5441362585863978,2.1563814665595333,0.5809089753976882,-7.811935437988253,4.244960699451135,-0.9034875913475338,6.2505171224830125,-1.213307190818606,-4.863804693143751,-5.254942062815996,-2.9103444245912944,5.9364726973075275,5.289525351539343,-4.898890669718313,1.0297393180204364,-0.7059625404525193,-2.2220349741452536,-2.1152174853380874,-2.6104967662161154,-2.933151042033006,2.9040245349089524,1.0692921127811543,-9.515702350572584,7.285722982093777,-11.914987217286418,0.6919019594783263,0.8047380103554092,2.4649401847012076,-4.300530137758567,6.349087695403327,-1.3006318178461986,-2.648773097163621,-7.505888964689559,-1.4193545024574894,-1.9570127530525305,-7.1217663182388105,6.017960721751442,-1.809407201749567,-3.7320058034619636,-6.4806082558716644,2.11731185450896,-4.170079326729862,1.8534379580451994,-1.9425107201971743,0.3464800519584299,-2.3361547140283747,1.7319234247416875,-4.03812337877634,1.2893805140882324,0.5878858015789572,6.331922632764232,-0.3132007139747122,4.110136045555342,1.5921878262035096,-5.13032321562436,0.2243764178304282,-2.898318768721071,1.576407948203248,3.0660351134490553,-2.509348098112347,-1.0581474265148243,10.31820397869097,1.4195666271975953,4.565167212221306,2.9019092094847365,-4.4740634187142225,-0.49827783710238216,-0.40543562266210054,1.9491487803656267,2.8735382117326775,2.455995117185051,-2.8013131068847903,-3.2603097671471,2.102729872026097,6.5068022466650675,8.198313164943329,2.52678948990147,-2.0039964171611304,-6.974184156595101,-3.559628188646253,-3.216331700495894,-4.859931508580398,-6.9595700821894235,-7.791878657946125,-0.4075626294821117,8.542994616365528,-6.888152570245563,-3.603437865396925,2.644808443371867,-3.035853866044176,-2.8146709595670423,0.6578140624693082,-0.2112537343491176,7.686725907926951,-0.7945169592383525,-2.4712877762118297,-0.202710766367236,3.477248623488765,0.8942696144891646,-6.845451878882131,6.9577380421881765,-2.0838385869455602,6.205832449607456,-0.9438610921843332,1.6571882979381363,7.52582452614844,4.730891647277448,-1.033089564628387,-0.9153340801188098],\"y\":[12.786590579002446,0.16837319009844534,7.148369062158309,2.3309955966855354,0.5187219801726998,-1.1940823015997089,8.977068932409216,-7.063086944207557,2.1377537474772574,8.130850177307057,2.3258097396196953,0.3541149627175973,-2.8230125684617615,1.2051418478837617,7.787582351705655,9.687874248621643,0.4368269717179136,-3.338435581371546,1.5212267127581975,1.1028559016347488,-9.645146925144564,-3.476759599405803,-1.4882508841627173,11.705383063000285,-1.7524315619874433,-10.187856581524926,-1.242441576179471,-8.602691032669684,3.9503000654037437,3.1761377033192235,-3.3572002499248477,2.672348271242872,-0.8815116625643186,5.373134068923022,-5.847764961070726,0.2853642382529279,-4.397849825507101,1.0145024601189372,1.1836576430124497,-6.335882617991353,0.22181093602548227,1.6493081458757366,-2.0161418880632365,1.9165299397618367,1.215351877115765,-15.138396502203534,-0.015337620238619393,-5.806083993589704,2.235867580769993,-4.455390305647563,1.1168380504611297,7.35461347509225,-0.09681521406234754,6.825390694804932,-5.3973538871934545,2.57276996486319,2.143482345370103,14.524486023600051,3.553647695076977,4.981438787299744,-10.821525521450754,3.801554582158705,-4.1864512540905405,5.261354878477125,8.489843833995279,-2.767582681755876,-3.7786365655085317,15.534439267913703,-3.14033414444381,-0.972075228413044,5.688132883216049,-8.771523096520282,-3.200746870649983,4.365301240476802,2.655734833053225,2.378481246932786,11.357856853734347,-3.8810981545603385,0.43019890500912494,-0.6922456532438759,-1.3574771895803965,4.881676824497491,0.14618485279097324,1.458065181282235,-2.510971430784705,-1.2759531051373982,13.882284709401583,14.908662109512475,11.185700026215029,5.151504769014723,-13.805063624646191,-8.703202609491672,-3.462839797270531,11.15778760809062,-1.6093828244556694,-1.6793243075182063,4.538774682163205,3.6319539594682655,-0.33137986291599525,-5.432598647446811,0.7155074175492684,4.97898528544608,-3.3326418796821966,-2.762909434725442,3.224719773870389,-8.621651436169703,3.870541574458119,-1.2980283701118873,1.8902675187364355,1.2850864157801631,3.5530182070223377,8.575057395352387,3.340918774067472,-5.174105242428715,4.084308390708547,-3.4666609799504378,-1.261797257146636,12.588279413788092,6.447955321227532,2.293277041354697,1.4738822381734669,-0.03966575706087762,-4.613966696836496,-3.6247835868346403,-3.391902952788474,-4.594701263337542,9.204652108272565,-6.680597160487547,4.137280530158414,1.8658256954804582,-5.419715909066049,5.797540882717696,-7.868340180147229,2.8285173827680192,-10.846767759223583,1.785927130779025,-3.849948486470878,4.63399085397747,1.2948670709293528,1.2974222632241987,9.846252698041436,1.6969385654799343,-10.917998174249773,1.7767323957788697,3.061023998498696,8.7991250207197,2.501088754609915,3.6992259959789875,-7.276014761890169,-5.966754420638377,10.266417314459094,-4.048359313576117,1.2084194060690332,-12.600060769070879,-2.8683682314375085,3.1890723572375372,4.2251699615659515,-0.06707099133179109,-1.2193400805568695,-5.37129424631297,3.401176291419084,-1.4448204035805114,2.064698558645203,11.924252251605084,0.7000601006805989,1.4183319141079982,4.206862123881622,-0.7128374246704834,1.610007576044713,3.045895239983167,-8.265251712500673,11.477283834244226,-6.818819900521575,4.392614425870466,-2.206650506710483,3.2433901015059643,-5.343254281179925,12.236151748281449,4.484931831358315,9.253813853738729,2.9813253325636877,-2.3734821433960493,7.25150463977036,1.6052658433419422,-5.927569104190806,4.213101299749055,6.359164055696148,-10.097993466722556,3.0052414847249613,-10.149030999088408,2.4349908379659775,-0.5769626182419508,-6.893861903807098,-4.692206439653911,15.601583456745745,0.5560399767797191,0.6624548120283263,-2.5659291925811,3.9469538186115694,0.5553813449293309,-4.194922243094383,6.943980390721904,-5.6577237516689145,3.014717443515434,0.35174113787949995,-3.2893250953361988,5.367680187466128,-7.14334325266175,-8.335341465138816,1.2236539807962343,-7.744504106001587,-7.460606680108237,-3.253017972697771,-2.3841773573789915,4.140791225877849,-6.244619914853872,-3.6296331298331403,-0.08912005867979106,8.719297471149932,-0.42720249339602273,-5.475135194251596,-8.785103387706432,1.5278848505254494,0.6716543268714508,-5.104900336513714,-0.1603021552028212,0.23471140337892887,1.9995668157978963,4.722846250061982,5.240567992900048,6.044236143510379,0.20367983931949962,2.002403823024714,2.532617503315141,10.45648711784813,2.965557027965138,2.1875894500926107,-2.33705078777842,-5.815556842698267,6.978501674754435,-5.059320897690781,-3.914263405263068,3.5368668981367852,-3.0729224025025528,-2.7199427521489947,-6.2945149610584075,0.9865881853588532,-7.425397772827946,4.6800274555401495,-3.776664261289536,-1.4206720230513386,-1.2724333020058898,2.7779618483290527,-11.987087472562102,-2.7104221043248127,2.012262640422762],\"z\":[-10.436054419724758,4.115619238029365,-7.407206031127824,0.26529439164207796,-4.3761680672943575,4.112060275072455,-7.400938404953663,14.591873932743255,-2.9524505120201043,-5.194459294466591,-1.6734109262556807,6.472365574759696,5.381999022890839,-7.302032526477762,-5.225255266723269,-7.55974004156518,2.737515911208105,5.029399033520682,-0.8861509583637027,-2.433254631600136,3.247009566118154,3.236902010928206,-2.5465746366964868,-12.28729931279071,9.311784744038851,8.733730239782652,-4.769149842642157,9.566814641812067,-9.11332646272729,-1.983918734808363,1.2309216336678168,-7.834127581329667,1.59675774692945,-2.3989230301452134,6.83906572568033,2.3410564126752584,1.3130437624445581,5.6551201061556995,0.17288099750207647,1.2291284162881624,-1.6173773323172307,-2.315264508115133,0.006595321687429108,4.878782976859608,-0.9619207726110452,15.39634358442896,-3.7745829893435965,4.869225086030983,-0.7263984351241606,-2.202163160361416,0.3589133409953207,-6.804961161107907,2.091253905371672,-3.565514859005707,4.384680240541447,0.04869853241513074,-5.357693057144003,-13.010832932743591,-8.256131307657899,-9.74372757320013,5.462686741711272,-2.537631706610274,3.3924407876418714,-10.219305973979205,-3.1629090074190755,-7.621899282115566,-2.2174673872950246,-14.32699764624793,4.61306138895537,-2.774504244744447,0.8552156995029778,2.77479931173586,2.8406205458952063,-2.4605101961351523,-3.652146733316909,-9.570605283372739,-6.546103706291846,7.461423987420314,2.3420622073004047,-6.115509227974502,-10.750343424365088,-2.1247392752736998,-1.2645174061669706,1.0214905309704843,4.668154774100971,-0.7938628448426609,-14.865580290140635,-9.187946260597151,-0.768295310825675,-12.416838025129405,6.839638864215147,5.637746620141714,9.48163318392669,-12.73541850973494,3.9262845981485794,3.7368817654192266,-0.5135617791380455,-3.633492040347132,-1.6465557849660915,5.011201661747862,-0.5250857013081486,5.20658284532857,5.455731497381977,-1.0653520042457327,-3.235847225967342,8.90067664856283,-4.659774103796943,0.457798628602505,-1.5309734206611139,0.6428759829164656,-6.547679565019709,-4.506186867404794,-1.7740243117607888,3.4785749066923355,-0.0879938150514348,-0.03678509743697665,8.945505821584092,-13.401318966733728,-7.3920831321338065,-1.4030106604180141,-6.959264092567629,-0.2548972756463166,10.744050506718553,2.8165789495547617,4.647815222756062,-1.510889275078249,-2.11331983895602,5.608819459072004,-1.6555187707792622,1.2750524652174264,3.7435153266735086,-0.24669558655782547,9.047606958091537,9.703747193199,9.173884862374788,-1.5647171593296687,5.305226770571778,-0.2645409417737904,-6.855994125198378,-4.148777343181321,-10.271951858373283,1.917836234422029,5.995957842108882,0.24002841231068844,-2.9778807226364976,-9.889935163703685,-6.760291647578601,2.128109358672269,7.1431724202306635,4.938320267713654,-6.196050006792429,5.371737292873802,-1.3534197286381562,10.610607015664238,3.337644763725025,-6.155936856084034,5.154443854762256,5.3612570481768325,-0.07102988701246842,1.781649346838285,-0.29415321183466286,9.09905966668917,4.636338225138216,-15.697244591819423,3.786476336987343,0.4085352957087794,-1.3589450502046327,1.48705525962765,2.7463704406635827,-5.677715049699962,10.399640505386428,-7.360995682772432,2.3745562515855982,0.49563167940527175,7.012252341465555,-1.1217368575303581,5.432894537379995,-10.162754558112129,-0.6795889964547447,-8.917956939571798,0.594106943201606,1.4420428311177103,-5.976564977935139,-3.421827135211463,7.597278750006041,3.7627809442998914,-1.3318383705535928,6.507658779205747,-3.441303507138954,14.135736540364803,0.39691370483734495,-2.6418099540174893,7.369417062117547,4.231829278716317,-11.637646383408185,-3.1638922331280015,0.25163792871308827,-0.007926150038917331,-2.5230548128983683,-1.2648827807593828,-1.7357205443666803,-4.136391858043854,4.216288231096213,-0.23855078841391494,4.137035423318311,-0.19082856643698284,-4.481903618563796,7.667050730281073,1.4324343065105378,-3.692840835442999,2.571163124599416,8.648124668077958,3.184045778801497,-0.4332809553890428,-2.4280813895774833,6.20721830873486,1.0794894249432978,-8.710792193676882,-10.21317049729539,5.571252813517813,4.20800668989627,5.101895348427947,-0.147632252876186,2.342173310628134,2.7371788262068666,8.58735355754329,-0.062381144614920836,-2.7111344075363464,3.976822337387457,-1.4679394460674788,-5.096308776039322,4.1139620466198314,-4.818674189781431,2.419968946400257,-3.7193323567519343,-2.3624700015289934,-1.3313753808985165,6.755741575224024,5.354163421223026,-7.35182387240223,4.766925739716818,3.4898762734416184,-3.409114678701975,4.755197221711989,4.233669737119768,5.822532560270254,-3.0135849805237003,5.079325693933254,-4.370954333878521,4.842244081675363,4.123949934101746,0.30261338723935033,-1.5397633060528473,4.220343599819138,0.6965438349943527,-1.143078129384305],\"type\":\"scatter3d\"},{\"mode\":\"lines\",\"showlegend\":false,\"x\":[-30,30],\"y\":[0,0],\"z\":[0,0],\"type\":\"scatter3d\"},{\"mode\":\"lines\",\"showlegend\":false,\"x\":[0,0],\"y\":[-30,30],\"z\":[0,0],\"type\":\"scatter3d\"},{\"mode\":\"lines\",\"showlegend\":false,\"x\":[0,0],\"y\":[0,0],\"z\":[-30,30],\"type\":\"scatter3d\"},{\"mode\":\"lines\",\"showlegend\":false,\"x\":[-11.81937948460485,11.81937948460485],\"y\":[20.25572459443642,-20.25572459443642],\"z\":[-18.708497795206465,18.708497795206465],\"type\":\"scatter3d\"},{\"mode\":\"lines\",\"showlegend\":false,\"x\":[23.529144903305195,-23.529144903305195],\"y\":[-3.2036270075143194,3.2036270075143194],\"z\":[-18.333469778413253,18.333469778413253],\"type\":\"scatter3d\"},{\"mode\":\"lines\",\"showlegend\":false,\"x\":[-14.376425449956926,14.376425449956926],\"y\":[-21.89617307090599,21.89617307090599],\"z\":[-14.624499859166557,14.624499859166557],\"type\":\"scatter3d\"}],                        {\"colorway\":[\"black\",\"grey\",\"grey\",\"grey\",\"red\",\"green\",\"blue\"],\"height\":800,\"title\":{\"text\":\"Gaussian Sample Randomly Rotated\"},\"width\":800,\"template\":{\"data\":{\"bar\":[{\"error_x\":{\"color\":\"#2a3f5f\"},\"error_y\":{\"color\":\"#2a3f5f\"},\"marker\":{\"line\":{\"color\":\"#E5ECF6\",\"width\":0.5},\"pattern\":{\"fillmode\":\"overlay\",\"size\":10,\"solidity\":0.2}},\"type\":\"bar\"}],\"barpolar\":[{\"marker\":{\"line\":{\"color\":\"#E5ECF6\",\"width\":0.5},\"pattern\":{\"fillmode\":\"overlay\",\"size\":10,\"solidity\":0.2}},\"type\":\"barpolar\"}],\"carpet\":[{\"aaxis\":{\"endlinecolor\":\"#2a3f5f\",\"gridcolor\":\"white\",\"linecolor\":\"white\",\"minorgridcolor\":\"white\",\"startlinecolor\":\"#2a3f5f\"},\"baxis\":{\"endlinecolor\":\"#2a3f5f\",\"gridcolor\":\"white\",\"linecolor\":\"white\",\"minorgridcolor\":\"white\",\"startlinecolor\":\"#2a3f5f\"},\"type\":\"carpet\"}],\"choropleth\":[{\"colorbar\":{\"outlinewidth\":0,\"ticks\":\"\"},\"type\":\"choropleth\"}],\"contour\":[{\"colorbar\":{\"outlinewidth\":0,\"ticks\":\"\"},\"colorscale\":[[0.0,\"#0d0887\"],[0.1111111111111111,\"#46039f\"],[0.2222222222222222,\"#7201a8\"],[0.3333333333333333,\"#9c179e\"],[0.4444444444444444,\"#bd3786\"],[0.5555555555555556,\"#d8576b\"],[0.6666666666666666,\"#ed7953\"],[0.7777777777777778,\"#fb9f3a\"],[0.8888888888888888,\"#fdca26\"],[1.0,\"#f0f921\"]],\"type\":\"contour\"}],\"contourcarpet\":[{\"colorbar\":{\"outlinewidth\":0,\"ticks\":\"\"},\"type\":\"contourcarpet\"}],\"heatmap\":[{\"colorbar\":{\"outlinewidth\":0,\"ticks\":\"\"},\"colorscale\":[[0.0,\"#0d0887\"],[0.1111111111111111,\"#46039f\"],[0.2222222222222222,\"#7201a8\"],[0.3333333333333333,\"#9c179e\"],[0.4444444444444444,\"#bd3786\"],[0.5555555555555556,\"#d8576b\"],[0.6666666666666666,\"#ed7953\"],[0.7777777777777778,\"#fb9f3a\"],[0.8888888888888888,\"#fdca26\"],[1.0,\"#f0f921\"]],\"type\":\"heatmap\"}],\"heatmapgl\":[{\"colorbar\":{\"outlinewidth\":0,\"ticks\":\"\"},\"colorscale\":[[0.0,\"#0d0887\"],[0.1111111111111111,\"#46039f\"],[0.2222222222222222,\"#7201a8\"],[0.3333333333333333,\"#9c179e\"],[0.4444444444444444,\"#bd3786\"],[0.5555555555555556,\"#d8576b\"],[0.6666666666666666,\"#ed7953\"],[0.7777777777777778,\"#fb9f3a\"],[0.8888888888888888,\"#fdca26\"],[1.0,\"#f0f921\"]],\"type\":\"heatmapgl\"}],\"histogram\":[{\"marker\":{\"pattern\":{\"fillmode\":\"overlay\",\"size\":10,\"solidity\":0.2}},\"type\":\"histogram\"}],\"histogram2d\":[{\"colorbar\":{\"outlinewidth\":0,\"ticks\":\"\"},\"colorscale\":[[0.0,\"#0d0887\"],[0.1111111111111111,\"#46039f\"],[0.2222222222222222,\"#7201a8\"],[0.3333333333333333,\"#9c179e\"],[0.4444444444444444,\"#bd3786\"],[0.5555555555555556,\"#d8576b\"],[0.6666666666666666,\"#ed7953\"],[0.7777777777777778,\"#fb9f3a\"],[0.8888888888888888,\"#fdca26\"],[1.0,\"#f0f921\"]],\"type\":\"histogram2d\"}],\"histogram2dcontour\":[{\"colorbar\":{\"outlinewidth\":0,\"ticks\":\"\"},\"colorscale\":[[0.0,\"#0d0887\"],[0.1111111111111111,\"#46039f\"],[0.2222222222222222,\"#7201a8\"],[0.3333333333333333,\"#9c179e\"],[0.4444444444444444,\"#bd3786\"],[0.5555555555555556,\"#d8576b\"],[0.6666666666666666,\"#ed7953\"],[0.7777777777777778,\"#fb9f3a\"],[0.8888888888888888,\"#fdca26\"],[1.0,\"#f0f921\"]],\"type\":\"histogram2dcontour\"}],\"mesh3d\":[{\"colorbar\":{\"outlinewidth\":0,\"ticks\":\"\"},\"type\":\"mesh3d\"}],\"parcoords\":[{\"line\":{\"colorbar\":{\"outlinewidth\":0,\"ticks\":\"\"}},\"type\":\"parcoords\"}],\"pie\":[{\"automargin\":true,\"type\":\"pie\"}],\"scatter\":[{\"marker\":{\"colorbar\":{\"outlinewidth\":0,\"ticks\":\"\"}},\"type\":\"scatter\"}],\"scatter3d\":[{\"line\":{\"colorbar\":{\"outlinewidth\":0,\"ticks\":\"\"}},\"marker\":{\"colorbar\":{\"outlinewidth\":0,\"ticks\":\"\"}},\"type\":\"scatter3d\"}],\"scattercarpet\":[{\"marker\":{\"colorbar\":{\"outlinewidth\":0,\"ticks\":\"\"}},\"type\":\"scattercarpet\"}],\"scattergeo\":[{\"marker\":{\"colorbar\":{\"outlinewidth\":0,\"ticks\":\"\"}},\"type\":\"scattergeo\"}],\"scattergl\":[{\"marker\":{\"colorbar\":{\"outlinewidth\":0,\"ticks\":\"\"}},\"type\":\"scattergl\"}],\"scattermapbox\":[{\"marker\":{\"colorbar\":{\"outlinewidth\":0,\"ticks\":\"\"}},\"type\":\"scattermapbox\"}],\"scatterpolar\":[{\"marker\":{\"colorbar\":{\"outlinewidth\":0,\"ticks\":\"\"}},\"type\":\"scatterpolar\"}],\"scatterpolargl\":[{\"marker\":{\"colorbar\":{\"outlinewidth\":0,\"ticks\":\"\"}},\"type\":\"scatterpolargl\"}],\"scatterternary\":[{\"marker\":{\"colorbar\":{\"outlinewidth\":0,\"ticks\":\"\"}},\"type\":\"scatterternary\"}],\"surface\":[{\"colorbar\":{\"outlinewidth\":0,\"ticks\":\"\"},\"colorscale\":[[0.0,\"#0d0887\"],[0.1111111111111111,\"#46039f\"],[0.2222222222222222,\"#7201a8\"],[0.3333333333333333,\"#9c179e\"],[0.4444444444444444,\"#bd3786\"],[0.5555555555555556,\"#d8576b\"],[0.6666666666666666,\"#ed7953\"],[0.7777777777777778,\"#fb9f3a\"],[0.8888888888888888,\"#fdca26\"],[1.0,\"#f0f921\"]],\"type\":\"surface\"}],\"table\":[{\"cells\":{\"fill\":{\"color\":\"#EBF0F8\"},\"line\":{\"color\":\"white\"}},\"header\":{\"fill\":{\"color\":\"#C8D4E3\"},\"line\":{\"color\":\"white\"}},\"type\":\"table\"}]},\"layout\":{\"annotationdefaults\":{\"arrowcolor\":\"#2a3f5f\",\"arrowhead\":0,\"arrowwidth\":1},\"autotypenumbers\":\"strict\",\"coloraxis\":{\"colorbar\":{\"outlinewidth\":0,\"ticks\":\"\"}},\"colorscale\":{\"diverging\":[[0,\"#8e0152\"],[0.1,\"#c51b7d\"],[0.2,\"#de77ae\"],[0.3,\"#f1b6da\"],[0.4,\"#fde0ef\"],[0.5,\"#f7f7f7\"],[0.6,\"#e6f5d0\"],[0.7,\"#b8e186\"],[0.8,\"#7fbc41\"],[0.9,\"#4d9221\"],[1,\"#276419\"]],\"sequential\":[[0.0,\"#0d0887\"],[0.1111111111111111,\"#46039f\"],[0.2222222222222222,\"#7201a8\"],[0.3333333333333333,\"#9c179e\"],[0.4444444444444444,\"#bd3786\"],[0.5555555555555556,\"#d8576b\"],[0.6666666666666666,\"#ed7953\"],[0.7777777777777778,\"#fb9f3a\"],[0.8888888888888888,\"#fdca26\"],[1.0,\"#f0f921\"]],\"sequentialminus\":[[0.0,\"#0d0887\"],[0.1111111111111111,\"#46039f\"],[0.2222222222222222,\"#7201a8\"],[0.3333333333333333,\"#9c179e\"],[0.4444444444444444,\"#bd3786\"],[0.5555555555555556,\"#d8576b\"],[0.6666666666666666,\"#ed7953\"],[0.7777777777777778,\"#fb9f3a\"],[0.8888888888888888,\"#fdca26\"],[1.0,\"#f0f921\"]]},\"colorway\":[\"#636efa\",\"#EF553B\",\"#00cc96\",\"#ab63fa\",\"#FFA15A\",\"#19d3f3\",\"#FF6692\",\"#B6E880\",\"#FF97FF\",\"#FECB52\"],\"font\":{\"color\":\"#2a3f5f\"},\"geo\":{\"bgcolor\":\"white\",\"lakecolor\":\"white\",\"landcolor\":\"#E5ECF6\",\"showlakes\":true,\"showland\":true,\"subunitcolor\":\"white\"},\"hoverlabel\":{\"align\":\"left\"},\"hovermode\":\"closest\",\"mapbox\":{\"style\":\"light\"},\"paper_bgcolor\":\"white\",\"plot_bgcolor\":\"#E5ECF6\",\"polar\":{\"angularaxis\":{\"gridcolor\":\"white\",\"linecolor\":\"white\",\"ticks\":\"\"},\"bgcolor\":\"#E5ECF6\",\"radialaxis\":{\"gridcolor\":\"white\",\"linecolor\":\"white\",\"ticks\":\"\"}},\"scene\":{\"xaxis\":{\"backgroundcolor\":\"#E5ECF6\",\"gridcolor\":\"white\",\"gridwidth\":2,\"linecolor\":\"white\",\"showbackground\":true,\"ticks\":\"\",\"zerolinecolor\":\"white\"},\"yaxis\":{\"backgroundcolor\":\"#E5ECF6\",\"gridcolor\":\"white\",\"gridwidth\":2,\"linecolor\":\"white\",\"showbackground\":true,\"ticks\":\"\",\"zerolinecolor\":\"white\"},\"zaxis\":{\"backgroundcolor\":\"#E5ECF6\",\"gridcolor\":\"white\",\"gridwidth\":2,\"linecolor\":\"white\",\"showbackground\":true,\"ticks\":\"\",\"zerolinecolor\":\"white\"}},\"shapedefaults\":{\"line\":{\"color\":\"#2a3f5f\"}},\"ternary\":{\"aaxis\":{\"gridcolor\":\"white\",\"linecolor\":\"white\",\"ticks\":\"\"},\"baxis\":{\"gridcolor\":\"white\",\"linecolor\":\"white\",\"ticks\":\"\"},\"bgcolor\":\"#E5ECF6\",\"caxis\":{\"gridcolor\":\"white\",\"linecolor\":\"white\",\"ticks\":\"\"}},\"title\":{\"x\":0.05},\"xaxis\":{\"automargin\":true,\"gridcolor\":\"white\",\"linecolor\":\"white\",\"ticks\":\"\",\"title\":{\"standoff\":15},\"zerolinecolor\":\"white\",\"zerolinewidth\":2},\"yaxis\":{\"automargin\":true,\"gridcolor\":\"white\",\"linecolor\":\"white\",\"ticks\":\"\",\"title\":{\"standoff\":15},\"zerolinecolor\":\"white\",\"zerolinewidth\":2}}}},                        {\"responsive\": true}                    ).then(function(){\n",
       "                            \n",
       "var gd = document.getElementById('cf47fef5-fe74-4c62-9f5a-248e4e427ceb');\n",
       "var x = new MutationObserver(function (mutations, observer) {{\n",
       "        var display = window.getComputedStyle(gd).display;\n",
       "        if (!display || display === 'none') {{\n",
       "            console.log([gd, 'removed!']);\n",
       "            Plotly.purge(gd);\n",
       "            observer.disconnect();\n",
       "        }}\n",
       "}});\n",
       "\n",
       "// Listen for the removal of the full notebook cells\n",
       "var notebookContainer = gd.closest('#notebook-container');\n",
       "if (notebookContainer) {{\n",
       "    x.observe(notebookContainer, {childList: true});\n",
       "}}\n",
       "\n",
       "// Listen for the clearing of the current output cell\n",
       "var outputEl = gd.closest('.output');\n",
       "if (outputEl) {{\n",
       "    x.observe(outputEl, {childList: true});\n",
       "}}\n",
       "\n",
       "                        })                };                });            </script>        </div>"
      ]
     },
     "metadata": {},
     "output_type": "display_data"
    }
   ],
   "source": [
    "pca = PCA(3)\n",
    "pca.fit(Xr)\n",
    "\n",
    "Xcps = pca.components_\n",
    "\n",
    "trace1 = go.Scatter3d(\n",
    "   x = Xr[:,0], y = Xr[:,1], z = Xr[:,2], mode = 'markers', showlegend=False,\n",
    "    marker = dict(\n",
    "      size = 4\n",
    "      )    \n",
    "   )\n",
    "bnd = 30\n",
    "axes = [go.Scatter3d(x = [-bnd,bnd], y = [0,0], z = [0,0], mode = 'lines', showlegend=False),\n",
    "        go.Scatter3d(x = [0,0], y = [-bnd,bnd], z = [0,0], mode = 'lines', showlegend=False),\n",
    "        go.Scatter3d(x = [0,0], y = [0,0], z = [-bnd,bnd], mode = 'lines', showlegend=False)]\n",
    "\n",
    "pcStart = bnd*Xcps\n",
    "pcEnd   = -bnd*Xcps\n",
    "pctraces = [go.Scatter3d(x = [pcStart[0,0],pcEnd[0,0]], \n",
    "                         y = [pcStart[0,1],pcEnd[0,1]], \n",
    "                         z = [pcStart[0,2],pcEnd[0,2]], mode = 'lines', showlegend=False),\n",
    "            go.Scatter3d(x = [pcStart[1,0],pcEnd[1,0]], \n",
    "                         y = [pcStart[1,1],pcEnd[1,1]], \n",
    "                         z = [pcStart[1,2],pcEnd[1,2]], mode = 'lines', showlegend=False),\n",
    "            go.Scatter3d(x = [pcStart[2,0],pcEnd[2,0]], \n",
    "                         y = [pcStart[2,1],pcEnd[2,1]], \n",
    "                         z = [pcStart[2,2],pcEnd[2,2]], mode = 'lines', showlegend=False)\n",
    "]\n",
    "\n",
    "layout = go.Layout(title = 'Gaussian Sample Randomly Rotated',\n",
    "                   colorway=[\"black\", \"grey\", \"grey\", \"grey\", \"red\", \"green\", \"blue\"], \n",
    "                   width=800, height=800,)\n",
    "\n",
    "fig = go.Figure(data = [trace1] + axes + pctraces, layout = layout)\n",
    "\n",
    "fig.show()"
   ]
  },
  {
   "cell_type": "markdown",
   "id": "8e2bad77",
   "metadata": {},
   "source": [
    "## Come Full Circle\n",
    "\n",
    "Because we know how the data was originally rotated we know the direction of the `true` first principal component. Now we can empirically observe the difference in angle between the estimated direction of maximum variance and the `true` direction."
   ]
  },
  {
   "cell_type": "code",
   "execution_count": 38,
   "id": "284143e7",
   "metadata": {},
   "outputs": [
    {
     "name": "stdout",
     "output_type": "stream",
     "text": [
      "Angle in degrees between R first row and first principal component:   1.47\n"
     ]
    }
   ],
   "source": [
    "angle = np.degrees(np.arccos(Xcps[0] @ Rot.T[0]))\n",
    "print(f'Angle in degrees between R first row and first principal component: {angle:6.2f}')"
   ]
  },
  {
   "cell_type": "markdown",
   "id": "a202d742",
   "metadata": {},
   "source": [
    "# Part 2: PCA, NN and MNIST\n",
    "\n",
    "We begin by reintroducing our nearest neighbor classifier from the previous lecture"
   ]
  },
  {
   "cell_type": "markdown",
   "id": "8205167a",
   "metadata": {},
   "source": [
    "Bring in the digits dataset - recall each image is a point in 64 dimensional space."
   ]
  },
  {
   "cell_type": "code",
   "execution_count": 39,
   "id": "707fcc6d",
   "metadata": {},
   "outputs": [
    {
     "name": "stdout",
     "output_type": "stream",
     "text": [
      "(1797, 64) (1797,)\n"
     ]
    }
   ],
   "source": [
    "from sklearn import datasets\n",
    "digits = datasets.load_digits()\n",
    "\n",
    "X = digits.data\n",
    "y = digits.target\n",
    "print(X.shape, y.shape)"
   ]
  },
  {
   "cell_type": "markdown",
   "id": "9c114355",
   "metadata": {},
   "source": [
    "## PCA on MNIST\n",
    "\n",
    "Now let us see through example what PCA does on $64$ dimensional data. \n",
    "\n",
    "\n",
    "Note the example below can be adjusted to seek a different number of principal components with a useful minimum of 2 and a pratical useful upper bound of 10.  This is adjusted using ```subspace_size```"
   ]
  },
  {
   "cell_type": "code",
   "execution_count": 61,
   "id": "05e2760b",
   "metadata": {},
   "outputs": [
    {
     "data": {
      "text/plain": [
       "PCA(n_components=8)"
      ]
     },
     "execution_count": 61,
     "metadata": {},
     "output_type": "execute_result"
    }
   ],
   "source": [
    "from sklearn.decomposition import PCA\n",
    "\n",
    "subspace_size = 8\n",
    "# subspace_size = 16\n",
    "pca = PCA(n_components=subspace_size)\n",
    "pca.fit(X)"
   ]
  },
  {
   "cell_type": "markdown",
   "id": "44b1d368",
   "metadata": {},
   "source": [
    "In the next cell observe that a single command projects the original images (points in 64 dimensions) down to a subspace of size defined above. Note here that the entire dataset is being projected down into a lower dimensional subspace.  When doing PCA to reduce dimensionality in practice often the training data only is used to define the subspace."
   ]
  },
  {
   "cell_type": "code",
   "execution_count": 62,
   "id": "bf987931",
   "metadata": {},
   "outputs": [
    {
     "data": {
      "text/plain": [
       "(1797, 8)"
      ]
     },
     "execution_count": 62,
     "metadata": {},
     "output_type": "execute_result"
    }
   ],
   "source": [
    "Xs = pca.transform(X)\n",
    "Xs.shape"
   ]
  },
  {
   "cell_type": "markdown",
   "id": "a40e0bcb",
   "metadata": {},
   "source": [
    "## Plotting in 2D the first 2 Components\n",
    "\n",
    "What follows will generate a scatter plot of the 10 digit classes as projected onto the first two principle components. If there are more than two dimensions the code does nothing but print a message"
   ]
  },
  {
   "cell_type": "code",
   "execution_count": 63,
   "id": "efd7f313",
   "metadata": {},
   "outputs": [
    {
     "name": "stdout",
     "output_type": "stream",
     "text": [
      "Not plotting since more than two dimensions\n"
     ]
    }
   ],
   "source": [
    "def plot_if_only_two_dim(X, y) :\n",
    "    if X.shape[1] == 2 :\n",
    "        my_colors = ['red', 'green', 'blue', 'darkred', 'darkgreen', 'darkblue','orange','purple','cyan','magenta']\n",
    "\n",
    "        fig = plt.figure(figsize=(10,10))\n",
    "        ax = fig.add_subplot(111)\n",
    "        ax.set_aspect('equal')\n",
    "        ax.scatter(Xs[:,0], Xs[:,1], c=[my_colors[i] for i in y])\n",
    "        ax.set_xlabel('First PC')\n",
    "        ax.set_ylabel('Second PC')\n",
    "    else :\n",
    "        print(\"Not plotting since more than two dimensions\")\n",
    "        \n",
    "plot_if_only_two_dim(Xs, y)       "
   ]
  },
  {
   "cell_type": "markdown",
   "id": "9d5e1727",
   "metadata": {},
   "source": [
    "## Plotting in 3D with first 3 Components\n",
    "\n",
    "If we select a subspace size of 3 here is what the data looks like"
   ]
  },
  {
   "cell_type": "code",
   "execution_count": 64,
   "id": "bfad6d1a",
   "metadata": {},
   "outputs": [
    {
     "name": "stdout",
     "output_type": "stream",
     "text": [
      "Not plotting because subspace is not 3D\n"
     ]
    }
   ],
   "source": [
    "def plot_if_only_three_dim(X, y) :\n",
    "    if X.shape[1] == 3 :\n",
    "        mnist_labels = [f'Digit {i}' for i in y ]\n",
    "        cols = {'PC 1' : X[:,0], 'PC 2' : X[:,1],'PC 3' : X[:,2], 'label' : mnist_labels}\n",
    "\n",
    "        df = pd.DataFrame(data=cols)\n",
    "\n",
    "        fig = px.scatter_3d(df, x='PC 1', y='PC 2', z='PC 3',\n",
    "                   color='label', size_max=0.00001)\n",
    "        fig.update_layout(dict1={\"title\" : {\"text\": \"MNIST in PCA 3D Subspace\"},\n",
    "                         \"width\" : 800, \"height\" : 800})                    \n",
    "        fig.show()\n",
    "        \n",
    "    else :\n",
    "        print(\"Not plotting because subspace is not 3D\")\n",
    "    pass\n",
    "\n",
    "plot_if_only_three_dim(Xs, y)"
   ]
  },
  {
   "cell_type": "markdown",
   "id": "31808646",
   "metadata": {},
   "source": [
    "# Nearest Neighbor in Subspace\n",
    "\n",
    "Below are two different versions of a nearest neighbor classifier object.  The old one exactly matches the previous lecture. The new one is written to be more efficient by avoiding the unnecessary construction of intermediate lists. \n",
    "\n",
    "The return the same accuracy and so they are useful for measuring nearest neighbor accuracy as you place with subspaces of varying dimension from 2, 3, up to say 16.  There are two punchlines you should come away with:\n",
    "\n",
    "* First, dropping the number of dimensions drops the overal accuracy by relatively little.  \n",
    "* Once the more efficient class definition is used, the speedup associated with fewer dimensions is clearly evident.\n"
   ]
  },
  {
   "cell_type": "code",
   "execution_count": 65,
   "id": "9fa13854",
   "metadata": {},
   "outputs": [],
   "source": [
    "def distance(x1, x2):\n",
    "    return np.linalg.norm(x1-x2)\n",
    "\n",
    "class nearest_neighbor_old:\n",
    "    def __init__(self):\n",
    "        pass\n",
    "    def fit(self, X, y):\n",
    "        self.X = X\n",
    "        self.y = y\n",
    "    def get_nearest(self, q):\n",
    "        distances = [distance(q, self.X[i]) \n",
    "                     for i in range(len(self.X))]\n",
    "        return np.argmin(distances)\n",
    "    def predict(self, q) :\n",
    "        return self.y[self.get_nearest(q)]"
   ]
  },
  {
   "cell_type": "code",
   "execution_count": 66,
   "id": "eeca005f",
   "metadata": {},
   "outputs": [],
   "source": [
    "\n",
    "class nearest_neighbor_new:\n",
    "    def __init__(self):\n",
    "        pass\n",
    "    def fit(self, X, y):\n",
    "        self.X = X\n",
    "        self.y = y\n",
    "    def get_nearest(self, q):\n",
    "        nn = np.argmin(np.linalg.norm(self.X - q,axis=1))\n",
    "        return nn\n",
    "    def predict(self, q) :\n",
    "        return self.y[self.get_nearest(q)]"
   ]
  },
  {
   "cell_type": "markdown",
   "id": "78805ea8",
   "metadata": {},
   "source": [
    "## Compare Ambient to Subspace Accuracy\n",
    "\n",
    "Here is the actual comparison using 30 percent of the data as test and the rest as training."
   ]
  },
  {
   "cell_type": "code",
   "execution_count": 67,
   "id": "6fc2596c",
   "metadata": {},
   "outputs": [
    {
     "name": "stdout",
     "output_type": "stream",
     "text": [
      "The nnF accuracy is 0.983\n",
      "72 ms ± 0 ns per loop (mean ± std. dev. of 1 run, 1 loop each)\n",
      "The nnS accuracy is 0.963\n",
      "25.8 ms ± 0 ns per loop (mean ± std. dev. of 1 run, 1 loop each)\n"
     ]
    }
   ],
   "source": [
    "from sklearn.model_selection import train_test_split\n",
    "\n",
    "X_train, X_test, y_train, y_test = train_test_split(X, y, test_size=0.30, shuffle=True, random_state=42)\n",
    "Xs_train, Xs_test, ys_train, ys_test = train_test_split(Xs, y, test_size=0.30, shuffle=True, random_state=42)\n",
    "\n",
    "use_new = True\n",
    "\n",
    "if use_new :\n",
    "    nnF = nearest_neighbor_new()\n",
    "    nnS = nearest_neighbor_new()\n",
    "else :\n",
    "    nnF = nearest_neighbor_old()\n",
    "    nnS = nearest_neighbor_old()  \n",
    "\n",
    "nnF.fit(X_train, y_train)\n",
    "nnS.fit(Xs_train, ys_train)\n",
    "\n",
    "def predict_with_nnF() :\n",
    "    y_pred = np.array([nnF.predict(X_test[i]) for i in range(len(X_test))])\n",
    "    acc = np.sum(y_pred == y_test)/len(y_test)\n",
    "    print(f'The nnF accuracy is {acc:.3f}')\n",
    "    \n",
    "def predict_with_nnS() :\n",
    "    y_pred = np.array([nnS.predict(Xs_test[i]) for i in range(len(Xs_test))])\n",
    "    acc = np.sum(y_pred == ys_test)/len(ys_test)\n",
    "    print(f'The nnS accuracy is {acc:.3f}')    \n",
    "    \n",
    "%timeit -r 1 -n 1 predict_with_nnF()\n",
    "%timeit -r 1 -n 1 predict_with_nnS()"
   ]
  },
  {
   "cell_type": "markdown",
   "id": "ccefdaf0",
   "metadata": {},
   "source": [
    "Note that run time drops by more than a factor of 3 when using 8 dimensions versus the original 64."
   ]
  },
  {
   "cell_type": "markdown",
   "id": "58554d91",
   "metadata": {},
   "source": [
    "# Part 3: Looking at Principal Components\n",
    "\n",
    "The remainder of this notebook emphasizes that fact that a component - being a vector if length 64 - may be thought of as an image. Indeed, it may be displayed as an image and the pattern of the principle vectors as images reveals something about the structure of our data. "
   ]
  },
  {
   "cell_type": "code",
   "execution_count": 68,
   "id": "f14b84b3",
   "metadata": {},
   "outputs": [
    {
     "data": {
      "text/plain": [
       "(8, 64)"
      ]
     },
     "execution_count": 68,
     "metadata": {},
     "output_type": "execute_result"
    }
   ],
   "source": [
    "Xcps = pca.components_\n",
    "Xcps.shape"
   ]
  },
  {
   "cell_type": "code",
   "execution_count": 69,
   "id": "f216d6eb",
   "metadata": {},
   "outputs": [
    {
     "data": {
      "text/plain": [
       "0.6739030807611003"
      ]
     },
     "execution_count": 69,
     "metadata": {},
     "output_type": "execute_result"
    }
   ],
   "source": [
    "foo = pca.explained_variance_ratio_\n",
    "np.sum(foo)"
   ]
  },
  {
   "cell_type": "code",
   "execution_count": 70,
   "id": "b93bf517",
   "metadata": {},
   "outputs": [
    {
     "data": {
      "image/png": "[encoded data removed]",
      "text/plain": [
       "<Figure size 864x864 with 8 Axes>"
      ]
     },
     "metadata": {
      "needs_background": "light"
     },
     "output_type": "display_data"
    }
   ],
   "source": [
    "Xcps = pca.components_\n",
    "ncp  = Xcps.shape[0]\n",
    "cols = 2\n",
    "rows = math.ceil(ncp / cols)\n",
    "cols\n",
    "fig, axes = plt.subplots(rows, cols) \n",
    "fig.set_figheight(12)\n",
    "fig.set_figwidth(12)\n",
    "i = 0\n",
    "for axr in axes :\n",
    "    for ax in axr :\n",
    "        if (i < ncp) :\n",
    "            ax.imshow(np.resize(Xcps[i],(8,8)), \n",
    "                  cmap=plt.cm.gray_r, interpolation='nearest')\n",
    "            i = i + 1\n"
   ]
  },
  {
   "cell_type": "markdown",
   "id": "c26a6d1d",
   "metadata": {},
   "source": [
    "# Part 4: PCA and Image Reconstruction\n",
    "\n",
    "Now one more thing.  Turns out, not at all by accident, that if one takes a weighted sum of principal components it is possible to create new image. But, much more important, if the weights are the coordinate values of an image projected into the PCA subspace then the reconstruction is an approximation to the original.  \n",
    "\n",
    "Let us see this process in action."
   ]
  },
  {
   "cell_type": "code",
   "execution_count": 77,
   "id": "2858d327",
   "metadata": {},
   "outputs": [
    {
     "name": "stdout",
     "output_type": "stream",
     "text": [
      "Reconstructing from PCA Image 0 using 3 Principal Componenet.\n",
      "\n",
      "In words ... what are we doing:\n",
      "\tStart with mean image and then ...\n",
      "\tAdd   -1.26 times PC 1 to reconstruction.\n",
      "\tAdd   21.27 times PC 2 to reconstruction.\n",
      "\tAdd   -9.46 times PC 3 to reconstruction.\n"
     ]
    },
    {
     "data": {
      "image/png": "[encoded data removed]",
      "text/plain": [
       "<Figure size 576x360 with 2 Axes>"
      ]
     },
     "metadata": {
      "needs_background": "light"
     },
     "output_type": "display_data"
    }
   ],
   "source": [
    "digits = datasets.load_digits()\n",
    "subspace_size = 3\n",
    "imindex = 0\n",
    "\n",
    "print(f'Reconstructing from PCA Image {imindex} using {subspace_size} Principal Componenet.\\n')\n",
    "\n",
    "X = digits.data\n",
    "y = digits.target\n",
    "pca = PCA(n_components=subspace_size)\n",
    "pca.fit(X)\n",
    "\n",
    "Xs = pca.transform(X)\n",
    "Xcps = pca.components_\n",
    "\n",
    "if subspace_size < 9 :\n",
    "    print('In words ... what are we doing:')\n",
    "    print('\\tStart with mean image and then ...')\n",
    "    for i in range(subspace_size) :\n",
    "        print(f'\\tAdd {Xs[imindex,i]:7.2f} times PC {i+1} to reconstruction.')\n",
    "\n",
    "recon = pca.mean_ + np.matmul(Xcps.T,Xs[imindex,:]) \n",
    "\n",
    "fig, axes = plt.subplots(1,2) \n",
    "fig.set_figheight(5)\n",
    "fig.set_figwidth(8)\n",
    "ax = axes[0]\n",
    "ax.imshow(np.resize(X[imindex,:],(8,8)), cmap=plt.cm.gray_r, interpolation='nearest')\n",
    "\n",
    "ax = axes[1]\n",
    "ax.imshow(np.resize(recon,(8,8)), cmap=plt.cm.gray_r, interpolation='nearest');"
   ]
  },
  {
   "cell_type": "code",
   "execution_count": null,
   "id": "b601c8b0",
   "metadata": {},
   "outputs": [],
   "source": []
  }
 ],
 "metadata": {
  "kernelspec": {
   "display_name": "Python 3",
   "language": "python",
   "name": "python3"
  },
  "language_info": {
   "codemirror_mode": {
    "name": "ipython",
    "version": 3
   },
   "file_extension": ".py",
   "mimetype": "text/x-python",
   "name": "python",
   "nbconvert_exporter": "python",
   "pygments_lexer": "ipython3",
   "version": "3.7.10"
  }
 },
 "nbformat": 4,
 "nbformat_minor": 5
}
