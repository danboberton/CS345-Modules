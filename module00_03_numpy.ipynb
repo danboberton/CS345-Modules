{
 "cells": [
  {
   "cell_type": "markdown",
   "metadata": {},
   "source": [
    "# Powerful Numerical Processin Built-in: NumPy\n",
    "\n",
    "This notebook is part of  course materials for CS 345: Machine Learning Foundations and Practice at Colorado State University.\n",
    "\n",
    "A comment about this notebook - in addition to reviewing basics of NumPy this notebook introduced some key concepts. One is the powerful tools available for slicing and dicing array data. Another is reshaping of data. Also, we start to take randomness seriously with examples of how to sample from a random variable and even what it means to simulate a [Random Walk](https://en.wikipedia.org/wiki/Random_Walk).\n",
    "\n",
    "Original versions were created by Asa Ben-Hur with updates by Ross Beveridge.\n",
    "\n",
    "Last updated: February 1, 2022\n",
    "\n",
    "*The text is released under the [CC BY-SA license](https://creativecommons.org/licenses/by-sa/4.0/), and code is released under the [MIT license](https://opensource.org/licenses/MIT).*\n"
   ]
  },
  {
   "cell_type": "markdown",
   "metadata": {},
   "source": [
    "# What is NumPy?\n",
    "\n",
    "\n",
    "Numpy (Numerical Python) is Python's library for numerical data, and provides a wealth of functionality for working with array data.\n",
    "\n",
    "Numpy features include:\n",
    "  * A fast and efficient multidimensional array object ndarray\n",
    "  * Functions for performing computations on arrays\n",
    "  * Tools for reading and writing array-based datasets to disk\n",
    "  * Linear algebra operations, and random number generation\n",
    "\n",
    "This short tutorial is a brief introduction.  For more information please refer to one of the following resources:\n",
    "\n",
    "* The Numpy [documentation](https://numpy.org/doc/stable/), which includes multiple tutorials.\n",
    "* The [Python Data Science Handbook](https://github.com/jakevdp/PythonDataScienceHandbook) by Jake Vander Plas.\n",
    "\n",
    "Numpy is going to be our primary Python programming tool for this course, and we will pick up more features as we go along.\n",
    "\n",
    "Our first step is to **import** the package (note the \"import as\" shortcut):"
   ]
  },
  {
   "cell_type": "code",
   "execution_count": 231,
   "metadata": {},
   "outputs": [],
   "source": [
    "import numpy as np\n",
    "np.set_printoptions(precision=3)"
   ]
  },
  {
   "cell_type": "markdown",
   "metadata": {},
   "source": [
    "**Python note:**  Instead of the above import, we could have done ``from numpy import *``, which would have made every statement shorter by not having to write ``np.`` before each Numpy command.  That is not a good idea, as the Numpy namespace conflicts with built in Python functions like ``min`` or ``max``."
   ]
  },
  {
   "cell_type": "markdown",
   "metadata": {},
   "source": [
    "Arrays are the standard data containers in Numpy, and can have any number of dimensions.\n",
    "\n",
    "Let's create a one dimensional array:"
   ]
  },
  {
   "cell_type": "code",
   "execution_count": 232,
   "metadata": {},
   "outputs": [
    {
     "data": {
      "text/plain": "array([1, 2, 3])"
     },
     "execution_count": 232,
     "metadata": {},
     "output_type": "execute_result"
    }
   ],
   "source": [
    "my_array = np.array([1, 2, 3])\n",
    "my_array"
   ]
  },
  {
   "cell_type": "markdown",
   "metadata": {},
   "source": [
    "What have we gained over using a Python list?"
   ]
  },
  {
   "cell_type": "code",
   "execution_count": 233,
   "metadata": {},
   "outputs": [],
   "source": [
    "my_list = [1, 2, 3]"
   ]
  },
  {
   "cell_type": "markdown",
   "metadata": {},
   "source": [
    "In fact, Numpy arrays are less flexible than Python lists:"
   ]
  },
  {
   "cell_type": "code",
   "execution_count": 234,
   "metadata": {},
   "outputs": [
    {
     "data": {
      "text/plain": "int"
     },
     "execution_count": 234,
     "metadata": {},
     "output_type": "execute_result"
    }
   ],
   "source": [
    "type(my_list[0])"
   ]
  },
  {
   "cell_type": "code",
   "execution_count": 235,
   "metadata": {},
   "outputs": [
    {
     "name": "stdout",
     "output_type": "stream",
     "text": [
      "wrong type in assignment\n"
     ]
    }
   ],
   "source": [
    "my_list[0] = 'a'\n",
    "\n",
    "try :\n",
    "    my_array[0] = 'a'\n",
    "except :\n",
    "    print(\"wrong type in assignment\")"
   ]
  },
  {
   "cell_type": "markdown",
   "metadata": {},
   "source": [
    "The reduced flexibility of Numpy arrays comes with improved efficiency both in terms of storage (why?) execution, and a wealth of functionality for fast manipulation of numeric data.\n",
    "\n",
    "Furthermore, using Numpy's C API, libraries written in C or Fortran, can operate on the data stored in a NumPy array without needing to copy the data. \n",
    "\n",
    "Let's demonstrate the speed advantage of Numpy arrays:"
   ]
  },
  {
   "cell_type": "code",
   "execution_count": 236,
   "metadata": {},
   "outputs": [],
   "source": [
    "import numpy as np\n",
    "my_array = np.arange(1000000)\n",
    "my_list = list(range(1000000))\n",
    "# Note: why not simply do my_list = range(10000000)?"
   ]
  },
  {
   "cell_type": "code",
   "execution_count": 237,
   "metadata": {},
   "outputs": [
    {
     "data": {
      "text/plain": "array([0, 1, 2, 3, 4, 5, 6, 7, 8, 9])"
     },
     "execution_count": 237,
     "metadata": {},
     "output_type": "execute_result"
    }
   ],
   "source": [
    "my_array[:10]"
   ]
  },
  {
   "cell_type": "code",
   "execution_count": 238,
   "metadata": {},
   "outputs": [
    {
     "name": "stdout",
     "output_type": "stream",
     "text": [
      "851 µs ± 66.2 µs per loop (mean ± std. dev. of 7 runs, 1,000 loops each)\n"
     ]
    }
   ],
   "source": [
    "%timeit my_array2 = my_array * 2"
   ]
  },
  {
   "cell_type": "code",
   "execution_count": 239,
   "metadata": {},
   "outputs": [
    {
     "name": "stdout",
     "output_type": "stream",
     "text": [
      "52.8 ms ± 2.06 ms per loop (mean ± std. dev. of 7 runs, 10 loops each)\n"
     ]
    }
   ],
   "source": [
    "%timeit my_list2 = [x * 2 for x in my_list]"
   ]
  },
  {
   "cell_type": "markdown",
   "metadata": {},
   "source": [
    "This clearly demonstrates the power of using Numpy arrays over Python lists.\n",
    "\n",
    "**Note about timing Python code**\n",
    "``%time`` is another magic command that can be used to measure the execution time of code snippets.  ``%timeit`` is usally preferred (see [this article](https://jakevdp.github.io/PythonDataScienceHandbook/01.07-timing-and-profiling.html) for more information about profiling Python code)."
   ]
  },
  {
   "cell_type": "markdown",
   "metadata": {},
   "source": [
    "**Historical Note**\n",
    "\n",
    "Often important ideas are older than you realize. For example, a highly flexible interpreted language with good list handling on top of an efficient heavy computational lifting language. One example from 40 years ago - [the UMass VISIONS system](https://books.google.com/books?id=ZuFRAwAAQBAJ&lpg=PA14&ots=5ka7NOCcRX&dq=UMass%20VISIONS%20system%20Lisp%20C&pg=PA14#v=onepage&q=UMass%20VISIONS%20system%20Lisp%20C&f=false)"
   ]
  },
  {
   "cell_type": "markdown",
   "metadata": {},
   "source": [
    "### Numpy ndarrays\n",
    "\n",
    "Numpy ndarrays enable you to perform mathematical operations on entire arrays in a single operation without requiring for loops.  This is called *vectorization*, and is key for writing efficient machine learning code.\n",
    "\n",
    "For example:"
   ]
  },
  {
   "cell_type": "code",
   "execution_count": 240,
   "metadata": {},
   "outputs": [
    {
     "data": {
      "text/plain": "array([[1, 2, 3],\n       [4, 5, 6]])"
     },
     "execution_count": 240,
     "metadata": {},
     "output_type": "execute_result"
    }
   ],
   "source": [
    "data = np.array( [ [1,2,3], [4,5,6] ])\n",
    "data"
   ]
  },
  {
   "cell_type": "markdown",
   "metadata": {},
   "source": [
    "### Inclass Poll: Elements\n",
    "\n",
    "```for d in data : print(f\"d is {d}\")```"
   ]
  },
  {
   "cell_type": "code",
   "execution_count": 241,
   "metadata": {},
   "outputs": [
    {
     "name": "stdout",
     "output_type": "stream",
     "text": [
      "d is [1 2 3]\n",
      "d is [4 5 6]\n"
     ]
    }
   ],
   "source": [
    "for d in data : print(f\"d is {d}\")"
   ]
  },
  {
   "cell_type": "markdown",
   "metadata": {},
   "source": [
    "### Array multiplication and addition"
   ]
  },
  {
   "cell_type": "code",
   "execution_count": 242,
   "metadata": {},
   "outputs": [
    {
     "name": "stdout",
     "output_type": "stream",
     "text": [
      "[[10 20 30]\n",
      " [40 50 60]]\n",
      "[[ 2  4  6]\n",
      " [ 8 10 12]]\n"
     ]
    }
   ],
   "source": [
    "print(data * 10)    # multiply array by a scalar\n",
    "print(data + data)  # add arrays\n"
   ]
  },
  {
   "cell_type": "markdown",
   "metadata": {},
   "source": [
    "### Boolean Operations on Arrays\n",
    "\n",
    "You can also perform Boolean operations on arrays:"
   ]
  },
  {
   "cell_type": "code",
   "execution_count": 243,
   "metadata": {},
   "outputs": [
    {
     "data": {
      "text/plain": "array([[False,  True, False],\n       [ True, False,  True]])"
     },
     "execution_count": 243,
     "metadata": {},
     "output_type": "execute_result"
    }
   ],
   "source": [
    "a1 = np.array([[1., 2., 3.], [4., 5., 6.]])\n",
    "a2 = np.array([[0., 4., 1.], [7., 2., 12.]])\n",
    "a2 > a1"
   ]
  },
  {
   "cell_type": "markdown",
   "metadata": {},
   "source": [
    "### Array Shape\n",
    "\n",
    "Every array has a shape, which is a tuple indicating the size of each dimension, and a dtype, an object describing the data type of the array:\n"
   ]
  },
  {
   "cell_type": "code",
   "execution_count": 244,
   "metadata": {},
   "outputs": [
    {
     "data": {
      "text/plain": "((2, 3), dtype('int64'))"
     },
     "execution_count": 244,
     "metadata": {},
     "output_type": "execute_result"
    }
   ],
   "source": [
    "data.shape,data.dtype"
   ]
  },
  {
   "cell_type": "markdown",
   "metadata": {},
   "source": [
    "Note that Numpy inferred the type from the data that we provided.  You can check what happens if there are floats in the input to the array constructor.  The `dtype` attribute will tell you what kind of array got created."
   ]
  },
  {
   "cell_type": "code",
   "execution_count": 245,
   "metadata": {},
   "outputs": [
    {
     "name": "stdout",
     "output_type": "stream",
     "text": [
      "[6.  7.5 8.  0.  1. ] float64\n",
      "[[1 2 3 4]\n",
      " [5 6 7 8]] int64\n"
     ]
    }
   ],
   "source": [
    "arr1 = np.array([6, 7.5, 8, 0, 1])\n",
    "print(arr1,arr1.dtype)\n",
    "arr2 = np.array([[1, 2, 3, 4], [5, 6, 7, 8]])\n",
    "print(arr2,arr2.dtype)"
   ]
  },
  {
   "cell_type": "code",
   "execution_count": 246,
   "metadata": {},
   "outputs": [
    {
     "name": "stdout",
     "output_type": "stream",
     "text": [
      "(5,) (2, 4)\n"
     ]
    }
   ],
   "source": [
    "print(arr1.shape, arr2.shape)"
   ]
  },
  {
   "cell_type": "markdown",
   "metadata": {},
   "source": [
    "Contrast this with the Python ``len`` builtin:"
   ]
  },
  {
   "cell_type": "code",
   "execution_count": 247,
   "metadata": {},
   "outputs": [
    {
     "data": {
      "text/plain": "(5, 2)"
     },
     "execution_count": 247,
     "metadata": {},
     "output_type": "execute_result"
    }
   ],
   "source": [
    "len(arr1), len(arr2)"
   ]
  },
  {
   "cell_type": "markdown",
   "metadata": {},
   "source": [
    "While it's clear what Numpy does when asked to add a scalar to an array or add two arrays of the same size, check what happens when adding two arrays of unequal size, e.g. add a one dimensional array to a two dimensional array"
   ]
  },
  {
   "cell_type": "markdown",
   "metadata": {},
   "source": [
    "### Inclass Poll: Add 1D array to 2D array\n",
    "\n",
    "Define two arrays, one which is two dimensional with a shape (2,3), \n",
    "and another which is one dimensional.\n",
    "what will its size need to be for the operation to work?\n",
    "what is Numpy doing in this case?\n"
   ]
  },
  {
   "cell_type": "code",
   "execution_count": 248,
   "metadata": {},
   "outputs": [
    {
     "data": {
      "text/plain": "array([[10, 20, 30, 40],\n       [50, 60, 70, 80]])"
     },
     "execution_count": 248,
     "metadata": {},
     "output_type": "execute_result"
    }
   ],
   "source": [
    "#foo = np.array([10, 10, 10, 10])\n",
    "foo = np.array([10, 10, 10, 10])\n",
    "bar = np.array([[1, 2, 3, 4], [5, 6, 7, 8]])\n",
    "foo * bar"
   ]
  },
  {
   "cell_type": "markdown",
   "metadata": {},
   "source": [
    "### Data types\n",
    "\n",
    "Each array has a dtype associated with it, which is the type used to store the elements of the array.\n",
    "The numerical dtypes are named as follows: a type name, like float or int, followed by a number indicating the number of bits per element. A standard double-precision floating-point value (what’s used under the hood in Python’s float object) takes up 8 bytes or 64 bits. Thus, this type is known in Numpy as ``float64``.\n",
    "\n"
   ]
  },
  {
   "cell_type": "code",
   "execution_count": 249,
   "metadata": {},
   "outputs": [
    {
     "data": {
      "text/plain": "(dtype('float64'), dtype('int32'))"
     },
     "execution_count": 249,
     "metadata": {},
     "output_type": "execute_result"
    }
   ],
   "source": [
    "a1 = np.array([1, 2, 3], dtype=np.float64)\n",
    "a2 = np.array([1, 2, 3], dtype=np.int32)\n",
    "a1.dtype,a2.dtype"
   ]
  },
  {
   "cell_type": "markdown",
   "metadata": {},
   "source": [
    "What would be the resulting data type for an array that contains strings and numbers?"
   ]
  },
  {
   "cell_type": "code",
   "execution_count": 250,
   "metadata": {},
   "outputs": [
    {
     "data": {
      "text/plain": "array(['17', 'cats dogs fish deer antelope'], dtype='<U28')"
     },
     "execution_count": 250,
     "metadata": {},
     "output_type": "execute_result"
    }
   ],
   "source": [
    "# create an array that contains strings and \n",
    "# numbers and check its data type\n",
    "foo = np.array([17, 'cats dogs fish deer antelope'])\n",
    "foo"
   ]
  },
  {
   "cell_type": "markdown",
   "metadata": {},
   "source": [
    "What is the data type of the first element of the array ```foo```?"
   ]
  },
  {
   "cell_type": "code",
   "execution_count": 251,
   "metadata": {},
   "outputs": [
    {
     "data": {
      "text/plain": "numpy.str_"
     },
     "execution_count": 251,
     "metadata": {},
     "output_type": "execute_result"
    }
   ],
   "source": [
    "type(foo[0])"
   ]
  },
  {
   "cell_type": "markdown",
   "metadata": {},
   "source": [
    "### Creating arrays\n",
    "\n",
    "Numpy has plenty of ways for creating all kinds of arrays - initialized with zeros, ones, or random values.  Typically they have a `shape` argument that determines the size of the array in each dimension.\n",
    "\n",
    "Here are some examples, and we'll start by creating an array of zeros:\n"
   ]
  },
  {
   "cell_type": "code",
   "execution_count": 252,
   "metadata": {},
   "outputs": [
    {
     "data": {
      "text/plain": "array([[0., 0., 0.],\n       [0., 0., 0.]])"
     },
     "execution_count": 252,
     "metadata": {},
     "output_type": "execute_result"
    }
   ],
   "source": [
    "np.zeros((2,3))"
   ]
  },
  {
   "cell_type": "markdown",
   "metadata": {},
   "source": [
    "An array of ones:"
   ]
  },
  {
   "cell_type": "code",
   "execution_count": 253,
   "metadata": {},
   "outputs": [
    {
     "data": {
      "text/plain": "array([[1., 1., 1.],\n       [1., 1., 1.]])"
     },
     "execution_count": 253,
     "metadata": {},
     "output_type": "execute_result"
    }
   ],
   "source": [
    "np.ones((2,3))"
   ]
  },
  {
   "cell_type": "markdown",
   "metadata": {},
   "source": [
    "### Arrays of random numbers"
   ]
  },
  {
   "cell_type": "markdown",
   "metadata": {},
   "source": [
    "Random numbers are very useful in machine learning!\n",
    "\n",
    "We can create integers:"
   ]
  },
  {
   "cell_type": "code",
   "execution_count": 254,
   "metadata": {},
   "outputs": [
    {
     "name": "stdout",
     "output_type": "stream",
     "text": [
      "First ten: [1 5 4 3 3 6 1 5 2 1]\n",
      "Next ten:  [4 6 5 5 5 5 4 1 6 3]\n"
     ]
    }
   ],
   "source": [
    "seed = 42\n",
    "from numpy.random import default_rng\n",
    "rng = default_rng(seed)  # this creates an instance of a random number\n",
    "                       # generator. its argument is called the \"seed\"\n",
    "foo = rng.integers(1,7, size=(10,))\n",
    "bar = rng.integers(1,7, size=(10,))\n",
    "print(f'First ten: {foo}')\n",
    "print(f'Next ten:  {bar}')"
   ]
  },
  {
   "cell_type": "code",
   "execution_count": 255,
   "metadata": {},
   "outputs": [
    {
     "name": "stdout",
     "output_type": "stream",
     "text": [
      "[1 5 4 3 3 6 1 5 2 1 4 6 5 5 5 5 4 1 6 3]\n"
     ]
    }
   ],
   "source": [
    "rng = default_rng(seed)  # this creates an instance of a random number\n",
    "                       # generator. its argument is called the \"seed\"\n",
    "    \n",
    "foobar = rng.integers(1,7, size=(20,))\n",
    "print(f'{foobar}')"
   ]
  },
  {
   "cell_type": "markdown",
   "metadata": {},
   "source": [
    "This example reveals something very important about computers and what we typically call random numbers. What is it?"
   ]
  },
  {
   "cell_type": "markdown",
   "metadata": {},
   "source": [
    "### Not all that is random is integer\n",
    "\n",
    "Random floating point numbers between 0 and 1:"
   ]
  },
  {
   "cell_type": "code",
   "execution_count": 256,
   "metadata": {},
   "outputs": [
    {
     "data": {
      "text/plain": "array([[0.371, 0.927, 0.644],\n       [0.823, 0.443, 0.227],\n       [0.555, 0.064, 0.828]])"
     },
     "execution_count": 256,
     "metadata": {},
     "output_type": "execute_result"
    }
   ],
   "source": [
    "rng.random(size=(3,3))  # you can also call it as rng.random((3,3))"
   ]
  },
  {
   "cell_type": "markdown",
   "metadata": {},
   "source": [
    "Numpy can also generate random numbers with other distributions, e.g. the normal (aka Gaussian) distribution:"
   ]
  },
  {
   "cell_type": "code",
   "execution_count": 257,
   "metadata": {},
   "outputs": [
    {
     "data": {
      "text/plain": "array([-0.05 , -0.185, -0.681,  1.223, -0.155])"
     },
     "execution_count": 257,
     "metadata": {},
     "output_type": "execute_result"
    }
   ],
   "source": [
    "rng.standard_normal(size=(5,))"
   ]
  },
  {
   "cell_type": "markdown",
   "metadata": {},
   "source": [
    "The following plot should convince us that `np.standard_normal` is working as advertised:"
   ]
  },
  {
   "cell_type": "code",
   "execution_count": 258,
   "metadata": {},
   "outputs": [
    {
     "data": {
      "text/plain": "<Figure size 432x288 with 1 Axes>",
      "image/png": "[encoded data removed]"
     },
     "metadata": {
      "needs_background": "light"
     },
     "output_type": "display_data"
    }
   ],
   "source": [
    "import matplotlib.pyplot as plt\n",
    "%matplotlib inline\n",
    "\n",
    "sample = rng.standard_normal(size=(10000,))\n",
    "plt.hist(sample, 100, density=True, alpha=0.5);\n",
    "\n",
    "x = np.linspace(-4, 4, 1000)\n",
    "\n",
    "normal = (1/np.sqrt(2*np.pi))*np.exp(-x**2/2)\n",
    "normal\n",
    "plt.plot(x,normal, label=r'$\\frac{1}{\\sqrt{2 \\pi}}e^{-x^2/2}$');\n",
    "plt.legend(fontsize='16');"
   ]
  },
  {
   "cell_type": "markdown",
   "metadata": {},
   "source": [
    "**And About Randomness**\n",
    "\n",
    "There is something truly fundamental about the usefulness of what are called stochastic processes, in essences processes which incoporate randomness. So for the moment, here is the broadest advice. Embrace your understanding of randomness and realize the pratical value of that understanding will grow with your own experience.  There is the first obvious version of utility - characterizing behavior - often errors - with statistics. But the value goes deeper.  We will see later this semester [Stochastic Gradient Descent](https://en.wikipedia.org/wiki/Stochastic_gradient_descent): an example of an algorithm made better by unpredictable behavior."
   ]
  },
  {
   "cell_type": "markdown",
   "metadata": {},
   "source": [
    "### Ranges\n",
    "\n",
    "The Numpy equivalent of the `range` function, which provides fractional strides:"
   ]
  },
  {
   "cell_type": "code",
   "execution_count": 259,
   "metadata": {},
   "outputs": [
    {
     "data": {
      "text/plain": "array([2. , 2.1, 2.2, 2.3, 2.4, 2.5, 2.6, 2.7, 2.8, 2.9])"
     },
     "execution_count": 259,
     "metadata": {},
     "output_type": "execute_result"
    }
   ],
   "source": [
    "np.arange(2, 3, 0.1)"
   ]
  },
  {
   "cell_type": "markdown",
   "metadata": {},
   "source": [
    "The `linspace` function provides similar functionality with a slightly different interface:"
   ]
  },
  {
   "cell_type": "code",
   "execution_count": 260,
   "metadata": {},
   "outputs": [
    {
     "data": {
      "text/plain": "array([1. , 1.6, 2.2, 2.8, 3.4, 4. ])"
     },
     "execution_count": 260,
     "metadata": {},
     "output_type": "execute_result"
    }
   ],
   "source": [
    "np.linspace(1., 4., 6)"
   ]
  },
  {
   "cell_type": "markdown",
   "metadata": {},
   "source": [
    "### Reminder - getting **help** on python objects:\n",
    "\n",
    "For getting help e.g. on the Numpy **linspace** function you can do one of the following:\n",
    "\n",
    "```python\n",
    "?np.linspace\n",
    "```\n",
    "\n",
    "or\n",
    "\n",
    "```python\n",
    "help(np.linspace)\n",
    "```"
   ]
  },
  {
   "cell_type": "code",
   "execution_count": 261,
   "metadata": {},
   "outputs": [],
   "source": [
    "#help(np.linspace)"
   ]
  },
  {
   "cell_type": "markdown",
   "metadata": {},
   "source": [
    "### Array indexing and slicing\n",
    "\n",
    "We mentioned data wrangling as a precursor to data science. Powerful ways in quickly re-framing how multidimensional data is accessed represents one of Python and NumPy's greates strengths.\n",
    "\n",
    "So we begin exploring indexing and slicing with something simple and common to essentially all languages. "
   ]
  },
  {
   "cell_type": "code",
   "execution_count": 262,
   "metadata": {},
   "outputs": [
    {
     "name": "stdout",
     "output_type": "stream",
     "text": [
      "2 3 4\n"
     ]
    },
    {
     "data": {
      "text/plain": "array([5, 3, 4])"
     },
     "execution_count": 262,
     "metadata": {},
     "output_type": "execute_result"
    }
   ],
   "source": [
    "a = np.array([2,3,4])\n",
    "print(a[0], a[1], a[2])\n",
    "a[0] = 5                  # Change an element of the array\n",
    "a"
   ]
  },
  {
   "cell_type": "markdown",
   "metadata": {},
   "source": [
    "Similarly to Python, you can use negative numbers to index arrays.  For example `a[-1]` is the last entry in an array:"
   ]
  },
  {
   "cell_type": "code",
   "execution_count": 263,
   "metadata": {},
   "outputs": [
    {
     "data": {
      "text/plain": "(array([5, 3, 4]), 4)"
     },
     "execution_count": 263,
     "metadata": {},
     "output_type": "execute_result"
    }
   ],
   "source": [
    "a,a[-1]"
   ]
  },
  {
   "cell_type": "markdown",
   "metadata": {},
   "source": [
    "Can you explain what's happening in the following piece of code?"
   ]
  },
  {
   "cell_type": "code",
   "execution_count": 264,
   "metadata": {},
   "outputs": [
    {
     "name": "stdout",
     "output_type": "stream",
     "text": [
      "[1234    3    4]\n",
      "[1234    3    4]\n"
     ]
    }
   ],
   "source": [
    "b = a\n",
    "b[0] = 1234\n",
    "print(a)\n",
    "print(b)"
   ]
  },
  {
   "cell_type": "markdown",
   "metadata": {},
   "source": [
    "Recall we briefly introduced the idea of the dynamic symbol table as a conceptual tool to make sense of code like that above.  As you consider what is happening place your explanation in the context of the symbol table idea."
   ]
  },
  {
   "cell_type": "markdown",
   "metadata": {},
   "source": [
    "### NumPy Slice Syntax\n",
    "\n",
    "The syntax for slices in Numpy is similar to slices of Python lists:"
   ]
  },
  {
   "cell_type": "code",
   "execution_count": 265,
   "metadata": {},
   "outputs": [
    {
     "name": "stdout",
     "output_type": "stream",
     "text": [
      "[0 1 2 3 4 5 6 7 8 9]\n"
     ]
    },
    {
     "data": {
      "text/plain": "array([5, 6, 7])"
     },
     "execution_count": 265,
     "metadata": {},
     "output_type": "execute_result"
    }
   ],
   "source": [
    "a = np.arange(10)\n",
    "print(a)\n",
    "a[5:8]"
   ]
  },
  {
   "cell_type": "markdown",
   "metadata": {},
   "source": [
    "You can assign values to a slice:"
   ]
  },
  {
   "cell_type": "code",
   "execution_count": 266,
   "metadata": {},
   "outputs": [
    {
     "data": {
      "text/plain": "array([ 0,  1,  2,  3,  4, 12, 12, 12,  8,  9])"
     },
     "execution_count": 266,
     "metadata": {},
     "output_type": "execute_result"
    }
   ],
   "source": [
    "a[5:8] = 12\n",
    "a"
   ]
  },
  {
   "cell_type": "markdown",
   "metadata": {},
   "source": [
    "Do slices create copies of the underlying data?  Let's see:"
   ]
  },
  {
   "cell_type": "code",
   "execution_count": 267,
   "metadata": {},
   "outputs": [
    {
     "data": {
      "text/plain": "array([12, 12, 12])"
     },
     "execution_count": 267,
     "metadata": {},
     "output_type": "execute_result"
    }
   ],
   "source": [
    "a_slice = a[5:8]\n",
    "a_slice"
   ]
  },
  {
   "cell_type": "code",
   "execution_count": 268,
   "metadata": {},
   "outputs": [
    {
     "data": {
      "text/plain": "array([    0,     1,     2,     3,     4,    12, 12345,    12,     8,\n           9])"
     },
     "execution_count": 268,
     "metadata": {},
     "output_type": "execute_result"
    }
   ],
   "source": [
    "a_slice[1] = 12345\n",
    "a"
   ]
  },
  {
   "cell_type": "markdown",
   "metadata": {},
   "source": [
    "Numpy has been designed to be able to work with very large arrays, so eagerly copying data could cause severe performance and memory problems.\n",
    "\n",
    "If you want a copy of a slice instead of a view, you will need to explicitly copy it using e.g. ``arr[5:8].copy()``.\n"
   ]
  },
  {
   "cell_type": "markdown",
   "metadata": {},
   "source": [
    "### Two dimensional arrays\n",
    "\n",
    "Let's look at two dimensional arrays."
   ]
  },
  {
   "cell_type": "code",
   "execution_count": 269,
   "metadata": {},
   "outputs": [
    {
     "name": "stdout",
     "output_type": "stream",
     "text": [
      "1 2\n",
      "1 2 5\n"
     ]
    },
    {
     "data": {
      "text/plain": "(3, 4)"
     },
     "execution_count": 269,
     "metadata": {},
     "output_type": "execute_result"
    }
   ],
   "source": [
    "a = np.array([[1,2,3,4], [5,6,7,8], [9,10,11,12]])\n",
    "\n",
    "print(a[0, 0], a[0, 1])\n",
    "print(a[0][0], a[0][1], a[1][0])\n",
    "\n",
    "a.shape"
   ]
  },
  {
   "cell_type": "markdown",
   "metadata": {},
   "source": [
    "The latter form of indexing works, because each row of a two dimensional array is an array as well."
   ]
  },
  {
   "cell_type": "markdown",
   "metadata": {},
   "source": [
    "So, to access the first row:"
   ]
  },
  {
   "cell_type": "code",
   "execution_count": 270,
   "metadata": {},
   "outputs": [
    {
     "data": {
      "text/plain": "(array([1, 2, 3, 4]), (4,))"
     },
     "execution_count": 270,
     "metadata": {},
     "output_type": "execute_result"
    }
   ],
   "source": [
    "row = a[0]    # the first row of a\n",
    "row, row.shape"
   ]
  },
  {
   "cell_type": "markdown",
   "metadata": {},
   "source": [
    "To access a column:"
   ]
  },
  {
   "cell_type": "code",
   "execution_count": 271,
   "metadata": {},
   "outputs": [
    {
     "name": "stdout",
     "output_type": "stream",
     "text": [
      "[[ 1  2  3  4]\n",
      " [ 5  6  7  8]\n",
      " [ 9 10 11 12]]\n"
     ]
    },
    {
     "data": {
      "text/plain": "(array([1, 5, 9]), (3,))"
     },
     "execution_count": 271,
     "metadata": {},
     "output_type": "execute_result"
    }
   ],
   "source": [
    "print(a)\n",
    "col = a[:, 0]\n",
    "col, col.shape"
   ]
  },
  {
   "cell_type": "markdown",
   "metadata": {},
   "source": [
    "We can perform slicing on multiple dimensions, creating a submatrix:"
   ]
  },
  {
   "cell_type": "code",
   "execution_count": 272,
   "metadata": {},
   "outputs": [
    {
     "name": "stdout",
     "output_type": "stream",
     "text": [
      "Recall a is:\n",
      "[[ 1  2  3  4]\n",
      " [ 5  6  7  8]\n",
      " [ 9 10 11 12]]\n",
      "submatrix:\n",
      "[[ 6  7  8]\n",
      " [10 11 12]]\n"
     ]
    },
    {
     "data": {
      "text/plain": "(2, 3)"
     },
     "execution_count": 272,
     "metadata": {},
     "output_type": "execute_result"
    }
   ],
   "source": [
    "print(f'Recall a is:\\n{a}')\n",
    "submatrix = a[1:3, 1:4]\n",
    "print(f'submatrix:\\n{submatrix}')\n",
    "submatrix.shape"
   ]
  },
  {
   "cell_type": "markdown",
   "metadata": {},
   "source": [
    "### Fancy indexing\n",
    "\n",
    "You can index an array using an integer array:\n"
   ]
  },
  {
   "cell_type": "code",
   "execution_count": 273,
   "metadata": {},
   "outputs": [
    {
     "name": "stdout",
     "output_type": "stream",
     "text": [
      "Matrix a is \n",
      "[[ 1  2  3  4]\n",
      " [ 5  6  7  8]\n",
      " [ 9 10 11 12]]\n"
     ]
    },
    {
     "data": {
      "text/plain": "array([[ 1,  2,  3,  4],\n       [ 9, 10, 11, 12]])"
     },
     "execution_count": 273,
     "metadata": {},
     "output_type": "execute_result"
    }
   ],
   "source": [
    "print(f'Matrix a is \\n{a}')\n",
    "a[ [0, 2] ]   # extract a given set of rows\n"
   ]
  },
  {
   "cell_type": "code",
   "execution_count": 274,
   "metadata": {},
   "outputs": [
    {
     "data": {
      "text/plain": "array([[ 1,  3],\n       [ 5,  7],\n       [ 9, 11]])"
     },
     "execution_count": 274,
     "metadata": {},
     "output_type": "execute_result"
    }
   ],
   "source": [
    "a[:, [0,2]]  # extract a given set of columns"
   ]
  },
  {
   "cell_type": "markdown",
   "metadata": {},
   "source": [
    "### Inclass Poll: List Indexing and Copying\n",
    "\n",
    "**Question:** does indexing using an array create a copy of the array or simply a view, as in the case of slicing?"
   ]
  },
  {
   "cell_type": "code",
   "execution_count": 275,
   "metadata": {},
   "outputs": [],
   "source": [
    "## write some code to answer this question\n"
   ]
  },
  {
   "cell_type": "markdown",
   "metadata": {},
   "source": [
    "### Exercises\n",
    "\n",
    "Think about the effect of each of the following slices:"
   ]
  },
  {
   "cell_type": "code",
   "execution_count": 276,
   "metadata": {},
   "outputs": [
    {
     "data": {
      "text/plain": "array([[1, 2, 3],\n       [4, 5, 6],\n       [7, 8, 9]])"
     },
     "execution_count": 276,
     "metadata": {},
     "output_type": "execute_result"
    }
   ],
   "source": [
    "a2d = np.array([[1, 2, 3], [4, 5, 6], [7, 8, 9]])\n",
    "a2d"
   ]
  },
  {
   "cell_type": "code",
   "execution_count": 277,
   "metadata": {},
   "outputs": [
    {
     "data": {
      "text/plain": "array([[1, 2, 3],\n       [4, 5, 6]])"
     },
     "execution_count": 277,
     "metadata": {},
     "output_type": "execute_result"
    }
   ],
   "source": [
    "a2d[:2]"
   ]
  },
  {
   "cell_type": "code",
   "execution_count": 278,
   "metadata": {},
   "outputs": [
    {
     "data": {
      "text/plain": "array([[2, 3],\n       [5, 6]])"
     },
     "execution_count": 278,
     "metadata": {},
     "output_type": "execute_result"
    }
   ],
   "source": [
    "a2d[:2, 1:]"
   ]
  },
  {
   "cell_type": "code",
   "execution_count": 279,
   "metadata": {},
   "outputs": [
    {
     "data": {
      "text/plain": "array([7, 8])"
     },
     "execution_count": 279,
     "metadata": {},
     "output_type": "execute_result"
    }
   ],
   "source": [
    "a2d[-1, :2]"
   ]
  },
  {
   "cell_type": "code",
   "execution_count": 280,
   "metadata": {},
   "outputs": [
    {
     "data": {
      "text/plain": "array([[1, 2, 3],\n       [4, 5, 6],\n       [7, 8, 9]])"
     },
     "execution_count": 280,
     "metadata": {},
     "output_type": "execute_result"
    }
   ],
   "source": [
    "a2d[:, :]"
   ]
  },
  {
   "cell_type": "markdown",
   "metadata": {},
   "source": [
    "### Boolean indexing\n",
    "\n",
    "You are about to see another very powerful aspect of arrays in NumPy. Namely, selectively accessing parts of a large data set based upon a query is in many circumstances only possible with the overhead of a database query system. Here, the basics arise naturally out of boolean indexing."
   ]
  },
  {
   "cell_type": "code",
   "execution_count": 281,
   "metadata": {},
   "outputs": [
    {
     "name": "stdout",
     "output_type": "stream",
     "text": [
      "Names are:\n",
      "['Bob' 'Joe' 'Will' 'Bob' 'Will' 'Joe' 'Joe']\n",
      "Data is:\n",
      "[[ 1.249 -0.539 -0.292 -1.591]\n",
      " [-0.714  0.516  0.321  0.6  ]\n",
      " [ 0.551  2.088 -0.748 -1.619]\n",
      " [-1.051 -0.704 -0.974  0.094]\n",
      " [ 1.253  1.54   0.504  2.141]\n",
      " [-0.356 -1.633  1.053 -1.839]\n",
      " [-0.755  0.52  -0.102 -0.191]]\n"
     ]
    }
   ],
   "source": [
    "names = np.array(['Bob', 'Joe', 'Will', 'Bob', 'Will', 'Joe', 'Joe'])\n",
    "data = rng.standard_normal(size=(7, 4))\n",
    "print(f'Names are:\\n{names}')\n",
    "print(f'Data is:\\n{data}')"
   ]
  },
  {
   "cell_type": "code",
   "execution_count": 282,
   "metadata": {},
   "outputs": [
    {
     "data": {
      "text/plain": "array([ True, False, False,  True, False, False, False])"
     },
     "execution_count": 282,
     "metadata": {},
     "output_type": "execute_result"
    }
   ],
   "source": [
    "names == 'Bob'"
   ]
  },
  {
   "cell_type": "code",
   "execution_count": 283,
   "metadata": {},
   "outputs": [
    {
     "data": {
      "text/plain": "array([[ 1.249, -0.539, -0.292, -1.591],\n       [-1.051, -0.704, -0.974,  0.094]])"
     },
     "execution_count": 283,
     "metadata": {},
     "output_type": "execute_result"
    }
   ],
   "source": [
    "data[names == 'Bob']"
   ]
  },
  {
   "cell_type": "code",
   "execution_count": 284,
   "metadata": {},
   "outputs": [
    {
     "name": "stdout",
     "output_type": "stream",
     "text": [
      "[False  True  True False  True  True  True]\n"
     ]
    },
    {
     "data": {
      "text/plain": "array([[-0.714,  0.516,  0.321,  0.6  ],\n       [ 0.551,  2.088, -0.748, -1.619],\n       [ 1.253,  1.54 ,  0.504,  2.141],\n       [-0.356, -1.633,  1.053, -1.839],\n       [-0.755,  0.52 , -0.102, -0.191]])"
     },
     "execution_count": 284,
     "metadata": {},
     "output_type": "execute_result"
    }
   ],
   "source": [
    "cond = names == 'Bob'\n",
    "print(~cond)\n",
    "data[~cond]"
   ]
  },
  {
   "cell_type": "code",
   "execution_count": 285,
   "metadata": {},
   "outputs": [
    {
     "name": "stdout",
     "output_type": "stream",
     "text": [
      "[ True False  True  True  True False False]\n"
     ]
    },
    {
     "data": {
      "text/plain": "array([[ 1.249, -0.539, -0.292, -1.591],\n       [ 0.551,  2.088, -0.748, -1.619],\n       [-1.051, -0.704, -0.974,  0.094],\n       [ 1.253,  1.54 ,  0.504,  2.141]])"
     },
     "execution_count": 285,
     "metadata": {},
     "output_type": "execute_result"
    }
   ],
   "source": [
    "cond = (names == 'Bob') | (names == 'Will')\n",
    "print(cond)\n",
    "data[cond]"
   ]
  },
  {
   "cell_type": "markdown",
   "metadata": {},
   "source": [
    "**Note:** The Python keywords ``and`` and ``or`` do not work with boolean arrays. You need to use & (and) and | (or) instead."
   ]
  },
  {
   "cell_type": "markdown",
   "metadata": {},
   "source": [
    "We can use conditions to modify an array:"
   ]
  },
  {
   "cell_type": "code",
   "execution_count": 286,
   "metadata": {},
   "outputs": [
    {
     "name": "stdout",
     "output_type": "stream",
     "text": [
      "[[False  True  True  True]\n",
      " [ True False False False]\n",
      " [False False  True  True]\n",
      " [ True  True  True False]\n",
      " [False False False False]\n",
      " [ True  True False  True]\n",
      " [ True False  True  True]]\n"
     ]
    },
    {
     "data": {
      "text/plain": "array([[1.249, 0.   , 0.   , 0.   ],\n       [0.   , 0.516, 0.321, 0.6  ],\n       [0.551, 2.088, 0.   , 0.   ],\n       [0.   , 0.   , 0.   , 0.094],\n       [1.253, 1.54 , 0.504, 2.141],\n       [0.   , 0.   , 1.053, 0.   ],\n       [0.   , 0.52 , 0.   , 0.   ]])"
     },
     "execution_count": 286,
     "metadata": {},
     "output_type": "execute_result"
    }
   ],
   "source": [
    "print(data < 0)\n",
    "data[data < 0] = 0\n",
    "data"
   ]
  },
  {
   "cell_type": "code",
   "execution_count": 287,
   "metadata": {},
   "outputs": [
    {
     "data": {
      "text/plain": "array([[7.   , 7.   , 7.   , 7.   ],\n       [0.   , 0.516, 0.321, 0.6  ],\n       [7.   , 7.   , 7.   , 7.   ],\n       [7.   , 7.   , 7.   , 7.   ],\n       [7.   , 7.   , 7.   , 7.   ],\n       [0.   , 0.   , 1.053, 0.   ],\n       [0.   , 0.52 , 0.   , 0.   ]])"
     },
     "execution_count": 287,
     "metadata": {},
     "output_type": "execute_result"
    }
   ],
   "source": [
    "data[names != 'Joe'] = 7\n",
    "data"
   ]
  },
  {
   "cell_type": "markdown",
   "metadata": {},
   "source": [
    "### Reshaping arrays"
   ]
  },
  {
   "cell_type": "markdown",
   "metadata": {},
   "source": [
    "You can modify the shape of an array, even changing the number of dimensions:"
   ]
  },
  {
   "cell_type": "code",
   "execution_count": 288,
   "metadata": {},
   "outputs": [
    {
     "data": {
      "text/plain": "array([ 0,  1,  2,  3,  4,  5,  6,  7,  8,  9, 10, 11, 12, 13, 14])"
     },
     "execution_count": 288,
     "metadata": {},
     "output_type": "execute_result"
    }
   ],
   "source": [
    "a = np.arange(15)\n",
    "a"
   ]
  },
  {
   "cell_type": "code",
   "execution_count": 289,
   "metadata": {},
   "outputs": [
    {
     "data": {
      "text/plain": "(array([[ 0,  1,  2,  3,  4],\n        [ 5,  6,  7,  8,  9],\n        [10, 11, 12, 13, 14]]),\n (3, 5))"
     },
     "execution_count": 289,
     "metadata": {},
     "output_type": "execute_result"
    }
   ],
   "source": [
    "a = np.arange(15).reshape((3, 5))\n",
    "(a,a.shape)"
   ]
  },
  {
   "cell_type": "markdown",
   "metadata": {},
   "source": [
    "Here's where it becomes interesting..."
   ]
  },
  {
   "cell_type": "code",
   "execution_count": 290,
   "metadata": {},
   "outputs": [],
   "source": [
    "a = np.arange(15).reshape(3, 5)"
   ]
  },
  {
   "cell_type": "code",
   "execution_count": 291,
   "metadata": {},
   "outputs": [
    {
     "data": {
      "text/plain": "array([[ 0,  1,  2,  3,  4],\n       [ 5,  6,  7,  8,  9],\n       [10, 11, 12, 13, 14]])"
     },
     "execution_count": 291,
     "metadata": {},
     "output_type": "execute_result"
    }
   ],
   "source": [
    "a = np.arange(15).reshape((-1, 5))\n",
    "a"
   ]
  },
  {
   "cell_type": "markdown",
   "metadata": {},
   "source": [
    "This is a neat trick:  -1 here means \"as many rows as needed\""
   ]
  },
  {
   "cell_type": "code",
   "execution_count": 292,
   "metadata": {},
   "outputs": [
    {
     "data": {
      "text/plain": "(array([[ 0,  5, 10],\n        [ 1,  6, 11],\n        [ 2,  7, 12],\n        [ 3,  8, 13],\n        [ 4,  9, 14]]),\n (5, 3))"
     },
     "execution_count": 292,
     "metadata": {},
     "output_type": "execute_result"
    }
   ],
   "source": [
    "a.T, a.T.shape"
   ]
  },
  {
   "cell_type": "markdown",
   "metadata": {},
   "source": [
    "This is called the \"transpose\" of a matrix, and is also available as a function or method:"
   ]
  },
  {
   "cell_type": "code",
   "execution_count": 293,
   "metadata": {},
   "outputs": [
    {
     "data": {
      "text/plain": "array([[ 0,  5, 10],\n       [ 1,  6, 11],\n       [ 2,  7, 12],\n       [ 3,  8, 13],\n       [ 4,  9, 14]])"
     },
     "execution_count": 293,
     "metadata": {},
     "output_type": "execute_result"
    }
   ],
   "source": [
    "np.transpose(a)"
   ]
  },
  {
   "cell_type": "markdown",
   "metadata": {},
   "source": [
    "### Universal Functions: Fast Element-Wise Array Functions\n",
    "\n",
    "A universal function, or *ufunc*, is a function that performs element-wise operations on data in an ndarray. \n"
   ]
  },
  {
   "cell_type": "code",
   "execution_count": 294,
   "metadata": {},
   "outputs": [
    {
     "name": "stdout",
     "output_type": "stream",
     "text": [
      "Matrix a is:\t[0 1 2 3 4]\n",
      "Square root:\t[0.    1.    1.414 1.732 2.   ]\n",
      "Exponentiate:\t[ 1.     2.718  7.389 20.086 54.598]\n",
      "Square:\t\t[ 0  1  4  9 16]\n"
     ]
    }
   ],
   "source": [
    "a = np.arange(5)\n",
    "np.set_printoptions(precision=3)\n",
    "print(f'Matrix a is:\\t{a}')\n",
    "print(f'Square root:\\t{np.sqrt(a)}')\n",
    "print(f'Exponentiate:\\t{np.exp(a)}')\n",
    "print(f'Square:\\t\\t{np.square(a)}') # almost the same as a**2"
   ]
  },
  {
   "cell_type": "markdown",
   "metadata": {},
   "source": [
    "Do not overlook in the above code who we got control over the default behavior of NumPy to show WAY too many digits to the right of the decimal place. Also notice the use of the special tab character and resulting alignment of printed output."
   ]
  },
  {
   "cell_type": "markdown",
   "metadata": {},
   "source": [
    "A complete list of ufuncs is available in the [Numpy documentation](https://docs.scipy.org/doc/numpy/reference/ufuncs.html#available-ufuncs)."
   ]
  },
  {
   "cell_type": "markdown",
   "metadata": {},
   "source": [
    "### Stacking arrays\n",
    "\n",
    "You can extend arrays by stacking them horizontally or vertically:"
   ]
  },
  {
   "cell_type": "code",
   "execution_count": 295,
   "metadata": {},
   "outputs": [
    {
     "data": {
      "text/plain": "(array([[1, 2],\n        [3, 4],\n        [5, 6],\n        [7, 8]]),\n array([[1, 2, 5, 6],\n        [3, 4, 7, 8]]))"
     },
     "execution_count": 295,
     "metadata": {},
     "output_type": "execute_result"
    }
   ],
   "source": [
    "x = np.array( [[1,2],[3,4]] )\n",
    "y = np.array( [[5,6],[7,8]] )\n",
    "np.vstack([x,y]),np.hstack([x,y])"
   ]
  },
  {
   "cell_type": "markdown",
   "metadata": {},
   "source": [
    "In machine learning vertical and horizontal stacking of arrays is used to add features or training examples to a feature matrix $X$."
   ]
  },
  {
   "cell_type": "markdown",
   "metadata": {},
   "source": [
    "### Avoid loops when you can\n",
    "\n",
    "Consider the following piece of code:"
   ]
  },
  {
   "cell_type": "code",
   "execution_count": 296,
   "metadata": {},
   "outputs": [
    {
     "data": {
      "text/plain": "array([[ 2,  2,  4],\n       [ 5,  5,  7],\n       [ 8,  8, 10],\n       [11, 11, 13]])"
     },
     "execution_count": 296,
     "metadata": {},
     "output_type": "execute_result"
    }
   ],
   "source": [
    "x = np.array([[1,2,3], [4,5,6], [7,8,9], [10, 11, 12]])\n",
    "v = np.array([1, 0, 1])\n",
    "# Add the vector v to each row of the matrix x with an explicit loop\n",
    "for i in range(4):\n",
    "    x[i] = x[i] + v\n",
    "x"
   ]
  },
  {
   "cell_type": "markdown",
   "metadata": {},
   "source": [
    "As we know, loops are slow in python.  There is a much more efficient way of doing this:"
   ]
  },
  {
   "cell_type": "code",
   "execution_count": 297,
   "metadata": {},
   "outputs": [
    {
     "data": {
      "text/plain": "array([[ 2,  2,  4],\n       [ 5,  5,  7],\n       [ 8,  8, 10],\n       [11, 11, 13]])"
     },
     "execution_count": 297,
     "metadata": {},
     "output_type": "execute_result"
    }
   ],
   "source": [
    "x = np.array([[1,2,3], [4,5,6], [7,8,9], [10, 11, 12]])\n",
    "v = np.array([1, 0, 1])\n",
    "x + v"
   ]
  },
  {
   "cell_type": "markdown",
   "metadata": {},
   "source": [
    "This is called **broadcasting**."
   ]
  },
  {
   "cell_type": "markdown",
   "metadata": {},
   "source": [
    "### Mathematical  and statistical operations on arrays\n",
    "\n",
    "Numpy provides functionality for a variety of mathematical operations over arrays:\n",
    "\n",
    "* `np.sum` - sum\n",
    "* `np.mean` - arithmetic mean\n",
    "* `np.average` - average (can compute weighted averages)\n",
    "* `np.std` - standard deviation\n",
    "* `np.median` - median\n",
    "* `np.max`, `np.min` - maximum/minimum\n",
    "* `np.argmax`, `np.argmin` - index of maximum/minimum\n",
    "\n",
    "And many [more](https://numpy.org/doc/stable/reference/routines.statistics.html).\n",
    "\n",
    "Applying these methods to a two dimensional array computes the sum (or other operation) over the entire array:"
   ]
  },
  {
   "cell_type": "code",
   "execution_count": 298,
   "metadata": {},
   "outputs": [
    {
     "name": "stdout",
     "output_type": "stream",
     "text": [
      "[[-1.181 -0.011  1.004]\n",
      " [ 0.02  -0.83  -1.248]\n",
      " [-0.81   0.392  0.344]\n",
      " [-0.801 -2.211  0.42 ]]\n",
      "-4.910638684304995\n"
     ]
    }
   ],
   "source": [
    "a = rng.standard_normal(size=(4, 3))\n",
    "print(a)\n",
    "print(a.sum()) # same as np.sum(a) "
   ]
  },
  {
   "cell_type": "markdown",
   "metadata": {},
   "source": [
    "Sums can be performed along a given axis:"
   ]
  },
  {
   "cell_type": "code",
   "execution_count": 299,
   "metadata": {},
   "outputs": [
    {
     "data": {
      "text/plain": "array([[-1.181, -0.011,  1.004],\n       [ 0.02 , -0.83 , -1.248],\n       [-0.81 ,  0.392,  0.344],\n       [-0.801, -2.211,  0.42 ]])"
     },
     "execution_count": 299,
     "metadata": {},
     "output_type": "execute_result"
    }
   ],
   "source": [
    "a"
   ]
  },
  {
   "cell_type": "code",
   "execution_count": 300,
   "metadata": {},
   "outputs": [
    {
     "data": {
      "text/plain": "array([-2.771, -2.659,  0.52 ])"
     },
     "execution_count": 300,
     "metadata": {},
     "output_type": "execute_result"
    }
   ],
   "source": [
    "a.sum(axis=0)"
   ]
  },
  {
   "cell_type": "markdown",
   "metadata": {},
   "source": [
    "This can seem a bit confusing, but think about the axis keyword as determining the axis that remains as a result of performing the operation.  It's NOT the axis over which the operation is performed!"
   ]
  },
  {
   "cell_type": "code",
   "execution_count": 301,
   "metadata": {},
   "outputs": [
    {
     "data": {
      "text/plain": "array([-0.188, -2.058, -0.074, -2.591])"
     },
     "execution_count": 301,
     "metadata": {},
     "output_type": "execute_result"
    }
   ],
   "source": [
    "a.sum(axis=1)"
   ]
  },
  {
   "cell_type": "code",
   "execution_count": 302,
   "metadata": {},
   "outputs": [
    {
     "name": "stdout",
     "output_type": "stream",
     "text": [
      "40.8 ms ± 2.5 ms per loop (mean ± std. dev. of 7 runs, 10 loops each)\n",
      "313 µs ± 1.65 µs per loop (mean ± std. dev. of 7 runs, 1,000 loops each)\n"
     ]
    }
   ],
   "source": [
    "big_array = rng.random(size=(1000000,))\n",
    "big_list = list(big_array)\n",
    "%timeit sum(big_list)\n",
    "%timeit np.sum(big_array)"
   ]
  },
  {
   "cell_type": "markdown",
   "metadata": {},
   "source": [
    "### Numpy as a tool for expressing mathematical formulas\n",
    "\n",
    "One of the great advantages of using Numpy is that many of the mathematical formulas that are common in machine learning can be succinctly expressed in Numpy.  Consider for example the computation of the mean-squared error which is used to quantify the quality of a regression method:\n",
    "\n",
    "$$\n",
    "\\mathrm{MSE} = \\frac{1}{N}\\sum_{i=1}^N (\\hat{y}_i - y_i)^2,\n",
    "$$\n",
    "\n",
    "where $y_1,\\ldots,y_N$ are the given labels and $\\hat{y}_1,\\ldots,\\hat{y}_N$ are the predicted labels.\n",
    "\n",
    "This formula is easy to express using a single line of code:"
   ]
  },
  {
   "cell_type": "code",
   "execution_count": 303,
   "metadata": {},
   "outputs": [
    {
     "data": {
      "text/plain": "0.06999999999999997"
     },
     "execution_count": 303,
     "metadata": {},
     "output_type": "execute_result"
    }
   ],
   "source": [
    "y = np.array([1, 1.5, 2])\n",
    "y_pred = np.array([0.8, 1.6, 2.4])\n",
    "\n",
    "(1/len(y)) * np.sum( (y_pred - y)**2 )\n",
    "\n",
    "# alternative:  (1/len(y)) * np.sum( np.square(y - y_pred))\n"
   ]
  },
  {
   "cell_type": "markdown",
   "metadata": {},
   "source": [
    "### Exercise\n",
    "\n",
    "* Compute the accuracy of a machine learning classifier.  In this case the labels are discrete, and the error is expressed as:\n",
    "$$\n",
    "\\mathrm{accuracy} = \\frac{1}{N}\\sum_{i=1}^N [\\hat{y}_i = y_i].\n",
    "$$\n",
    "Here the notation $[\\mathrm{condition}]$ is the [Iverson bracket](https://en.wikipedia.org/wiki/Iverson_bracket), which is equal to 1 if the condition is true, and 0 otherwise."
   ]
  },
  {
   "cell_type": "code",
   "execution_count": 304,
   "metadata": {},
   "outputs": [],
   "source": [
    "y = np.array([0, 1, 1, 1, 0])\n",
    "y_pred = np.array([1, 0, 1, 1, 0])\n",
    "# accuracy = ...\n"
   ]
  },
  {
   "cell_type": "markdown",
   "metadata": {},
   "source": [
    "For your reference here is a pure Python implementation:"
   ]
  },
  {
   "cell_type": "code",
   "execution_count": 305,
   "metadata": {},
   "outputs": [
    {
     "data": {
      "text/plain": "0.6"
     },
     "execution_count": 305,
     "metadata": {},
     "output_type": "execute_result"
    }
   ],
   "source": [
    "accuracy = sum([ y[i]==y_pred[i] for i in range(len(y)) ]) / len(y)\n",
    "accuracy"
   ]
  },
  {
   "cell_type": "code",
   "execution_count": 306,
   "metadata": {},
   "outputs": [
    {
     "data": {
      "text/plain": "0.6"
     },
     "execution_count": 306,
     "metadata": {},
     "output_type": "execute_result"
    }
   ],
   "source": [
    "foo = y == y_pred \n",
    "np.sum(foo)/len(y)"
   ]
  },
  {
   "cell_type": "markdown",
   "metadata": {},
   "source": [
    "### Example:  Random Walks\n",
    "\n",
    "A random walk in one dimension is a random process where at each step the walker takes a step either to the left or to the right.  Random walks have interesting statistical properties that can be investigated by simulating them."
   ]
  },
  {
   "cell_type": "code",
   "execution_count": 307,
   "metadata": {},
   "outputs": [
    {
     "ename": "NameError",
     "evalue": "name 'random' is not defined",
     "output_type": "error",
     "traceback": [
      "\u001B[0;31m---------------------------------------------------------------------------\u001B[0m",
      "\u001B[0;31mNameError\u001B[0m                                 Traceback (most recent call last)",
      "Input \u001B[0;32mIn [307]\u001B[0m, in \u001B[0;36m<module>\u001B[0;34m\u001B[0m\n\u001B[0;32m----> 1\u001B[0m [\u001B[38;5;241m2\u001B[39m\u001B[38;5;241m*\u001B[39mrandom\u001B[38;5;241m.\u001B[39mrandint(\u001B[38;5;241m0\u001B[39m, \u001B[38;5;241m1\u001B[39m) \u001B[38;5;241m-\u001B[39m\u001B[38;5;241m1\u001B[39m \u001B[38;5;28;01mfor\u001B[39;00m i \u001B[38;5;129;01min\u001B[39;00m \u001B[38;5;28mrange\u001B[39m(\u001B[38;5;241m10\u001B[39m)]\n",
      "Input \u001B[0;32mIn [307]\u001B[0m, in \u001B[0;36m<listcomp>\u001B[0;34m(.0)\u001B[0m\n\u001B[0;32m----> 1\u001B[0m [\u001B[38;5;241m2\u001B[39m\u001B[38;5;241m*\u001B[39m\u001B[43mrandom\u001B[49m\u001B[38;5;241m.\u001B[39mrandint(\u001B[38;5;241m0\u001B[39m, \u001B[38;5;241m1\u001B[39m) \u001B[38;5;241m-\u001B[39m\u001B[38;5;241m1\u001B[39m \u001B[38;5;28;01mfor\u001B[39;00m i \u001B[38;5;129;01min\u001B[39;00m \u001B[38;5;28mrange\u001B[39m(\u001B[38;5;241m10\u001B[39m)]\n",
      "\u001B[0;31mNameError\u001B[0m: name 'random' is not defined"
     ]
    }
   ],
   "source": [
    "[2*random.randint(0, 1) -1 for i in range(10)]"
   ]
  },
  {
   "cell_type": "code",
   "execution_count": null,
   "metadata": {},
   "outputs": [],
   "source": [
    "import random\n",
    "\n",
    "walk_length = 1000\n",
    "\n",
    "def random_walk(n):\n",
    "    \"\"\"Return a list of positions in a random walk\"\"\"\n",
    "    position = 0\n",
    "    walk = [position]\n",
    "    for i in range(n):\n",
    "        position += 2*random.randint(0, 1) - 1\n",
    "        walk.append(position)\n",
    "    return walk\n",
    "\n",
    "walk = random_walk(walk_length)"
   ]
  },
  {
   "cell_type": "code",
   "execution_count": 230,
   "metadata": {},
   "outputs": [
    {
     "ename": "NameError",
     "evalue": "name 'random_walk' is not defined",
     "output_type": "error",
     "traceback": [
      "\u001B[0;31m---------------------------------------------------------------------------\u001B[0m",
      "\u001B[0;31mNameError\u001B[0m                                 Traceback (most recent call last)",
      "Input \u001B[0;32mIn [230]\u001B[0m, in \u001B[0;36m<module>\u001B[0;34m\u001B[0m\n\u001B[0;32m----> 1\u001B[0m \u001B[43mget_ipython\u001B[49m\u001B[43m(\u001B[49m\u001B[43m)\u001B[49m\u001B[38;5;241;43m.\u001B[39;49m\u001B[43mrun_line_magic\u001B[49m\u001B[43m(\u001B[49m\u001B[38;5;124;43m'\u001B[39;49m\u001B[38;5;124;43mtimeit\u001B[39;49m\u001B[38;5;124;43m'\u001B[39;49m\u001B[43m,\u001B[49m\u001B[43m \u001B[49m\u001B[38;5;124;43m'\u001B[39;49m\u001B[38;5;124;43mrandom_walk(walk_length)\u001B[39;49m\u001B[38;5;124;43m'\u001B[39;49m\u001B[43m)\u001B[49m\n",
      "File \u001B[0;32m/usr/local/lib/python3.8/dist-packages/IPython/core/interactiveshell.py:2204\u001B[0m, in \u001B[0;36mInteractiveShell.run_line_magic\u001B[0;34m(self, magic_name, line, _stack_depth)\u001B[0m\n\u001B[1;32m   2202\u001B[0m     kwargs[\u001B[38;5;124m'\u001B[39m\u001B[38;5;124mlocal_ns\u001B[39m\u001B[38;5;124m'\u001B[39m] \u001B[38;5;241m=\u001B[39m \u001B[38;5;28mself\u001B[39m\u001B[38;5;241m.\u001B[39mget_local_scope(stack_depth)\n\u001B[1;32m   2203\u001B[0m \u001B[38;5;28;01mwith\u001B[39;00m \u001B[38;5;28mself\u001B[39m\u001B[38;5;241m.\u001B[39mbuiltin_trap:\n\u001B[0;32m-> 2204\u001B[0m     result \u001B[38;5;241m=\u001B[39m \u001B[43mfn\u001B[49m\u001B[43m(\u001B[49m\u001B[38;5;241;43m*\u001B[39;49m\u001B[43margs\u001B[49m\u001B[43m,\u001B[49m\u001B[43m \u001B[49m\u001B[38;5;241;43m*\u001B[39;49m\u001B[38;5;241;43m*\u001B[39;49m\u001B[43mkwargs\u001B[49m\u001B[43m)\u001B[49m\n\u001B[1;32m   2205\u001B[0m \u001B[38;5;28;01mreturn\u001B[39;00m result\n",
      "File \u001B[0;32m/usr/local/lib/python3.8/dist-packages/IPython/core/magics/execution.py:1162\u001B[0m, in \u001B[0;36mExecutionMagics.timeit\u001B[0;34m(self, line, cell, local_ns)\u001B[0m\n\u001B[1;32m   1160\u001B[0m \u001B[38;5;28;01mfor\u001B[39;00m index \u001B[38;5;129;01min\u001B[39;00m \u001B[38;5;28mrange\u001B[39m(\u001B[38;5;241m0\u001B[39m, \u001B[38;5;241m10\u001B[39m):\n\u001B[1;32m   1161\u001B[0m     number \u001B[38;5;241m=\u001B[39m \u001B[38;5;241m10\u001B[39m \u001B[38;5;241m*\u001B[39m\u001B[38;5;241m*\u001B[39m index\n\u001B[0;32m-> 1162\u001B[0m     time_number \u001B[38;5;241m=\u001B[39m \u001B[43mtimer\u001B[49m\u001B[38;5;241;43m.\u001B[39;49m\u001B[43mtimeit\u001B[49m\u001B[43m(\u001B[49m\u001B[43mnumber\u001B[49m\u001B[43m)\u001B[49m\n\u001B[1;32m   1163\u001B[0m     \u001B[38;5;28;01mif\u001B[39;00m time_number \u001B[38;5;241m>\u001B[39m\u001B[38;5;241m=\u001B[39m \u001B[38;5;241m0.2\u001B[39m:\n\u001B[1;32m   1164\u001B[0m         \u001B[38;5;28;01mbreak\u001B[39;00m\n",
      "File \u001B[0;32m/usr/local/lib/python3.8/dist-packages/IPython/core/magics/execution.py:156\u001B[0m, in \u001B[0;36mTimer.timeit\u001B[0;34m(self, number)\u001B[0m\n\u001B[1;32m    154\u001B[0m gc\u001B[38;5;241m.\u001B[39mdisable()\n\u001B[1;32m    155\u001B[0m \u001B[38;5;28;01mtry\u001B[39;00m:\n\u001B[0;32m--> 156\u001B[0m     timing \u001B[38;5;241m=\u001B[39m \u001B[38;5;28;43mself\u001B[39;49m\u001B[38;5;241;43m.\u001B[39;49m\u001B[43minner\u001B[49m\u001B[43m(\u001B[49m\u001B[43mit\u001B[49m\u001B[43m,\u001B[49m\u001B[43m \u001B[49m\u001B[38;5;28;43mself\u001B[39;49m\u001B[38;5;241;43m.\u001B[39;49m\u001B[43mtimer\u001B[49m\u001B[43m)\u001B[49m\n\u001B[1;32m    157\u001B[0m \u001B[38;5;28;01mfinally\u001B[39;00m:\n\u001B[1;32m    158\u001B[0m     \u001B[38;5;28;01mif\u001B[39;00m gcold:\n",
      "File \u001B[0;32m<magic-timeit>:1\u001B[0m, in \u001B[0;36minner\u001B[0;34m(_it, _timer)\u001B[0m\n",
      "\u001B[0;31mNameError\u001B[0m: name 'random_walk' is not defined"
     ]
    }
   ],
   "source": [
    "%timeit random_walk(walk_length)"
   ]
  },
  {
   "cell_type": "markdown",
   "metadata": {},
   "source": [
    "Here's a much more efficient Numpy version:"
   ]
  },
  {
   "cell_type": "code",
   "execution_count": 148,
   "metadata": {},
   "outputs": [
    {
     "data": {
      "text/plain": [
       "array([ 1,  0, -1,  0, -1, -2, -1,  0,  1,  2,  1,  0,  1,  0, -1, -2])"
      ]
     },
     "execution_count": 148,
     "metadata": {},
     "output_type": "execute_result"
    }
   ],
   "source": [
    "rng = default_rng(8)\n",
    "steps = rng.choice([-1,+1], 16)\n",
    "np.cumsum(steps)"
   ]
  },
  {
   "cell_type": "code",
   "execution_count": 149,
   "metadata": {},
   "outputs": [],
   "source": [
    "rng = default_rng(8)\n",
    "\n",
    "def random_walk_vectorized(n):\n",
    "    steps = rng.choice([-1,0,+1], n)\n",
    "    return np.cumsum(steps)\n",
    "\n",
    "walk = random_walk_vectorized(walk_length)"
   ]
  },
  {
   "cell_type": "code",
   "execution_count": 150,
   "metadata": {},
   "outputs": [
    {
     "name": "stdout",
     "output_type": "stream",
     "text": [
      "39 µs ± 1.07 µs per loop (mean ± std. dev. of 7 runs, 10000 loops each)\n"
     ]
    }
   ],
   "source": [
    "%timeit random_walk_vectorized(walk_length)"
   ]
  },
  {
   "cell_type": "markdown",
   "metadata": {},
   "source": [
    "Note how much work is done by [np.cumsum](https://numpy.org/doc/stable/reference/generated/numpy.cumsum.html)"
   ]
  },
  {
   "cell_type": "code",
   "execution_count": 151,
   "metadata": {},
   "outputs": [
    {
     "data": {
      "text/plain": [
       "[<matplotlib.lines.Line2D at 0x7fc7594b9850>]"
      ]
     },
     "execution_count": 151,
     "metadata": {},
     "output_type": "execute_result"
    },
    {
     "data": {
      "image/png": "[encoded data removed]",
      "text/plain": [
       "<Figure size 864x432 with 1 Axes>"
      ]
     },
     "metadata": {
      "needs_background": "light"
     },
     "output_type": "display_data"
    }
   ],
   "source": [
    "num_steps = 100\n",
    "distance = random_walk_vectorized(num_steps)\n",
    "t = np.arange(num_steps)\n",
    "plt.figure(figsize=(12,6))\n",
    "plt.plot(t, distance, 'g.')"
   ]
  },
  {
   "cell_type": "markdown",
   "metadata": {},
   "source": [
    "## Simon's Ant\n",
    "\n",
    "Here is a little something to chew opon. [Herb Simon](https://en.wikipedia.org/wiki/Herbert_A._Simon) often caused those of us in AI to think a bit harder and here is one example.  In his book [The Sciences of the Artificial](https://en.wikipedia.org/wiki/The_Sciences_of_the_Artificial) he posed us all a question about intelligence and 'complex' behavior. This is described many places, but the more recent article [We’ve been looking at ant intelligence the wrong way](https://theconversation.com/weve-been-looking-at-ant-intelligence-the-wrong-way-17619) is a fine jumping off point."
   ]
  },
  {
   "cell_type": "code",
   "execution_count": null,
   "metadata": {},
   "outputs": [],
   "source": []
  }
 ],
 "metadata": {
  "kernelspec": {
   "display_name": "Python 3",
   "language": "python",
   "name": "python3"
  },
  "language_info": {
   "codemirror_mode": {
    "name": "ipython",
    "version": 3
   },
   "file_extension": ".py",
   "mimetype": "text/x-python",
   "name": "python",
   "nbconvert_exporter": "python",
   "pygments_lexer": "ipython3",
   "version": "3.7.10"
  }
 },
 "nbformat": 4,
 "nbformat_minor": 1
}